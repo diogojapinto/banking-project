{
 "cells": [
  {
   "cell_type": "markdown",
   "metadata": {},
   "source": [
    "# Banking Project\n",
    "\n",
    "***\n",
    "\n",
    ">The bank wants to improve their services. For instance, the bank managers have only vague idea, who is a good client (whom to offer some additional services) and who is a bad client (whom to watch carefully to minimize the bank loses). Fortunately, the bank stores data about their clients, the accounts (transactions within several months), the loans already granted, the credit cards issued. The bank managers hope to improve their understanding of customers and seek specific actions to improve services. A mere application of a discovery tool will not be convincing for them.  \n",
    "\n",
    ">To test a data mining approach to help the bank managers, it was decided to address two problems, a descriptive and a predictive one. While the descriptive problem was left open, the predictive problem is the prediction of whether a loan will end successfuly.\n",
    "\n",
    "> _ - in Banking Case Description, ECAC Moodle Page_\n",
    "\n",
    "***\n",
    "\n",
    "[Kaggle Challenge Page](https://www.kaggle.com/)\n",
    "\n",
    "The steps performed are as follows:\n",
    "* Data Loading and Preparation\n",
    "* Descriptive Data Mining & Feature Engineering\n",
    "* Predictive Data Mining"
   ]
  },
  {
   "cell_type": "markdown",
   "metadata": {},
   "source": [
    "## Tools\n",
    "\n",
    "For this work we will use the common tools in a data scientist and engineer arsenal. All of them work together in a seamless fashion, as well as with the Jupyter Notebook (this enhanced interactive document).\n",
    "\n",
    "* **Numpy** is the fundamental package for scientific computing with Python\n",
    "* **Pandas** provides high-performance, easy-to-use data structures (_e.g._ data frames) and data analysis tools\n",
    "* **Matplotlib** implements plotting functionality\n",
    "* **Scikit Learn** aggregates advanced machine learning tools"
   ]
  },
  {
   "cell_type": "code",
   "execution_count": 354,
   "metadata": {
    "collapsed": false
   },
   "outputs": [],
   "source": [
    "import numpy as np\n",
    "import pandas as pd\n",
    "from matplotlib import pyplot as plt\n",
    "import sklearn\n",
    "\n",
    "plt.style.use('ggplot')\n",
    "%matplotlib inline"
   ]
  },
  {
   "cell_type": "markdown",
   "metadata": {},
   "source": [
    "## 1. Data Loading and Preparation\n",
    "\n",
    "A key initial step in every data mining work is to prepare the data. This reduces the occurence of future unexpected behaviors and gives a preliminary insight over the \"raw\" data."
   ]
  },
  {
   "cell_type": "markdown",
   "metadata": {},
   "source": [
    "The **transactions** records describe transactions on accounts, representing dynamic characteristics of the accounts."
   ]
  },
  {
   "cell_type": "code",
   "execution_count": 355,
   "metadata": {
    "collapsed": false
   },
   "outputs": [],
   "source": [
    "transactions_df = pd.read_csv('./data/banking - transaction.csv', \n",
    "                              sep=';',\n",
    "                              parse_dates=['date'],\n",
    "                              infer_datetime_format=True,\n",
    "                              dtype={'bank':np.str},\n",
    "                              index_col='trans_id')"
   ]
  },
  {
   "cell_type": "code",
   "execution_count": 356,
   "metadata": {
    "collapsed": false
   },
   "outputs": [
    {
     "data": {
      "text/html": [
       "<div>\n",
       "<table border=\"1\" class=\"dataframe\">\n",
       "  <thead>\n",
       "    <tr style=\"text-align: right;\">\n",
       "      <th></th>\n",
       "      <th>account_id</th>\n",
       "      <th>date</th>\n",
       "      <th>type</th>\n",
       "      <th>operation</th>\n",
       "      <th>amount</th>\n",
       "      <th>balance</th>\n",
       "      <th>k_symbol</th>\n",
       "      <th>bank</th>\n",
       "      <th>account</th>\n",
       "    </tr>\n",
       "    <tr>\n",
       "      <th>trans_id</th>\n",
       "      <th></th>\n",
       "      <th></th>\n",
       "      <th></th>\n",
       "      <th></th>\n",
       "      <th></th>\n",
       "      <th></th>\n",
       "      <th></th>\n",
       "      <th></th>\n",
       "      <th></th>\n",
       "    </tr>\n",
       "  </thead>\n",
       "  <tbody>\n",
       "    <tr>\n",
       "      <th>695247</th>\n",
       "      <td>2378</td>\n",
       "      <td>1993-01-01</td>\n",
       "      <td>credit</td>\n",
       "      <td>credit in cash</td>\n",
       "      <td>700</td>\n",
       "      <td>700</td>\n",
       "      <td>NaN</td>\n",
       "      <td>NaN</td>\n",
       "      <td>NaN</td>\n",
       "    </tr>\n",
       "    <tr>\n",
       "      <th>171812</th>\n",
       "      <td>576</td>\n",
       "      <td>1993-01-01</td>\n",
       "      <td>credit</td>\n",
       "      <td>credit in cash</td>\n",
       "      <td>900</td>\n",
       "      <td>900</td>\n",
       "      <td>NaN</td>\n",
       "      <td>NaN</td>\n",
       "      <td>NaN</td>\n",
       "    </tr>\n",
       "    <tr>\n",
       "      <th>207264</th>\n",
       "      <td>704</td>\n",
       "      <td>1993-01-01</td>\n",
       "      <td>credit</td>\n",
       "      <td>credit in cash</td>\n",
       "      <td>1000</td>\n",
       "      <td>1000</td>\n",
       "      <td>NaN</td>\n",
       "      <td>NaN</td>\n",
       "      <td>NaN</td>\n",
       "    </tr>\n",
       "    <tr>\n",
       "      <th>1117247</th>\n",
       "      <td>3818</td>\n",
       "      <td>1993-01-01</td>\n",
       "      <td>credit</td>\n",
       "      <td>credit in cash</td>\n",
       "      <td>600</td>\n",
       "      <td>600</td>\n",
       "      <td>NaN</td>\n",
       "      <td>NaN</td>\n",
       "      <td>NaN</td>\n",
       "    </tr>\n",
       "    <tr>\n",
       "      <th>579373</th>\n",
       "      <td>1972</td>\n",
       "      <td>1993-01-02</td>\n",
       "      <td>credit</td>\n",
       "      <td>credit in cash</td>\n",
       "      <td>400</td>\n",
       "      <td>400</td>\n",
       "      <td>NaN</td>\n",
       "      <td>NaN</td>\n",
       "      <td>NaN</td>\n",
       "    </tr>\n",
       "  </tbody>\n",
       "</table>\n",
       "</div>"
      ],
      "text/plain": [
       "          account_id       date    type       operation  amount  balance  \\\n",
       "trans_id                                                                   \n",
       "695247          2378 1993-01-01  credit  credit in cash     700      700   \n",
       "171812           576 1993-01-01  credit  credit in cash     900      900   \n",
       "207264           704 1993-01-01  credit  credit in cash    1000     1000   \n",
       "1117247         3818 1993-01-01  credit  credit in cash     600      600   \n",
       "579373          1972 1993-01-02  credit  credit in cash     400      400   \n",
       "\n",
       "         k_symbol bank  account  \n",
       "trans_id                         \n",
       "695247        NaN  NaN      NaN  \n",
       "171812        NaN  NaN      NaN  \n",
       "207264        NaN  NaN      NaN  \n",
       "1117247       NaN  NaN      NaN  \n",
       "579373        NaN  NaN      NaN  "
      ]
     },
     "execution_count": 356,
     "metadata": {},
     "output_type": "execute_result"
    }
   ],
   "source": [
    "transactions_df.head()"
   ]
  },
  {
   "cell_type": "markdown",
   "metadata": {},
   "source": [
    "**k_symbol** name is not very represent representative."
   ]
  },
  {
   "cell_type": "code",
   "execution_count": 357,
   "metadata": {
    "collapsed": true
   },
   "outputs": [],
   "source": [
    "transactions_df = transactions_df.rename(columns={\n",
    "    'k_symbol': 'trans_char'\n",
    "    })"
   ]
  },
  {
   "cell_type": "code",
   "execution_count": 358,
   "metadata": {
    "collapsed": false
   },
   "outputs": [
    {
     "data": {
      "text/html": [
       "<div>\n",
       "<table border=\"1\" class=\"dataframe\">\n",
       "  <thead>\n",
       "    <tr style=\"text-align: right;\">\n",
       "      <th></th>\n",
       "      <th>account_id</th>\n",
       "      <th>date</th>\n",
       "      <th>type</th>\n",
       "      <th>operation</th>\n",
       "      <th>amount</th>\n",
       "      <th>balance</th>\n",
       "      <th>trans_char</th>\n",
       "      <th>bank</th>\n",
       "      <th>account</th>\n",
       "    </tr>\n",
       "    <tr>\n",
       "      <th>trans_id</th>\n",
       "      <th></th>\n",
       "      <th></th>\n",
       "      <th></th>\n",
       "      <th></th>\n",
       "      <th></th>\n",
       "      <th></th>\n",
       "      <th></th>\n",
       "      <th></th>\n",
       "      <th></th>\n",
       "    </tr>\n",
       "  </thead>\n",
       "  <tbody>\n",
       "    <tr>\n",
       "      <th>695247</th>\n",
       "      <td>2378</td>\n",
       "      <td>1993-01-01</td>\n",
       "      <td>credit</td>\n",
       "      <td>credit in cash</td>\n",
       "      <td>700</td>\n",
       "      <td>700</td>\n",
       "      <td>NaN</td>\n",
       "      <td>NaN</td>\n",
       "      <td>NaN</td>\n",
       "    </tr>\n",
       "    <tr>\n",
       "      <th>171812</th>\n",
       "      <td>576</td>\n",
       "      <td>1993-01-01</td>\n",
       "      <td>credit</td>\n",
       "      <td>credit in cash</td>\n",
       "      <td>900</td>\n",
       "      <td>900</td>\n",
       "      <td>NaN</td>\n",
       "      <td>NaN</td>\n",
       "      <td>NaN</td>\n",
       "    </tr>\n",
       "    <tr>\n",
       "      <th>207264</th>\n",
       "      <td>704</td>\n",
       "      <td>1993-01-01</td>\n",
       "      <td>credit</td>\n",
       "      <td>credit in cash</td>\n",
       "      <td>1000</td>\n",
       "      <td>1000</td>\n",
       "      <td>NaN</td>\n",
       "      <td>NaN</td>\n",
       "      <td>NaN</td>\n",
       "    </tr>\n",
       "    <tr>\n",
       "      <th>1117247</th>\n",
       "      <td>3818</td>\n",
       "      <td>1993-01-01</td>\n",
       "      <td>credit</td>\n",
       "      <td>credit in cash</td>\n",
       "      <td>600</td>\n",
       "      <td>600</td>\n",
       "      <td>NaN</td>\n",
       "      <td>NaN</td>\n",
       "      <td>NaN</td>\n",
       "    </tr>\n",
       "    <tr>\n",
       "      <th>579373</th>\n",
       "      <td>1972</td>\n",
       "      <td>1993-01-02</td>\n",
       "      <td>credit</td>\n",
       "      <td>credit in cash</td>\n",
       "      <td>400</td>\n",
       "      <td>400</td>\n",
       "      <td>NaN</td>\n",
       "      <td>NaN</td>\n",
       "      <td>NaN</td>\n",
       "    </tr>\n",
       "  </tbody>\n",
       "</table>\n",
       "</div>"
      ],
      "text/plain": [
       "          account_id       date    type       operation  amount  balance  \\\n",
       "trans_id                                                                   \n",
       "695247          2378 1993-01-01  credit  credit in cash     700      700   \n",
       "171812           576 1993-01-01  credit  credit in cash     900      900   \n",
       "207264           704 1993-01-01  credit  credit in cash    1000     1000   \n",
       "1117247         3818 1993-01-01  credit  credit in cash     600      600   \n",
       "579373          1972 1993-01-02  credit  credit in cash     400      400   \n",
       "\n",
       "         trans_char bank  account  \n",
       "trans_id                           \n",
       "695247          NaN  NaN      NaN  \n",
       "171812          NaN  NaN      NaN  \n",
       "207264          NaN  NaN      NaN  \n",
       "1117247         NaN  NaN      NaN  \n",
       "579373          NaN  NaN      NaN  "
      ]
     },
     "execution_count": 358,
     "metadata": {},
     "output_type": "execute_result"
    }
   ],
   "source": [
    "transactions_df.head()"
   ]
  },
  {
   "cell_type": "markdown",
   "metadata": {},
   "source": [
    "The **accounts** records contain static characteristics of the accounts."
   ]
  },
  {
   "cell_type": "code",
   "execution_count": 359,
   "metadata": {
    "collapsed": false
   },
   "outputs": [],
   "source": [
    "accounts_df = pd.read_excel('./data/banking.xlsx', \n",
    "                            sheetname='account',\n",
    "                            parse_dates=['date'],\n",
    "                            infer_datetime_format=True,\n",
    "                            index_col='account_id'\n",
    "                           )"
   ]
  },
  {
   "cell_type": "code",
   "execution_count": 360,
   "metadata": {
    "collapsed": false
   },
   "outputs": [
    {
     "data": {
      "text/html": [
       "<div>\n",
       "<table border=\"1\" class=\"dataframe\">\n",
       "  <thead>\n",
       "    <tr style=\"text-align: right;\">\n",
       "      <th></th>\n",
       "      <th>district_id</th>\n",
       "      <th>frequency</th>\n",
       "      <th>date</th>\n",
       "    </tr>\n",
       "    <tr>\n",
       "      <th>account_id</th>\n",
       "      <th></th>\n",
       "      <th></th>\n",
       "      <th></th>\n",
       "    </tr>\n",
       "  </thead>\n",
       "  <tbody>\n",
       "    <tr>\n",
       "      <th>576</th>\n",
       "      <td>55</td>\n",
       "      <td>monthly issuance</td>\n",
       "      <td>1993-01-01</td>\n",
       "    </tr>\n",
       "    <tr>\n",
       "      <th>3818</th>\n",
       "      <td>74</td>\n",
       "      <td>monthly issuance</td>\n",
       "      <td>1993-01-01</td>\n",
       "    </tr>\n",
       "    <tr>\n",
       "      <th>704</th>\n",
       "      <td>55</td>\n",
       "      <td>monthly issuance</td>\n",
       "      <td>1993-01-01</td>\n",
       "    </tr>\n",
       "    <tr>\n",
       "      <th>2378</th>\n",
       "      <td>16</td>\n",
       "      <td>monthly issuance</td>\n",
       "      <td>1993-01-01</td>\n",
       "    </tr>\n",
       "    <tr>\n",
       "      <th>2632</th>\n",
       "      <td>24</td>\n",
       "      <td>monthly issuance</td>\n",
       "      <td>1993-01-02</td>\n",
       "    </tr>\n",
       "  </tbody>\n",
       "</table>\n",
       "</div>"
      ],
      "text/plain": [
       "            district_id         frequency       date\n",
       "account_id                                          \n",
       "576                  55  monthly issuance 1993-01-01\n",
       "3818                 74  monthly issuance 1993-01-01\n",
       "704                  55  monthly issuance 1993-01-01\n",
       "2378                 16  monthly issuance 1993-01-01\n",
       "2632                 24  monthly issuance 1993-01-02"
      ]
     },
     "execution_count": 360,
     "metadata": {},
     "output_type": "execute_result"
    }
   ],
   "source": [
    "accounts_df.head()"
   ]
  },
  {
   "cell_type": "markdown",
   "metadata": {},
   "source": [
    "The **clients** records describe static characteristics of the clients."
   ]
  },
  {
   "cell_type": "code",
   "execution_count": 361,
   "metadata": {
    "collapsed": true
   },
   "outputs": [],
   "source": [
    "clients_df = pd.read_excel('./data/banking.xlsx',\n",
    "                           sheetname='client',\n",
    "                           index_col='client_id')"
   ]
  },
  {
   "cell_type": "code",
   "execution_count": 362,
   "metadata": {
    "collapsed": false
   },
   "outputs": [
    {
     "data": {
      "text/html": [
       "<div>\n",
       "<table border=\"1\" class=\"dataframe\">\n",
       "  <thead>\n",
       "    <tr style=\"text-align: right;\">\n",
       "      <th></th>\n",
       "      <th>birth_number</th>\n",
       "      <th>district_id</th>\n",
       "    </tr>\n",
       "    <tr>\n",
       "      <th>client_id</th>\n",
       "      <th></th>\n",
       "      <th></th>\n",
       "    </tr>\n",
       "  </thead>\n",
       "  <tbody>\n",
       "    <tr>\n",
       "      <th>1</th>\n",
       "      <td>706213</td>\n",
       "      <td>18</td>\n",
       "    </tr>\n",
       "    <tr>\n",
       "      <th>2</th>\n",
       "      <td>450204</td>\n",
       "      <td>1</td>\n",
       "    </tr>\n",
       "    <tr>\n",
       "      <th>3</th>\n",
       "      <td>406009</td>\n",
       "      <td>1</td>\n",
       "    </tr>\n",
       "    <tr>\n",
       "      <th>4</th>\n",
       "      <td>561201</td>\n",
       "      <td>5</td>\n",
       "    </tr>\n",
       "    <tr>\n",
       "      <th>5</th>\n",
       "      <td>605703</td>\n",
       "      <td>5</td>\n",
       "    </tr>\n",
       "  </tbody>\n",
       "</table>\n",
       "</div>"
      ],
      "text/plain": [
       "           birth_number  district_id\n",
       "client_id                           \n",
       "1                706213           18\n",
       "2                450204            1\n",
       "3                406009            1\n",
       "4                561201            5\n",
       "5                605703            5"
      ]
     },
     "execution_count": 362,
     "metadata": {},
     "output_type": "execute_result"
    }
   ],
   "source": [
    "clients_df.head()"
   ]
  },
  {
   "cell_type": "markdown",
   "metadata": {},
   "source": [
    "The **birth_number** feature is not readable in this representation. We have, then, to parse it and transform it into two new columns: **birthday** and **gender**."
   ]
  },
  {
   "cell_type": "code",
   "execution_count": 363,
   "metadata": {
    "collapsed": false
   },
   "outputs": [],
   "source": [
    "clients_df['gender'] = clients_df.apply(lambda c: 'Male' if c['birth_number'] % 10000 < 5000 else 'Female', axis=1)"
   ]
  },
  {
   "cell_type": "code",
   "execution_count": 364,
   "metadata": {
    "collapsed": false
   },
   "outputs": [],
   "source": [
    "from datetime import date\n",
    "\n",
    "def normalize_birth_number(client):\n",
    "    birth_number = int(client['birth_number'])\n",
    "    year = birth_number // 10000\n",
    "    month = (birth_number // 100) % 100\n",
    "    day = birth_number % 100\n",
    "    \n",
    "    month = month if month < 50 else month - 50\n",
    "    \n",
    "    return  \"{0:02d}{1:02d}{2:02d}\".format(year, month, day)\n",
    "\n",
    "\n",
    "clients_df['birth_number'] = clients_df.apply(normalize_birth_number, axis=1) # month - 50 on females\n",
    "clients_df['birthday'] = pd.to_datetime(clients_df['birth_number'], format='%y%m%d')\n",
    "clients_df['birthday'] = clients_df.apply(\n",
    "    lambda c: c['birthday'] if c['birthday'].date() <= date.today() else (c['birthday'] - pd.tseries.offsets.DateOffset(years=100)), \n",
    "    axis=1) # if infered year > 2015 the it is in the 19's\n",
    "clients_df = clients_df.drop('birth_number', axis=1)"
   ]
  },
  {
   "cell_type": "code",
   "execution_count": 365,
   "metadata": {
    "collapsed": false
   },
   "outputs": [
    {
     "data": {
      "text/html": [
       "<div>\n",
       "<table border=\"1\" class=\"dataframe\">\n",
       "  <thead>\n",
       "    <tr style=\"text-align: right;\">\n",
       "      <th></th>\n",
       "      <th>district_id</th>\n",
       "      <th>gender</th>\n",
       "      <th>birthday</th>\n",
       "    </tr>\n",
       "    <tr>\n",
       "      <th>client_id</th>\n",
       "      <th></th>\n",
       "      <th></th>\n",
       "      <th></th>\n",
       "    </tr>\n",
       "  </thead>\n",
       "  <tbody>\n",
       "    <tr>\n",
       "      <th>1</th>\n",
       "      <td>18</td>\n",
       "      <td>Female</td>\n",
       "      <td>1970-12-13</td>\n",
       "    </tr>\n",
       "    <tr>\n",
       "      <th>2</th>\n",
       "      <td>1</td>\n",
       "      <td>Male</td>\n",
       "      <td>1945-02-04</td>\n",
       "    </tr>\n",
       "    <tr>\n",
       "      <th>3</th>\n",
       "      <td>1</td>\n",
       "      <td>Female</td>\n",
       "      <td>1940-10-09</td>\n",
       "    </tr>\n",
       "    <tr>\n",
       "      <th>4</th>\n",
       "      <td>5</td>\n",
       "      <td>Male</td>\n",
       "      <td>1956-12-01</td>\n",
       "    </tr>\n",
       "    <tr>\n",
       "      <th>5</th>\n",
       "      <td>5</td>\n",
       "      <td>Female</td>\n",
       "      <td>1960-07-03</td>\n",
       "    </tr>\n",
       "  </tbody>\n",
       "</table>\n",
       "</div>"
      ],
      "text/plain": [
       "           district_id  gender   birthday\n",
       "client_id                                \n",
       "1                   18  Female 1970-12-13\n",
       "2                    1    Male 1945-02-04\n",
       "3                    1  Female 1940-10-09\n",
       "4                    5    Male 1956-12-01\n",
       "5                    5  Female 1960-07-03"
      ]
     },
     "execution_count": 365,
     "metadata": {},
     "output_type": "execute_result"
    }
   ],
   "source": [
    "clients_df.head()"
   ]
  },
  {
   "cell_type": "markdown",
   "metadata": {},
   "source": [
    "The **dispositions** records relate a client with an account (being useful in join operations)."
   ]
  },
  {
   "cell_type": "code",
   "execution_count": 366,
   "metadata": {
    "collapsed": true
   },
   "outputs": [],
   "source": [
    "dispositions_df = pd.read_excel('./data/banking.xlsx',\n",
    "                                sheetname='disposition',\n",
    "                                index_col='disp_id')"
   ]
  },
  {
   "cell_type": "code",
   "execution_count": 367,
   "metadata": {
    "collapsed": false
   },
   "outputs": [
    {
     "data": {
      "text/html": [
       "<div>\n",
       "<table border=\"1\" class=\"dataframe\">\n",
       "  <thead>\n",
       "    <tr style=\"text-align: right;\">\n",
       "      <th></th>\n",
       "      <th>client_id</th>\n",
       "      <th>account_id</th>\n",
       "      <th>type</th>\n",
       "    </tr>\n",
       "    <tr>\n",
       "      <th>disp_id</th>\n",
       "      <th></th>\n",
       "      <th></th>\n",
       "      <th></th>\n",
       "    </tr>\n",
       "  </thead>\n",
       "  <tbody>\n",
       "    <tr>\n",
       "      <th>1</th>\n",
       "      <td>1</td>\n",
       "      <td>1</td>\n",
       "      <td>OWNER</td>\n",
       "    </tr>\n",
       "    <tr>\n",
       "      <th>2</th>\n",
       "      <td>2</td>\n",
       "      <td>2</td>\n",
       "      <td>OWNER</td>\n",
       "    </tr>\n",
       "    <tr>\n",
       "      <th>3</th>\n",
       "      <td>3</td>\n",
       "      <td>2</td>\n",
       "      <td>DISPONENT</td>\n",
       "    </tr>\n",
       "    <tr>\n",
       "      <th>4</th>\n",
       "      <td>4</td>\n",
       "      <td>3</td>\n",
       "      <td>OWNER</td>\n",
       "    </tr>\n",
       "    <tr>\n",
       "      <th>5</th>\n",
       "      <td>5</td>\n",
       "      <td>3</td>\n",
       "      <td>DISPONENT</td>\n",
       "    </tr>\n",
       "  </tbody>\n",
       "</table>\n",
       "</div>"
      ],
      "text/plain": [
       "         client_id  account_id       type\n",
       "disp_id                                  \n",
       "1                1           1      OWNER\n",
       "2                2           2      OWNER\n",
       "3                3           2  DISPONENT\n",
       "4                4           3      OWNER\n",
       "5                5           3  DISPONENT"
      ]
     },
     "execution_count": 367,
     "metadata": {},
     "output_type": "execute_result"
    }
   ],
   "source": [
    "dispositions_df.head()"
   ]
  },
  {
   "cell_type": "markdown",
   "metadata": {},
   "source": [
    "The **payment_orders** records, like **transaction** records, represent another dynamic characteristic of accounts."
   ]
  },
  {
   "cell_type": "code",
   "execution_count": 368,
   "metadata": {
    "collapsed": false
   },
   "outputs": [],
   "source": [
    "payment_orders_df = pd.read_excel('./data/banking.xlsx',\n",
    "                                  sheetname='payment order',\n",
    "                                  index_col='order_id')"
   ]
  },
  {
   "cell_type": "code",
   "execution_count": 369,
   "metadata": {
    "collapsed": false
   },
   "outputs": [
    {
     "data": {
      "text/html": [
       "<div>\n",
       "<table border=\"1\" class=\"dataframe\">\n",
       "  <thead>\n",
       "    <tr style=\"text-align: right;\">\n",
       "      <th></th>\n",
       "      <th>account_id</th>\n",
       "      <th>bank_to</th>\n",
       "      <th>account_to</th>\n",
       "      <th>amount</th>\n",
       "      <th>k_symbol</th>\n",
       "    </tr>\n",
       "    <tr>\n",
       "      <th>order_id</th>\n",
       "      <th></th>\n",
       "      <th></th>\n",
       "      <th></th>\n",
       "      <th></th>\n",
       "      <th></th>\n",
       "    </tr>\n",
       "  </thead>\n",
       "  <tbody>\n",
       "    <tr>\n",
       "      <th>29401</th>\n",
       "      <td>1</td>\n",
       "      <td>YZ</td>\n",
       "      <td>87144583</td>\n",
       "      <td>2452.0</td>\n",
       "      <td>household</td>\n",
       "    </tr>\n",
       "    <tr>\n",
       "      <th>29402</th>\n",
       "      <td>2</td>\n",
       "      <td>ST</td>\n",
       "      <td>89597016</td>\n",
       "      <td>3372.7</td>\n",
       "      <td>loan</td>\n",
       "    </tr>\n",
       "    <tr>\n",
       "      <th>29403</th>\n",
       "      <td>2</td>\n",
       "      <td>QR</td>\n",
       "      <td>13943797</td>\n",
       "      <td>7266.0</td>\n",
       "      <td>household</td>\n",
       "    </tr>\n",
       "    <tr>\n",
       "      <th>29404</th>\n",
       "      <td>3</td>\n",
       "      <td>WX</td>\n",
       "      <td>83084338</td>\n",
       "      <td>1135.0</td>\n",
       "      <td>household</td>\n",
       "    </tr>\n",
       "    <tr>\n",
       "      <th>29405</th>\n",
       "      <td>3</td>\n",
       "      <td>CD</td>\n",
       "      <td>24485939</td>\n",
       "      <td>327.0</td>\n",
       "      <td>NaN</td>\n",
       "    </tr>\n",
       "  </tbody>\n",
       "</table>\n",
       "</div>"
      ],
      "text/plain": [
       "          account_id bank_to  account_to  amount   k_symbol\n",
       "order_id                                                   \n",
       "29401              1      YZ    87144583  2452.0  household\n",
       "29402              2      ST    89597016  3372.7       loan\n",
       "29403              2      QR    13943797  7266.0  household\n",
       "29404              3      WX    83084338  1135.0  household\n",
       "29405              3      CD    24485939   327.0        NaN"
      ]
     },
     "execution_count": 369,
     "metadata": {},
     "output_type": "execute_result"
    }
   ],
   "source": [
    "payment_orders_df.head()"
   ]
  },
  {
   "cell_type": "markdown",
   "metadata": {},
   "source": [
    "The **loans** records describe information of a loan for an account."
   ]
  },
  {
   "cell_type": "code",
   "execution_count": 370,
   "metadata": {
    "collapsed": true
   },
   "outputs": [],
   "source": [
    "loans_df = pd.read_excel('./data/banking.xlsx',\n",
    "                         sheetname='loan',\n",
    "                         parse_dates=['date'],\n",
    "                         infer_datetime_format=True,\n",
    "                         index_col='loan_id')"
   ]
  },
  {
   "cell_type": "code",
   "execution_count": 371,
   "metadata": {
    "collapsed": false
   },
   "outputs": [
    {
     "data": {
      "text/html": [
       "<div>\n",
       "<table border=\"1\" class=\"dataframe\">\n",
       "  <thead>\n",
       "    <tr style=\"text-align: right;\">\n",
       "      <th></th>\n",
       "      <th>account_id</th>\n",
       "      <th>date</th>\n",
       "      <th>amount</th>\n",
       "      <th>duration</th>\n",
       "      <th>payments</th>\n",
       "      <th>status</th>\n",
       "    </tr>\n",
       "    <tr>\n",
       "      <th>loan_id</th>\n",
       "      <th></th>\n",
       "      <th></th>\n",
       "      <th></th>\n",
       "      <th></th>\n",
       "      <th></th>\n",
       "      <th></th>\n",
       "    </tr>\n",
       "  </thead>\n",
       "  <tbody>\n",
       "    <tr>\n",
       "      <th>5314</th>\n",
       "      <td>1787</td>\n",
       "      <td>1993-07-05</td>\n",
       "      <td>96396</td>\n",
       "      <td>12</td>\n",
       "      <td>8033</td>\n",
       "      <td>B</td>\n",
       "    </tr>\n",
       "    <tr>\n",
       "      <th>5316</th>\n",
       "      <td>1801</td>\n",
       "      <td>1993-07-11</td>\n",
       "      <td>165960</td>\n",
       "      <td>36</td>\n",
       "      <td>4610</td>\n",
       "      <td>A</td>\n",
       "    </tr>\n",
       "    <tr>\n",
       "      <th>6863</th>\n",
       "      <td>9188</td>\n",
       "      <td>1993-07-28</td>\n",
       "      <td>127080</td>\n",
       "      <td>60</td>\n",
       "      <td>2118</td>\n",
       "      <td>A</td>\n",
       "    </tr>\n",
       "    <tr>\n",
       "      <th>5325</th>\n",
       "      <td>1843</td>\n",
       "      <td>1993-08-03</td>\n",
       "      <td>105804</td>\n",
       "      <td>36</td>\n",
       "      <td>2939</td>\n",
       "      <td>A</td>\n",
       "    </tr>\n",
       "    <tr>\n",
       "      <th>7240</th>\n",
       "      <td>11013</td>\n",
       "      <td>1993-09-06</td>\n",
       "      <td>274740</td>\n",
       "      <td>60</td>\n",
       "      <td>4579</td>\n",
       "      <td>A</td>\n",
       "    </tr>\n",
       "  </tbody>\n",
       "</table>\n",
       "</div>"
      ],
      "text/plain": [
       "         account_id       date  amount  duration  payments status\n",
       "loan_id                                                          \n",
       "5314           1787 1993-07-05   96396        12      8033      B\n",
       "5316           1801 1993-07-11  165960        36      4610      A\n",
       "6863           9188 1993-07-28  127080        60      2118      A\n",
       "5325           1843 1993-08-03  105804        36      2939      A\n",
       "7240          11013 1993-09-06  274740        60      4579      A"
      ]
     },
     "execution_count": 371,
     "metadata": {},
     "output_type": "execute_result"
    }
   ],
   "source": [
    "loans_df.head()"
   ]
  },
  {
   "cell_type": "markdown",
   "metadata": {},
   "source": [
    "The **credit_cards** records describes static information of a credit card."
   ]
  },
  {
   "cell_type": "code",
   "execution_count": 372,
   "metadata": {
    "collapsed": false
   },
   "outputs": [],
   "source": [
    "credit_cards_df = pd.read_excel('./data/banking.xlsx',\n",
    "                                sheetname='credit card',\n",
    "                                parse_dates=['issued'],\n",
    "                                infer_datetime_format=True,\n",
    "                                index_col='card_id')"
   ]
  },
  {
   "cell_type": "code",
   "execution_count": 373,
   "metadata": {
    "collapsed": false
   },
   "outputs": [
    {
     "data": {
      "text/html": [
       "<div>\n",
       "<table border=\"1\" class=\"dataframe\">\n",
       "  <thead>\n",
       "    <tr style=\"text-align: right;\">\n",
       "      <th></th>\n",
       "      <th>disp_id</th>\n",
       "      <th>type</th>\n",
       "      <th>issued</th>\n",
       "    </tr>\n",
       "    <tr>\n",
       "      <th>card_id</th>\n",
       "      <th></th>\n",
       "      <th></th>\n",
       "      <th></th>\n",
       "    </tr>\n",
       "  </thead>\n",
       "  <tbody>\n",
       "    <tr>\n",
       "      <th>1005</th>\n",
       "      <td>9285</td>\n",
       "      <td>classic</td>\n",
       "      <td>1993-11-07</td>\n",
       "    </tr>\n",
       "    <tr>\n",
       "      <th>104</th>\n",
       "      <td>588</td>\n",
       "      <td>classic</td>\n",
       "      <td>1994-01-19</td>\n",
       "    </tr>\n",
       "    <tr>\n",
       "      <th>747</th>\n",
       "      <td>4915</td>\n",
       "      <td>classic</td>\n",
       "      <td>1994-02-05</td>\n",
       "    </tr>\n",
       "    <tr>\n",
       "      <th>70</th>\n",
       "      <td>439</td>\n",
       "      <td>classic</td>\n",
       "      <td>1994-02-08</td>\n",
       "    </tr>\n",
       "    <tr>\n",
       "      <th>577</th>\n",
       "      <td>3687</td>\n",
       "      <td>classic</td>\n",
       "      <td>1994-02-15</td>\n",
       "    </tr>\n",
       "  </tbody>\n",
       "</table>\n",
       "</div>"
      ],
      "text/plain": [
       "         disp_id     type     issued\n",
       "card_id                             \n",
       "1005        9285  classic 1993-11-07\n",
       "104          588  classic 1994-01-19\n",
       "747         4915  classic 1994-02-05\n",
       "70           439  classic 1994-02-08\n",
       "577         3687  classic 1994-02-15"
      ]
     },
     "execution_count": 373,
     "metadata": {},
     "output_type": "execute_result"
    }
   ],
   "source": [
    "credit_cards_df.head()"
   ]
  },
  {
   "cell_type": "markdown",
   "metadata": {},
   "source": [
    "The **districts** records provide demographic information about a district."
   ]
  },
  {
   "cell_type": "code",
   "execution_count": 374,
   "metadata": {
    "collapsed": true
   },
   "outputs": [],
   "source": [
    "districts_df = pd.read_excel('./data/banking.xlsx',\n",
    "                             sheetname='district',\n",
    "                             index_col='A1')"
   ]
  },
  {
   "cell_type": "code",
   "execution_count": 375,
   "metadata": {
    "collapsed": false
   },
   "outputs": [
    {
     "data": {
      "text/html": [
       "<div>\n",
       "<table border=\"1\" class=\"dataframe\">\n",
       "  <thead>\n",
       "    <tr style=\"text-align: right;\">\n",
       "      <th></th>\n",
       "      <th>A2</th>\n",
       "      <th>A3</th>\n",
       "      <th>A4</th>\n",
       "      <th>A5</th>\n",
       "      <th>A6</th>\n",
       "      <th>A7</th>\n",
       "      <th>A8</th>\n",
       "      <th>A9</th>\n",
       "      <th>A10</th>\n",
       "      <th>A11</th>\n",
       "      <th>A12</th>\n",
       "      <th>A13</th>\n",
       "      <th>A14</th>\n",
       "      <th>A15</th>\n",
       "      <th>A16</th>\n",
       "    </tr>\n",
       "    <tr>\n",
       "      <th>A1</th>\n",
       "      <th></th>\n",
       "      <th></th>\n",
       "      <th></th>\n",
       "      <th></th>\n",
       "      <th></th>\n",
       "      <th></th>\n",
       "      <th></th>\n",
       "      <th></th>\n",
       "      <th></th>\n",
       "      <th></th>\n",
       "      <th></th>\n",
       "      <th></th>\n",
       "      <th></th>\n",
       "      <th></th>\n",
       "      <th></th>\n",
       "    </tr>\n",
       "  </thead>\n",
       "  <tbody>\n",
       "    <tr>\n",
       "      <th>1</th>\n",
       "      <td>D1</td>\n",
       "      <td>R1</td>\n",
       "      <td>1204953</td>\n",
       "      <td>0</td>\n",
       "      <td>0</td>\n",
       "      <td>0</td>\n",
       "      <td>1</td>\n",
       "      <td>1</td>\n",
       "      <td>100.0</td>\n",
       "      <td>12541</td>\n",
       "      <td>0.29</td>\n",
       "      <td>0.43</td>\n",
       "      <td>167</td>\n",
       "      <td>85677</td>\n",
       "      <td>99107</td>\n",
       "    </tr>\n",
       "    <tr>\n",
       "      <th>2</th>\n",
       "      <td>D2</td>\n",
       "      <td>R2</td>\n",
       "      <td>88884</td>\n",
       "      <td>80</td>\n",
       "      <td>26</td>\n",
       "      <td>6</td>\n",
       "      <td>2</td>\n",
       "      <td>5</td>\n",
       "      <td>46.7</td>\n",
       "      <td>8507</td>\n",
       "      <td>1.67</td>\n",
       "      <td>1.85</td>\n",
       "      <td>132</td>\n",
       "      <td>2159</td>\n",
       "      <td>2674</td>\n",
       "    </tr>\n",
       "    <tr>\n",
       "      <th>3</th>\n",
       "      <td>D3</td>\n",
       "      <td>R2</td>\n",
       "      <td>75232</td>\n",
       "      <td>55</td>\n",
       "      <td>26</td>\n",
       "      <td>4</td>\n",
       "      <td>1</td>\n",
       "      <td>5</td>\n",
       "      <td>41.7</td>\n",
       "      <td>8980</td>\n",
       "      <td>1.95</td>\n",
       "      <td>2.21</td>\n",
       "      <td>111</td>\n",
       "      <td>2824</td>\n",
       "      <td>2813</td>\n",
       "    </tr>\n",
       "    <tr>\n",
       "      <th>4</th>\n",
       "      <td>D4</td>\n",
       "      <td>R2</td>\n",
       "      <td>149893</td>\n",
       "      <td>63</td>\n",
       "      <td>29</td>\n",
       "      <td>6</td>\n",
       "      <td>2</td>\n",
       "      <td>6</td>\n",
       "      <td>67.4</td>\n",
       "      <td>9753</td>\n",
       "      <td>4.64</td>\n",
       "      <td>5.05</td>\n",
       "      <td>109</td>\n",
       "      <td>5244</td>\n",
       "      <td>5892</td>\n",
       "    </tr>\n",
       "    <tr>\n",
       "      <th>5</th>\n",
       "      <td>D5</td>\n",
       "      <td>R2</td>\n",
       "      <td>95616</td>\n",
       "      <td>65</td>\n",
       "      <td>30</td>\n",
       "      <td>4</td>\n",
       "      <td>1</td>\n",
       "      <td>6</td>\n",
       "      <td>51.4</td>\n",
       "      <td>9307</td>\n",
       "      <td>3.85</td>\n",
       "      <td>4.43</td>\n",
       "      <td>118</td>\n",
       "      <td>2616</td>\n",
       "      <td>3040</td>\n",
       "    </tr>\n",
       "  </tbody>\n",
       "</table>\n",
       "</div>"
      ],
      "text/plain": [
       "    A2  A3       A4  A5  A6  A7  A8  A9    A10    A11   A12   A13  A14    A15  \\\n",
       "A1                                                                              \n",
       "1   D1  R1  1204953   0   0   0   1   1  100.0  12541  0.29  0.43  167  85677   \n",
       "2   D2  R2    88884  80  26   6   2   5   46.7   8507  1.67  1.85  132   2159   \n",
       "3   D3  R2    75232  55  26   4   1   5   41.7   8980  1.95  2.21  111   2824   \n",
       "4   D4  R2   149893  63  29   6   2   6   67.4   9753  4.64  5.05  109   5244   \n",
       "5   D5  R2    95616  65  30   4   1   6   51.4   9307  3.85  4.43  118   2616   \n",
       "\n",
       "      A16  \n",
       "A1         \n",
       "1   99107  \n",
       "2    2674  \n",
       "3    2813  \n",
       "4    5892  \n",
       "5    3040  "
      ]
     },
     "execution_count": 375,
     "metadata": {},
     "output_type": "execute_result"
    }
   ],
   "source": [
    "districts_df.head()"
   ]
  },
  {
   "cell_type": "markdown",
   "metadata": {},
   "source": [
    "The column labels provided lack any useful information."
   ]
  },
  {
   "cell_type": "code",
   "execution_count": 376,
   "metadata": {
    "collapsed": true
   },
   "outputs": [],
   "source": [
    "districts_df = districts_df.rename(columns={\n",
    "        'A2': 'district_name',\n",
    "        'A3': 'region',\n",
    "        'A4': 'no_inhabitants',\n",
    "        'A5': 'no_municipalities_w_inhabitants_<499',\n",
    "        'A6': 'no_municipalities_w_inhabitants_500-1999',\n",
    "        'A7': 'no_municipalities_w_inhabitants_2000-9999',\n",
    "        'A8': 'no_municipalities_w_inhabitants_>10000',\n",
    "        'A9': 'no_cities',\n",
    "        'A10': 'ratio_urban_inhabitants',\n",
    "        'A11': 'average_salary',\n",
    "        'A12': 'unemployment_rate_95',\n",
    "        'A13': 'unemployment_rate_96',\n",
    "        'A14': 'no_enterpreneurs_per_1000_inhabitants',\n",
    "        'A15': 'no_commited_crimes_95',\n",
    "        'A16': 'no_commited_crimes_96',\n",
    "    })\n",
    "\n",
    "districts_df.index.name = 'district_id'"
   ]
  },
  {
   "cell_type": "code",
   "execution_count": 377,
   "metadata": {
    "collapsed": false
   },
   "outputs": [
    {
     "data": {
      "text/html": [
       "<div>\n",
       "<table border=\"1\" class=\"dataframe\">\n",
       "  <thead>\n",
       "    <tr style=\"text-align: right;\">\n",
       "      <th></th>\n",
       "      <th>district_name</th>\n",
       "      <th>region</th>\n",
       "      <th>no_inhabitants</th>\n",
       "      <th>no_municipalities_w_inhabitants_&lt;499</th>\n",
       "      <th>no_municipalities_w_inhabitants_500-1999</th>\n",
       "      <th>no_municipalities_w_inhabitants_2000-9999</th>\n",
       "      <th>no_municipalities_w_inhabitants_&gt;10000</th>\n",
       "      <th>no_cities</th>\n",
       "      <th>ratio_urban_inhabitants</th>\n",
       "      <th>average_salary</th>\n",
       "      <th>unemployment_rate_95</th>\n",
       "      <th>unemployment_rate_96</th>\n",
       "      <th>no_enterpreneurs_per_1000_inhabitants</th>\n",
       "      <th>no_commited_crimes_95</th>\n",
       "      <th>no_commited_crimes_96</th>\n",
       "    </tr>\n",
       "    <tr>\n",
       "      <th>district_id</th>\n",
       "      <th></th>\n",
       "      <th></th>\n",
       "      <th></th>\n",
       "      <th></th>\n",
       "      <th></th>\n",
       "      <th></th>\n",
       "      <th></th>\n",
       "      <th></th>\n",
       "      <th></th>\n",
       "      <th></th>\n",
       "      <th></th>\n",
       "      <th></th>\n",
       "      <th></th>\n",
       "      <th></th>\n",
       "      <th></th>\n",
       "    </tr>\n",
       "  </thead>\n",
       "  <tbody>\n",
       "    <tr>\n",
       "      <th>1</th>\n",
       "      <td>D1</td>\n",
       "      <td>R1</td>\n",
       "      <td>1204953</td>\n",
       "      <td>0</td>\n",
       "      <td>0</td>\n",
       "      <td>0</td>\n",
       "      <td>1</td>\n",
       "      <td>1</td>\n",
       "      <td>100.0</td>\n",
       "      <td>12541</td>\n",
       "      <td>0.29</td>\n",
       "      <td>0.43</td>\n",
       "      <td>167</td>\n",
       "      <td>85677</td>\n",
       "      <td>99107</td>\n",
       "    </tr>\n",
       "    <tr>\n",
       "      <th>2</th>\n",
       "      <td>D2</td>\n",
       "      <td>R2</td>\n",
       "      <td>88884</td>\n",
       "      <td>80</td>\n",
       "      <td>26</td>\n",
       "      <td>6</td>\n",
       "      <td>2</td>\n",
       "      <td>5</td>\n",
       "      <td>46.7</td>\n",
       "      <td>8507</td>\n",
       "      <td>1.67</td>\n",
       "      <td>1.85</td>\n",
       "      <td>132</td>\n",
       "      <td>2159</td>\n",
       "      <td>2674</td>\n",
       "    </tr>\n",
       "    <tr>\n",
       "      <th>3</th>\n",
       "      <td>D3</td>\n",
       "      <td>R2</td>\n",
       "      <td>75232</td>\n",
       "      <td>55</td>\n",
       "      <td>26</td>\n",
       "      <td>4</td>\n",
       "      <td>1</td>\n",
       "      <td>5</td>\n",
       "      <td>41.7</td>\n",
       "      <td>8980</td>\n",
       "      <td>1.95</td>\n",
       "      <td>2.21</td>\n",
       "      <td>111</td>\n",
       "      <td>2824</td>\n",
       "      <td>2813</td>\n",
       "    </tr>\n",
       "    <tr>\n",
       "      <th>4</th>\n",
       "      <td>D4</td>\n",
       "      <td>R2</td>\n",
       "      <td>149893</td>\n",
       "      <td>63</td>\n",
       "      <td>29</td>\n",
       "      <td>6</td>\n",
       "      <td>2</td>\n",
       "      <td>6</td>\n",
       "      <td>67.4</td>\n",
       "      <td>9753</td>\n",
       "      <td>4.64</td>\n",
       "      <td>5.05</td>\n",
       "      <td>109</td>\n",
       "      <td>5244</td>\n",
       "      <td>5892</td>\n",
       "    </tr>\n",
       "    <tr>\n",
       "      <th>5</th>\n",
       "      <td>D5</td>\n",
       "      <td>R2</td>\n",
       "      <td>95616</td>\n",
       "      <td>65</td>\n",
       "      <td>30</td>\n",
       "      <td>4</td>\n",
       "      <td>1</td>\n",
       "      <td>6</td>\n",
       "      <td>51.4</td>\n",
       "      <td>9307</td>\n",
       "      <td>3.85</td>\n",
       "      <td>4.43</td>\n",
       "      <td>118</td>\n",
       "      <td>2616</td>\n",
       "      <td>3040</td>\n",
       "    </tr>\n",
       "  </tbody>\n",
       "</table>\n",
       "</div>"
      ],
      "text/plain": [
       "            district_name region  no_inhabitants  \\\n",
       "district_id                                        \n",
       "1                      D1     R1         1204953   \n",
       "2                      D2     R2           88884   \n",
       "3                      D3     R2           75232   \n",
       "4                      D4     R2          149893   \n",
       "5                      D5     R2           95616   \n",
       "\n",
       "             no_municipalities_w_inhabitants_<499  \\\n",
       "district_id                                         \n",
       "1                                               0   \n",
       "2                                              80   \n",
       "3                                              55   \n",
       "4                                              63   \n",
       "5                                              65   \n",
       "\n",
       "             no_municipalities_w_inhabitants_500-1999  \\\n",
       "district_id                                             \n",
       "1                                                   0   \n",
       "2                                                  26   \n",
       "3                                                  26   \n",
       "4                                                  29   \n",
       "5                                                  30   \n",
       "\n",
       "             no_municipalities_w_inhabitants_2000-9999  \\\n",
       "district_id                                              \n",
       "1                                                    0   \n",
       "2                                                    6   \n",
       "3                                                    4   \n",
       "4                                                    6   \n",
       "5                                                    4   \n",
       "\n",
       "             no_municipalities_w_inhabitants_>10000  no_cities  \\\n",
       "district_id                                                      \n",
       "1                                                 1          1   \n",
       "2                                                 2          5   \n",
       "3                                                 1          5   \n",
       "4                                                 2          6   \n",
       "5                                                 1          6   \n",
       "\n",
       "             ratio_urban_inhabitants  average_salary unemployment_rate_95  \\\n",
       "district_id                                                                 \n",
       "1                              100.0           12541                 0.29   \n",
       "2                               46.7            8507                 1.67   \n",
       "3                               41.7            8980                 1.95   \n",
       "4                               67.4            9753                 4.64   \n",
       "5                               51.4            9307                 3.85   \n",
       "\n",
       "             unemployment_rate_96  no_enterpreneurs_per_1000_inhabitants  \\\n",
       "district_id                                                                \n",
       "1                            0.43                                    167   \n",
       "2                            1.85                                    132   \n",
       "3                            2.21                                    111   \n",
       "4                            5.05                                    109   \n",
       "5                            4.43                                    118   \n",
       "\n",
       "            no_commited_crimes_95  no_commited_crimes_96  \n",
       "district_id                                               \n",
       "1                           85677                  99107  \n",
       "2                            2159                   2674  \n",
       "3                            2824                   2813  \n",
       "4                            5244                   5892  \n",
       "5                            2616                   3040  "
      ]
     },
     "execution_count": 377,
     "metadata": {},
     "output_type": "execute_result"
    }
   ],
   "source": [
    "districts_df.head()"
   ]
  },
  {
   "cell_type": "markdown",
   "metadata": {},
   "source": [
    "Lets check if the types infered by Pandas library are correct:"
   ]
  },
  {
   "cell_type": "code",
   "execution_count": 378,
   "metadata": {
    "collapsed": false
   },
   "outputs": [
    {
     "data": {
      "text/plain": [
       "district_name                                 object\n",
       "region                                        object\n",
       "no_inhabitants                                 int64\n",
       "no_municipalities_w_inhabitants_<499           int64\n",
       "no_municipalities_w_inhabitants_500-1999       int64\n",
       "no_municipalities_w_inhabitants_2000-9999      int64\n",
       "no_municipalities_w_inhabitants_>10000         int64\n",
       "no_cities                                      int64\n",
       "ratio_urban_inhabitants                      float64\n",
       "average_salary                                 int64\n",
       "unemployment_rate_95                          object\n",
       "unemployment_rate_96                         float64\n",
       "no_enterpreneurs_per_1000_inhabitants          int64\n",
       "no_commited_crimes_95                         object\n",
       "no_commited_crimes_96                          int64\n",
       "dtype: object"
      ]
     },
     "execution_count": 378,
     "metadata": {},
     "output_type": "execute_result"
    }
   ],
   "source": [
    "districts_df.dtypes"
   ]
  },
  {
   "cell_type": "markdown",
   "metadata": {},
   "source": [
    "We see that **unemployment_rate_95** and **no_commited_crimes_95** are loaded as objects."
   ]
  },
  {
   "cell_type": "code",
   "execution_count": 379,
   "metadata": {
    "collapsed": false
   },
   "outputs": [
    {
     "data": {
      "text/plain": [
       "array(['0.29', '1.67', '1.95', '4.64', '3.85', '2.95', '2.26', '1.25',\n",
       "       '3.39', '0.56', '0.45', '3.83', '2.77', '1.42', '3.13', '1.12',\n",
       "       '2.38', '2.83', '2.65', '1.51', '1.10', '1.79', '1.39', '2.47',\n",
       "       '2.64', '0.65', '1.62', '2.82', '3.38', '3.52', '2.80', '5.75',\n",
       "       '6.43', '1.02', '3.33', '4.46', '7.08', '7.34', '6.49', '3.32',\n",
       "       '2.41', '1.72', '2.79', '2.28', '1.78', '1.89', '4.83', '2.51',\n",
       "       '2.52', '2.53', '1.60', '1.88', '4.69', '3.73', '3.24', '3.45',\n",
       "       '4.76', '1.29', '3.79', '5.74', '3.51', '5.77', '4.09', '?', '6.63',\n",
       "       '5.93', '3.80', '4.75', '5.38', '4.73', '4.01'], dtype=object)"
      ]
     },
     "execution_count": 379,
     "metadata": {},
     "output_type": "execute_result"
    }
   ],
   "source": [
    "districts_df['unemployment_rate_95'].unique()"
   ]
  },
  {
   "cell_type": "code",
   "execution_count": 380,
   "metadata": {
    "collapsed": false
   },
   "outputs": [
    {
     "data": {
      "text/plain": [
       "array([85677, 2159, 2824, 5244, 2616, 2640, 4289, 5179, 2987, 3810, 3475,\n",
       "       3804, 1597, 6604, 1845, 1874, 1003, 1740, 999, 1563, 2299, 1089,\n",
       "       2879, 5198, 1822, 6041, 1029, 1580, 818, 2985, 1328, 4340, 4650,\n",
       "       5323, 3384, 5796, 4147, 2653, 4947, 6949, 6445, 1658, 4085, 2166,\n",
       "       2080, 2854, 6079, 1655, 1660, 2123, 3496, 2564, 1850, 18721, 3659,\n",
       "       3729, 2212, 2595, 1879, 2112, 2719, 1562, 4484, 2157, 2247, 3244,\n",
       "       5623, '?', 9878, 4980, 9672, 4355, 18782, 4063, 3736, 3460], dtype=object)"
      ]
     },
     "execution_count": 380,
     "metadata": {},
     "output_type": "execute_result"
    }
   ],
   "source": [
    "districts_df['no_commited_crimes_95'].unique()"
   ]
  },
  {
   "cell_type": "markdown",
   "metadata": {},
   "source": [
    "We see that both use a question mark to demark missing values. We'll convert properly those columns:"
   ]
  },
  {
   "cell_type": "code",
   "execution_count": 381,
   "metadata": {
    "collapsed": false
   },
   "outputs": [
    {
     "data": {
      "text/plain": [
       "district_name                                 object\n",
       "region                                        object\n",
       "no_inhabitants                                 int64\n",
       "no_municipalities_w_inhabitants_<499           int64\n",
       "no_municipalities_w_inhabitants_500-1999       int64\n",
       "no_municipalities_w_inhabitants_2000-9999      int64\n",
       "no_municipalities_w_inhabitants_>10000         int64\n",
       "no_cities                                      int64\n",
       "ratio_urban_inhabitants                      float64\n",
       "average_salary                                 int64\n",
       "unemployment_rate_95                         float64\n",
       "unemployment_rate_96                         float64\n",
       "no_enterpreneurs_per_1000_inhabitants          int64\n",
       "no_commited_crimes_95                        float64\n",
       "no_commited_crimes_96                          int64\n",
       "dtype: object"
      ]
     },
     "execution_count": 381,
     "metadata": {},
     "output_type": "execute_result"
    }
   ],
   "source": [
    "districts_df['unemployment_rate_95'] = pd.to_numeric(districts_df['unemployment_rate_95'], errors='coerce')\n",
    "districts_df['no_commited_crimes_95'] = pd.to_numeric(districts_df['no_commited_crimes_95'], errors='coerce')\n",
    "\n",
    "districts_df.dtypes"
   ]
  },
  {
   "cell_type": "markdown",
   "metadata": {},
   "source": [
    "## 2. Descriptive Data Mining & Feature Engineering\n",
    "\n",
    "This first section aims at providing ways to better understand and extract value from the data. This is mostly accoplished by gathering descriptive statistics and ploting.\n",
    "\n",
    "Considering this gathered knowledge, the datasets are edited and joined into useful intermediate format, which represent the main entities in the data, and then in a format in which the machine learning algorithms are able to understand (most of the times a single matrix, and most of the times without missing values).\n",
    "\n",
    "The **loans** relate to the remainder entities through the **account** they are linked to. Therefore, the remainder entities should be summarized in such a way that each of the **accounts** information is given in a single row."
   ]
  },
  {
   "cell_type": "markdown",
   "metadata": {},
   "source": [
    "### Loans Dataframe\n",
    "\n",
    "We must look first to the loans because we will use the granting date of the loan to select which information is used to summarize the transactions."
   ]
  },
  {
   "cell_type": "code",
   "execution_count": 382,
   "metadata": {
    "collapsed": false
   },
   "outputs": [
    {
     "data": {
      "text/html": [
       "<div>\n",
       "<table border=\"1\" class=\"dataframe\">\n",
       "  <thead>\n",
       "    <tr style=\"text-align: right;\">\n",
       "      <th></th>\n",
       "      <th>account_id</th>\n",
       "      <th>date</th>\n",
       "      <th>amount</th>\n",
       "      <th>duration</th>\n",
       "      <th>payments</th>\n",
       "      <th>status</th>\n",
       "    </tr>\n",
       "  </thead>\n",
       "  <tbody>\n",
       "    <tr>\n",
       "      <th>count</th>\n",
       "      <td>682.000000</td>\n",
       "      <td>682</td>\n",
       "      <td>682.000000</td>\n",
       "      <td>682.000000</td>\n",
       "      <td>682.000000</td>\n",
       "      <td>682</td>\n",
       "    </tr>\n",
       "    <tr>\n",
       "      <th>unique</th>\n",
       "      <td>NaN</td>\n",
       "      <td>559</td>\n",
       "      <td>NaN</td>\n",
       "      <td>NaN</td>\n",
       "      <td>NaN</td>\n",
       "      <td>4</td>\n",
       "    </tr>\n",
       "    <tr>\n",
       "      <th>top</th>\n",
       "      <td>NaN</td>\n",
       "      <td>1998-07-12 00:00:00</td>\n",
       "      <td>NaN</td>\n",
       "      <td>NaN</td>\n",
       "      <td>NaN</td>\n",
       "      <td>C</td>\n",
       "    </tr>\n",
       "    <tr>\n",
       "      <th>freq</th>\n",
       "      <td>NaN</td>\n",
       "      <td>4</td>\n",
       "      <td>NaN</td>\n",
       "      <td>NaN</td>\n",
       "      <td>NaN</td>\n",
       "      <td>403</td>\n",
       "    </tr>\n",
       "    <tr>\n",
       "      <th>first</th>\n",
       "      <td>NaN</td>\n",
       "      <td>1993-07-05 00:00:00</td>\n",
       "      <td>NaN</td>\n",
       "      <td>NaN</td>\n",
       "      <td>NaN</td>\n",
       "      <td>NaN</td>\n",
       "    </tr>\n",
       "    <tr>\n",
       "      <th>last</th>\n",
       "      <td>NaN</td>\n",
       "      <td>1998-12-08 00:00:00</td>\n",
       "      <td>NaN</td>\n",
       "      <td>NaN</td>\n",
       "      <td>NaN</td>\n",
       "      <td>NaN</td>\n",
       "    </tr>\n",
       "    <tr>\n",
       "      <th>mean</th>\n",
       "      <td>5824.162757</td>\n",
       "      <td>NaN</td>\n",
       "      <td>151410.175953</td>\n",
       "      <td>36.492669</td>\n",
       "      <td>4190.664223</td>\n",
       "      <td>NaN</td>\n",
       "    </tr>\n",
       "    <tr>\n",
       "      <th>std</th>\n",
       "      <td>3283.512681</td>\n",
       "      <td>NaN</td>\n",
       "      <td>113372.406310</td>\n",
       "      <td>17.075219</td>\n",
       "      <td>2215.830344</td>\n",
       "      <td>NaN</td>\n",
       "    </tr>\n",
       "    <tr>\n",
       "      <th>min</th>\n",
       "      <td>2.000000</td>\n",
       "      <td>NaN</td>\n",
       "      <td>4980.000000</td>\n",
       "      <td>12.000000</td>\n",
       "      <td>304.000000</td>\n",
       "      <td>NaN</td>\n",
       "    </tr>\n",
       "    <tr>\n",
       "      <th>25%</th>\n",
       "      <td>2967.000000</td>\n",
       "      <td>NaN</td>\n",
       "      <td>66732.000000</td>\n",
       "      <td>24.000000</td>\n",
       "      <td>2477.000000</td>\n",
       "      <td>NaN</td>\n",
       "    </tr>\n",
       "    <tr>\n",
       "      <th>50%</th>\n",
       "      <td>5738.500000</td>\n",
       "      <td>NaN</td>\n",
       "      <td>116928.000000</td>\n",
       "      <td>36.000000</td>\n",
       "      <td>3934.000000</td>\n",
       "      <td>NaN</td>\n",
       "    </tr>\n",
       "    <tr>\n",
       "      <th>75%</th>\n",
       "      <td>8686.000000</td>\n",
       "      <td>NaN</td>\n",
       "      <td>210654.000000</td>\n",
       "      <td>48.000000</td>\n",
       "      <td>5813.500000</td>\n",
       "      <td>NaN</td>\n",
       "    </tr>\n",
       "    <tr>\n",
       "      <th>max</th>\n",
       "      <td>11362.000000</td>\n",
       "      <td>NaN</td>\n",
       "      <td>590820.000000</td>\n",
       "      <td>60.000000</td>\n",
       "      <td>9910.000000</td>\n",
       "      <td>NaN</td>\n",
       "    </tr>\n",
       "  </tbody>\n",
       "</table>\n",
       "</div>"
      ],
      "text/plain": [
       "          account_id                 date         amount    duration  \\\n",
       "count     682.000000                  682     682.000000  682.000000   \n",
       "unique           NaN                  559            NaN         NaN   \n",
       "top              NaN  1998-07-12 00:00:00            NaN         NaN   \n",
       "freq             NaN                    4            NaN         NaN   \n",
       "first            NaN  1993-07-05 00:00:00            NaN         NaN   \n",
       "last             NaN  1998-12-08 00:00:00            NaN         NaN   \n",
       "mean     5824.162757                  NaN  151410.175953   36.492669   \n",
       "std      3283.512681                  NaN  113372.406310   17.075219   \n",
       "min         2.000000                  NaN    4980.000000   12.000000   \n",
       "25%      2967.000000                  NaN   66732.000000   24.000000   \n",
       "50%      5738.500000                  NaN  116928.000000   36.000000   \n",
       "75%      8686.000000                  NaN  210654.000000   48.000000   \n",
       "max     11362.000000                  NaN  590820.000000   60.000000   \n",
       "\n",
       "           payments status  \n",
       "count    682.000000    682  \n",
       "unique          NaN      4  \n",
       "top             NaN      C  \n",
       "freq            NaN    403  \n",
       "first           NaN    NaN  \n",
       "last            NaN    NaN  \n",
       "mean    4190.664223    NaN  \n",
       "std     2215.830344    NaN  \n",
       "min      304.000000    NaN  \n",
       "25%     2477.000000    NaN  \n",
       "50%     3934.000000    NaN  \n",
       "75%     5813.500000    NaN  \n",
       "max     9910.000000    NaN  "
      ]
     },
     "execution_count": 382,
     "metadata": {},
     "output_type": "execute_result"
    }
   ],
   "source": [
    "loans_df.describe(include='all')"
   ]
  },
  {
   "cell_type": "code",
   "execution_count": 383,
   "metadata": {
    "collapsed": false
   },
   "outputs": [
    {
     "name": "stdout",
     "output_type": "stream",
     "text": [
      "['B' 'A' 'C' 'D']\n"
     ]
    }
   ],
   "source": [
    "print(loans_df.status.unique())"
   ]
  },
  {
   "cell_type": "markdown",
   "metadata": {},
   "source": [
    "For reference:\n",
    " * **A-** contract finished, no problems\n",
    " * **B-** contract finished, loan not payed\n",
    " * **C-** running contract, ok so far\n",
    " * **D-** running contract, client in debt\n",
    " \n",
    "Lets  see how the loans distribute accross the four categories:"
   ]
  },
  {
   "cell_type": "code",
   "execution_count": 384,
   "metadata": {
    "collapsed": false
   },
   "outputs": [
    {
     "data": {
      "text/plain": [
       "status\n",
       "A    203\n",
       "B     31\n",
       "C    403\n",
       "D     45\n",
       "Name: account_id, dtype: int64"
      ]
     },
     "execution_count": 384,
     "metadata": {},
     "output_type": "execute_result"
    }
   ],
   "source": [
    "loans_df.groupby('status').count()['account_id']"
   ]
  },
  {
   "cell_type": "markdown",
   "metadata": {},
   "source": [
    "There are also a lot of contracts running, but most importantly there is a gret disparity between the two counts of the different loans results. We must be aware of this when training the algorithms. As we want to identify properly the loans that will have the **B** status, we have to be carefull when structuring the training and testing datasets.\n",
    "\n",
    "In order to summarize this data, we want to obtain the *count* of loans in each state, as well as the *average* and *standard deviation* of the amount and duration associated with each loan."
   ]
  },
  {
   "cell_type": "code",
   "execution_count": 385,
   "metadata": {
    "collapsed": false
   },
   "outputs": [
    {
     "data": {
      "text/html": [
       "<div>\n",
       "<table border=\"1\" class=\"dataframe\">\n",
       "  <thead>\n",
       "    <tr style=\"text-align: right;\">\n",
       "      <th></th>\n",
       "      <th>B_cnt</th>\n",
       "      <th>B_amount_avg</th>\n",
       "      <th>B_amount_std</th>\n",
       "      <th>B_duration_avg</th>\n",
       "      <th>B_duration_std</th>\n",
       "      <th>A_cnt</th>\n",
       "      <th>A_amount_avg</th>\n",
       "      <th>A_amount_std</th>\n",
       "      <th>A_duration_avg</th>\n",
       "      <th>A_duration_std</th>\n",
       "      <th>C_cnt</th>\n",
       "      <th>C_amount_avg</th>\n",
       "      <th>C_amount_std</th>\n",
       "      <th>C_duration_avg</th>\n",
       "      <th>C_duration_std</th>\n",
       "      <th>D_cnt</th>\n",
       "      <th>D_amount_avg</th>\n",
       "      <th>D_amount_std</th>\n",
       "      <th>D_duration_avg</th>\n",
       "      <th>D_duration_std</th>\n",
       "    </tr>\n",
       "    <tr>\n",
       "      <th>account_id</th>\n",
       "      <th></th>\n",
       "      <th></th>\n",
       "      <th></th>\n",
       "      <th></th>\n",
       "      <th></th>\n",
       "      <th></th>\n",
       "      <th></th>\n",
       "      <th></th>\n",
       "      <th></th>\n",
       "      <th></th>\n",
       "      <th></th>\n",
       "      <th></th>\n",
       "      <th></th>\n",
       "      <th></th>\n",
       "      <th></th>\n",
       "      <th></th>\n",
       "      <th></th>\n",
       "      <th></th>\n",
       "      <th></th>\n",
       "      <th></th>\n",
       "    </tr>\n",
       "  </thead>\n",
       "  <tbody>\n",
       "    <tr>\n",
       "      <th>2</th>\n",
       "      <td>0</td>\n",
       "      <td>0</td>\n",
       "      <td>0</td>\n",
       "      <td>0</td>\n",
       "      <td>0</td>\n",
       "      <td>1</td>\n",
       "      <td>80952</td>\n",
       "      <td>0</td>\n",
       "      <td>24</td>\n",
       "      <td>0</td>\n",
       "      <td>0</td>\n",
       "      <td>0</td>\n",
       "      <td>0</td>\n",
       "      <td>0</td>\n",
       "      <td>0</td>\n",
       "      <td>0</td>\n",
       "      <td>0</td>\n",
       "      <td>0</td>\n",
       "      <td>0</td>\n",
       "      <td>0</td>\n",
       "    </tr>\n",
       "    <tr>\n",
       "      <th>19</th>\n",
       "      <td>1</td>\n",
       "      <td>30276</td>\n",
       "      <td>0</td>\n",
       "      <td>12</td>\n",
       "      <td>0</td>\n",
       "      <td>0</td>\n",
       "      <td>0</td>\n",
       "      <td>0</td>\n",
       "      <td>0</td>\n",
       "      <td>0</td>\n",
       "      <td>0</td>\n",
       "      <td>0</td>\n",
       "      <td>0</td>\n",
       "      <td>0</td>\n",
       "      <td>0</td>\n",
       "      <td>0</td>\n",
       "      <td>0</td>\n",
       "      <td>0</td>\n",
       "      <td>0</td>\n",
       "      <td>0</td>\n",
       "    </tr>\n",
       "    <tr>\n",
       "      <th>25</th>\n",
       "      <td>0</td>\n",
       "      <td>0</td>\n",
       "      <td>0</td>\n",
       "      <td>0</td>\n",
       "      <td>0</td>\n",
       "      <td>1</td>\n",
       "      <td>30276</td>\n",
       "      <td>0</td>\n",
       "      <td>12</td>\n",
       "      <td>0</td>\n",
       "      <td>0</td>\n",
       "      <td>0</td>\n",
       "      <td>0</td>\n",
       "      <td>0</td>\n",
       "      <td>0</td>\n",
       "      <td>0</td>\n",
       "      <td>0</td>\n",
       "      <td>0</td>\n",
       "      <td>0</td>\n",
       "      <td>0</td>\n",
       "    </tr>\n",
       "    <tr>\n",
       "      <th>37</th>\n",
       "      <td>0</td>\n",
       "      <td>0</td>\n",
       "      <td>0</td>\n",
       "      <td>0</td>\n",
       "      <td>0</td>\n",
       "      <td>0</td>\n",
       "      <td>0</td>\n",
       "      <td>0</td>\n",
       "      <td>0</td>\n",
       "      <td>0</td>\n",
       "      <td>0</td>\n",
       "      <td>0</td>\n",
       "      <td>0</td>\n",
       "      <td>0</td>\n",
       "      <td>0</td>\n",
       "      <td>1</td>\n",
       "      <td>318480</td>\n",
       "      <td>0</td>\n",
       "      <td>60</td>\n",
       "      <td>0</td>\n",
       "    </tr>\n",
       "    <tr>\n",
       "      <th>38</th>\n",
       "      <td>0</td>\n",
       "      <td>0</td>\n",
       "      <td>0</td>\n",
       "      <td>0</td>\n",
       "      <td>0</td>\n",
       "      <td>0</td>\n",
       "      <td>0</td>\n",
       "      <td>0</td>\n",
       "      <td>0</td>\n",
       "      <td>0</td>\n",
       "      <td>1</td>\n",
       "      <td>110736</td>\n",
       "      <td>0</td>\n",
       "      <td>48</td>\n",
       "      <td>0</td>\n",
       "      <td>0</td>\n",
       "      <td>0</td>\n",
       "      <td>0</td>\n",
       "      <td>0</td>\n",
       "      <td>0</td>\n",
       "    </tr>\n",
       "  </tbody>\n",
       "</table>\n",
       "</div>"
      ],
      "text/plain": [
       "            B_cnt  B_amount_avg  B_amount_std  B_duration_avg  B_duration_std  \\\n",
       "account_id                                                                      \n",
       "2               0             0             0               0               0   \n",
       "19              1         30276             0              12               0   \n",
       "25              0             0             0               0               0   \n",
       "37              0             0             0               0               0   \n",
       "38              0             0             0               0               0   \n",
       "\n",
       "            A_cnt  A_amount_avg  A_amount_std  A_duration_avg  A_duration_std  \\\n",
       "account_id                                                                      \n",
       "2               1         80952             0              24               0   \n",
       "19              0             0             0               0               0   \n",
       "25              1         30276             0              12               0   \n",
       "37              0             0             0               0               0   \n",
       "38              0             0             0               0               0   \n",
       "\n",
       "            C_cnt  C_amount_avg  C_amount_std  C_duration_avg  C_duration_std  \\\n",
       "account_id                                                                      \n",
       "2               0             0             0               0               0   \n",
       "19              0             0             0               0               0   \n",
       "25              0             0             0               0               0   \n",
       "37              0             0             0               0               0   \n",
       "38              1        110736             0              48               0   \n",
       "\n",
       "            D_cnt  D_amount_avg  D_amount_std  D_duration_avg  D_duration_std  \n",
       "account_id                                                                     \n",
       "2               0             0             0               0               0  \n",
       "19              0             0             0               0               0  \n",
       "25              0             0             0               0               0  \n",
       "37              1        318480             0              60               0  \n",
       "38              0             0             0               0               0  "
      ]
     },
     "execution_count": 385,
     "metadata": {},
     "output_type": "execute_result"
    }
   ],
   "source": [
    "def summarize_loans(df):\n",
    "    summaries_dfs = []\n",
    "    for tp in df['status'].unique():\n",
    "        tmp_df = df[df['status'] == tp].drop('status', axis=1)\n",
    "        \n",
    "        tmp_grp_df = tmp_df.groupby('account_id').agg([np.count_nonzero, np.average, np.std])\n",
    "        \n",
    "        amount_df = tmp_grp_df['amount']\n",
    "        amount_df = amount_df.rename(columns={'count_nonzero': tp + '_cnt',\n",
    "                                           'average': tp + '_amount_avg',\n",
    "                                           'std': tp + '_amount_std',\n",
    "                                          })\n",
    "        \n",
    "        duration_df = tmp_grp_df['duration']\n",
    "        duration_df = duration_df.drop('count_nonzero', axis='columns')\n",
    "        duration_df = duration_df.rename(columns={'average': tp + '_duration_avg',\n",
    "                                                  'std': tp + '_duration_std',\n",
    "                                                 })\n",
    "        joined_summary_df = amount_df.join(duration_df)\n",
    "        summaries_dfs.append(joined_summary_df)\n",
    "    \n",
    "    # now concatenate the summaries_dfs\n",
    "    summaries_df = pd.concat(summaries_dfs, axis='columns')\n",
    "    return summaries_df\n",
    "\n",
    "\n",
    "loans_summary_df = summarize_loans(loans_df)\n",
    "loans_summary_df = loans_summary_df.fillna(0)\n",
    "loans_summary_df.head()"
   ]
  },
  {
   "cell_type": "markdown",
   "metadata": {},
   "source": [
    "Lets analyse if the history of each account is long enough to be used:"
   ]
  },
  {
   "cell_type": "code",
   "execution_count": 386,
   "metadata": {
    "collapsed": false
   },
   "outputs": [
    {
     "data": {
      "text/plain": [
       "<matplotlib.axes._subplots.AxesSubplot at 0x7f40f39395f8>"
      ]
     },
     "execution_count": 386,
     "metadata": {},
     "output_type": "execute_result"
    },
    {
     "data": {
      "image/png": "[encoded data removed]",
      "text/plain": [
       "<matplotlib.figure.Figure at 0x7f40f3939390>"
      ]
     },
     "metadata": {},
     "output_type": "display_data"
    }
   ],
   "source": [
    "loans_hist_df = loans_summary_df[['A_cnt', 'B_cnt', 'C_cnt', 'D_cnt']].sum(axis='columns')\n",
    "loans_hist_df.plot(kind='hist', alpha=0.5)"
   ]
  },
  {
   "cell_type": "markdown",
   "metadata": {},
   "source": [
    "It seems that there are no accounts with more than one loan through time. Therefore, we will not use the loans history of each account."
   ]
  },
  {
   "cell_type": "markdown",
   "metadata": {},
   "source": [
    "### Transactions Dataframe\n",
    "\n",
    "As we analyse the transactions dataframe, we must be careful to associate to each loan only the information about transactions that happened before the loan is granted, as future operations may be strictly correlated with the loan status, and we can't use them to train our models."
   ]
  },
  {
   "cell_type": "code",
   "execution_count": 387,
   "metadata": {
    "collapsed": false
   },
   "outputs": [
    {
     "data": {
      "text/html": [
       "<div>\n",
       "<table border=\"1\" class=\"dataframe\">\n",
       "  <thead>\n",
       "    <tr style=\"text-align: right;\">\n",
       "      <th></th>\n",
       "      <th>account_id</th>\n",
       "      <th>date</th>\n",
       "      <th>type</th>\n",
       "      <th>operation</th>\n",
       "      <th>amount</th>\n",
       "      <th>balance</th>\n",
       "      <th>trans_char</th>\n",
       "      <th>bank</th>\n",
       "      <th>account</th>\n",
       "    </tr>\n",
       "  </thead>\n",
       "  <tbody>\n",
       "    <tr>\n",
       "      <th>count</th>\n",
       "      <td>1056320.000000</td>\n",
       "      <td>1056320</td>\n",
       "      <td>1056320</td>\n",
       "      <td>873206</td>\n",
       "      <td>1056320.000000</td>\n",
       "      <td>1056320.000000</td>\n",
       "      <td>574439</td>\n",
       "      <td>273508</td>\n",
       "      <td>295389.000000</td>\n",
       "    </tr>\n",
       "    <tr>\n",
       "      <th>unique</th>\n",
       "      <td>NaN</td>\n",
       "      <td>2191</td>\n",
       "      <td>3</td>\n",
       "      <td>5</td>\n",
       "      <td>NaN</td>\n",
       "      <td>NaN</td>\n",
       "      <td>8</td>\n",
       "      <td>13</td>\n",
       "      <td>NaN</td>\n",
       "    </tr>\n",
       "    <tr>\n",
       "      <th>top</th>\n",
       "      <td>NaN</td>\n",
       "      <td>1998-06-30 00:00:00</td>\n",
       "      <td>withdrawal</td>\n",
       "      <td>withdrawal in cash</td>\n",
       "      <td>NaN</td>\n",
       "      <td>NaN</td>\n",
       "      <td>interest credited</td>\n",
       "      <td>QR</td>\n",
       "      <td>NaN</td>\n",
       "    </tr>\n",
       "    <tr>\n",
       "      <th>freq</th>\n",
       "      <td>NaN</td>\n",
       "      <td>9269</td>\n",
       "      <td>634571</td>\n",
       "      <td>434918</td>\n",
       "      <td>NaN</td>\n",
       "      <td>NaN</td>\n",
       "      <td>183114</td>\n",
       "      <td>22285</td>\n",
       "      <td>NaN</td>\n",
       "    </tr>\n",
       "    <tr>\n",
       "      <th>first</th>\n",
       "      <td>NaN</td>\n",
       "      <td>1993-01-01 00:00:00</td>\n",
       "      <td>NaN</td>\n",
       "      <td>NaN</td>\n",
       "      <td>NaN</td>\n",
       "      <td>NaN</td>\n",
       "      <td>NaN</td>\n",
       "      <td>NaN</td>\n",
       "      <td>NaN</td>\n",
       "    </tr>\n",
       "    <tr>\n",
       "      <th>last</th>\n",
       "      <td>NaN</td>\n",
       "      <td>1998-12-31 00:00:00</td>\n",
       "      <td>NaN</td>\n",
       "      <td>NaN</td>\n",
       "      <td>NaN</td>\n",
       "      <td>NaN</td>\n",
       "      <td>NaN</td>\n",
       "      <td>NaN</td>\n",
       "      <td>NaN</td>\n",
       "    </tr>\n",
       "    <tr>\n",
       "      <th>mean</th>\n",
       "      <td>2936.867290</td>\n",
       "      <td>NaN</td>\n",
       "      <td>NaN</td>\n",
       "      <td>NaN</td>\n",
       "      <td>5924.145676</td>\n",
       "      <td>38518.330803</td>\n",
       "      <td>NaN</td>\n",
       "      <td>NaN</td>\n",
       "      <td>45670919.374916</td>\n",
       "    </tr>\n",
       "    <tr>\n",
       "      <th>std</th>\n",
       "      <td>2477.345127</td>\n",
       "      <td>NaN</td>\n",
       "      <td>NaN</td>\n",
       "      <td>NaN</td>\n",
       "      <td>9522.735373</td>\n",
       "      <td>22117.868013</td>\n",
       "      <td>NaN</td>\n",
       "      <td>NaN</td>\n",
       "      <td>30663396.851208</td>\n",
       "    </tr>\n",
       "    <tr>\n",
       "      <th>min</th>\n",
       "      <td>1.000000</td>\n",
       "      <td>NaN</td>\n",
       "      <td>NaN</td>\n",
       "      <td>NaN</td>\n",
       "      <td>0.000000</td>\n",
       "      <td>-41125.700000</td>\n",
       "      <td>NaN</td>\n",
       "      <td>NaN</td>\n",
       "      <td>0.000000</td>\n",
       "    </tr>\n",
       "    <tr>\n",
       "      <th>25%</th>\n",
       "      <td>1204.000000</td>\n",
       "      <td>NaN</td>\n",
       "      <td>NaN</td>\n",
       "      <td>NaN</td>\n",
       "      <td>135.900000</td>\n",
       "      <td>22402.500000</td>\n",
       "      <td>NaN</td>\n",
       "      <td>NaN</td>\n",
       "      <td>17828584.000000</td>\n",
       "    </tr>\n",
       "    <tr>\n",
       "      <th>50%</th>\n",
       "      <td>2434.000000</td>\n",
       "      <td>NaN</td>\n",
       "      <td>NaN</td>\n",
       "      <td>NaN</td>\n",
       "      <td>2100.000000</td>\n",
       "      <td>33143.400000</td>\n",
       "      <td>NaN</td>\n",
       "      <td>NaN</td>\n",
       "      <td>45750951.000000</td>\n",
       "    </tr>\n",
       "    <tr>\n",
       "      <th>75%</th>\n",
       "      <td>3660.000000</td>\n",
       "      <td>NaN</td>\n",
       "      <td>NaN</td>\n",
       "      <td>NaN</td>\n",
       "      <td>6800.000000</td>\n",
       "      <td>49603.625000</td>\n",
       "      <td>NaN</td>\n",
       "      <td>NaN</td>\n",
       "      <td>72013407.000000</td>\n",
       "    </tr>\n",
       "    <tr>\n",
       "      <th>max</th>\n",
       "      <td>11382.000000</td>\n",
       "      <td>NaN</td>\n",
       "      <td>NaN</td>\n",
       "      <td>NaN</td>\n",
       "      <td>87400.000000</td>\n",
       "      <td>209637.000000</td>\n",
       "      <td>NaN</td>\n",
       "      <td>NaN</td>\n",
       "      <td>99994199.000000</td>\n",
       "    </tr>\n",
       "  </tbody>\n",
       "</table>\n",
       "</div>"
      ],
      "text/plain": [
       "            account_id                 date        type           operation  \\\n",
       "count   1056320.000000              1056320     1056320              873206   \n",
       "unique             NaN                 2191           3                   5   \n",
       "top                NaN  1998-06-30 00:00:00  withdrawal  withdrawal in cash   \n",
       "freq               NaN                 9269      634571              434918   \n",
       "first              NaN  1993-01-01 00:00:00         NaN                 NaN   \n",
       "last               NaN  1998-12-31 00:00:00         NaN                 NaN   \n",
       "mean       2936.867290                  NaN         NaN                 NaN   \n",
       "std        2477.345127                  NaN         NaN                 NaN   \n",
       "min           1.000000                  NaN         NaN                 NaN   \n",
       "25%        1204.000000                  NaN         NaN                 NaN   \n",
       "50%        2434.000000                  NaN         NaN                 NaN   \n",
       "75%        3660.000000                  NaN         NaN                 NaN   \n",
       "max       11382.000000                  NaN         NaN                 NaN   \n",
       "\n",
       "                amount         balance         trans_char    bank  \\\n",
       "count   1056320.000000  1056320.000000             574439  273508   \n",
       "unique             NaN             NaN                  8      13   \n",
       "top                NaN             NaN  interest credited      QR   \n",
       "freq               NaN             NaN             183114   22285   \n",
       "first              NaN             NaN                NaN     NaN   \n",
       "last               NaN             NaN                NaN     NaN   \n",
       "mean       5924.145676    38518.330803                NaN     NaN   \n",
       "std        9522.735373    22117.868013                NaN     NaN   \n",
       "min           0.000000   -41125.700000                NaN     NaN   \n",
       "25%         135.900000    22402.500000                NaN     NaN   \n",
       "50%        2100.000000    33143.400000                NaN     NaN   \n",
       "75%        6800.000000    49603.625000                NaN     NaN   \n",
       "max       87400.000000   209637.000000                NaN     NaN   \n",
       "\n",
       "                account  \n",
       "count     295389.000000  \n",
       "unique              NaN  \n",
       "top                 NaN  \n",
       "freq                NaN  \n",
       "first               NaN  \n",
       "last                NaN  \n",
       "mean    45670919.374916  \n",
       "std     30663396.851208  \n",
       "min            0.000000  \n",
       "25%     17828584.000000  \n",
       "50%     45750951.000000  \n",
       "75%     72013407.000000  \n",
       "max     99994199.000000  "
      ]
     },
     "execution_count": 387,
     "metadata": {},
     "output_type": "execute_result"
    }
   ],
   "source": [
    "transactions_df.describe(include='all')"
   ]
  },
  {
   "cell_type": "markdown",
   "metadata": {},
   "source": [
    "**type**, **operation** and **trans_char** seem all to represent the same information. Lets evaluate that:"
   ]
  },
  {
   "cell_type": "code",
   "execution_count": 388,
   "metadata": {
    "collapsed": false
   },
   "outputs": [
    {
     "name": "stdout",
     "output_type": "stream",
     "text": [
      "type: ['credit' 'withdrawal' 'withdrawal in cash']\n"
     ]
    }
   ],
   "source": [
    "print(\"type:\", transactions_df['type'].unique())"
   ]
  },
  {
   "cell_type": "code",
   "execution_count": 389,
   "metadata": {
    "collapsed": false
   },
   "outputs": [
    {
     "name": "stdout",
     "output_type": "stream",
     "text": [
      "operation: ['credit in cash' 'collection from another bank' 'withdrawal in cash' nan\n",
      " 'remittance to another bank' 'credit card withdrawal']\n"
     ]
    }
   ],
   "source": [
    "print(\"operation:\", transactions_df['operation'].unique())"
   ]
  },
  {
   "cell_type": "code",
   "execution_count": 390,
   "metadata": {
    "collapsed": false
   },
   "outputs": [
    {
     "name": "stdout",
     "output_type": "stream",
     "text": [
      "trans_char: [nan 'pension' 'interest credited' 'household' 'statement' ' '\n",
      " 'insurance payment' 'sanction for negative balance' 'loan payment']\n"
     ]
    }
   ],
   "source": [
    "print(\"trans_char:\", transactions_df['trans_char'].unique())"
   ]
  },
  {
   "cell_type": "markdown",
   "metadata": {},
   "source": [
    "**operation** seems irrelevant given **type**:"
   ]
  },
  {
   "cell_type": "code",
   "execution_count": 391,
   "metadata": {
    "collapsed": false
   },
   "outputs": [],
   "source": [
    "transactions_df_e = transactions_df.drop('operation', axis=1).copy() # 'e' for edited"
   ]
  },
  {
   "cell_type": "markdown",
   "metadata": {},
   "source": [
    "Its also irrelevant the distinction between *withrawal* and *withrawal in cash*."
   ]
  },
  {
   "cell_type": "code",
   "execution_count": 392,
   "metadata": {
    "collapsed": false
   },
   "outputs": [],
   "source": [
    "mask = transactions_df_e['type'] == 'withdrawal in cash'\n",
    "transactions_df_e.ix[mask, 'type'] = ('withdrawal')"
   ]
  },
  {
   "cell_type": "markdown",
   "metadata": {},
   "source": [
    "We will create an additional column to store the signed amount (given by the type of operation), and another with the normalized **signed_amount** value, according to the **balance** previous to the operation (if an operation is the first one, we store 0):"
   ]
  },
  {
   "cell_type": "code",
   "execution_count": 393,
   "metadata": {
    "collapsed": false
   },
   "outputs": [],
   "source": [
    "transactions_df_e['signed_amount'] = transactions_df_e.apply(lambda x: - x['amount'] if x['type'] == 'withdrawal' else x['amount'], axis=1)\n",
    "transactions_df_e['norm_signed_amount'] = transactions_df_e.apply(lambda x: \n",
    "                                                                      0 if (x['balance'] - x['signed_amount']) == 0 \n",
    "                                                                      else x['signed_amount'] / (x['balance'] - x['signed_amount']), \n",
    "                                                                  axis=1)"
   ]
  },
  {
   "cell_type": "markdown",
   "metadata": {},
   "source": [
    "We will build a function that outputs a summary of the transactions dataframe (if date or account are provided, uses information until a given date for a given account), regarding the following aspects:\n",
    "\n",
    " * From **trans_char** we are able to extract if the user is pensionist, or if the user has been sanctioned for negative balance, among other things. We will create an additional table with that information, with the values weighted by the **amount**, indexed by **account_id**.\n",
    "\n",
    " * The **balance** statistics may be relevant to compare with the loan amount, so we'll gather the *min*, *max*, *average* and *standard deviation*.\n",
    " \n",
    " * Regarding **normalized signed amount** and **type** of each operation, we will extract, for each **account**, the *count*, *mean* and *standard deviation* of operation values, as well as *mean* and *standard deviation* of the number of days between each **operation**, grouped by operation **type**."
   ]
  },
  {
   "cell_type": "code",
   "execution_count": 394,
   "metadata": {
    "collapsed": false
   },
   "outputs": [
    {
     "data": {
      "text/html": [
       "<div>\n",
       "<table border=\"1\" class=\"dataframe\">\n",
       "  <thead>\n",
       "    <tr style=\"text-align: right;\">\n",
       "      <th></th>\n",
       "      <th>account_id</th>\n",
       "      <th>date</th>\n",
       "      <th>type</th>\n",
       "      <th>amount</th>\n",
       "      <th>balance</th>\n",
       "      <th>trans_char</th>\n",
       "      <th>bank</th>\n",
       "      <th>account</th>\n",
       "      <th>signed_amount</th>\n",
       "      <th>norm_signed_amount</th>\n",
       "    </tr>\n",
       "    <tr>\n",
       "      <th>trans_id</th>\n",
       "      <th></th>\n",
       "      <th></th>\n",
       "      <th></th>\n",
       "      <th></th>\n",
       "      <th></th>\n",
       "      <th></th>\n",
       "      <th></th>\n",
       "      <th></th>\n",
       "      <th></th>\n",
       "      <th></th>\n",
       "    </tr>\n",
       "  </thead>\n",
       "  <tbody>\n",
       "    <tr>\n",
       "      <th>695247</th>\n",
       "      <td>2378</td>\n",
       "      <td>1993-01-01</td>\n",
       "      <td>credit</td>\n",
       "      <td>700</td>\n",
       "      <td>700</td>\n",
       "      <td>NaN</td>\n",
       "      <td>NaN</td>\n",
       "      <td>NaN</td>\n",
       "      <td>700</td>\n",
       "      <td>0</td>\n",
       "    </tr>\n",
       "    <tr>\n",
       "      <th>171812</th>\n",
       "      <td>576</td>\n",
       "      <td>1993-01-01</td>\n",
       "      <td>credit</td>\n",
       "      <td>900</td>\n",
       "      <td>900</td>\n",
       "      <td>NaN</td>\n",
       "      <td>NaN</td>\n",
       "      <td>NaN</td>\n",
       "      <td>900</td>\n",
       "      <td>0</td>\n",
       "    </tr>\n",
       "    <tr>\n",
       "      <th>207264</th>\n",
       "      <td>704</td>\n",
       "      <td>1993-01-01</td>\n",
       "      <td>credit</td>\n",
       "      <td>1000</td>\n",
       "      <td>1000</td>\n",
       "      <td>NaN</td>\n",
       "      <td>NaN</td>\n",
       "      <td>NaN</td>\n",
       "      <td>1000</td>\n",
       "      <td>0</td>\n",
       "    </tr>\n",
       "    <tr>\n",
       "      <th>1117247</th>\n",
       "      <td>3818</td>\n",
       "      <td>1993-01-01</td>\n",
       "      <td>credit</td>\n",
       "      <td>600</td>\n",
       "      <td>600</td>\n",
       "      <td>NaN</td>\n",
       "      <td>NaN</td>\n",
       "      <td>NaN</td>\n",
       "      <td>600</td>\n",
       "      <td>0</td>\n",
       "    </tr>\n",
       "    <tr>\n",
       "      <th>579373</th>\n",
       "      <td>1972</td>\n",
       "      <td>1993-01-02</td>\n",
       "      <td>credit</td>\n",
       "      <td>400</td>\n",
       "      <td>400</td>\n",
       "      <td>NaN</td>\n",
       "      <td>NaN</td>\n",
       "      <td>NaN</td>\n",
       "      <td>400</td>\n",
       "      <td>0</td>\n",
       "    </tr>\n",
       "  </tbody>\n",
       "</table>\n",
       "</div>"
      ],
      "text/plain": [
       "          account_id       date    type  amount  balance trans_char bank  \\\n",
       "trans_id                                                                   \n",
       "695247          2378 1993-01-01  credit     700      700        NaN  NaN   \n",
       "171812           576 1993-01-01  credit     900      900        NaN  NaN   \n",
       "207264           704 1993-01-01  credit    1000     1000        NaN  NaN   \n",
       "1117247         3818 1993-01-01  credit     600      600        NaN  NaN   \n",
       "579373          1972 1993-01-02  credit     400      400        NaN  NaN   \n",
       "\n",
       "          account  signed_amount  norm_signed_amount  \n",
       "trans_id                                              \n",
       "695247        NaN            700                   0  \n",
       "171812        NaN            900                   0  \n",
       "207264        NaN           1000                   0  \n",
       "1117247       NaN            600                   0  \n",
       "579373        NaN            400                   0  "
      ]
     },
     "execution_count": 394,
     "metadata": {},
     "output_type": "execute_result"
    }
   ],
   "source": [
    "transactions_df_e.head()"
   ]
  },
  {
   "cell_type": "code",
   "execution_count": 395,
   "metadata": {
    "collapsed": false
   },
   "outputs": [],
   "source": [
    "def summarize_all_transactions(raw_trans_df, account=None, max_date=None):\n",
    "    \n",
    "    trans_df = raw_trans_df.copy()\n",
    "    \n",
    "    #if client specified, filter\n",
    "    if account != None:\n",
    "        trans_df = trans_df[trans_df.account_id == account]\n",
    "    \n",
    "    #if max_date specified, filter\n",
    "    if max_date != None:\n",
    "        trans_df = trans_df[trans_df.date < max_date]\n",
    "    \n",
    "    # remove the rows where an empty string is present\n",
    "    mask = trans_df.trans_char != ' '\n",
    "    transactions_df_e = trans_df.ix[mask]\n",
    "\n",
    "    # select the needed rows from transactions_df\n",
    "    trans_temp_df = trans_df[['account_id', 'trans_char', 'norm_signed_amount']].copy()\n",
    "\n",
    "    # remove the rows containing NaN\n",
    "    trans_temp_df = trans_temp_df.dropna(axis='index')\n",
    "    trans_temp_df = trans_temp_df[trans_temp_df.trans_char != ' ']\n",
    "    \n",
    "    # create the dataframe indexed by account_id\n",
    "    accounts_features_df = trans_temp_df[['account_id']].drop_duplicates(subset=['account_id'])\n",
    "    accounts_features_df = accounts_features_df.set_index('account_id')\n",
    "\n",
    "    # create the count columns, corresponding to the data countained in\n",
    "        # pension\n",
    "        # interest credited\n",
    "        # household\n",
    "        # statement\n",
    "        # insurance payment\n",
    "        # sanction for negative balance\n",
    "        # loan payment\n",
    "\n",
    "    def create_trans_count_col(df, val):\n",
    "        new_df = df.ix[df['trans_char'] == val].groupby('account_id').sum()\n",
    "        new_df = new_df.rename(columns={'norm_signed_amount':val})\n",
    "        return new_df\n",
    "\n",
    "    additional_dfs = [create_trans_count_col(trans_temp_df, val) for val in trans_temp_df['trans_char'].unique()]\n",
    "    \n",
    "    if accounts_features_df.empty:\n",
    "        if len(additional_dfs) == 1:\n",
    "            accounts_features_df = additional_dfs[0]\n",
    "        elif len(additional_dfs) > 1:\n",
    "            accounts_features_df = additional_dfs[0].join(additional_dfs[1:])\n",
    "    else:\n",
    "        accounts_features_df = accounts_features_df.join(additional_dfs)\n",
    "    \n",
    "    temp_df = trans_df[['account_id', 'balance']].copy()\n",
    "\n",
    "    balances_summary_df = temp_df.groupby('account_id').agg([np.max, np.min, np.average, np.std])['balance']\n",
    "    balances_summary_df = balances_summary_df.rename(columns={'amax': 'balance_max',\n",
    "                                                              'amin': 'balance_min',\n",
    "                                                              'average': 'balance_avg',\n",
    "                                                              'std': 'balance_std'})\n",
    "    if accounts_features_df.empty:\n",
    "        accounts_features_df = balances_summary_df\n",
    "    else:\n",
    "        accounts_features_df = accounts_features_df.join(balances_summary_df)\n",
    "    \n",
    "    temp_df = trans_df[['account_id', 'type', 'norm_signed_amount', 'date']].copy()\n",
    "    \n",
    "    # sort firstly by account_id, then by date\n",
    "    temp_df = temp_df.sort_values(by=['account_id', 'date'])\n",
    "\n",
    "    #obtain, by row, the previous date\n",
    "    if account != None:\n",
    "        prev_dates = temp_df['date'].shift().fillna(temp_df.iloc[0]['date'])\n",
    "    else:\n",
    "        prev_dates = temp_df.groupby('account_id').apply(lambda x: x['date'].shift().fillna(x.iloc[0]['date'])) \\\n",
    "        .reset_index(level=0)['date']\n",
    "    \n",
    "    delta = temp_df['date'] - prev_dates\n",
    "    delta = delta.astype(\"timedelta64[D]\")\n",
    "    temp_df['date_delta'] = delta\n",
    "    \n",
    "    def summarize_transactions(df):\n",
    "        summaries_dfs = []\n",
    "        for tp in df['type'].unique():\n",
    "            tmp_df = temp_df[temp_df['type'] == tp].drop('type', axis=1)\n",
    "\n",
    "            tmp_grp_df = tmp_df.groupby('account_id').agg([np.count_nonzero, np.average, np.std])\n",
    "            tmp_grp_df.fillna(0)\n",
    "\n",
    "            ops_df = tmp_grp_df['norm_signed_amount']\n",
    "            ops_df = ops_df.rename(columns={'count_nonzero': tp + '_cnt',\n",
    "                                            'average': tp + '_avg',\n",
    "                                            'std': tp + '_std',\n",
    "                                           })\n",
    "\n",
    "            dates_df = tmp_grp_df['date_delta']\n",
    "            dates_df = dates_df.drop('count_nonzero', axis='columns')\n",
    "            dates_df = dates_df.rename(columns={'average': tp + '_dates_avg',\n",
    "                                                'std': tp + '_dates_std',\n",
    "                                               })\n",
    "            joined_summary_df = ops_df.join(dates_df)\n",
    "            summaries_dfs.append(joined_summary_df)\n",
    "\n",
    "        # now concatenate the summaries_dfs\n",
    "        summaries_df = pd.concat(summaries_dfs, axis='columns')\n",
    "        return summaries_df\n",
    "\n",
    "    trans_summaries_df = summarize_transactions(temp_df)\n",
    "    \n",
    "    if accounts_features_df.empty:\n",
    "        accounts_features_df = trans_summaries_df\n",
    "    else:\n",
    "        accounts_features_df = accounts_features_df.join(trans_summaries_df)\n",
    "    \n",
    "    return accounts_features_df"
   ]
  },
  {
   "cell_type": "code",
   "execution_count": 396,
   "metadata": {
    "collapsed": false
   },
   "outputs": [
    {
     "data": {
      "text/html": [
       "<div>\n",
       "<table border=\"1\" class=\"dataframe\">\n",
       "  <thead>\n",
       "    <tr style=\"text-align: right;\">\n",
       "      <th></th>\n",
       "      <th>pension</th>\n",
       "      <th>interest credited</th>\n",
       "      <th>household</th>\n",
       "      <th>statement</th>\n",
       "      <th>insurance payment</th>\n",
       "      <th>sanction for negative balance</th>\n",
       "      <th>loan payment</th>\n",
       "      <th>balance_max</th>\n",
       "      <th>balance_min</th>\n",
       "      <th>balance_avg</th>\n",
       "      <th>...</th>\n",
       "      <th>credit_cnt</th>\n",
       "      <th>credit_avg</th>\n",
       "      <th>credit_std</th>\n",
       "      <th>credit_dates_avg</th>\n",
       "      <th>credit_dates_std</th>\n",
       "      <th>withdrawal_cnt</th>\n",
       "      <th>withdrawal_avg</th>\n",
       "      <th>withdrawal_std</th>\n",
       "      <th>withdrawal_dates_avg</th>\n",
       "      <th>withdrawal_dates_std</th>\n",
       "    </tr>\n",
       "    <tr>\n",
       "      <th>account_id</th>\n",
       "      <th></th>\n",
       "      <th></th>\n",
       "      <th></th>\n",
       "      <th></th>\n",
       "      <th></th>\n",
       "      <th></th>\n",
       "      <th></th>\n",
       "      <th></th>\n",
       "      <th></th>\n",
       "      <th></th>\n",
       "      <th></th>\n",
       "      <th></th>\n",
       "      <th></th>\n",
       "      <th></th>\n",
       "      <th></th>\n",
       "      <th></th>\n",
       "      <th></th>\n",
       "      <th></th>\n",
       "      <th></th>\n",
       "      <th></th>\n",
       "      <th></th>\n",
       "    </tr>\n",
       "  </thead>\n",
       "  <tbody>\n",
       "    <tr>\n",
       "      <th>4</th>\n",
       "      <td>17.641229</td>\n",
       "      <td>0.125462</td>\n",
       "      <td>-2.917712</td>\n",
       "      <td>-0.020211</td>\n",
       "      <td>NaN</td>\n",
       "      <td>NaN</td>\n",
       "      <td>NaN</td>\n",
       "      <td>34870.0</td>\n",
       "      <td>800</td>\n",
       "      <td>21753.446237</td>\n",
       "      <td>...</td>\n",
       "      <td>64</td>\n",
       "      <td>0.273334</td>\n",
       "      <td>0.859505</td>\n",
       "      <td>4.523077</td>\n",
       "      <td>7.644663</td>\n",
       "      <td>121</td>\n",
       "      <td>-0.059758</td>\n",
       "      <td>0.046077</td>\n",
       "      <td>6.198347</td>\n",
       "      <td>5.580651</td>\n",
       "    </tr>\n",
       "    <tr>\n",
       "      <th>5</th>\n",
       "      <td>13.342219</td>\n",
       "      <td>0.059509</td>\n",
       "      <td>-1.449807</td>\n",
       "      <td>-0.007832</td>\n",
       "      <td>NaN</td>\n",
       "      <td>NaN</td>\n",
       "      <td>NaN</td>\n",
       "      <td>32036.2</td>\n",
       "      <td>600</td>\n",
       "      <td>25090.069048</td>\n",
       "      <td>...</td>\n",
       "      <td>34</td>\n",
       "      <td>0.382907</td>\n",
       "      <td>1.399983</td>\n",
       "      <td>5.971429</td>\n",
       "      <td>9.447956</td>\n",
       "      <td>49</td>\n",
       "      <td>-0.052975</td>\n",
       "      <td>0.047930</td>\n",
       "      <td>7.571429</td>\n",
       "      <td>4.082483</td>\n",
       "    </tr>\n",
       "    <tr>\n",
       "      <th>6</th>\n",
       "      <td>19.061606</td>\n",
       "      <td>0.196014</td>\n",
       "      <td>-4.866938</td>\n",
       "      <td>-0.020693</td>\n",
       "      <td>NaN</td>\n",
       "      <td>NaN</td>\n",
       "      <td>NaN</td>\n",
       "      <td>51878.9</td>\n",
       "      <td>900</td>\n",
       "      <td>34547.349187</td>\n",
       "      <td>...</td>\n",
       "      <td>98</td>\n",
       "      <td>0.194521</td>\n",
       "      <td>0.745481</td>\n",
       "      <td>5.707071</td>\n",
       "      <td>7.243931</td>\n",
       "      <td>147</td>\n",
       "      <td>-0.055649</td>\n",
       "      <td>0.054151</td>\n",
       "      <td>6.741497</td>\n",
       "      <td>6.708294</td>\n",
       "    </tr>\n",
       "    <tr>\n",
       "      <th>12</th>\n",
       "      <td>12.778797</td>\n",
       "      <td>0.073643</td>\n",
       "      <td>-0.267233</td>\n",
       "      <td>-0.010551</td>\n",
       "      <td>NaN</td>\n",
       "      <td>NaN</td>\n",
       "      <td>NaN</td>\n",
       "      <td>29053.0</td>\n",
       "      <td>1100</td>\n",
       "      <td>20142.701887</td>\n",
       "      <td>...</td>\n",
       "      <td>38</td>\n",
       "      <td>0.329550</td>\n",
       "      <td>0.860090</td>\n",
       "      <td>4.358974</td>\n",
       "      <td>8.922140</td>\n",
       "      <td>67</td>\n",
       "      <td>-0.067113</td>\n",
       "      <td>0.078127</td>\n",
       "      <td>6.791045</td>\n",
       "      <td>5.144981</td>\n",
       "    </tr>\n",
       "    <tr>\n",
       "      <th>13</th>\n",
       "      <td>15.600257</td>\n",
       "      <td>0.060332</td>\n",
       "      <td>-1.994121</td>\n",
       "      <td>-0.011899</td>\n",
       "      <td>NaN</td>\n",
       "      <td>NaN</td>\n",
       "      <td>NaN</td>\n",
       "      <td>29750.6</td>\n",
       "      <td>1000</td>\n",
       "      <td>15120.500000</td>\n",
       "      <td>...</td>\n",
       "      <td>30</td>\n",
       "      <td>0.505180</td>\n",
       "      <td>1.209745</td>\n",
       "      <td>5.354839</td>\n",
       "      <td>8.811161</td>\n",
       "      <td>44</td>\n",
       "      <td>-0.127461</td>\n",
       "      <td>0.112124</td>\n",
       "      <td>7.613636</td>\n",
       "      <td>6.012452</td>\n",
       "    </tr>\n",
       "  </tbody>\n",
       "</table>\n",
       "<p>5 rows × 21 columns</p>\n",
       "</div>"
      ],
      "text/plain": [
       "              pension  interest credited  household  statement  \\\n",
       "account_id                                                       \n",
       "4           17.641229           0.125462  -2.917712  -0.020211   \n",
       "5           13.342219           0.059509  -1.449807  -0.007832   \n",
       "6           19.061606           0.196014  -4.866938  -0.020693   \n",
       "12          12.778797           0.073643  -0.267233  -0.010551   \n",
       "13          15.600257           0.060332  -1.994121  -0.011899   \n",
       "\n",
       "            insurance payment  sanction for negative balance  loan payment  \\\n",
       "account_id                                                                   \n",
       "4                         NaN                            NaN           NaN   \n",
       "5                         NaN                            NaN           NaN   \n",
       "6                         NaN                            NaN           NaN   \n",
       "12                        NaN                            NaN           NaN   \n",
       "13                        NaN                            NaN           NaN   \n",
       "\n",
       "            balance_max  balance_min   balance_avg          ...           \\\n",
       "account_id                                                  ...            \n",
       "4               34870.0          800  21753.446237          ...            \n",
       "5               32036.2          600  25090.069048          ...            \n",
       "6               51878.9          900  34547.349187          ...            \n",
       "12              29053.0         1100  20142.701887          ...            \n",
       "13              29750.6         1000  15120.500000          ...            \n",
       "\n",
       "            credit_cnt  credit_avg  credit_std  credit_dates_avg  \\\n",
       "account_id                                                         \n",
       "4                   64    0.273334    0.859505          4.523077   \n",
       "5                   34    0.382907    1.399983          5.971429   \n",
       "6                   98    0.194521    0.745481          5.707071   \n",
       "12                  38    0.329550    0.860090          4.358974   \n",
       "13                  30    0.505180    1.209745          5.354839   \n",
       "\n",
       "            credit_dates_std  withdrawal_cnt  withdrawal_avg  withdrawal_std  \\\n",
       "account_id                                                                     \n",
       "4                   7.644663             121       -0.059758        0.046077   \n",
       "5                   9.447956              49       -0.052975        0.047930   \n",
       "6                   7.243931             147       -0.055649        0.054151   \n",
       "12                  8.922140              67       -0.067113        0.078127   \n",
       "13                  8.811161              44       -0.127461        0.112124   \n",
       "\n",
       "            withdrawal_dates_avg  withdrawal_dates_std  \n",
       "account_id                                              \n",
       "4                       6.198347              5.580651  \n",
       "5                       7.571429              4.082483  \n",
       "6                       6.741497              6.708294  \n",
       "12                      6.791045              5.144981  \n",
       "13                      7.613636              6.012452  \n",
       "\n",
       "[5 rows x 21 columns]"
      ]
     },
     "execution_count": 396,
     "metadata": {},
     "output_type": "execute_result"
    }
   ],
   "source": [
    "trans_features = summarize_all_transactions(transactions_df_e)\n",
    "trans_features.head()"
   ]
  },
  {
   "cell_type": "markdown",
   "metadata": {},
   "source": [
    "Now merge with **loans** dataframe, but for each row obtain just the summary for the transactions that happened before the loan granting:"
   ]
  },
  {
   "cell_type": "code",
   "execution_count": 397,
   "metadata": {
    "collapsed": false
   },
   "outputs": [
    {
     "data": {
      "text/html": [
       "<div>\n",
       "<table border=\"1\" class=\"dataframe\">\n",
       "  <thead>\n",
       "    <tr style=\"text-align: right;\">\n",
       "      <th></th>\n",
       "      <th>balance_avg</th>\n",
       "      <th>balance_max</th>\n",
       "      <th>balance_min</th>\n",
       "      <th>balance_std</th>\n",
       "      <th>credit_avg</th>\n",
       "      <th>credit_cnt</th>\n",
       "      <th>credit_dates_avg</th>\n",
       "      <th>credit_dates_std</th>\n",
       "      <th>credit_std</th>\n",
       "      <th>household</th>\n",
       "      <th>...</th>\n",
       "      <th>withdrawal_cnt</th>\n",
       "      <th>withdrawal_dates_avg</th>\n",
       "      <th>withdrawal_dates_std</th>\n",
       "      <th>withdrawal_std</th>\n",
       "      <th>account_id</th>\n",
       "      <th>date</th>\n",
       "      <th>amount</th>\n",
       "      <th>duration</th>\n",
       "      <th>payments</th>\n",
       "      <th>status</th>\n",
       "    </tr>\n",
       "    <tr>\n",
       "      <th>loan_id</th>\n",
       "      <th></th>\n",
       "      <th></th>\n",
       "      <th></th>\n",
       "      <th></th>\n",
       "      <th></th>\n",
       "      <th></th>\n",
       "      <th></th>\n",
       "      <th></th>\n",
       "      <th></th>\n",
       "      <th></th>\n",
       "      <th></th>\n",
       "      <th></th>\n",
       "      <th></th>\n",
       "      <th></th>\n",
       "      <th></th>\n",
       "      <th></th>\n",
       "      <th></th>\n",
       "      <th></th>\n",
       "      <th></th>\n",
       "      <th></th>\n",
       "      <th></th>\n",
       "    </tr>\n",
       "  </thead>\n",
       "  <tbody>\n",
       "    <tr>\n",
       "      <th>5314</th>\n",
       "      <td>12250.000000</td>\n",
       "      <td>20100.0</td>\n",
       "      <td>1100</td>\n",
       "      <td>8330.866301</td>\n",
       "      <td>2.430925</td>\n",
       "      <td>3</td>\n",
       "      <td>22.500000</td>\n",
       "      <td>15.000000</td>\n",
       "      <td>4.384785</td>\n",
       "      <td>0.000000</td>\n",
       "      <td>...</td>\n",
       "      <td>0</td>\n",
       "      <td>0.000000</td>\n",
       "      <td>0.000000</td>\n",
       "      <td>0.000000</td>\n",
       "      <td>1787</td>\n",
       "      <td>1993-07-05</td>\n",
       "      <td>96396</td>\n",
       "      <td>12</td>\n",
       "      <td>8033</td>\n",
       "      <td>B</td>\n",
       "    </tr>\n",
       "    <tr>\n",
       "      <th>5316</th>\n",
       "      <td>52083.859459</td>\n",
       "      <td>120512.8</td>\n",
       "      <td>700</td>\n",
       "      <td>29122.059454</td>\n",
       "      <td>1.888075</td>\n",
       "      <td>16</td>\n",
       "      <td>5.705882</td>\n",
       "      <td>4.934125</td>\n",
       "      <td>6.478889</td>\n",
       "      <td>-0.188938</td>\n",
       "      <td>...</td>\n",
       "      <td>20</td>\n",
       "      <td>2.450000</td>\n",
       "      <td>2.625282</td>\n",
       "      <td>0.141195</td>\n",
       "      <td>1801</td>\n",
       "      <td>1993-07-11</td>\n",
       "      <td>165960</td>\n",
       "      <td>36</td>\n",
       "      <td>4610</td>\n",
       "      <td>A</td>\n",
       "    </tr>\n",
       "    <tr>\n",
       "      <th>6863</th>\n",
       "      <td>30060.954167</td>\n",
       "      <td>49590.4</td>\n",
       "      <td>800</td>\n",
       "      <td>11520.184451</td>\n",
       "      <td>1.224438</td>\n",
       "      <td>14</td>\n",
       "      <td>9.133333</td>\n",
       "      <td>10.294705</td>\n",
       "      <td>4.064382</td>\n",
       "      <td>-0.166444</td>\n",
       "      <td>...</td>\n",
       "      <td>9</td>\n",
       "      <td>2.888889</td>\n",
       "      <td>3.059593</td>\n",
       "      <td>0.131191</td>\n",
       "      <td>9188</td>\n",
       "      <td>1993-07-28</td>\n",
       "      <td>127080</td>\n",
       "      <td>60</td>\n",
       "      <td>2118</td>\n",
       "      <td>A</td>\n",
       "    </tr>\n",
       "    <tr>\n",
       "      <th>5325</th>\n",
       "      <td>41297.480000</td>\n",
       "      <td>65898.5</td>\n",
       "      <td>1000</td>\n",
       "      <td>14151.260443</td>\n",
       "      <td>1.599446</td>\n",
       "      <td>12</td>\n",
       "      <td>8.846154</td>\n",
       "      <td>8.532742</td>\n",
       "      <td>4.825893</td>\n",
       "      <td>-0.233710</td>\n",
       "      <td>...</td>\n",
       "      <td>12</td>\n",
       "      <td>5.583333</td>\n",
       "      <td>6.639528</td>\n",
       "      <td>0.100542</td>\n",
       "      <td>1843</td>\n",
       "      <td>1993-08-03</td>\n",
       "      <td>105804</td>\n",
       "      <td>36</td>\n",
       "      <td>2939</td>\n",
       "      <td>A</td>\n",
       "    </tr>\n",
       "    <tr>\n",
       "      <th>7240</th>\n",
       "      <td>57188.211111</td>\n",
       "      <td>122893.1</td>\n",
       "      <td>600</td>\n",
       "      <td>25256.665817</td>\n",
       "      <td>5.784333</td>\n",
       "      <td>12</td>\n",
       "      <td>9.846154</td>\n",
       "      <td>8.839741</td>\n",
       "      <td>19.422572</td>\n",
       "      <td>-0.017927</td>\n",
       "      <td>...</td>\n",
       "      <td>14</td>\n",
       "      <td>5.000000</td>\n",
       "      <td>5.449065</td>\n",
       "      <td>0.136008</td>\n",
       "      <td>11013</td>\n",
       "      <td>1993-09-06</td>\n",
       "      <td>274740</td>\n",
       "      <td>60</td>\n",
       "      <td>4579</td>\n",
       "      <td>A</td>\n",
       "    </tr>\n",
       "  </tbody>\n",
       "</table>\n",
       "<p>5 rows × 25 columns</p>\n",
       "</div>"
      ],
      "text/plain": [
       "          balance_avg  balance_max  balance_min   balance_std  credit_avg  \\\n",
       "loan_id                                                                     \n",
       "5314     12250.000000      20100.0         1100   8330.866301    2.430925   \n",
       "5316     52083.859459     120512.8          700  29122.059454    1.888075   \n",
       "6863     30060.954167      49590.4          800  11520.184451    1.224438   \n",
       "5325     41297.480000      65898.5         1000  14151.260443    1.599446   \n",
       "7240     57188.211111     122893.1          600  25256.665817    5.784333   \n",
       "\n",
       "         credit_cnt  credit_dates_avg  credit_dates_std  credit_std  \\\n",
       "loan_id                                                               \n",
       "5314              3         22.500000         15.000000    4.384785   \n",
       "5316             16          5.705882          4.934125    6.478889   \n",
       "6863             14          9.133333         10.294705    4.064382   \n",
       "5325             12          8.846154          8.532742    4.825893   \n",
       "7240             12          9.846154          8.839741   19.422572   \n",
       "\n",
       "         household   ...    withdrawal_cnt  withdrawal_dates_avg  \\\n",
       "loan_id              ...                                           \n",
       "5314      0.000000   ...                 0              0.000000   \n",
       "5316     -0.188938   ...                20              2.450000   \n",
       "6863     -0.166444   ...                 9              2.888889   \n",
       "5325     -0.233710   ...                12              5.583333   \n",
       "7240     -0.017927   ...                14              5.000000   \n",
       "\n",
       "         withdrawal_dates_std  withdrawal_std  account_id       date  amount  \\\n",
       "loan_id                                                                        \n",
       "5314                 0.000000        0.000000        1787 1993-07-05   96396   \n",
       "5316                 2.625282        0.141195        1801 1993-07-11  165960   \n",
       "6863                 3.059593        0.131191        9188 1993-07-28  127080   \n",
       "5325                 6.639528        0.100542        1843 1993-08-03  105804   \n",
       "7240                 5.449065        0.136008       11013 1993-09-06  274740   \n",
       "\n",
       "         duration  payments  status  \n",
       "loan_id                              \n",
       "5314           12      8033       B  \n",
       "5316           36      4610       A  \n",
       "6863           60      2118       A  \n",
       "5325           36      2939       A  \n",
       "7240           60      4579       A  \n",
       "\n",
       "[5 rows x 25 columns]"
      ]
     },
     "execution_count": 397,
     "metadata": {},
     "output_type": "execute_result"
    }
   ],
   "source": [
    "temp_dfs = []\n",
    "for i, row in loans_df.iterrows():\n",
    "    temp_df = summarize_all_transactions(transactions_df_e, row['account_id'], row['date'])\n",
    "    temp_dfs.append(temp_df)\n",
    "    #loans_transactions_df = loans_transactions_df.merge(temp_df, left_on='account_id', right_index=True, how='left', sort=False)\n",
    "    \n",
    "loans_transactions_df = pd.concat(temp_dfs)\n",
    "loans_transactions_df = loans_transactions_df.fillna(0)\n",
    "loans_transactions_df = loans_transactions_df.merge(loans_df, right_on='account_id', left_index=True, how='left', sort=False)\n",
    "loans_transactions_df.head()"
   ]
  },
  {
   "cell_type": "markdown",
   "metadata": {},
   "source": [
    "### Clients\n",
    "\n",
    "Now we'll take a look at the features that characterize each user."
   ]
  },
  {
   "cell_type": "code",
   "execution_count": 398,
   "metadata": {
    "collapsed": false
   },
   "outputs": [
    {
     "data": {
      "text/html": [
       "<div>\n",
       "<table border=\"1\" class=\"dataframe\">\n",
       "  <thead>\n",
       "    <tr style=\"text-align: right;\">\n",
       "      <th></th>\n",
       "      <th>district_id</th>\n",
       "      <th>gender</th>\n",
       "      <th>birthday</th>\n",
       "    </tr>\n",
       "  </thead>\n",
       "  <tbody>\n",
       "    <tr>\n",
       "      <th>count</th>\n",
       "      <td>5369.000000</td>\n",
       "      <td>5369</td>\n",
       "      <td>5369</td>\n",
       "    </tr>\n",
       "    <tr>\n",
       "      <th>unique</th>\n",
       "      <td>NaN</td>\n",
       "      <td>2</td>\n",
       "      <td>4738</td>\n",
       "    </tr>\n",
       "    <tr>\n",
       "      <th>top</th>\n",
       "      <td>NaN</td>\n",
       "      <td>Male</td>\n",
       "      <td>1952-08-26 00:00:00</td>\n",
       "    </tr>\n",
       "    <tr>\n",
       "      <th>freq</th>\n",
       "      <td>NaN</td>\n",
       "      <td>2724</td>\n",
       "      <td>4</td>\n",
       "    </tr>\n",
       "    <tr>\n",
       "      <th>first</th>\n",
       "      <td>NaN</td>\n",
       "      <td>NaN</td>\n",
       "      <td>1916-01-20 00:00:00</td>\n",
       "    </tr>\n",
       "    <tr>\n",
       "      <th>last</th>\n",
       "      <td>NaN</td>\n",
       "      <td>NaN</td>\n",
       "      <td>2015-09-27 00:00:00</td>\n",
       "    </tr>\n",
       "    <tr>\n",
       "      <th>mean</th>\n",
       "      <td>37.310114</td>\n",
       "      <td>NaN</td>\n",
       "      <td>NaN</td>\n",
       "    </tr>\n",
       "    <tr>\n",
       "      <th>std</th>\n",
       "      <td>25.043690</td>\n",
       "      <td>NaN</td>\n",
       "      <td>NaN</td>\n",
       "    </tr>\n",
       "    <tr>\n",
       "      <th>min</th>\n",
       "      <td>1.000000</td>\n",
       "      <td>NaN</td>\n",
       "      <td>NaN</td>\n",
       "    </tr>\n",
       "    <tr>\n",
       "      <th>25%</th>\n",
       "      <td>14.000000</td>\n",
       "      <td>NaN</td>\n",
       "      <td>NaN</td>\n",
       "    </tr>\n",
       "    <tr>\n",
       "      <th>50%</th>\n",
       "      <td>38.000000</td>\n",
       "      <td>NaN</td>\n",
       "      <td>NaN</td>\n",
       "    </tr>\n",
       "    <tr>\n",
       "      <th>75%</th>\n",
       "      <td>60.000000</td>\n",
       "      <td>NaN</td>\n",
       "      <td>NaN</td>\n",
       "    </tr>\n",
       "    <tr>\n",
       "      <th>max</th>\n",
       "      <td>77.000000</td>\n",
       "      <td>NaN</td>\n",
       "      <td>NaN</td>\n",
       "    </tr>\n",
       "  </tbody>\n",
       "</table>\n",
       "</div>"
      ],
      "text/plain": [
       "        district_id gender             birthday\n",
       "count   5369.000000   5369                 5369\n",
       "unique          NaN      2                 4738\n",
       "top             NaN   Male  1952-08-26 00:00:00\n",
       "freq            NaN   2724                    4\n",
       "first           NaN    NaN  1916-01-20 00:00:00\n",
       "last            NaN    NaN  2015-09-27 00:00:00\n",
       "mean      37.310114    NaN                  NaN\n",
       "std       25.043690    NaN                  NaN\n",
       "min        1.000000    NaN                  NaN\n",
       "25%       14.000000    NaN                  NaN\n",
       "50%       38.000000    NaN                  NaN\n",
       "75%       60.000000    NaN                  NaN\n",
       "max       77.000000    NaN                  NaN"
      ]
     },
     "execution_count": 398,
     "metadata": {},
     "output_type": "execute_result"
    }
   ],
   "source": [
    "clients_df.describe(include='all')"
   ]
  },
  {
   "cell_type": "markdown",
   "metadata": {},
   "source": [
    "As for each user corresponds a district, we'll look into the corresponding table:"
   ]
  },
  {
   "cell_type": "code",
   "execution_count": 399,
   "metadata": {
    "collapsed": false
   },
   "outputs": [
    {
     "data": {
      "text/html": [
       "<div>\n",
       "<table border=\"1\" class=\"dataframe\">\n",
       "  <thead>\n",
       "    <tr style=\"text-align: right;\">\n",
       "      <th></th>\n",
       "      <th>district_name</th>\n",
       "      <th>region</th>\n",
       "      <th>no_inhabitants</th>\n",
       "      <th>no_municipalities_w_inhabitants_&lt;499</th>\n",
       "      <th>no_municipalities_w_inhabitants_500-1999</th>\n",
       "      <th>no_municipalities_w_inhabitants_2000-9999</th>\n",
       "      <th>no_municipalities_w_inhabitants_&gt;10000</th>\n",
       "      <th>no_cities</th>\n",
       "      <th>ratio_urban_inhabitants</th>\n",
       "      <th>average_salary</th>\n",
       "      <th>unemployment_rate_95</th>\n",
       "      <th>unemployment_rate_96</th>\n",
       "      <th>no_enterpreneurs_per_1000_inhabitants</th>\n",
       "      <th>no_commited_crimes_95</th>\n",
       "      <th>no_commited_crimes_96</th>\n",
       "    </tr>\n",
       "  </thead>\n",
       "  <tbody>\n",
       "    <tr>\n",
       "      <th>count</th>\n",
       "      <td>77</td>\n",
       "      <td>77</td>\n",
       "      <td>77.000000</td>\n",
       "      <td>77.000000</td>\n",
       "      <td>77.000000</td>\n",
       "      <td>77.000000</td>\n",
       "      <td>77.000000</td>\n",
       "      <td>77.000000</td>\n",
       "      <td>77.000000</td>\n",
       "      <td>77.000000</td>\n",
       "      <td>76.000000</td>\n",
       "      <td>77.000000</td>\n",
       "      <td>77.000000</td>\n",
       "      <td>76.000000</td>\n",
       "      <td>77.000000</td>\n",
       "    </tr>\n",
       "    <tr>\n",
       "      <th>unique</th>\n",
       "      <td>77</td>\n",
       "      <td>8</td>\n",
       "      <td>NaN</td>\n",
       "      <td>NaN</td>\n",
       "      <td>NaN</td>\n",
       "      <td>NaN</td>\n",
       "      <td>NaN</td>\n",
       "      <td>NaN</td>\n",
       "      <td>NaN</td>\n",
       "      <td>NaN</td>\n",
       "      <td>NaN</td>\n",
       "      <td>NaN</td>\n",
       "      <td>NaN</td>\n",
       "      <td>NaN</td>\n",
       "      <td>NaN</td>\n",
       "    </tr>\n",
       "    <tr>\n",
       "      <th>top</th>\n",
       "      <td>D43</td>\n",
       "      <td>R7</td>\n",
       "      <td>NaN</td>\n",
       "      <td>NaN</td>\n",
       "      <td>NaN</td>\n",
       "      <td>NaN</td>\n",
       "      <td>NaN</td>\n",
       "      <td>NaN</td>\n",
       "      <td>NaN</td>\n",
       "      <td>NaN</td>\n",
       "      <td>NaN</td>\n",
       "      <td>NaN</td>\n",
       "      <td>NaN</td>\n",
       "      <td>NaN</td>\n",
       "      <td>NaN</td>\n",
       "    </tr>\n",
       "    <tr>\n",
       "      <th>freq</th>\n",
       "      <td>1</td>\n",
       "      <td>14</td>\n",
       "      <td>NaN</td>\n",
       "      <td>NaN</td>\n",
       "      <td>NaN</td>\n",
       "      <td>NaN</td>\n",
       "      <td>NaN</td>\n",
       "      <td>NaN</td>\n",
       "      <td>NaN</td>\n",
       "      <td>NaN</td>\n",
       "      <td>NaN</td>\n",
       "      <td>NaN</td>\n",
       "      <td>NaN</td>\n",
       "      <td>NaN</td>\n",
       "      <td>NaN</td>\n",
       "    </tr>\n",
       "    <tr>\n",
       "      <th>mean</th>\n",
       "      <td>NaN</td>\n",
       "      <td>NaN</td>\n",
       "      <td>133884.896104</td>\n",
       "      <td>48.623377</td>\n",
       "      <td>24.324675</td>\n",
       "      <td>6.272727</td>\n",
       "      <td>1.727273</td>\n",
       "      <td>6.259740</td>\n",
       "      <td>63.035065</td>\n",
       "      <td>9031.675325</td>\n",
       "      <td>3.119342</td>\n",
       "      <td>3.787013</td>\n",
       "      <td>116.129870</td>\n",
       "      <td>4850.315789</td>\n",
       "      <td>5030.831169</td>\n",
       "    </tr>\n",
       "    <tr>\n",
       "      <th>std</th>\n",
       "      <td>NaN</td>\n",
       "      <td>NaN</td>\n",
       "      <td>136913.464909</td>\n",
       "      <td>32.741829</td>\n",
       "      <td>12.780991</td>\n",
       "      <td>4.015222</td>\n",
       "      <td>1.008338</td>\n",
       "      <td>2.435497</td>\n",
       "      <td>16.221727</td>\n",
       "      <td>790.202347</td>\n",
       "      <td>1.665568</td>\n",
       "      <td>1.908480</td>\n",
       "      <td>16.608773</td>\n",
       "      <td>9888.951933</td>\n",
       "      <td>11270.796786</td>\n",
       "    </tr>\n",
       "    <tr>\n",
       "      <th>min</th>\n",
       "      <td>NaN</td>\n",
       "      <td>NaN</td>\n",
       "      <td>42821.000000</td>\n",
       "      <td>0.000000</td>\n",
       "      <td>0.000000</td>\n",
       "      <td>0.000000</td>\n",
       "      <td>0.000000</td>\n",
       "      <td>1.000000</td>\n",
       "      <td>33.900000</td>\n",
       "      <td>8110.000000</td>\n",
       "      <td>0.290000</td>\n",
       "      <td>0.430000</td>\n",
       "      <td>81.000000</td>\n",
       "      <td>818.000000</td>\n",
       "      <td>888.000000</td>\n",
       "    </tr>\n",
       "    <tr>\n",
       "      <th>25%</th>\n",
       "      <td>NaN</td>\n",
       "      <td>NaN</td>\n",
       "      <td>85852.000000</td>\n",
       "      <td>22.000000</td>\n",
       "      <td>16.000000</td>\n",
       "      <td>4.000000</td>\n",
       "      <td>1.000000</td>\n",
       "      <td>5.000000</td>\n",
       "      <td>51.900000</td>\n",
       "      <td>8512.000000</td>\n",
       "      <td>1.787500</td>\n",
       "      <td>2.310000</td>\n",
       "      <td>105.000000</td>\n",
       "      <td>2029.750000</td>\n",
       "      <td>2122.000000</td>\n",
       "    </tr>\n",
       "    <tr>\n",
       "      <th>50%</th>\n",
       "      <td>NaN</td>\n",
       "      <td>NaN</td>\n",
       "      <td>108871.000000</td>\n",
       "      <td>49.000000</td>\n",
       "      <td>25.000000</td>\n",
       "      <td>6.000000</td>\n",
       "      <td>2.000000</td>\n",
       "      <td>6.000000</td>\n",
       "      <td>59.800000</td>\n",
       "      <td>8814.000000</td>\n",
       "      <td>2.825000</td>\n",
       "      <td>3.600000</td>\n",
       "      <td>113.000000</td>\n",
       "      <td>2932.000000</td>\n",
       "      <td>3040.000000</td>\n",
       "    </tr>\n",
       "    <tr>\n",
       "      <th>75%</th>\n",
       "      <td>NaN</td>\n",
       "      <td>NaN</td>\n",
       "      <td>139012.000000</td>\n",
       "      <td>71.000000</td>\n",
       "      <td>32.000000</td>\n",
       "      <td>8.000000</td>\n",
       "      <td>2.000000</td>\n",
       "      <td>8.000000</td>\n",
       "      <td>73.500000</td>\n",
       "      <td>9317.000000</td>\n",
       "      <td>3.890000</td>\n",
       "      <td>4.790000</td>\n",
       "      <td>126.000000</td>\n",
       "      <td>4525.500000</td>\n",
       "      <td>4595.000000</td>\n",
       "    </tr>\n",
       "    <tr>\n",
       "      <th>max</th>\n",
       "      <td>NaN</td>\n",
       "      <td>NaN</td>\n",
       "      <td>1204953.000000</td>\n",
       "      <td>151.000000</td>\n",
       "      <td>70.000000</td>\n",
       "      <td>20.000000</td>\n",
       "      <td>5.000000</td>\n",
       "      <td>11.000000</td>\n",
       "      <td>100.000000</td>\n",
       "      <td>12541.000000</td>\n",
       "      <td>7.340000</td>\n",
       "      <td>9.400000</td>\n",
       "      <td>167.000000</td>\n",
       "      <td>85677.000000</td>\n",
       "      <td>99107.000000</td>\n",
       "    </tr>\n",
       "  </tbody>\n",
       "</table>\n",
       "</div>"
      ],
      "text/plain": [
       "       district_name region  no_inhabitants  \\\n",
       "count             77     77       77.000000   \n",
       "unique            77      8             NaN   \n",
       "top              D43     R7             NaN   \n",
       "freq               1     14             NaN   \n",
       "mean             NaN    NaN   133884.896104   \n",
       "std              NaN    NaN   136913.464909   \n",
       "min              NaN    NaN    42821.000000   \n",
       "25%              NaN    NaN    85852.000000   \n",
       "50%              NaN    NaN   108871.000000   \n",
       "75%              NaN    NaN   139012.000000   \n",
       "max              NaN    NaN  1204953.000000   \n",
       "\n",
       "        no_municipalities_w_inhabitants_<499  \\\n",
       "count                              77.000000   \n",
       "unique                                   NaN   \n",
       "top                                      NaN   \n",
       "freq                                     NaN   \n",
       "mean                               48.623377   \n",
       "std                                32.741829   \n",
       "min                                 0.000000   \n",
       "25%                                22.000000   \n",
       "50%                                49.000000   \n",
       "75%                                71.000000   \n",
       "max                               151.000000   \n",
       "\n",
       "        no_municipalities_w_inhabitants_500-1999  \\\n",
       "count                                  77.000000   \n",
       "unique                                       NaN   \n",
       "top                                          NaN   \n",
       "freq                                         NaN   \n",
       "mean                                   24.324675   \n",
       "std                                    12.780991   \n",
       "min                                     0.000000   \n",
       "25%                                    16.000000   \n",
       "50%                                    25.000000   \n",
       "75%                                    32.000000   \n",
       "max                                    70.000000   \n",
       "\n",
       "        no_municipalities_w_inhabitants_2000-9999  \\\n",
       "count                                   77.000000   \n",
       "unique                                        NaN   \n",
       "top                                           NaN   \n",
       "freq                                          NaN   \n",
       "mean                                     6.272727   \n",
       "std                                      4.015222   \n",
       "min                                      0.000000   \n",
       "25%                                      4.000000   \n",
       "50%                                      6.000000   \n",
       "75%                                      8.000000   \n",
       "max                                     20.000000   \n",
       "\n",
       "        no_municipalities_w_inhabitants_>10000  no_cities  \\\n",
       "count                                77.000000  77.000000   \n",
       "unique                                     NaN        NaN   \n",
       "top                                        NaN        NaN   \n",
       "freq                                       NaN        NaN   \n",
       "mean                                  1.727273   6.259740   \n",
       "std                                   1.008338   2.435497   \n",
       "min                                   0.000000   1.000000   \n",
       "25%                                   1.000000   5.000000   \n",
       "50%                                   2.000000   6.000000   \n",
       "75%                                   2.000000   8.000000   \n",
       "max                                   5.000000  11.000000   \n",
       "\n",
       "        ratio_urban_inhabitants  average_salary  unemployment_rate_95  \\\n",
       "count                 77.000000       77.000000             76.000000   \n",
       "unique                      NaN             NaN                   NaN   \n",
       "top                         NaN             NaN                   NaN   \n",
       "freq                        NaN             NaN                   NaN   \n",
       "mean                  63.035065     9031.675325              3.119342   \n",
       "std                   16.221727      790.202347              1.665568   \n",
       "min                   33.900000     8110.000000              0.290000   \n",
       "25%                   51.900000     8512.000000              1.787500   \n",
       "50%                   59.800000     8814.000000              2.825000   \n",
       "75%                   73.500000     9317.000000              3.890000   \n",
       "max                  100.000000    12541.000000              7.340000   \n",
       "\n",
       "        unemployment_rate_96  no_enterpreneurs_per_1000_inhabitants  \\\n",
       "count              77.000000                              77.000000   \n",
       "unique                   NaN                                    NaN   \n",
       "top                      NaN                                    NaN   \n",
       "freq                     NaN                                    NaN   \n",
       "mean                3.787013                             116.129870   \n",
       "std                 1.908480                              16.608773   \n",
       "min                 0.430000                              81.000000   \n",
       "25%                 2.310000                             105.000000   \n",
       "50%                 3.600000                             113.000000   \n",
       "75%                 4.790000                             126.000000   \n",
       "max                 9.400000                             167.000000   \n",
       "\n",
       "        no_commited_crimes_95  no_commited_crimes_96  \n",
       "count               76.000000              77.000000  \n",
       "unique                    NaN                    NaN  \n",
       "top                       NaN                    NaN  \n",
       "freq                      NaN                    NaN  \n",
       "mean              4850.315789            5030.831169  \n",
       "std               9888.951933           11270.796786  \n",
       "min                818.000000             888.000000  \n",
       "25%               2029.750000            2122.000000  \n",
       "50%               2932.000000            3040.000000  \n",
       "75%               4525.500000            4595.000000  \n",
       "max              85677.000000           99107.000000  "
      ]
     },
     "execution_count": 399,
     "metadata": {},
     "output_type": "execute_result"
    }
   ],
   "source": [
    "districts_df.describe(include='all')"
   ]
  },
  {
   "cell_type": "markdown",
   "metadata": {},
   "source": [
    "We can consider both the individual districts or the regions. \n",
    "In order to evaluate if the generalization for regions is reduces or not some interesting events, we'll use PCA to reduce the dimensionality of the table to two dimensions, therefore making it possible to plot."
   ]
  },
  {
   "cell_type": "code",
   "execution_count": 446,
   "metadata": {
    "collapsed": true
   },
   "outputs": [],
   "source": [
    "districts_df_e = districts_df.drop(['district_name', 'region'], axis='columns')\n",
    "districts_df_e = districts_df_e.fillna(0)"
   ]
  },
  {
   "cell_type": "code",
   "execution_count": 447,
   "metadata": {
    "collapsed": false
   },
   "outputs": [],
   "source": [
    "from sklearn.decomposition import PCA\n",
    "pca = PCA(n_components=2)\n",
    "districts_reduced = pca.fit_transform(districts_df_e.values)"
   ]
  },
  {
   "cell_type": "code",
   "execution_count": 448,
   "metadata": {
    "collapsed": false
   },
   "outputs": [
    {
     "data": {
      "text/plain": [
       "<matplotlib.axes._subplots.AxesSubplot at 0x7f40f4cee320>"
      ]
     },
     "execution_count": 448,
     "metadata": {},
     "output_type": "execute_result"
    },
    {
     "data": {
      "image/png": "[encoded data removed]",
      "text/plain": [
       "<matplotlib.figure.Figure at 0x7f4115702908>"
      ]
     },
     "metadata": {},
     "output_type": "display_data"
    }
   ],
   "source": [
    "districts_df_e['a'] = districts_reduced[:, 0]\n",
    "districts_df_e['b'] = districts_reduced[:, 1]\n",
    "\n",
    "# convert regions to integers, to use them as colors\n",
    "regions = districts_df.apply(lambda x: x['region'][1], axis='columns').astype(int)\n",
    "\n",
    "districts_df_e.plot(kind='scatter', x='a', y='b', c=regions)"
   ]
  },
  {
   "cell_type": "markdown",
   "metadata": {},
   "source": [
    "From the plot we conclude that probably it is beneficial to work with districts."
   ]
  },
  {
   "cell_type": "code",
   "execution_count": 402,
   "metadata": {
    "collapsed": false
   },
   "outputs": [
    {
     "data": {
      "text/html": [
       "<div>\n",
       "<table border=\"1\" class=\"dataframe\">\n",
       "  <thead>\n",
       "    <tr style=\"text-align: right;\">\n",
       "      <th></th>\n",
       "      <th>district_id</th>\n",
       "      <th>gender</th>\n",
       "      <th>birthday</th>\n",
       "    </tr>\n",
       "    <tr>\n",
       "      <th>client_id</th>\n",
       "      <th></th>\n",
       "      <th></th>\n",
       "      <th></th>\n",
       "    </tr>\n",
       "  </thead>\n",
       "  <tbody>\n",
       "    <tr>\n",
       "      <th>1</th>\n",
       "      <td>18</td>\n",
       "      <td>Female</td>\n",
       "      <td>1970-12-13</td>\n",
       "    </tr>\n",
       "    <tr>\n",
       "      <th>2</th>\n",
       "      <td>1</td>\n",
       "      <td>Male</td>\n",
       "      <td>1945-02-04</td>\n",
       "    </tr>\n",
       "    <tr>\n",
       "      <th>3</th>\n",
       "      <td>1</td>\n",
       "      <td>Female</td>\n",
       "      <td>1940-10-09</td>\n",
       "    </tr>\n",
       "    <tr>\n",
       "      <th>4</th>\n",
       "      <td>5</td>\n",
       "      <td>Male</td>\n",
       "      <td>1956-12-01</td>\n",
       "    </tr>\n",
       "    <tr>\n",
       "      <th>5</th>\n",
       "      <td>5</td>\n",
       "      <td>Female</td>\n",
       "      <td>1960-07-03</td>\n",
       "    </tr>\n",
       "  </tbody>\n",
       "</table>\n",
       "</div>"
      ],
      "text/plain": [
       "           district_id  gender   birthday\n",
       "client_id                                \n",
       "1                   18  Female 1970-12-13\n",
       "2                    1    Male 1945-02-04\n",
       "3                    1  Female 1940-10-09\n",
       "4                    5    Male 1956-12-01\n",
       "5                    5  Female 1960-07-03"
      ]
     },
     "execution_count": 402,
     "metadata": {},
     "output_type": "execute_result"
    }
   ],
   "source": [
    "clients_df.head()"
   ]
  },
  {
   "cell_type": "code",
   "execution_count": 403,
   "metadata": {
    "collapsed": false
   },
   "outputs": [
    {
     "data": {
      "text/html": [
       "<div>\n",
       "<table border=\"1\" class=\"dataframe\">\n",
       "  <thead>\n",
       "    <tr style=\"text-align: right;\">\n",
       "      <th></th>\n",
       "      <th>gender</th>\n",
       "      <th>birthday</th>\n",
       "      <th>no_inhabitants</th>\n",
       "      <th>no_municipalities_w_inhabitants_&lt;499</th>\n",
       "      <th>no_municipalities_w_inhabitants_500-1999</th>\n",
       "      <th>no_municipalities_w_inhabitants_2000-9999</th>\n",
       "      <th>no_municipalities_w_inhabitants_&gt;10000</th>\n",
       "      <th>no_cities</th>\n",
       "      <th>ratio_urban_inhabitants</th>\n",
       "      <th>average_salary</th>\n",
       "      <th>unemployment_rate_95</th>\n",
       "      <th>unemployment_rate_96</th>\n",
       "      <th>no_enterpreneurs_per_1000_inhabitants</th>\n",
       "      <th>no_commited_crimes_95</th>\n",
       "      <th>no_commited_crimes_96</th>\n",
       "    </tr>\n",
       "    <tr>\n",
       "      <th>client_id</th>\n",
       "      <th></th>\n",
       "      <th></th>\n",
       "      <th></th>\n",
       "      <th></th>\n",
       "      <th></th>\n",
       "      <th></th>\n",
       "      <th></th>\n",
       "      <th></th>\n",
       "      <th></th>\n",
       "      <th></th>\n",
       "      <th></th>\n",
       "      <th></th>\n",
       "      <th></th>\n",
       "      <th></th>\n",
       "      <th></th>\n",
       "    </tr>\n",
       "  </thead>\n",
       "  <tbody>\n",
       "    <tr>\n",
       "      <th>1</th>\n",
       "      <td>Female</td>\n",
       "      <td>1970-12-13</td>\n",
       "      <td>70699</td>\n",
       "      <td>60</td>\n",
       "      <td>13</td>\n",
       "      <td>2</td>\n",
       "      <td>1</td>\n",
       "      <td>4</td>\n",
       "      <td>65.3</td>\n",
       "      <td>8968</td>\n",
       "      <td>2.83</td>\n",
       "      <td>3.35</td>\n",
       "      <td>131</td>\n",
       "      <td>1740</td>\n",
       "      <td>1910</td>\n",
       "    </tr>\n",
       "    <tr>\n",
       "      <th>2</th>\n",
       "      <td>Male</td>\n",
       "      <td>1945-02-04</td>\n",
       "      <td>1204953</td>\n",
       "      <td>0</td>\n",
       "      <td>0</td>\n",
       "      <td>0</td>\n",
       "      <td>1</td>\n",
       "      <td>1</td>\n",
       "      <td>100.0</td>\n",
       "      <td>12541</td>\n",
       "      <td>0.29</td>\n",
       "      <td>0.43</td>\n",
       "      <td>167</td>\n",
       "      <td>85677</td>\n",
       "      <td>99107</td>\n",
       "    </tr>\n",
       "    <tr>\n",
       "      <th>3</th>\n",
       "      <td>Female</td>\n",
       "      <td>1940-10-09</td>\n",
       "      <td>1204953</td>\n",
       "      <td>0</td>\n",
       "      <td>0</td>\n",
       "      <td>0</td>\n",
       "      <td>1</td>\n",
       "      <td>1</td>\n",
       "      <td>100.0</td>\n",
       "      <td>12541</td>\n",
       "      <td>0.29</td>\n",
       "      <td>0.43</td>\n",
       "      <td>167</td>\n",
       "      <td>85677</td>\n",
       "      <td>99107</td>\n",
       "    </tr>\n",
       "    <tr>\n",
       "      <th>4</th>\n",
       "      <td>Male</td>\n",
       "      <td>1956-12-01</td>\n",
       "      <td>95616</td>\n",
       "      <td>65</td>\n",
       "      <td>30</td>\n",
       "      <td>4</td>\n",
       "      <td>1</td>\n",
       "      <td>6</td>\n",
       "      <td>51.4</td>\n",
       "      <td>9307</td>\n",
       "      <td>3.85</td>\n",
       "      <td>4.43</td>\n",
       "      <td>118</td>\n",
       "      <td>2616</td>\n",
       "      <td>3040</td>\n",
       "    </tr>\n",
       "    <tr>\n",
       "      <th>5</th>\n",
       "      <td>Female</td>\n",
       "      <td>1960-07-03</td>\n",
       "      <td>95616</td>\n",
       "      <td>65</td>\n",
       "      <td>30</td>\n",
       "      <td>4</td>\n",
       "      <td>1</td>\n",
       "      <td>6</td>\n",
       "      <td>51.4</td>\n",
       "      <td>9307</td>\n",
       "      <td>3.85</td>\n",
       "      <td>4.43</td>\n",
       "      <td>118</td>\n",
       "      <td>2616</td>\n",
       "      <td>3040</td>\n",
       "    </tr>\n",
       "  </tbody>\n",
       "</table>\n",
       "</div>"
      ],
      "text/plain": [
       "           gender   birthday  no_inhabitants  \\\n",
       "client_id                                      \n",
       "1          Female 1970-12-13           70699   \n",
       "2            Male 1945-02-04         1204953   \n",
       "3          Female 1940-10-09         1204953   \n",
       "4            Male 1956-12-01           95616   \n",
       "5          Female 1960-07-03           95616   \n",
       "\n",
       "           no_municipalities_w_inhabitants_<499  \\\n",
       "client_id                                         \n",
       "1                                            60   \n",
       "2                                             0   \n",
       "3                                             0   \n",
       "4                                            65   \n",
       "5                                            65   \n",
       "\n",
       "           no_municipalities_w_inhabitants_500-1999  \\\n",
       "client_id                                             \n",
       "1                                                13   \n",
       "2                                                 0   \n",
       "3                                                 0   \n",
       "4                                                30   \n",
       "5                                                30   \n",
       "\n",
       "           no_municipalities_w_inhabitants_2000-9999  \\\n",
       "client_id                                              \n",
       "1                                                  2   \n",
       "2                                                  0   \n",
       "3                                                  0   \n",
       "4                                                  4   \n",
       "5                                                  4   \n",
       "\n",
       "           no_municipalities_w_inhabitants_>10000  no_cities  \\\n",
       "client_id                                                      \n",
       "1                                               1          4   \n",
       "2                                               1          1   \n",
       "3                                               1          1   \n",
       "4                                               1          6   \n",
       "5                                               1          6   \n",
       "\n",
       "           ratio_urban_inhabitants  average_salary  unemployment_rate_95  \\\n",
       "client_id                                                                  \n",
       "1                             65.3            8968                  2.83   \n",
       "2                            100.0           12541                  0.29   \n",
       "3                            100.0           12541                  0.29   \n",
       "4                             51.4            9307                  3.85   \n",
       "5                             51.4            9307                  3.85   \n",
       "\n",
       "           unemployment_rate_96  no_enterpreneurs_per_1000_inhabitants  \\\n",
       "client_id                                                                \n",
       "1                          3.35                                    131   \n",
       "2                          0.43                                    167   \n",
       "3                          0.43                                    167   \n",
       "4                          4.43                                    118   \n",
       "5                          4.43                                    118   \n",
       "\n",
       "           no_commited_crimes_95  no_commited_crimes_96  \n",
       "client_id                                                \n",
       "1                           1740                   1910  \n",
       "2                          85677                  99107  \n",
       "3                          85677                  99107  \n",
       "4                           2616                   3040  \n",
       "5                           2616                   3040  "
      ]
     },
     "execution_count": 403,
     "metadata": {},
     "output_type": "execute_result"
    }
   ],
   "source": [
    "clients_districts_df = pd.merge(clients_df, districts_df.drop(['region', 'district_name'], axis='columns'), left_on='district_id', right_index=True, how='left', sort=False)\n",
    "\n",
    "# we no longer need district_id column\n",
    "clients_districts_df = clients_districts_df.drop('district_id', axis='columns')\n",
    "\n",
    "clients_districts_df.head()"
   ]
  },
  {
   "cell_type": "markdown",
   "metadata": {},
   "source": [
    "Now we'll merge **Credit Cards** and **Clients** information with the accounts.\n",
    "\n",
    "As there may be multiple credit cards and clients associated with a given account, we have to devise a certain heuristics."
   ]
  },
  {
   "cell_type": "code",
   "execution_count": 404,
   "metadata": {
    "collapsed": false
   },
   "outputs": [
    {
     "data": {
      "text/html": [
       "<div>\n",
       "<table border=\"1\" class=\"dataframe\">\n",
       "  <thead>\n",
       "    <tr style=\"text-align: right;\">\n",
       "      <th></th>\n",
       "      <th>client_id</th>\n",
       "      <th>account_id</th>\n",
       "      <th>type</th>\n",
       "    </tr>\n",
       "  </thead>\n",
       "  <tbody>\n",
       "    <tr>\n",
       "      <th>count</th>\n",
       "      <td>5369.000000</td>\n",
       "      <td>5369.000000</td>\n",
       "      <td>5369</td>\n",
       "    </tr>\n",
       "    <tr>\n",
       "      <th>unique</th>\n",
       "      <td>NaN</td>\n",
       "      <td>NaN</td>\n",
       "      <td>2</td>\n",
       "    </tr>\n",
       "    <tr>\n",
       "      <th>top</th>\n",
       "      <td>NaN</td>\n",
       "      <td>NaN</td>\n",
       "      <td>OWNER</td>\n",
       "    </tr>\n",
       "    <tr>\n",
       "      <th>freq</th>\n",
       "      <td>NaN</td>\n",
       "      <td>NaN</td>\n",
       "      <td>4500</td>\n",
       "    </tr>\n",
       "    <tr>\n",
       "      <th>mean</th>\n",
       "      <td>3359.011920</td>\n",
       "      <td>2767.496927</td>\n",
       "      <td>NaN</td>\n",
       "    </tr>\n",
       "    <tr>\n",
       "      <th>std</th>\n",
       "      <td>2832.911984</td>\n",
       "      <td>2307.843630</td>\n",
       "      <td>NaN</td>\n",
       "    </tr>\n",
       "    <tr>\n",
       "      <th>min</th>\n",
       "      <td>1.000000</td>\n",
       "      <td>1.000000</td>\n",
       "      <td>NaN</td>\n",
       "    </tr>\n",
       "    <tr>\n",
       "      <th>25%</th>\n",
       "      <td>1418.000000</td>\n",
       "      <td>1178.000000</td>\n",
       "      <td>NaN</td>\n",
       "    </tr>\n",
       "    <tr>\n",
       "      <th>50%</th>\n",
       "      <td>2839.000000</td>\n",
       "      <td>2349.000000</td>\n",
       "      <td>NaN</td>\n",
       "    </tr>\n",
       "    <tr>\n",
       "      <th>75%</th>\n",
       "      <td>4257.000000</td>\n",
       "      <td>3526.000000</td>\n",
       "      <td>NaN</td>\n",
       "    </tr>\n",
       "    <tr>\n",
       "      <th>max</th>\n",
       "      <td>13998.000000</td>\n",
       "      <td>11382.000000</td>\n",
       "      <td>NaN</td>\n",
       "    </tr>\n",
       "  </tbody>\n",
       "</table>\n",
       "</div>"
      ],
      "text/plain": [
       "           client_id    account_id   type\n",
       "count    5369.000000   5369.000000   5369\n",
       "unique           NaN           NaN      2\n",
       "top              NaN           NaN  OWNER\n",
       "freq             NaN           NaN   4500\n",
       "mean     3359.011920   2767.496927    NaN\n",
       "std      2832.911984   2307.843630    NaN\n",
       "min         1.000000      1.000000    NaN\n",
       "25%      1418.000000   1178.000000    NaN\n",
       "50%      2839.000000   2349.000000    NaN\n",
       "75%      4257.000000   3526.000000    NaN\n",
       "max     13998.000000  11382.000000    NaN"
      ]
     },
     "execution_count": 404,
     "metadata": {},
     "output_type": "execute_result"
    }
   ],
   "source": [
    "dispositions_df.describe(include='all')"
   ]
  },
  {
   "cell_type": "code",
   "execution_count": 405,
   "metadata": {
    "collapsed": false
   },
   "outputs": [
    {
     "data": {
      "text/plain": [
       "array(['OWNER', 'DISPONENT'], dtype=object)"
      ]
     },
     "execution_count": 405,
     "metadata": {},
     "output_type": "execute_result"
    }
   ],
   "source": [
    "dispositions_df.type.unique()"
   ]
  },
  {
   "cell_type": "markdown",
   "metadata": {},
   "source": [
    "To start, we'll simply use the information about the owner of the account.\n",
    "\n",
    "We'll check the data if there is really only one owner per account."
   ]
  },
  {
   "cell_type": "code",
   "execution_count": 406,
   "metadata": {
    "collapsed": false
   },
   "outputs": [],
   "source": [
    "dispositions_owners_df = dispositions_df[dispositions_df['type'] == 'OWNER'].drop('type', axis='columns')"
   ]
  },
  {
   "cell_type": "code",
   "execution_count": 407,
   "metadata": {
    "collapsed": false
   },
   "outputs": [
    {
     "data": {
      "text/plain": [
       "client_id    0\n",
       "dtype: int64"
      ]
     },
     "execution_count": 407,
     "metadata": {},
     "output_type": "execute_result"
    }
   ],
   "source": [
    "owners_per_account_df = dispositions_owners_df.groupby(['account_id']).count()\n",
    "\n",
    "owners_per_account_df[owners_per_account_df['client_id'] != 1].count(axis='index')"
   ]
  },
  {
   "cell_type": "markdown",
   "metadata": {},
   "source": [
    "We can now merge **clients** with **accounts**"
   ]
  },
  {
   "cell_type": "code",
   "execution_count": 408,
   "metadata": {
    "collapsed": false
   },
   "outputs": [
    {
     "data": {
      "text/html": [
       "<div>\n",
       "<table border=\"1\" class=\"dataframe\">\n",
       "  <thead>\n",
       "    <tr style=\"text-align: right;\">\n",
       "      <th></th>\n",
       "      <th>district_id</th>\n",
       "      <th>frequency</th>\n",
       "      <th>date</th>\n",
       "      <th>gender</th>\n",
       "      <th>birthday</th>\n",
       "      <th>no_inhabitants</th>\n",
       "      <th>no_municipalities_w_inhabitants_&lt;499</th>\n",
       "      <th>no_municipalities_w_inhabitants_500-1999</th>\n",
       "      <th>no_municipalities_w_inhabitants_2000-9999</th>\n",
       "      <th>no_municipalities_w_inhabitants_&gt;10000</th>\n",
       "      <th>no_cities</th>\n",
       "      <th>ratio_urban_inhabitants</th>\n",
       "      <th>average_salary</th>\n",
       "      <th>unemployment_rate_95</th>\n",
       "      <th>unemployment_rate_96</th>\n",
       "      <th>no_enterpreneurs_per_1000_inhabitants</th>\n",
       "      <th>no_commited_crimes_95</th>\n",
       "      <th>no_commited_crimes_96</th>\n",
       "    </tr>\n",
       "    <tr>\n",
       "      <th>account_id</th>\n",
       "      <th></th>\n",
       "      <th></th>\n",
       "      <th></th>\n",
       "      <th></th>\n",
       "      <th></th>\n",
       "      <th></th>\n",
       "      <th></th>\n",
       "      <th></th>\n",
       "      <th></th>\n",
       "      <th></th>\n",
       "      <th></th>\n",
       "      <th></th>\n",
       "      <th></th>\n",
       "      <th></th>\n",
       "      <th></th>\n",
       "      <th></th>\n",
       "      <th></th>\n",
       "      <th></th>\n",
       "    </tr>\n",
       "  </thead>\n",
       "  <tbody>\n",
       "    <tr>\n",
       "      <th>576</th>\n",
       "      <td>55</td>\n",
       "      <td>monthly issuance</td>\n",
       "      <td>1993-01-01</td>\n",
       "      <td>Female</td>\n",
       "      <td>1936-01-11</td>\n",
       "      <td>323870</td>\n",
       "      <td>0</td>\n",
       "      <td>0</td>\n",
       "      <td>0</td>\n",
       "      <td>1</td>\n",
       "      <td>1</td>\n",
       "      <td>100.0</td>\n",
       "      <td>10673</td>\n",
       "      <td>4.75</td>\n",
       "      <td>5.44</td>\n",
       "      <td>100</td>\n",
       "      <td>18782</td>\n",
       "      <td>18347</td>\n",
       "    </tr>\n",
       "    <tr>\n",
       "      <th>3818</th>\n",
       "      <td>74</td>\n",
       "      <td>monthly issuance</td>\n",
       "      <td>1993-01-01</td>\n",
       "      <td>Male</td>\n",
       "      <td>1935-04-02</td>\n",
       "      <td>1204953</td>\n",
       "      <td>0</td>\n",
       "      <td>0</td>\n",
       "      <td>0</td>\n",
       "      <td>1</td>\n",
       "      <td>1</td>\n",
       "      <td>100.0</td>\n",
       "      <td>12541</td>\n",
       "      <td>0.29</td>\n",
       "      <td>0.43</td>\n",
       "      <td>167</td>\n",
       "      <td>85677</td>\n",
       "      <td>99107</td>\n",
       "    </tr>\n",
       "    <tr>\n",
       "      <th>704</th>\n",
       "      <td>55</td>\n",
       "      <td>monthly issuance</td>\n",
       "      <td>1993-01-01</td>\n",
       "      <td>Male</td>\n",
       "      <td>1945-01-14</td>\n",
       "      <td>58400</td>\n",
       "      <td>65</td>\n",
       "      <td>16</td>\n",
       "      <td>4</td>\n",
       "      <td>1</td>\n",
       "      <td>6</td>\n",
       "      <td>52.4</td>\n",
       "      <td>8620</td>\n",
       "      <td>1.10</td>\n",
       "      <td>1.25</td>\n",
       "      <td>100</td>\n",
       "      <td>1089</td>\n",
       "      <td>1117</td>\n",
       "    </tr>\n",
       "    <tr>\n",
       "      <th>2378</th>\n",
       "      <td>16</td>\n",
       "      <td>monthly issuance</td>\n",
       "      <td>1993-01-01</td>\n",
       "      <td>Female</td>\n",
       "      <td>1975-03-24</td>\n",
       "      <td>93931</td>\n",
       "      <td>74</td>\n",
       "      <td>21</td>\n",
       "      <td>10</td>\n",
       "      <td>1</td>\n",
       "      <td>8</td>\n",
       "      <td>56.9</td>\n",
       "      <td>8427</td>\n",
       "      <td>1.12</td>\n",
       "      <td>1.54</td>\n",
       "      <td>107</td>\n",
       "      <td>1874</td>\n",
       "      <td>1913</td>\n",
       "    </tr>\n",
       "    <tr>\n",
       "      <th>2632</th>\n",
       "      <td>24</td>\n",
       "      <td>monthly issuance</td>\n",
       "      <td>1993-01-02</td>\n",
       "      <td>Male</td>\n",
       "      <td>1938-08-12</td>\n",
       "      <td>122603</td>\n",
       "      <td>25</td>\n",
       "      <td>21</td>\n",
       "      <td>6</td>\n",
       "      <td>2</td>\n",
       "      <td>8</td>\n",
       "      <td>80.0</td>\n",
       "      <td>8991</td>\n",
       "      <td>1.39</td>\n",
       "      <td>2.01</td>\n",
       "      <td>128</td>\n",
       "      <td>5198</td>\n",
       "      <td>5273</td>\n",
       "    </tr>\n",
       "  </tbody>\n",
       "</table>\n",
       "</div>"
      ],
      "text/plain": [
       "            district_id         frequency       date  gender   birthday  \\\n",
       "account_id                                                                \n",
       "576                  55  monthly issuance 1993-01-01  Female 1936-01-11   \n",
       "3818                 74  monthly issuance 1993-01-01    Male 1935-04-02   \n",
       "704                  55  monthly issuance 1993-01-01    Male 1945-01-14   \n",
       "2378                 16  monthly issuance 1993-01-01  Female 1975-03-24   \n",
       "2632                 24  monthly issuance 1993-01-02    Male 1938-08-12   \n",
       "\n",
       "            no_inhabitants  no_municipalities_w_inhabitants_<499  \\\n",
       "account_id                                                         \n",
       "576                 323870                                     0   \n",
       "3818               1204953                                     0   \n",
       "704                  58400                                    65   \n",
       "2378                 93931                                    74   \n",
       "2632                122603                                    25   \n",
       "\n",
       "            no_municipalities_w_inhabitants_500-1999  \\\n",
       "account_id                                             \n",
       "576                                                0   \n",
       "3818                                               0   \n",
       "704                                               16   \n",
       "2378                                              21   \n",
       "2632                                              21   \n",
       "\n",
       "            no_municipalities_w_inhabitants_2000-9999  \\\n",
       "account_id                                              \n",
       "576                                                 0   \n",
       "3818                                                0   \n",
       "704                                                 4   \n",
       "2378                                               10   \n",
       "2632                                                6   \n",
       "\n",
       "            no_municipalities_w_inhabitants_>10000  no_cities  \\\n",
       "account_id                                                      \n",
       "576                                              1          1   \n",
       "3818                                             1          1   \n",
       "704                                              1          6   \n",
       "2378                                             1          8   \n",
       "2632                                             2          8   \n",
       "\n",
       "            ratio_urban_inhabitants  average_salary  unemployment_rate_95  \\\n",
       "account_id                                                                  \n",
       "576                           100.0           10673                  4.75   \n",
       "3818                          100.0           12541                  0.29   \n",
       "704                            52.4            8620                  1.10   \n",
       "2378                           56.9            8427                  1.12   \n",
       "2632                           80.0            8991                  1.39   \n",
       "\n",
       "            unemployment_rate_96  no_enterpreneurs_per_1000_inhabitants  \\\n",
       "account_id                                                                \n",
       "576                         5.44                                    100   \n",
       "3818                        0.43                                    167   \n",
       "704                         1.25                                    100   \n",
       "2378                        1.54                                    107   \n",
       "2632                        2.01                                    128   \n",
       "\n",
       "            no_commited_crimes_95  no_commited_crimes_96  \n",
       "account_id                                                \n",
       "576                         18782                  18347  \n",
       "3818                        85677                  99107  \n",
       "704                          1089                   1117  \n",
       "2378                         1874                   1913  \n",
       "2632                         5198                   5273  "
      ]
     },
     "execution_count": 408,
     "metadata": {},
     "output_type": "execute_result"
    }
   ],
   "source": [
    "accounts_disp_merge = accounts_df.merge(dispositions_owners_df, left_index=True, right_on='account_id', how='left', sort=False)\n",
    "accounts_disp_merge = accounts_disp_merge.set_index('account_id')\n",
    "\n",
    "\n",
    "accounts_clients_df = accounts_disp_merge.merge(clients_districts_df, left_on='client_id', right_index=True, how='left', sort=False)\n",
    "accounts_clients_df = accounts_clients_df.drop('client_id', axis='columns')\n",
    "\n",
    "accounts_clients_df = accounts_clients_df.fillna(0)\n",
    "\n",
    "accounts_clients_df.head()"
   ]
  },
  {
   "cell_type": "markdown",
   "metadata": {},
   "source": [
    "Now we have to prepare a dataframe such that the machine-learning algorithms are able to undertand it. In order to accomplish that, we will merge this **accounts_loans_df** dataframe with the original **loans_df** dataframe. For new loans that arive, the process will be the same, therefore we want to encapsulate the process in a function:"
   ]
  },
  {
   "cell_type": "code",
   "execution_count": 441,
   "metadata": {
    "collapsed": true
   },
   "outputs": [],
   "source": [
    "accounts_final_df = accounts_clients_df.rename(columns={'date': 'date created'})\n",
    "accounts_final_df['account_id'] = accounts_final_df.index\n",
    "\n",
    "def join_loans_accounts(l_df):\n",
    "    dataset = pd.merge(l_df, accounts_final_df, left_on='account_id', right_index=True, how='left', sort=False)\n",
    "    dataset = dataset.drop(['account_id_x', 'account_id_y'], axis='columns')\n",
    "    return dataset\n",
    "\n",
    "dataset = join_loans_accounts(loans_transactions_df)"
   ]
  },
  {
   "cell_type": "code",
   "execution_count": 443,
   "metadata": {
    "collapsed": false
   },
   "outputs": [
    {
     "data": {
      "text/html": [
       "<div>\n",
       "<table border=\"1\" class=\"dataframe\">\n",
       "  <thead>\n",
       "    <tr style=\"text-align: right;\">\n",
       "      <th></th>\n",
       "      <th>balance_avg</th>\n",
       "      <th>balance_max</th>\n",
       "      <th>balance_min</th>\n",
       "      <th>balance_std</th>\n",
       "      <th>credit_avg</th>\n",
       "      <th>credit_cnt</th>\n",
       "      <th>credit_dates_avg</th>\n",
       "      <th>credit_dates_std</th>\n",
       "      <th>credit_std</th>\n",
       "      <th>household</th>\n",
       "      <th>...</th>\n",
       "      <th>no_municipalities_w_inhabitants_2000-9999</th>\n",
       "      <th>no_municipalities_w_inhabitants_&gt;10000</th>\n",
       "      <th>no_cities</th>\n",
       "      <th>ratio_urban_inhabitants</th>\n",
       "      <th>average_salary</th>\n",
       "      <th>unemployment_rate_95</th>\n",
       "      <th>unemployment_rate_96</th>\n",
       "      <th>no_enterpreneurs_per_1000_inhabitants</th>\n",
       "      <th>no_commited_crimes_95</th>\n",
       "      <th>no_commited_crimes_96</th>\n",
       "    </tr>\n",
       "    <tr>\n",
       "      <th>loan_id</th>\n",
       "      <th></th>\n",
       "      <th></th>\n",
       "      <th></th>\n",
       "      <th></th>\n",
       "      <th></th>\n",
       "      <th></th>\n",
       "      <th></th>\n",
       "      <th></th>\n",
       "      <th></th>\n",
       "      <th></th>\n",
       "      <th></th>\n",
       "      <th></th>\n",
       "      <th></th>\n",
       "      <th></th>\n",
       "      <th></th>\n",
       "      <th></th>\n",
       "      <th></th>\n",
       "      <th></th>\n",
       "      <th></th>\n",
       "      <th></th>\n",
       "      <th></th>\n",
       "    </tr>\n",
       "  </thead>\n",
       "  <tbody>\n",
       "    <tr>\n",
       "      <th>5314</th>\n",
       "      <td>12250.000000</td>\n",
       "      <td>20100.0</td>\n",
       "      <td>1100</td>\n",
       "      <td>8330.866301</td>\n",
       "      <td>2.430925</td>\n",
       "      <td>3</td>\n",
       "      <td>22.500000</td>\n",
       "      <td>15.000000</td>\n",
       "      <td>4.384785</td>\n",
       "      <td>0.000000</td>\n",
       "      <td>...</td>\n",
       "      <td>8</td>\n",
       "      <td>2</td>\n",
       "      <td>10</td>\n",
       "      <td>81.8</td>\n",
       "      <td>9650</td>\n",
       "      <td>3.38</td>\n",
       "      <td>3.67</td>\n",
       "      <td>100</td>\n",
       "      <td>2985</td>\n",
       "      <td>2804</td>\n",
       "    </tr>\n",
       "    <tr>\n",
       "      <th>5316</th>\n",
       "      <td>52083.859459</td>\n",
       "      <td>120512.8</td>\n",
       "      <td>700</td>\n",
       "      <td>29122.059454</td>\n",
       "      <td>1.888075</td>\n",
       "      <td>16</td>\n",
       "      <td>5.705882</td>\n",
       "      <td>4.934125</td>\n",
       "      <td>6.478889</td>\n",
       "      <td>-0.188938</td>\n",
       "      <td>...</td>\n",
       "      <td>7</td>\n",
       "      <td>3</td>\n",
       "      <td>10</td>\n",
       "      <td>73.5</td>\n",
       "      <td>8369</td>\n",
       "      <td>1.79</td>\n",
       "      <td>2.31</td>\n",
       "      <td>117</td>\n",
       "      <td>2854</td>\n",
       "      <td>2618</td>\n",
       "    </tr>\n",
       "    <tr>\n",
       "      <th>6863</th>\n",
       "      <td>30060.954167</td>\n",
       "      <td>49590.4</td>\n",
       "      <td>800</td>\n",
       "      <td>11520.184451</td>\n",
       "      <td>1.224438</td>\n",
       "      <td>14</td>\n",
       "      <td>9.133333</td>\n",
       "      <td>10.294705</td>\n",
       "      <td>4.064382</td>\n",
       "      <td>-0.166444</td>\n",
       "      <td>...</td>\n",
       "      <td>6</td>\n",
       "      <td>1</td>\n",
       "      <td>5</td>\n",
       "      <td>53.5</td>\n",
       "      <td>8390</td>\n",
       "      <td>2.28</td>\n",
       "      <td>2.89</td>\n",
       "      <td>132</td>\n",
       "      <td>2080</td>\n",
       "      <td>2122</td>\n",
       "    </tr>\n",
       "    <tr>\n",
       "      <th>5325</th>\n",
       "      <td>41297.480000</td>\n",
       "      <td>65898.5</td>\n",
       "      <td>1000</td>\n",
       "      <td>14151.260443</td>\n",
       "      <td>1.599446</td>\n",
       "      <td>12</td>\n",
       "      <td>8.846154</td>\n",
       "      <td>8.532742</td>\n",
       "      <td>4.825893</td>\n",
       "      <td>-0.233710</td>\n",
       "      <td>...</td>\n",
       "      <td>10</td>\n",
       "      <td>1</td>\n",
       "      <td>9</td>\n",
       "      <td>74.8</td>\n",
       "      <td>10045</td>\n",
       "      <td>1.42</td>\n",
       "      <td>1.71</td>\n",
       "      <td>135</td>\n",
       "      <td>6604</td>\n",
       "      <td>6295</td>\n",
       "    </tr>\n",
       "    <tr>\n",
       "      <th>7240</th>\n",
       "      <td>57188.211111</td>\n",
       "      <td>122893.1</td>\n",
       "      <td>600</td>\n",
       "      <td>25256.665817</td>\n",
       "      <td>5.784333</td>\n",
       "      <td>12</td>\n",
       "      <td>9.846154</td>\n",
       "      <td>8.839741</td>\n",
       "      <td>19.422572</td>\n",
       "      <td>-0.017927</td>\n",
       "      <td>...</td>\n",
       "      <td>5</td>\n",
       "      <td>1</td>\n",
       "      <td>5</td>\n",
       "      <td>50.5</td>\n",
       "      <td>8288</td>\n",
       "      <td>3.79</td>\n",
       "      <td>4.52</td>\n",
       "      <td>110</td>\n",
       "      <td>1562</td>\n",
       "      <td>1460</td>\n",
       "    </tr>\n",
       "  </tbody>\n",
       "</table>\n",
       "<p>5 rows × 42 columns</p>\n",
       "</div>"
      ],
      "text/plain": [
       "          balance_avg  balance_max  balance_min   balance_std  credit_avg  \\\n",
       "loan_id                                                                     \n",
       "5314     12250.000000      20100.0         1100   8330.866301    2.430925   \n",
       "5316     52083.859459     120512.8          700  29122.059454    1.888075   \n",
       "6863     30060.954167      49590.4          800  11520.184451    1.224438   \n",
       "5325     41297.480000      65898.5         1000  14151.260443    1.599446   \n",
       "7240     57188.211111     122893.1          600  25256.665817    5.784333   \n",
       "\n",
       "         credit_cnt  credit_dates_avg  credit_dates_std  credit_std  \\\n",
       "loan_id                                                               \n",
       "5314              3         22.500000         15.000000    4.384785   \n",
       "5316             16          5.705882          4.934125    6.478889   \n",
       "6863             14          9.133333         10.294705    4.064382   \n",
       "5325             12          8.846154          8.532742    4.825893   \n",
       "7240             12          9.846154          8.839741   19.422572   \n",
       "\n",
       "         household          ...           \\\n",
       "loan_id                     ...            \n",
       "5314      0.000000          ...            \n",
       "5316     -0.188938          ...            \n",
       "6863     -0.166444          ...            \n",
       "5325     -0.233710          ...            \n",
       "7240     -0.017927          ...            \n",
       "\n",
       "         no_municipalities_w_inhabitants_2000-9999  \\\n",
       "loan_id                                              \n",
       "5314                                             8   \n",
       "5316                                             7   \n",
       "6863                                             6   \n",
       "5325                                            10   \n",
       "7240                                             5   \n",
       "\n",
       "         no_municipalities_w_inhabitants_>10000  no_cities  \\\n",
       "loan_id                                                      \n",
       "5314                                          2         10   \n",
       "5316                                          3         10   \n",
       "6863                                          1          5   \n",
       "5325                                          1          9   \n",
       "7240                                          1          5   \n",
       "\n",
       "         ratio_urban_inhabitants  average_salary  unemployment_rate_95  \\\n",
       "loan_id                                                                  \n",
       "5314                        81.8            9650                  3.38   \n",
       "5316                        73.5            8369                  1.79   \n",
       "6863                        53.5            8390                  2.28   \n",
       "5325                        74.8           10045                  1.42   \n",
       "7240                        50.5            8288                  3.79   \n",
       "\n",
       "         unemployment_rate_96  no_enterpreneurs_per_1000_inhabitants  \\\n",
       "loan_id                                                                \n",
       "5314                     3.67                                    100   \n",
       "5316                     2.31                                    117   \n",
       "6863                     2.89                                    132   \n",
       "5325                     1.71                                    135   \n",
       "7240                     4.52                                    110   \n",
       "\n",
       "         no_commited_crimes_95 no_commited_crimes_96  \n",
       "loan_id                                               \n",
       "5314                      2985                  2804  \n",
       "5316                      2854                  2618  \n",
       "6863                      2080                  2122  \n",
       "5325                      6604                  6295  \n",
       "7240                      1562                  1460  \n",
       "\n",
       "[5 rows x 42 columns]"
      ]
     },
     "execution_count": 443,
     "metadata": {},
     "output_type": "execute_result"
    }
   ],
   "source": [
    "dataset.head()"
   ]
  },
  {
   "cell_type": "code",
   "execution_count": 453,
   "metadata": {
    "collapsed": false
   },
   "outputs": [
    {
     "data": {
      "text/plain": [
       "balance_avg                                         float64\n",
       "balance_max                                         float64\n",
       "balance_min                                         float64\n",
       "balance_std                                         float64\n",
       "credit_avg                                          float64\n",
       "credit_cnt                                          float64\n",
       "credit_dates_avg                                    float64\n",
       "credit_dates_std                                    float64\n",
       "credit_std                                          float64\n",
       "household                                           float64\n",
       "insurance payment                                   float64\n",
       "interest credited                                   float64\n",
       "sanction for negative balance                       float64\n",
       "statement                                           float64\n",
       "withdrawal_avg                                      float64\n",
       "withdrawal_cnt                                      float64\n",
       "withdrawal_dates_avg                                float64\n",
       "withdrawal_dates_std                                float64\n",
       "withdrawal_std                                      float64\n",
       "date                                         datetime64[ns]\n",
       "amount                                                int64\n",
       "duration                                              int64\n",
       "payments                                            float64\n",
       "status                                               object\n",
       "district_id                                           int64\n",
       "frequency                                            object\n",
       "date created                                 datetime64[ns]\n",
       "gender                                               object\n",
       "birthday                                     datetime64[ns]\n",
       "no_inhabitants                                        int64\n",
       "no_municipalities_w_inhabitants_<499                  int64\n",
       "no_municipalities_w_inhabitants_500-1999              int64\n",
       "no_municipalities_w_inhabitants_2000-9999             int64\n",
       "no_municipalities_w_inhabitants_>10000                int64\n",
       "no_cities                                             int64\n",
       "ratio_urban_inhabitants                             float64\n",
       "average_salary                                        int64\n",
       "unemployment_rate_95                                float64\n",
       "unemployment_rate_96                                float64\n",
       "no_enterpreneurs_per_1000_inhabitants                 int64\n",
       "no_commited_crimes_95                               float64\n",
       "no_commited_crimes_96                                 int64\n",
       "dtype: object"
      ]
     },
     "execution_count": 453,
     "metadata": {},
     "output_type": "execute_result"
    }
   ],
   "source": [
    "dataset.dtypes"
   ]
  },
  {
   "cell_type": "markdown",
   "metadata": {},
   "source": [
    "We just have now to convert the timestamp columns to an integer value. We'll use Unix time:"
   ]
  },
  {
   "cell_type": "code",
   "execution_count": 460,
   "metadata": {
    "collapsed": true
   },
   "outputs": [],
   "source": [
    "def convert_date_cols(df):\n",
    "    new_df = df.copy()\n",
    "    for col in new_df.columns:\n",
    "        if new_df[col].dtype == 'datetime64[ns]':\n",
    "            new_df[col] = new_df[col].astype(np.int64) // 10**9\n",
    "    return new_df\n",
    "            \n",
    "\n",
    "dataset_valid = convert_date_cols(dataset)"
   ]
  },
  {
   "cell_type": "markdown",
   "metadata": {},
   "source": [
    "and convert categorical data in new columns:"
   ]
  },
  {
   "cell_type": "code",
   "execution_count": 465,
   "metadata": {
    "collapsed": true
   },
   "outputs": [],
   "source": [
    "features_mask = dataset_valid.columns[dataset_valid.columns != 'status']\n",
    "\n",
    "dataset_valid_num = pd.get_dummies(dataset_valid[features_mask])\n",
    "dataset_valid_num['status'] = dataset_valid['status']"
   ]
  },
  {
   "cell_type": "code",
   "execution_count": 501,
   "metadata": {
    "collapsed": true
   },
   "outputs": [],
   "source": [
    "features = dataset_valid_num.columns[dataset_valid_num.columns != 'status']"
   ]
  },
  {
   "cell_type": "markdown",
   "metadata": {},
   "source": [
    "## Clustering"
   ]
  },
  {
   "cell_type": "code",
   "execution_count": 530,
   "metadata": {
    "collapsed": true
   },
   "outputs": [],
   "source": [
    "from sklearn import metrics\n",
    "\n",
    "def bench_clustering(estimator, name, data):\n",
    "    sample_size = data.shape[0]\n",
    "    estimator.fit(data)\n",
    "    print('Name: %9s \\\n",
    "           \\nHomogeineity: %.3f \\\n",
    "           \\nCompleteness: %.3f \\\n",
    "           \\nV_Measure: %.3f \\\n",
    "           \\nAdjusted rand: %.3f \\\n",
    "           \\nAdjusted mutual_info: %.3f \\\n",
    "           \\nSilhoutette: %.3f'\n",
    "          % (name,\n",
    "             metrics.homogeneity_score(labels, estimator.labels_),\n",
    "             metrics.completeness_score(labels, estimator.labels_),\n",
    "             metrics.v_measure_score(labels, estimator.labels_),\n",
    "             metrics.adjusted_rand_score(labels, estimator.labels_),\n",
    "             metrics.adjusted_mutual_info_score(labels,  estimator.labels_),\n",
    "             metrics.silhouette_score(data, estimator.labels_,\n",
    "                                      metric='euclidean',\n",
    "                                      sample_size=sample_size)))"
   ]
  },
  {
   "cell_type": "code",
   "execution_count": 531,
   "metadata": {
    "collapsed": true
   },
   "outputs": [],
   "source": [
    "data = dataset_valid_num[features].values\n",
    "reduced_data = PCA(n_components=2).fit_transform(data)"
   ]
  },
  {
   "cell_type": "markdown",
   "metadata": {},
   "source": [
    "### KMeans"
   ]
  },
  {
   "cell_type": "code",
   "execution_count": 532,
   "metadata": {
    "collapsed": false
   },
   "outputs": [
    {
     "name": "stdout",
     "output_type": "stream",
     "text": [
      "Name:    KMeans            \n",
      "Homogeineity: 1.000            \n",
      "Completeness: 1.000            \n",
      "V_Measure: 1.000            \n",
      "Adjusted rand: 1.000            \n",
      "Adjusted mutual_info: 1.000            \n",
      "Silhoutette: 0.588\n"
     ]
    }
   ],
   "source": [
    "from sklearn.cluster import KMeans\n",
    "\n",
    "bench_clustering(KMeans(n_clusters=2, init='k-means++', n_init=10), 'KMeans', data)"
   ]
  },
  {
   "cell_type": "code",
   "execution_count": 533,
   "metadata": {
    "collapsed": false
   },
   "outputs": [],
   "source": [
    "kmeans = KMeans(n_clusters=2, init='k-means++', n_init=10)\n",
    "labels = kmeans.fit_predict(reduced_data)"
   ]
  },
  {
   "cell_type": "code",
   "execution_count": 534,
   "metadata": {
    "collapsed": false
   },
   "outputs": [
    {
     "data": {
      "text/plain": [
       "<matplotlib.collections.PathCollection at 0x7f40d3477ac8>"
      ]
     },
     "execution_count": 534,
     "metadata": {},
     "output_type": "execute_result"
    },
    {
     "data": {
      "image/png": "[encoded data removed]",
      "text/plain": [
       "<matplotlib.figure.Figure at 0x7f40f83271d0>"
      ]
     },
     "metadata": {},
     "output_type": "display_data"
    }
   ],
   "source": [
    "plt.scatter(reduced_data[:, 0], reduced_data[:, 1], c=labels)"
   ]
  },
  {
   "cell_type": "markdown",
   "metadata": {},
   "source": [
    "### Affinity Propagation"
   ]
  },
  {
   "cell_type": "code",
   "execution_count": 535,
   "metadata": {
    "collapsed": false
   },
   "outputs": [
    {
     "name": "stdout",
     "output_type": "stream",
     "text": [
      "Name: AffinityPropagation            \n",
      "Homogeineity: 0.902            \n",
      "Completeness: 0.219            \n",
      "V_Measure: 0.352            \n",
      "Adjusted rand: 0.104            \n",
      "Adjusted mutual_info: 0.215            \n",
      "Silhoutette: 0.371\n"
     ]
    }
   ],
   "source": [
    "from sklearn.cluster import AffinityPropagation\n",
    "\n",
    "bench_clustering(AffinityPropagation(), 'AffinityPropagation', data)"
   ]
  },
  {
   "cell_type": "code",
   "execution_count": 536,
   "metadata": {
    "collapsed": true
   },
   "outputs": [],
   "source": [
    "affinity_prop = AffinityPropagation()\n",
    "labels = affinity_prop.fit_predict(reduced_data)"
   ]
  },
  {
   "cell_type": "code",
   "execution_count": 538,
   "metadata": {
    "collapsed": false
   },
   "outputs": [
    {
     "data": {
      "text/plain": [
       "<matplotlib.collections.PathCollection at 0x7f40f83fb908>"
      ]
     },
     "execution_count": 538,
     "metadata": {},
     "output_type": "execute_result"
    },
    {
     "data": {
      "image/png": "[encoded data removed]",
      "text/plain": [
       "<matplotlib.figure.Figure at 0x7f40d21fa208>"
      ]
     },
     "metadata": {},
     "output_type": "display_data"
    }
   ],
   "source": [
    "plt.scatter(reduced_data[:, 0], reduced_data[:, 1], c=labels)"
   ]
  },
  {
   "cell_type": "markdown",
   "metadata": {},
   "source": [
    "### Mean shift"
   ]
  },
  {
   "cell_type": "code",
   "execution_count": 540,
   "metadata": {
    "collapsed": false
   },
   "outputs": [
    {
     "name": "stdout",
     "output_type": "stream",
     "text": [
      "Name: MeanShift            \n",
      "Homogeineity: 0.225            \n",
      "Completeness: 0.931            \n",
      "V_Measure: 0.362            \n",
      "Adjusted rand: 0.106            \n",
      "Adjusted mutual_info: 0.221            \n",
      "Silhoutette: 0.588\n"
     ]
    }
   ],
   "source": [
    "from sklearn.cluster import MeanShift\n",
    "\n",
    "bench_clustering(MeanShift(), 'MeanShift', data)"
   ]
  },
  {
   "cell_type": "code",
   "execution_count": 543,
   "metadata": {
    "collapsed": true
   },
   "outputs": [],
   "source": [
    "mean_shift = MeanShift()\n",
    "labels = mean_shift.fit_predict(reduced_data)"
   ]
  },
  {
   "cell_type": "code",
   "execution_count": 544,
   "metadata": {
    "collapsed": false
   },
   "outputs": [
    {
     "data": {
      "text/plain": [
       "<matplotlib.collections.PathCollection at 0x7f40f8295630>"
      ]
     },
     "execution_count": 544,
     "metadata": {},
     "output_type": "execute_result"
    },
    {
     "data": {
      "image/png": "[encoded data removed]",
      "text/plain": [
       "<matplotlib.figure.Figure at 0x7f40d22972e8>"
      ]
     },
     "metadata": {},
     "output_type": "display_data"
    }
   ],
   "source": [
    "plt.scatter(reduced_data[:, 0], reduced_data[:, 1], c=labels)"
   ]
  },
  {
   "cell_type": "markdown",
   "metadata": {},
   "source": [
    "### Agglomerative Clustering"
   ]
  },
  {
   "cell_type": "code",
   "execution_count": 548,
   "metadata": {
    "collapsed": false
   },
   "outputs": [
    {
     "name": "stdout",
     "output_type": "stream",
     "text": [
      "Name: AgglomerativeClustering            \n",
      "Homogeineity: 0.570            \n",
      "Completeness: 0.589            \n",
      "V_Measure: 0.580            \n",
      "Adjusted rand: 0.585            \n",
      "Adjusted mutual_info: 0.570            \n",
      "Silhoutette: 0.557\n"
     ]
    }
   ],
   "source": [
    "from sklearn.cluster import AgglomerativeClustering\n",
    "\n",
    "bench_clustering(AgglomerativeClustering(n_clusters=2, affinity='cosine', linkage='complete'), 'AgglomerativeClustering', data)"
   ]
  },
  {
   "cell_type": "code",
   "execution_count": 551,
   "metadata": {
    "collapsed": true
   },
   "outputs": [],
   "source": [
    "agglomerative = AgglomerativeClustering(n_clusters=2, affinity='cosine', linkage='complete')\n",
    "labels = agglomerative.fit_predict(reduced_data)"
   ]
  },
  {
   "cell_type": "code",
   "execution_count": 552,
   "metadata": {
    "collapsed": false
   },
   "outputs": [
    {
     "data": {
      "text/plain": [
       "<matplotlib.collections.PathCollection at 0x7f40f837cb00>"
      ]
     },
     "execution_count": 552,
     "metadata": {},
     "output_type": "execute_result"
    },
    {
     "data": {
      "image/png": "[encoded data removed]",
      "text/plain": [
       "<matplotlib.figure.Figure at 0x7f40d3fcc208>"
      ]
     },
     "metadata": {},
     "output_type": "display_data"
    }
   ],
   "source": [
    "plt.scatter(reduced_data[:, 0], reduced_data[:, 1], c=labels)"
   ]
  },
  {
   "cell_type": "markdown",
   "metadata": {},
   "source": [
    "## 3. Predictive Data Mining"
   ]
  },
  {
   "cell_type": "markdown",
   "metadata": {
    "collapsed": true
   },
   "source": [
    "We have to start by extracting the useful rows: the ones with **status** *A* and *B*:"
   ]
  },
  {
   "cell_type": "code",
   "execution_count": 456,
   "metadata": {
    "collapsed": true
   },
   "outputs": [],
   "source": [
    "def select_useful_rows(df):\n",
    "    mask = (df.status == 'A') | (df.status == 'B')\n",
    "    return df[mask]"
   ]
  },
  {
   "cell_type": "code",
   "execution_count": 457,
   "metadata": {
    "collapsed": false
   },
   "outputs": [],
   "source": [
    "dataset_valid_num = select_useful_rows(dataset_valid_num)"
   ]
  },
  {
   "cell_type": "code",
   "execution_count": 469,
   "metadata": {
    "collapsed": false
   },
   "outputs": [
    {
     "name": "stdout",
     "output_type": "stream",
     "text": [
      "(682, 42)\n",
      "(682, 45)\n"
     ]
    }
   ],
   "source": [
    "print(dataset.shape)\n",
    "print(dataset_valid_num.shape)"
   ]
  },
  {
   "cell_type": "code",
   "execution_count": 470,
   "metadata": {
    "collapsed": true
   },
   "outputs": [],
   "source": [
    "features = dataset_valid_num.columns[dataset_valid_num.columns != 'status']\n",
    "label = 'status'\n",
    "target_names = ['A', 'B']"
   ]
  },
  {
   "cell_type": "markdown",
   "metadata": {},
   "source": [
    "### Testing classifiers\n",
    "\n",
    "We'll start off by using a **decision tree** as our first machine learning classifier. It has the benefits of working both with continuous and discrete data types, and provides a very natural way to interpret the results it gives.\n",
    "\n",
    "We'll use stratified k-folds cross-validation to prevent overfitting.\n",
    "\n",
    "The next function implements the procedure of, for a given model, it splits the data into train and test sets, and next performs stratified k-fold cross-validation to select an instance of the model that performs best for the corresponding validation set. It returns the score of the classifier in the testing set, as well as the confusion matrix."
   ]
  },
  {
   "cell_type": "code",
   "execution_count": 418,
   "metadata": {
    "collapsed": false
   },
   "outputs": [],
   "source": [
    "from sklearn.cross_validation import train_test_split\n",
    "from sklearn.cross_validation import StratifiedKFold\n",
    "from sklearn.base import clone as skl_clone\n",
    "from sklearn.metrics import confusion_matrix\n",
    "from sklearn.metrics import classification_report\n",
    "from sklearn.metrics import roc_curve, auc\n",
    "from sklearn.preprocessing import label_binarize\n",
    "\n",
    "def k_fold_model_select(data, features, label, raw_classifiers, n_folds=10, weigh_samples_fn=None): \n",
    "    # weigh_samples_fn is explained below\n",
    "    # assumes that the raw_classifier output is in probability\n",
    "    \n",
    "    # split into training and test data\n",
    "    X_train, X_test, y_train, y_test = train_test_split(data[features].values, \n",
    "                                                        data[label].values,\n",
    "                                                        test_size=0.3,\n",
    "                                                        stratify=data[label],\n",
    "                                                        random_state=0)\n",
    "    \n",
    "    \n",
    "    # use stratified k-fold cross validation to select the model\n",
    "    skf = StratifiedKFold(y_train, n_folds=n_folds)\n",
    "\n",
    "    best_classifier = None\n",
    "    best_score = float('-inf')\n",
    "\n",
    "    for train_index, validation_index in skf:\n",
    "        for raw_classifier in raw_classifiers:\n",
    "            classifier = skl_clone(raw_classifier)\n",
    "            classifier = classifier.fit(X_train[train_index], y_train[train_index])\n",
    "\n",
    "            if weigh_samples_fn != None:\n",
    "                y_pred = classifier.predict(X_train[validation_index])\n",
    "                sample_weight = weigh_samples_fn(y_train[validation_index], y_pred)\n",
    "            else:\n",
    "                sample_weight = None\n",
    "\n",
    "            score = classifier.score(X_train[validation_index], y_train[validation_index],\n",
    "                                     sample_weight=sample_weight)\n",
    "\n",
    "            if score > best_score:\n",
    "                best_classifier = classifier\n",
    "                best_score = score\n",
    "    \n",
    "    # compute the confusion matrix\n",
    "    y_pred = best_classifier.predict(X_test)\n",
    "    conf_mat = confusion_matrix(y_test, y_pred)\n",
    "    \n",
    "    # now compute the score for the test data of the best found classifier\n",
    "    if weigh_samples_fn != None:\n",
    "        sample_weight = weigh_samples_fn(y_test, y_pred)\n",
    "    else:\n",
    "        sample_weight = None\n",
    "    test_score = best_classifier.score(X_test, y_test, sample_weight=sample_weight)\n",
    "    \n",
    "    # obtain the classification report\n",
    "    report = classification_report(y_test, y_pred, target_names=target_names, sample_weight=sample_weight)\n",
    "    \n",
    "    # obtain ROC curve\n",
    "    y_test_bin = label_binarize(y_test, classes=target_names)\n",
    "    y_prob = best_classifier.predict_proba(X_test)\n",
    "    \n",
    "    fpr, tpr, _ = roc_curve(y_test_bin[:, 1], y_prob[:, 1])\n",
    "    roc_info = (best_classifier.__class__.__name__, (fpr, tpr))\n",
    "    \n",
    "    return (test_score, report, conf_mat, roc_info, best_classifier)"
   ]
  },
  {
   "cell_type": "code",
   "execution_count": 419,
   "metadata": {
    "collapsed": true
   },
   "outputs": [],
   "source": [
    "from matplotlib.font_manager import FontProperties\n",
    "\n",
    "def plot_roc_curves(roc_curves):\n",
    "    for name, (fpr, tpr) in roc_curves:\n",
    "        roc_auc = auc(fpr, tpr)\n",
    "        plt.plot(fpr, tpr, lw=1, label='ROC for {} (area = {:0.2f})'.format(name, roc_auc))\n",
    "        \n",
    "    fontP = FontProperties()\n",
    "    fontP.set_size('small')\n",
    "    \n",
    "    plt.legend(prop=fontP, bbox_to_anchor=(2.1, 1.05))\n",
    "    plt.plot([0, 1], [0, 1], '--', color=(0.6, 0.6, 0.6), label='Luck')"
   ]
  },
  {
   "cell_type": "markdown",
   "metadata": {},
   "source": [
    "Before proceding any further, we have to define how the accuracy is measured given this business situation; we have to measure them according to the way we are predicting it in comparison to the ground truth, *i.e.*, according to the position in the confusion matrix.\n",
    "\n",
    "As such, we will use the following weights:\n",
    " * **True Positives:** 1\n",
    " * **False Negatives:** 2\n",
    " * **False Positives:** 1\n",
    " * **True Negatives:** 1\n",
    " \n",
    "This is because we really want to prevent the cases where we label a user as not trustable, when in fact he is trustable, as he most likely will switch bank and kill all the future accumulated profits.\n",
    "\n",
    "This weight is then multiplied by the inverse frequency of a given label in the samples, in order to weigh samples independently from the fact that the label counts are disparate."
   ]
  },
  {
   "cell_type": "code",
   "execution_count": 420,
   "metadata": {
    "collapsed": false
   },
   "outputs": [],
   "source": [
    "def weigh_samples(y_true, y_pred):\n",
    "    weights = []\n",
    "    a_len = len(y_true[y_true == 'A'])\n",
    "    b_len = len(y_true[y_true == 'B'])\n",
    "    for s_true, s_pred in zip(y_true, y_pred):\n",
    "        if s_true == 'A':\n",
    "            if s_pred == 'B':\n",
    "                weights.append(2 / a_len)\n",
    "            else:\n",
    "                weights.append(1 / a_len)\n",
    "        else:\n",
    "            weights.append(1 / b_len)\n",
    "    return weights"
   ]
  },
  {
   "cell_type": "code",
   "execution_count": 421,
   "metadata": {
    "collapsed": false
   },
   "outputs": [],
   "source": [
    "from sklearn import tree\n",
    "from sklearn.tree import DecisionTreeClassifier\n",
    "\n",
    "dtc = DecisionTreeClassifier(min_samples_split=20, random_state=0, class_weight='balanced')\n",
    "dtc_score, dtc_rep, dtc_cm, dtc_roc, dtc_clf = k_fold_model_select(dataset_valid_num, features, label, [dtc], weigh_samples_fn=weigh_samples)"
   ]
  },
  {
   "cell_type": "code",
   "execution_count": 422,
   "metadata": {
    "collapsed": false
   },
   "outputs": [],
   "source": [
    "from sklearn.externals.six import StringIO\n",
    "import pydot_ng as pydot\n",
    "from IPython.display import Image\n",
    "\n",
    "def display_tree(dtc_classifier):\n",
    "    dot_data = StringIO()  \n",
    "    tree.export_graphviz(dtc_classifier, out_file=dot_data,  \n",
    "                         feature_names=features_mask,\n",
    "                         class_names=target_names,\n",
    "                         filled=True,\n",
    "                         rounded=True,\n",
    "                         special_characters=True)\n",
    "    graph = pydot.graph_from_dot_data(dot_data.getvalue())  \n",
    "    return Image(graph.create_png())"
   ]
  },
  {
   "cell_type": "code",
   "execution_count": 423,
   "metadata": {
    "collapsed": false
   },
   "outputs": [
    {
     "data": {
      "image/png": "[encoded data removed]",
      "text/plain": [
       "<IPython.core.display.Image object>"
      ]
     },
     "execution_count": 423,
     "metadata": {},
     "output_type": "execute_result"
    }
   ],
   "source": [
    "display_tree(dtc_clf)"
   ]
  },
  {
   "cell_type": "markdown",
   "metadata": {},
   "source": [
    "Let's analyse more deeply these results. For that, we'll use the obtained score in predicting the test set and the confusion matrix:"
   ]
  },
  {
   "cell_type": "code",
   "execution_count": 424,
   "metadata": {
    "collapsed": false
   },
   "outputs": [],
   "source": [
    "def plot_confusion_matrix(cm, title='Confusion matrix', cmap=plt.cm.Blues):\n",
    "    plt.imshow(cm, interpolation='nearest', cmap=cmap)\n",
    "    plt.title(title)\n",
    "    plt.colorbar()\n",
    "    tick_marks = np.arange(len(target_names))\n",
    "    plt.xticks(tick_marks, target_names, rotation=45)\n",
    "    plt.yticks(tick_marks, target_names)\n",
    "    plt.tight_layout()\n",
    "    plt.ylabel('True label')\n",
    "    plt.xlabel('Predicted label')"
   ]
  },
  {
   "cell_type": "code",
   "execution_count": 425,
   "metadata": {
    "collapsed": true
   },
   "outputs": [],
   "source": [
    "def normalize_confusion_matrix(cm):\n",
    "    # Normalize the confusion matrix by row (i.e by the number of samples\n",
    "    # in each class)\n",
    "    cm_normalized = cm.astype('float') / cm.sum(axis=1)[:, np.newaxis]\n",
    "    return cm_normalized"
   ]
  },
  {
   "cell_type": "code",
   "execution_count": 426,
   "metadata": {
    "collapsed": false
   },
   "outputs": [
    {
     "name": "stdout",
     "output_type": "stream",
     "text": [
      "Score for best Decision Tree Classifier: 0.629129129129\n",
      "Confusion matrix:\n",
      "[[38 24]\n",
      " [ 1  8]]\n",
      "Classification report:\n",
      "             precision    recall  f1-score   support\n",
      "\n",
      "          A       0.85      0.44      0.58 1.3870967741935474\n",
      "          B       0.53      0.89      0.67 1.0000000000000002\n",
      "\n",
      "avg / total       0.72      0.63      0.62 2.3870967741935476\n",
      "\n"
     ]
    },
    {
     "data": {
      "image/png": "[encoded data removed]",
      "text/plain": [
       "<matplotlib.figure.Figure at 0x7f40d21d54e0>"
      ]
     },
     "metadata": {},
     "output_type": "display_data"
    }
   ],
   "source": [
    "print(\"Score for best Decision Tree Classifier:\", dtc_score)\n",
    "print(\"Confusion matrix:\", dtc_cm, sep='\\n')\n",
    "print(\"Classification report:\", dtc_rep, sep='\\n')\n",
    "\n",
    "plot_confusion_matrix(normalize_confusion_matrix(dtc_cm))"
   ]
  },
  {
   "cell_type": "markdown",
   "metadata": {},
   "source": [
    "Things seem prety good: we have a good accuracy, and the plotted confusion matrix shows high percentage of results in the main diagonal!\n",
    "\n",
    "Nonetheless, there are two factors we have to take into account: \n",
    " * As stated before, we have very few examples with label **B** (unsuccessful loans), and those events, despite unusual, are very costly. Therefore we need to give them higher relevance.\n",
    " * Trustworthy users that are labeled as trustless ones will most likely swithch to a different bank, negating all the future accumulated revenue. As shown by the confusion matrix, one of the users suffers from exactly this fenomena, therefore we must pay attention to that fact.\n",
    "\n",
    "Because of this, we must be pragmatic about these results and perform some changes.\n",
    "\n",
    "In order to gain more insight, we'll continue by testing other classifiers. \n",
    "\n",
    "Where applicable, we'll also set the weights given to each label to be **balanced**: this way the classifiers take into account the frequency of each class and automatically adjust their behavior."
   ]
  },
  {
   "cell_type": "code",
   "execution_count": 427,
   "metadata": {
    "collapsed": false
   },
   "outputs": [
    {
     "name": "stdout",
     "output_type": "stream",
     "text": [
      "Score: 0.629129129129\n",
      "Confusion matrix:\n",
      "[[38 24]\n",
      " [ 1  8]]\n",
      "Classification report:\n",
      "             precision    recall  f1-score   support\n",
      "\n",
      "          A       0.85      0.44      0.58 1.3870967741935474\n",
      "          B       0.53      0.89      0.67 1.0000000000000002\n",
      "\n",
      "avg / total       0.72      0.63      0.62 2.3870967741935476\n",
      "\n"
     ]
    }
   ],
   "source": [
    "# Decision Tree Classifier\n",
    "dt = DecisionTreeClassifier(min_samples_split=20, random_state=0, class_weight='balanced')\n",
    "dt_score, dt_rep, dt_cm, dt_roc, dt_clf = k_fold_model_select(dataset_valid_num, features, label, [dt], weigh_samples_fn=weigh_samples)\n",
    "\n",
    "print(\"Score:\", dt_score)\n",
    "print(\"Confusion matrix:\", dt_cm, sep='\\n')\n",
    "print(\"Classification report:\", dt_rep, sep='\\n')"
   ]
  },
  {
   "cell_type": "code",
   "execution_count": 428,
   "metadata": {
    "collapsed": false
   },
   "outputs": [
    {
     "name": "stdout",
     "output_type": "stream",
     "text": [
      "Score: 0.486810551559\n",
      "Confusion matrix:\n",
      "[[47 15]\n",
      " [ 6  3]]\n",
      "Classification report:\n",
      "             precision    recall  f1-score   support\n",
      "\n",
      "          A       0.53      0.61      0.57 1.2419354838709669\n",
      "          B       0.41      0.33      0.37 1.0000000000000002\n",
      "\n",
      "avg / total       0.48      0.49      0.48 2.241935483870967\n",
      "\n"
     ]
    }
   ],
   "source": [
    "# Linear Classifier (Logistic Regression)\n",
    "from sklearn.linear_model import LogisticRegression\n",
    "\n",
    "lr = LogisticRegression(class_weight='balanced')\n",
    "lr_score, lr_rep, lr_cm, lr_roc, lr_clf = k_fold_model_select(dataset_valid_num, features, label, [lr], weigh_samples_fn=weigh_samples)\n",
    "\n",
    "print(\"Score:\", lr_score)\n",
    "print(\"Confusion matrix:\", lr_cm, sep='\\n')\n",
    "print(\"Classification report:\", lr_rep, sep='\\n')"
   ]
  },
  {
   "cell_type": "code",
   "execution_count": 429,
   "metadata": {
    "collapsed": false
   },
   "outputs": [
    {
     "name": "stdout",
     "output_type": "stream",
     "text": [
      "Score: 0.530864197531\n",
      "Confusion matrix:\n",
      "[[60  2]\n",
      " [ 8  1]]\n",
      "Classification report:\n",
      "             precision    recall  f1-score   support\n",
      "\n",
      "          A       0.52      0.94      0.67 1.0322580645161283\n",
      "          B       0.63      0.11      0.19 1.0000000000000002\n",
      "\n",
      "avg / total       0.58      0.53      0.43 2.0322580645161286\n",
      "\n"
     ]
    }
   ],
   "source": [
    "# Nearest Neighbors Classifier\n",
    "from sklearn.neighbors import KNeighborsClassifier\n",
    "\n",
    "knn = KNeighborsClassifier(weights='distance')\n",
    "knn_score, knn_rep, knn_cm, knn_roc, knn_clf = k_fold_model_select(dataset_valid_num, features, label, [knn], weigh_samples_fn=weigh_samples)\n",
    "\n",
    "print(\"Score:\", knn_score)\n",
    "print(\"Confusion matrix:\", knn_cm, sep='\\n')\n",
    "print(\"Classification report:\", knn_rep, sep='\\n')"
   ]
  },
  {
   "cell_type": "code",
   "execution_count": 430,
   "metadata": {
    "collapsed": false
   },
   "outputs": [
    {
     "name": "stdout",
     "output_type": "stream",
     "text": [
      "Score: 0.555555555556\n",
      "Confusion matrix:\n",
      "[[62  0]\n",
      " [ 8  1]]\n",
      "Classification report:\n",
      "             precision    recall  f1-score   support\n",
      "\n",
      "          A       0.53      1.00      0.69 0.9999999999999992\n",
      "          B       1.00      0.11      0.20 1.0000000000000002\n",
      "\n",
      "avg / total       0.76      0.56      0.45 1.9999999999999996\n",
      "\n"
     ]
    }
   ],
   "source": [
    "# (Gaussian Naive Bayes)\n",
    "from sklearn.naive_bayes import GaussianNB\n",
    "\n",
    "nb = GaussianNB()\n",
    "nb_score, nb_rep, nb_cm, nb_roc, nb_clf = k_fold_model_select(dataset_valid_num, features, label, [nb], weigh_samples_fn=weigh_samples)\n",
    "\n",
    "print(\"Score:\", nb_score)\n",
    "print(\"Confusion matrix:\", nb_cm, sep='\\n')\n",
    "print(\"Classification report:\", nb_rep, sep='\\n')"
   ]
  },
  {
   "cell_type": "code",
   "execution_count": 431,
   "metadata": {
    "collapsed": false
   },
   "outputs": [
    {
     "name": "stdout",
     "output_type": "stream",
     "text": [
      "Score: 0.5\n",
      "Confusion matrix:\n",
      "[[62  0]\n",
      " [ 9  0]]\n",
      "Classification report:\n",
      "             precision    recall  f1-score   support\n",
      "\n",
      "          A       0.50      1.00      0.67 0.9999999999999992\n",
      "          B       0.00      0.00      0.00 1.0000000000000002\n",
      "\n",
      "avg / total       0.25      0.50      0.33 1.9999999999999996\n",
      "\n"
     ]
    },
    {
     "name": "stderr",
     "output_type": "stream",
     "text": [
      "/home/diogo/bin/anaconda3/lib/python3.4/site-packages/sklearn/metrics/classification.py:1074: UndefinedMetricWarning: Precision and F-score are ill-defined and being set to 0.0 in labels with no predicted samples.\n",
      "  'precision', 'predicted', average, warn_for)\n"
     ]
    }
   ],
   "source": [
    "# Neural Network (Multi-Layer Perceptron)\n",
    "from sknn.mlp import Classifier as MLPClassifier\n",
    "from sknn.mlp import Layer as MLPLayer\n",
    "from sklearn.preprocessing import MinMaxScaler\n",
    "from sklearn.pipeline import Pipeline\n",
    "\n",
    "# use a pipeline that first normalizes the data\n",
    "\n",
    "nn = MLPClassifier(\n",
    "    layers=[\n",
    "        MLPLayer(\"Maxout\", units=30, pieces=2),\n",
    "        MLPLayer(\"Softmax\")],\n",
    "    learning_rate=0.000000001,\n",
    "    n_iter=25)\n",
    "\n",
    "pipeline = Pipeline([\n",
    "        ('min/max scaler', MinMaxScaler(feature_range=(0.0, 1.0))),\n",
    "        ('neural network', nn)])\n",
    "\n",
    "nn_score, nn_rep, nn_cm, nn_roc, nn_clf = k_fold_model_select(dataset_valid_num, features, label, [nn], \n",
    "                                                      weigh_samples_fn=weigh_samples)\n",
    "\n",
    "print(\"Score:\", nn_score)\n",
    "print(\"Confusion matrix:\", nn_cm, sep='\\n')\n",
    "print(\"Classification report:\", nn_rep, sep='\\n')"
   ]
  },
  {
   "cell_type": "markdown",
   "metadata": {},
   "source": [
    "We'll test SVC with different kernels."
   ]
  },
  {
   "cell_type": "code",
   "execution_count": 432,
   "metadata": {
    "collapsed": false
   },
   "outputs": [],
   "source": [
    "# SVC (linear kernel)\n",
    "from sklearn.svm import SVC\n",
    "\n",
    "#svc_linear = SVC(kernel='linear')\n",
    "#svc_linear_score, svc_linear_rep, svc_linear_cm, svc_linear_roc, svc_linear_clf = k_fold_model_select(dataset_valid_num, features, label, [svc_linear],\n",
    "#                                                                        n_folds=2, weigh_samples_fn=weigh_samples)\n",
    "\n",
    "#print(\"Score:\", svc_linear_score)\n",
    "#print(\"Confusion matrix:\", svc_linear_cm, sep='\\n')\n",
    "#print(\"Classification report:\", svc_linear_rep, sep='\\n')"
   ]
  },
  {
   "cell_type": "code",
   "execution_count": 433,
   "metadata": {
    "collapsed": true
   },
   "outputs": [],
   "source": [
    "# SVC (sigmoid kernel)\n",
    "from sklearn.svm import SVC\n",
    "\n",
    "#svc_sigmoid = SVC(kernel='linear')\n",
    "#svc_sigmoid_score, svc_sigmoid_rep, svc_sigmoid_cm, svc_sigmoid_roc, svc_sigmoid_clf = k_fold_model_select(dataset_valid_num, features, label, [svc_sigmoid],\n",
    "#                                                                        n_folds=2, weigh_samples_fn=weigh_samples)\n",
    "\n",
    "#print(\"Score:\", svc_sigmoid_score)\n",
    "#print(\"Confusion matrix:\", svc_sigmoid_cm, sep='\\n')\n",
    "#print(\"Classification report:\", svc_sigmoid_rep, sep='\\n')"
   ]
  },
  {
   "cell_type": "code",
   "execution_count": 434,
   "metadata": {
    "collapsed": true
   },
   "outputs": [],
   "source": [
    "# SVC (radial basis function kernel)\n",
    "from sklearn.svm import SVC\n",
    "\n",
    "#svc_rbf = SVC(kernel='rbf')\n",
    "#svc_rbf_score, svc_rbf_rep, svc_rbf_cm, svc_rbf_roc, svc_rbf_clf = k_fold_model_select(dataset_valid_num, features, label, [svc_rbf],\n",
    "#                                                                        n_folds=2, weigh_samples_fn=weigh_samples)\n",
    "\n",
    "#print(\"Score:\", svc_rbf_score)\n",
    "#print(\"Confusion matrix:\", svc_sigmoid_cm, sep='\\n')\n",
    "#print(\"Classification report:\", svc_sigmoid_rep, sep='\\n')"
   ]
  },
  {
   "cell_type": "markdown",
   "metadata": {},
   "source": [
    "Now we'll test some ensamble methods:\n",
    "\n",
    "Starting by **AdaBoost**, this algorithm enables to, in each of its iterations, specialize a base classifier for the instances incorrectly classified in the previous iterations. We'll use as base classifier the Decision Tree Classifier, as it is very volatile to the data in which it is trained."
   ]
  },
  {
   "cell_type": "code",
   "execution_count": 435,
   "metadata": {
    "collapsed": false
   },
   "outputs": [
    {
     "name": "stdout",
     "output_type": "stream",
     "text": [
      "Score: 0.585537918871\n",
      "Confusion matrix:\n",
      "[[60  2]\n",
      " [ 7  2]]\n",
      "Classification report:\n",
      "             precision    recall  f1-score   support\n",
      "\n",
      "          A       0.55      0.94      0.70 1.0322580645161283\n",
      "          B       0.78      0.22      0.35 1.0000000000000002\n",
      "\n",
      "avg / total       0.66      0.59      0.52 2.0322580645161286\n",
      "\n"
     ]
    }
   ],
   "source": [
    "# AdaBoost Classifier\n",
    "from sklearn.ensemble import AdaBoostClassifier\n",
    "\n",
    "ab = AdaBoostClassifier(base_estimator=dt)\n",
    "ab_score, ab_rep, ab_cm, ab_roc, ab_clf = k_fold_model_select(dataset_valid_num, features, label, [ab], weigh_samples_fn=weigh_samples)\n",
    "\n",
    "print(\"Score:\", ab_score)\n",
    "print(\"Confusion matrix:\", ab_cm, sep='\\n')\n",
    "print(\"Classification report:\", ab_rep, sep='\\n')"
   ]
  },
  {
   "cell_type": "code",
   "execution_count": 436,
   "metadata": {
    "collapsed": false
   },
   "outputs": [
    {
     "name": "stdout",
     "output_type": "stream",
     "text": [
      "Score: 0.722222222222\n",
      "Confusion matrix:\n",
      "[[62  0]\n",
      " [ 5  4]]\n",
      "Classification report:\n",
      "             precision    recall  f1-score   support\n",
      "\n",
      "          A       0.64      1.00      0.78 0.9999999999999992\n",
      "          B       1.00      0.44      0.62 1.0000000000000002\n",
      "\n",
      "avg / total       0.82      0.72      0.70 1.9999999999999996\n",
      "\n"
     ]
    }
   ],
   "source": [
    "# Random Forest\n",
    "from sklearn.ensemble import RandomForestClassifier\n",
    "\n",
    "rf = RandomForestClassifier(random_state=0)\n",
    "rf_score, rf_rep, rf_cm, rf_roc, rf_clf = k_fold_model_select(dataset_valid_num, features, label, [rf], weigh_samples_fn=weigh_samples)\n",
    "\n",
    "print(\"Score:\", rf_score)\n",
    "print(\"Confusion matrix:\", rf_cm, sep='\\n')\n",
    "print(\"Classification report:\", rf_rep, sep='\\n')"
   ]
  },
  {
   "cell_type": "code",
   "execution_count": 437,
   "metadata": {
    "collapsed": false
   },
   "outputs": [
    {
     "name": "stdout",
     "output_type": "stream",
     "text": [
      "Score: 0.585537918871\n",
      "Confusion matrix:\n",
      "[[60  2]\n",
      " [ 7  2]]\n",
      "Classification report:\n",
      "             precision    recall  f1-score   support\n",
      "\n",
      "          A       0.55      0.94      0.70 1.0322580645161283\n",
      "          B       0.78      0.22      0.35 1.0000000000000002\n",
      "\n",
      "avg / total       0.66      0.59      0.52 2.0322580645161286\n",
      "\n"
     ]
    }
   ],
   "source": [
    "# Voting classifier\n",
    "from sklearn.ensemble import VotingClassifier\n",
    "\n",
    "vc = VotingClassifier(estimators=[('dt', dt_clf),\n",
    "                                  ('lr', lr_clf),\n",
    "                                  ('knn', knn_clf),\n",
    "                                  ('nb', nb_clf),\n",
    "                                  ('ab', ab_clf),\n",
    "                                  ('rf', rf_clf)],\n",
    "                      voting='soft',\n",
    "                      weights=[dt_score, lr_score, knn_score, nb_score, ab_score, rf_score])\n",
    "vc_score, vc_rep, vc_cm, vc_roc, vc_clf = k_fold_model_select(dataset_valid_num, features, label, [vc], weigh_samples_fn=weigh_samples)\n",
    "\n",
    "print(\"Score:\", vc_score)\n",
    "print(\"Confusion matrix:\", vc_cm, sep='\\n')\n",
    "print(\"Classification report:\", vc_rep, sep='\\n')"
   ]
  },
  {
   "cell_type": "code",
   "execution_count": 438,
   "metadata": {
    "collapsed": false
   },
   "outputs": [
    {
     "data": {
      "image/png": "[encoded data removed]",
      "text/plain": [
       "<matplotlib.figure.Figure at 0x7f40f4ceea90>"
      ]
     },
     "metadata": {},
     "output_type": "display_data"
    }
   ],
   "source": [
    "roc_curves = [dt_roc, lr_roc, knn_roc, nb_roc, ab_roc, vc_roc]\n",
    "\n",
    "plot_roc_curves(roc_curves)"
   ]
  },
  {
   "cell_type": "markdown",
   "metadata": {},
   "source": [
    "## Select best fit algorithm"
   ]
  },
  {
   "cell_type": "code",
   "execution_count": null,
   "metadata": {
    "collapsed": true
   },
   "outputs": [],
   "source": []
  }
 ],
 "metadata": {
  "kernelspec": {
   "display_name": "Python 3",
   "language": "python",
   "name": "python3"
  },
  "language_info": {
   "codemirror_mode": {
    "name": "ipython",
    "version": 3
   },
   "file_extension": ".py",
   "mimetype": "text/x-python",
   "name": "python",
   "nbconvert_exporter": "python",
   "pygments_lexer": "ipython3",
   "version": "3.4.3"
  }
 },
 "nbformat": 4,
 "nbformat_minor": 0
}
