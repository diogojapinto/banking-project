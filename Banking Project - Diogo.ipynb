{
 "cells": [
  {
   "cell_type": "markdown",
   "metadata": {},
   "source": [
    "# Banking Project\n",
    "\n",
    "***\n",
    "\n",
    ">The bank wants to improve their services. For instance, the bank managers have only vague idea, who is a good client (whom to offer some additional services) and who is a bad client (whom to watch carefully to minimize the bank loses). Fortunately, the bank stores data about their clients, the accounts (transactions within several months), the loans already granted, the credit cards issued. The bank managers hope to improve their understanding of customers and seek specific actions to improve services. A mere application of a discovery tool will not be convincing for them.  \n",
    "\n",
    ">To test a data mining approach to help the bank managers, it was decided to address two problems, a descriptive and a predictive one. While the descriptive problem was left open, the predictive problem is the prediction of whether a loan will end successfuly.\n",
    "\n",
    "> _ - in Banking Case Description, ECAC Moodle Page_\n",
    "\n",
    "***\n",
    "\n",
    "[Kaggle Challenge Page](https://www.kaggle.com/)\n",
    "\n",
    "The steps performed are as follows:\n",
    "* Data Loading and Preparation\n",
    "* Descriptive Data Mining & Feature Engineering\n",
    "* Predictive Data Mining"
   ]
  },
  {
   "cell_type": "markdown",
   "metadata": {},
   "source": [
    "## Tools\n",
    "\n",
    "For this work we will use the common tools in a data scientist and engineer arsenal. All of them work together in a seamless fashion, as well as with the Jupyter Notebook (this enhanced interactive document).\n",
    "\n",
    "* **Numpy** is the fundamental package for scientific computing with Python\n",
    "* **Pandas** provides high-performance, easy-to-use data structures (_e.g._ data frames) and data analysis tools\n",
    "* **Matplotlib** implements plotting functionality\n",
    "* **Scikit Learn** aggregates advanced machine learning tools"
   ]
  },
  {
   "cell_type": "code",
   "execution_count": 1,
   "metadata": {
    "collapsed": false
   },
   "outputs": [],
   "source": [
    "import numpy as np\n",
    "import pandas as pd\n",
    "from matplotlib import pyplot as plt\n",
    "import sklearn\n",
    "\n",
    "plt.style.use('ggplot')\n",
    "%matplotlib inline"
   ]
  },
  {
   "cell_type": "markdown",
   "metadata": {},
   "source": [
    "## 1. Data Loading and Preparation\n",
    "\n",
    "A key initial step in every data mining work is to prepare the data. This reduces the occurence of future unexpected behaviors and gives a preliminary insight over the \"raw\" data."
   ]
  },
  {
   "cell_type": "markdown",
   "metadata": {},
   "source": [
    "The **transactions** records describe transactions on accounts, representing dynamic characteristics of the accounts."
   ]
  },
  {
   "cell_type": "code",
   "execution_count": 2,
   "metadata": {
    "collapsed": false
   },
   "outputs": [],
   "source": [
    "transactions_df = pd.read_csv('./data/banking - transaction.csv', \n",
    "                              sep=';',\n",
    "                              parse_dates=['date'],\n",
    "                              infer_datetime_format=True,\n",
    "                              dtype={'bank':np.str},\n",
    "                              index_col='trans_id')"
   ]
  },
  {
   "cell_type": "code",
   "execution_count": 3,
   "metadata": {
    "collapsed": false
   },
   "outputs": [
    {
     "data": {
      "text/html": [
       "<div>\n",
       "<table border=\"1\" class=\"dataframe\">\n",
       "  <thead>\n",
       "    <tr style=\"text-align: right;\">\n",
       "      <th></th>\n",
       "      <th>account_id</th>\n",
       "      <th>date</th>\n",
       "      <th>type</th>\n",
       "      <th>operation</th>\n",
       "      <th>amount</th>\n",
       "      <th>balance</th>\n",
       "      <th>k_symbol</th>\n",
       "      <th>bank</th>\n",
       "      <th>account</th>\n",
       "    </tr>\n",
       "    <tr>\n",
       "      <th>trans_id</th>\n",
       "      <th></th>\n",
       "      <th></th>\n",
       "      <th></th>\n",
       "      <th></th>\n",
       "      <th></th>\n",
       "      <th></th>\n",
       "      <th></th>\n",
       "      <th></th>\n",
       "      <th></th>\n",
       "    </tr>\n",
       "  </thead>\n",
       "  <tbody>\n",
       "    <tr>\n",
       "      <th>695247</th>\n",
       "      <td>2378</td>\n",
       "      <td>1993-01-01</td>\n",
       "      <td>credit</td>\n",
       "      <td>credit in cash</td>\n",
       "      <td>700</td>\n",
       "      <td>700</td>\n",
       "      <td>NaN</td>\n",
       "      <td>NaN</td>\n",
       "      <td>NaN</td>\n",
       "    </tr>\n",
       "    <tr>\n",
       "      <th>171812</th>\n",
       "      <td>576</td>\n",
       "      <td>1993-01-01</td>\n",
       "      <td>credit</td>\n",
       "      <td>credit in cash</td>\n",
       "      <td>900</td>\n",
       "      <td>900</td>\n",
       "      <td>NaN</td>\n",
       "      <td>NaN</td>\n",
       "      <td>NaN</td>\n",
       "    </tr>\n",
       "    <tr>\n",
       "      <th>207264</th>\n",
       "      <td>704</td>\n",
       "      <td>1993-01-01</td>\n",
       "      <td>credit</td>\n",
       "      <td>credit in cash</td>\n",
       "      <td>1000</td>\n",
       "      <td>1000</td>\n",
       "      <td>NaN</td>\n",
       "      <td>NaN</td>\n",
       "      <td>NaN</td>\n",
       "    </tr>\n",
       "    <tr>\n",
       "      <th>1117247</th>\n",
       "      <td>3818</td>\n",
       "      <td>1993-01-01</td>\n",
       "      <td>credit</td>\n",
       "      <td>credit in cash</td>\n",
       "      <td>600</td>\n",
       "      <td>600</td>\n",
       "      <td>NaN</td>\n",
       "      <td>NaN</td>\n",
       "      <td>NaN</td>\n",
       "    </tr>\n",
       "    <tr>\n",
       "      <th>579373</th>\n",
       "      <td>1972</td>\n",
       "      <td>1993-01-02</td>\n",
       "      <td>credit</td>\n",
       "      <td>credit in cash</td>\n",
       "      <td>400</td>\n",
       "      <td>400</td>\n",
       "      <td>NaN</td>\n",
       "      <td>NaN</td>\n",
       "      <td>NaN</td>\n",
       "    </tr>\n",
       "  </tbody>\n",
       "</table>\n",
       "</div>"
      ],
      "text/plain": [
       "          account_id       date    type       operation  amount  balance  \\\n",
       "trans_id                                                                   \n",
       "695247          2378 1993-01-01  credit  credit in cash     700      700   \n",
       "171812           576 1993-01-01  credit  credit in cash     900      900   \n",
       "207264           704 1993-01-01  credit  credit in cash    1000     1000   \n",
       "1117247         3818 1993-01-01  credit  credit in cash     600      600   \n",
       "579373          1972 1993-01-02  credit  credit in cash     400      400   \n",
       "\n",
       "         k_symbol bank  account  \n",
       "trans_id                         \n",
       "695247        NaN  NaN      NaN  \n",
       "171812        NaN  NaN      NaN  \n",
       "207264        NaN  NaN      NaN  \n",
       "1117247       NaN  NaN      NaN  \n",
       "579373        NaN  NaN      NaN  "
      ]
     },
     "execution_count": 3,
     "metadata": {},
     "output_type": "execute_result"
    }
   ],
   "source": [
    "transactions_df.head()"
   ]
  },
  {
   "cell_type": "markdown",
   "metadata": {},
   "source": [
    "**k_symbol** name is not very represent representative."
   ]
  },
  {
   "cell_type": "code",
   "execution_count": 4,
   "metadata": {
    "collapsed": true
   },
   "outputs": [],
   "source": [
    "transactions_df = transactions_df.rename(columns={\n",
    "    'k_symbol': 'trans_char'\n",
    "    })"
   ]
  },
  {
   "cell_type": "code",
   "execution_count": 5,
   "metadata": {
    "collapsed": false
   },
   "outputs": [
    {
     "data": {
      "text/html": [
       "<div>\n",
       "<table border=\"1\" class=\"dataframe\">\n",
       "  <thead>\n",
       "    <tr style=\"text-align: right;\">\n",
       "      <th></th>\n",
       "      <th>account_id</th>\n",
       "      <th>date</th>\n",
       "      <th>type</th>\n",
       "      <th>operation</th>\n",
       "      <th>amount</th>\n",
       "      <th>balance</th>\n",
       "      <th>trans_char</th>\n",
       "      <th>bank</th>\n",
       "      <th>account</th>\n",
       "    </tr>\n",
       "    <tr>\n",
       "      <th>trans_id</th>\n",
       "      <th></th>\n",
       "      <th></th>\n",
       "      <th></th>\n",
       "      <th></th>\n",
       "      <th></th>\n",
       "      <th></th>\n",
       "      <th></th>\n",
       "      <th></th>\n",
       "      <th></th>\n",
       "    </tr>\n",
       "  </thead>\n",
       "  <tbody>\n",
       "    <tr>\n",
       "      <th>695247</th>\n",
       "      <td>2378</td>\n",
       "      <td>1993-01-01</td>\n",
       "      <td>credit</td>\n",
       "      <td>credit in cash</td>\n",
       "      <td>700</td>\n",
       "      <td>700</td>\n",
       "      <td>NaN</td>\n",
       "      <td>NaN</td>\n",
       "      <td>NaN</td>\n",
       "    </tr>\n",
       "    <tr>\n",
       "      <th>171812</th>\n",
       "      <td>576</td>\n",
       "      <td>1993-01-01</td>\n",
       "      <td>credit</td>\n",
       "      <td>credit in cash</td>\n",
       "      <td>900</td>\n",
       "      <td>900</td>\n",
       "      <td>NaN</td>\n",
       "      <td>NaN</td>\n",
       "      <td>NaN</td>\n",
       "    </tr>\n",
       "    <tr>\n",
       "      <th>207264</th>\n",
       "      <td>704</td>\n",
       "      <td>1993-01-01</td>\n",
       "      <td>credit</td>\n",
       "      <td>credit in cash</td>\n",
       "      <td>1000</td>\n",
       "      <td>1000</td>\n",
       "      <td>NaN</td>\n",
       "      <td>NaN</td>\n",
       "      <td>NaN</td>\n",
       "    </tr>\n",
       "    <tr>\n",
       "      <th>1117247</th>\n",
       "      <td>3818</td>\n",
       "      <td>1993-01-01</td>\n",
       "      <td>credit</td>\n",
       "      <td>credit in cash</td>\n",
       "      <td>600</td>\n",
       "      <td>600</td>\n",
       "      <td>NaN</td>\n",
       "      <td>NaN</td>\n",
       "      <td>NaN</td>\n",
       "    </tr>\n",
       "    <tr>\n",
       "      <th>579373</th>\n",
       "      <td>1972</td>\n",
       "      <td>1993-01-02</td>\n",
       "      <td>credit</td>\n",
       "      <td>credit in cash</td>\n",
       "      <td>400</td>\n",
       "      <td>400</td>\n",
       "      <td>NaN</td>\n",
       "      <td>NaN</td>\n",
       "      <td>NaN</td>\n",
       "    </tr>\n",
       "  </tbody>\n",
       "</table>\n",
       "</div>"
      ],
      "text/plain": [
       "          account_id       date    type       operation  amount  balance  \\\n",
       "trans_id                                                                   \n",
       "695247          2378 1993-01-01  credit  credit in cash     700      700   \n",
       "171812           576 1993-01-01  credit  credit in cash     900      900   \n",
       "207264           704 1993-01-01  credit  credit in cash    1000     1000   \n",
       "1117247         3818 1993-01-01  credit  credit in cash     600      600   \n",
       "579373          1972 1993-01-02  credit  credit in cash     400      400   \n",
       "\n",
       "         trans_char bank  account  \n",
       "trans_id                           \n",
       "695247          NaN  NaN      NaN  \n",
       "171812          NaN  NaN      NaN  \n",
       "207264          NaN  NaN      NaN  \n",
       "1117247         NaN  NaN      NaN  \n",
       "579373          NaN  NaN      NaN  "
      ]
     },
     "execution_count": 5,
     "metadata": {},
     "output_type": "execute_result"
    }
   ],
   "source": [
    "transactions_df.head()"
   ]
  },
  {
   "cell_type": "markdown",
   "metadata": {},
   "source": [
    "The **accounts** records contain static characteristics of the accounts."
   ]
  },
  {
   "cell_type": "code",
   "execution_count": 6,
   "metadata": {
    "collapsed": false
   },
   "outputs": [],
   "source": [
    "accounts_df = pd.read_excel('./data/banking.xlsx', \n",
    "                            sheetname='account',\n",
    "                            parse_dates=['date'],\n",
    "                            infer_datetime_format=True,\n",
    "                            index_col='account_id'\n",
    "                           )"
   ]
  },
  {
   "cell_type": "code",
   "execution_count": 7,
   "metadata": {
    "collapsed": false
   },
   "outputs": [
    {
     "data": {
      "text/html": [
       "<div>\n",
       "<table border=\"1\" class=\"dataframe\">\n",
       "  <thead>\n",
       "    <tr style=\"text-align: right;\">\n",
       "      <th></th>\n",
       "      <th>district_id</th>\n",
       "      <th>frequency</th>\n",
       "      <th>date</th>\n",
       "    </tr>\n",
       "    <tr>\n",
       "      <th>account_id</th>\n",
       "      <th></th>\n",
       "      <th></th>\n",
       "      <th></th>\n",
       "    </tr>\n",
       "  </thead>\n",
       "  <tbody>\n",
       "    <tr>\n",
       "      <th>576</th>\n",
       "      <td>55</td>\n",
       "      <td>monthly issuance</td>\n",
       "      <td>1993-01-01</td>\n",
       "    </tr>\n",
       "    <tr>\n",
       "      <th>3818</th>\n",
       "      <td>74</td>\n",
       "      <td>monthly issuance</td>\n",
       "      <td>1993-01-01</td>\n",
       "    </tr>\n",
       "    <tr>\n",
       "      <th>704</th>\n",
       "      <td>55</td>\n",
       "      <td>monthly issuance</td>\n",
       "      <td>1993-01-01</td>\n",
       "    </tr>\n",
       "    <tr>\n",
       "      <th>2378</th>\n",
       "      <td>16</td>\n",
       "      <td>monthly issuance</td>\n",
       "      <td>1993-01-01</td>\n",
       "    </tr>\n",
       "    <tr>\n",
       "      <th>2632</th>\n",
       "      <td>24</td>\n",
       "      <td>monthly issuance</td>\n",
       "      <td>1993-01-02</td>\n",
       "    </tr>\n",
       "  </tbody>\n",
       "</table>\n",
       "</div>"
      ],
      "text/plain": [
       "            district_id         frequency       date\n",
       "account_id                                          \n",
       "576                  55  monthly issuance 1993-01-01\n",
       "3818                 74  monthly issuance 1993-01-01\n",
       "704                  55  monthly issuance 1993-01-01\n",
       "2378                 16  monthly issuance 1993-01-01\n",
       "2632                 24  monthly issuance 1993-01-02"
      ]
     },
     "execution_count": 7,
     "metadata": {},
     "output_type": "execute_result"
    }
   ],
   "source": [
    "accounts_df.head()"
   ]
  },
  {
   "cell_type": "markdown",
   "metadata": {},
   "source": [
    "The **clients** records describe static characteristics of the clients."
   ]
  },
  {
   "cell_type": "code",
   "execution_count": 8,
   "metadata": {
    "collapsed": true
   },
   "outputs": [],
   "source": [
    "clients_df = pd.read_excel('./data/banking.xlsx',\n",
    "                           sheetname='client',\n",
    "                           index_col='client_id')"
   ]
  },
  {
   "cell_type": "code",
   "execution_count": 9,
   "metadata": {
    "collapsed": false
   },
   "outputs": [
    {
     "data": {
      "text/html": [
       "<div>\n",
       "<table border=\"1\" class=\"dataframe\">\n",
       "  <thead>\n",
       "    <tr style=\"text-align: right;\">\n",
       "      <th></th>\n",
       "      <th>birth_number</th>\n",
       "      <th>district_id</th>\n",
       "    </tr>\n",
       "    <tr>\n",
       "      <th>client_id</th>\n",
       "      <th></th>\n",
       "      <th></th>\n",
       "    </tr>\n",
       "  </thead>\n",
       "  <tbody>\n",
       "    <tr>\n",
       "      <th>1</th>\n",
       "      <td>706213</td>\n",
       "      <td>18</td>\n",
       "    </tr>\n",
       "    <tr>\n",
       "      <th>2</th>\n",
       "      <td>450204</td>\n",
       "      <td>1</td>\n",
       "    </tr>\n",
       "    <tr>\n",
       "      <th>3</th>\n",
       "      <td>406009</td>\n",
       "      <td>1</td>\n",
       "    </tr>\n",
       "    <tr>\n",
       "      <th>4</th>\n",
       "      <td>561201</td>\n",
       "      <td>5</td>\n",
       "    </tr>\n",
       "    <tr>\n",
       "      <th>5</th>\n",
       "      <td>605703</td>\n",
       "      <td>5</td>\n",
       "    </tr>\n",
       "  </tbody>\n",
       "</table>\n",
       "</div>"
      ],
      "text/plain": [
       "           birth_number  district_id\n",
       "client_id                           \n",
       "1                706213           18\n",
       "2                450204            1\n",
       "3                406009            1\n",
       "4                561201            5\n",
       "5                605703            5"
      ]
     },
     "execution_count": 9,
     "metadata": {},
     "output_type": "execute_result"
    }
   ],
   "source": [
    "clients_df.head()"
   ]
  },
  {
   "cell_type": "markdown",
   "metadata": {},
   "source": [
    "The **birth_number** feature is not readable in this representation. We have, then, to parse it and transform it into two new columns: **birthday** and **gender**."
   ]
  },
  {
   "cell_type": "code",
   "execution_count": 10,
   "metadata": {
    "collapsed": false
   },
   "outputs": [],
   "source": [
    "clients_df['gender'] = clients_df.apply(lambda c: 'Male' if c['birth_number'] % 10000 < 5000 else 'Female', axis=1)"
   ]
  },
  {
   "cell_type": "code",
   "execution_count": 11,
   "metadata": {
    "collapsed": false
   },
   "outputs": [],
   "source": [
    "from datetime import date\n",
    "\n",
    "def normalize_birth_number(client):\n",
    "    birth_number = int(client['birth_number'])\n",
    "    year = birth_number // 10000\n",
    "    month = (birth_number // 100) % 100\n",
    "    day = birth_number % 100\n",
    "    \n",
    "    month = month if month < 50 else month - 50\n",
    "    \n",
    "    return  \"{0:02d}{1:02d}{2:02d}\".format(year, month, day)\n",
    "\n",
    "\n",
    "clients_df['birth_number'] = clients_df.apply(normalize_birth_number, axis=1) # month - 50 on females\n",
    "clients_df['birthday'] = pd.to_datetime(clients_df['birth_number'], format='%y%m%d')\n",
    "clients_df['birthday'] = clients_df.apply(\n",
    "    lambda c: c['birthday'] if c['birthday'].date() <= date.today() else (c['birthday'] - pd.tseries.offsets.DateOffset(years=100)), \n",
    "    axis=1) # if infered year > 2015 the it is in the 19's\n",
    "clients_df = clients_df.drop('birth_number', axis=1)"
   ]
  },
  {
   "cell_type": "code",
   "execution_count": 12,
   "metadata": {
    "collapsed": false
   },
   "outputs": [
    {
     "data": {
      "text/html": [
       "<div>\n",
       "<table border=\"1\" class=\"dataframe\">\n",
       "  <thead>\n",
       "    <tr style=\"text-align: right;\">\n",
       "      <th></th>\n",
       "      <th>district_id</th>\n",
       "      <th>gender</th>\n",
       "      <th>birthday</th>\n",
       "    </tr>\n",
       "    <tr>\n",
       "      <th>client_id</th>\n",
       "      <th></th>\n",
       "      <th></th>\n",
       "      <th></th>\n",
       "    </tr>\n",
       "  </thead>\n",
       "  <tbody>\n",
       "    <tr>\n",
       "      <th>1</th>\n",
       "      <td>18</td>\n",
       "      <td>Female</td>\n",
       "      <td>1970-12-13</td>\n",
       "    </tr>\n",
       "    <tr>\n",
       "      <th>2</th>\n",
       "      <td>1</td>\n",
       "      <td>Male</td>\n",
       "      <td>1945-02-04</td>\n",
       "    </tr>\n",
       "    <tr>\n",
       "      <th>3</th>\n",
       "      <td>1</td>\n",
       "      <td>Female</td>\n",
       "      <td>1940-10-09</td>\n",
       "    </tr>\n",
       "    <tr>\n",
       "      <th>4</th>\n",
       "      <td>5</td>\n",
       "      <td>Male</td>\n",
       "      <td>1956-12-01</td>\n",
       "    </tr>\n",
       "    <tr>\n",
       "      <th>5</th>\n",
       "      <td>5</td>\n",
       "      <td>Female</td>\n",
       "      <td>1960-07-03</td>\n",
       "    </tr>\n",
       "  </tbody>\n",
       "</table>\n",
       "</div>"
      ],
      "text/plain": [
       "           district_id  gender   birthday\n",
       "client_id                                \n",
       "1                   18  Female 1970-12-13\n",
       "2                    1    Male 1945-02-04\n",
       "3                    1  Female 1940-10-09\n",
       "4                    5    Male 1956-12-01\n",
       "5                    5  Female 1960-07-03"
      ]
     },
     "execution_count": 12,
     "metadata": {},
     "output_type": "execute_result"
    }
   ],
   "source": [
    "clients_df.head()"
   ]
  },
  {
   "cell_type": "markdown",
   "metadata": {},
   "source": [
    "The **dispositions** records relate a client with an account (being useful in join operations)."
   ]
  },
  {
   "cell_type": "code",
   "execution_count": 13,
   "metadata": {
    "collapsed": true
   },
   "outputs": [],
   "source": [
    "dispositions_df = pd.read_excel('./data/banking.xlsx',\n",
    "                                sheetname='disposition',\n",
    "                                index_col='disp_id')"
   ]
  },
  {
   "cell_type": "code",
   "execution_count": 14,
   "metadata": {
    "collapsed": false
   },
   "outputs": [
    {
     "data": {
      "text/html": [
       "<div>\n",
       "<table border=\"1\" class=\"dataframe\">\n",
       "  <thead>\n",
       "    <tr style=\"text-align: right;\">\n",
       "      <th></th>\n",
       "      <th>client_id</th>\n",
       "      <th>account_id</th>\n",
       "      <th>type</th>\n",
       "    </tr>\n",
       "    <tr>\n",
       "      <th>disp_id</th>\n",
       "      <th></th>\n",
       "      <th></th>\n",
       "      <th></th>\n",
       "    </tr>\n",
       "  </thead>\n",
       "  <tbody>\n",
       "    <tr>\n",
       "      <th>1</th>\n",
       "      <td>1</td>\n",
       "      <td>1</td>\n",
       "      <td>OWNER</td>\n",
       "    </tr>\n",
       "    <tr>\n",
       "      <th>2</th>\n",
       "      <td>2</td>\n",
       "      <td>2</td>\n",
       "      <td>OWNER</td>\n",
       "    </tr>\n",
       "    <tr>\n",
       "      <th>3</th>\n",
       "      <td>3</td>\n",
       "      <td>2</td>\n",
       "      <td>DISPONENT</td>\n",
       "    </tr>\n",
       "    <tr>\n",
       "      <th>4</th>\n",
       "      <td>4</td>\n",
       "      <td>3</td>\n",
       "      <td>OWNER</td>\n",
       "    </tr>\n",
       "    <tr>\n",
       "      <th>5</th>\n",
       "      <td>5</td>\n",
       "      <td>3</td>\n",
       "      <td>DISPONENT</td>\n",
       "    </tr>\n",
       "  </tbody>\n",
       "</table>\n",
       "</div>"
      ],
      "text/plain": [
       "         client_id  account_id       type\n",
       "disp_id                                  \n",
       "1                1           1      OWNER\n",
       "2                2           2      OWNER\n",
       "3                3           2  DISPONENT\n",
       "4                4           3      OWNER\n",
       "5                5           3  DISPONENT"
      ]
     },
     "execution_count": 14,
     "metadata": {},
     "output_type": "execute_result"
    }
   ],
   "source": [
    "dispositions_df.head()"
   ]
  },
  {
   "cell_type": "markdown",
   "metadata": {},
   "source": [
    "The **payment_orders** records, like **transaction** records, represent another dynamic characteristic of accounts."
   ]
  },
  {
   "cell_type": "code",
   "execution_count": 15,
   "metadata": {
    "collapsed": false
   },
   "outputs": [],
   "source": [
    "payment_orders_df = pd.read_excel('./data/banking.xlsx',\n",
    "                                  sheetname='payment order',\n",
    "                                  index_col='order_id')"
   ]
  },
  {
   "cell_type": "code",
   "execution_count": 16,
   "metadata": {
    "collapsed": false
   },
   "outputs": [
    {
     "data": {
      "text/html": [
       "<div>\n",
       "<table border=\"1\" class=\"dataframe\">\n",
       "  <thead>\n",
       "    <tr style=\"text-align: right;\">\n",
       "      <th></th>\n",
       "      <th>account_id</th>\n",
       "      <th>bank_to</th>\n",
       "      <th>account_to</th>\n",
       "      <th>amount</th>\n",
       "      <th>k_symbol</th>\n",
       "    </tr>\n",
       "    <tr>\n",
       "      <th>order_id</th>\n",
       "      <th></th>\n",
       "      <th></th>\n",
       "      <th></th>\n",
       "      <th></th>\n",
       "      <th></th>\n",
       "    </tr>\n",
       "  </thead>\n",
       "  <tbody>\n",
       "    <tr>\n",
       "      <th>29401</th>\n",
       "      <td>1</td>\n",
       "      <td>YZ</td>\n",
       "      <td>87144583</td>\n",
       "      <td>2452.0</td>\n",
       "      <td>household</td>\n",
       "    </tr>\n",
       "    <tr>\n",
       "      <th>29402</th>\n",
       "      <td>2</td>\n",
       "      <td>ST</td>\n",
       "      <td>89597016</td>\n",
       "      <td>3372.7</td>\n",
       "      <td>loan</td>\n",
       "    </tr>\n",
       "    <tr>\n",
       "      <th>29403</th>\n",
       "      <td>2</td>\n",
       "      <td>QR</td>\n",
       "      <td>13943797</td>\n",
       "      <td>7266.0</td>\n",
       "      <td>household</td>\n",
       "    </tr>\n",
       "    <tr>\n",
       "      <th>29404</th>\n",
       "      <td>3</td>\n",
       "      <td>WX</td>\n",
       "      <td>83084338</td>\n",
       "      <td>1135.0</td>\n",
       "      <td>household</td>\n",
       "    </tr>\n",
       "    <tr>\n",
       "      <th>29405</th>\n",
       "      <td>3</td>\n",
       "      <td>CD</td>\n",
       "      <td>24485939</td>\n",
       "      <td>327.0</td>\n",
       "      <td>NaN</td>\n",
       "    </tr>\n",
       "  </tbody>\n",
       "</table>\n",
       "</div>"
      ],
      "text/plain": [
       "          account_id bank_to  account_to  amount   k_symbol\n",
       "order_id                                                   \n",
       "29401              1      YZ    87144583  2452.0  household\n",
       "29402              2      ST    89597016  3372.7       loan\n",
       "29403              2      QR    13943797  7266.0  household\n",
       "29404              3      WX    83084338  1135.0  household\n",
       "29405              3      CD    24485939   327.0        NaN"
      ]
     },
     "execution_count": 16,
     "metadata": {},
     "output_type": "execute_result"
    }
   ],
   "source": [
    "payment_orders_df.head()"
   ]
  },
  {
   "cell_type": "markdown",
   "metadata": {},
   "source": [
    "The **loans** records describe information of a loan for an account."
   ]
  },
  {
   "cell_type": "code",
   "execution_count": 17,
   "metadata": {
    "collapsed": true
   },
   "outputs": [],
   "source": [
    "loans_df = pd.read_excel('./data/banking.xlsx',\n",
    "                         sheetname='loan',\n",
    "                         parse_dates=['date'],\n",
    "                         infer_datetime_format=True,\n",
    "                         index_col='loan_id')"
   ]
  },
  {
   "cell_type": "code",
   "execution_count": 18,
   "metadata": {
    "collapsed": false
   },
   "outputs": [
    {
     "data": {
      "text/html": [
       "<div>\n",
       "<table border=\"1\" class=\"dataframe\">\n",
       "  <thead>\n",
       "    <tr style=\"text-align: right;\">\n",
       "      <th></th>\n",
       "      <th>account_id</th>\n",
       "      <th>date</th>\n",
       "      <th>amount</th>\n",
       "      <th>duration</th>\n",
       "      <th>payments</th>\n",
       "      <th>status</th>\n",
       "    </tr>\n",
       "    <tr>\n",
       "      <th>loan_id</th>\n",
       "      <th></th>\n",
       "      <th></th>\n",
       "      <th></th>\n",
       "      <th></th>\n",
       "      <th></th>\n",
       "      <th></th>\n",
       "    </tr>\n",
       "  </thead>\n",
       "  <tbody>\n",
       "    <tr>\n",
       "      <th>5314</th>\n",
       "      <td>1787</td>\n",
       "      <td>1993-07-05</td>\n",
       "      <td>96396</td>\n",
       "      <td>12</td>\n",
       "      <td>8033</td>\n",
       "      <td>B</td>\n",
       "    </tr>\n",
       "    <tr>\n",
       "      <th>5316</th>\n",
       "      <td>1801</td>\n",
       "      <td>1993-07-11</td>\n",
       "      <td>165960</td>\n",
       "      <td>36</td>\n",
       "      <td>4610</td>\n",
       "      <td>A</td>\n",
       "    </tr>\n",
       "    <tr>\n",
       "      <th>6863</th>\n",
       "      <td>9188</td>\n",
       "      <td>1993-07-28</td>\n",
       "      <td>127080</td>\n",
       "      <td>60</td>\n",
       "      <td>2118</td>\n",
       "      <td>A</td>\n",
       "    </tr>\n",
       "    <tr>\n",
       "      <th>5325</th>\n",
       "      <td>1843</td>\n",
       "      <td>1993-08-03</td>\n",
       "      <td>105804</td>\n",
       "      <td>36</td>\n",
       "      <td>2939</td>\n",
       "      <td>A</td>\n",
       "    </tr>\n",
       "    <tr>\n",
       "      <th>7240</th>\n",
       "      <td>11013</td>\n",
       "      <td>1993-09-06</td>\n",
       "      <td>274740</td>\n",
       "      <td>60</td>\n",
       "      <td>4579</td>\n",
       "      <td>A</td>\n",
       "    </tr>\n",
       "  </tbody>\n",
       "</table>\n",
       "</div>"
      ],
      "text/plain": [
       "         account_id       date  amount  duration  payments status\n",
       "loan_id                                                          \n",
       "5314           1787 1993-07-05   96396        12      8033      B\n",
       "5316           1801 1993-07-11  165960        36      4610      A\n",
       "6863           9188 1993-07-28  127080        60      2118      A\n",
       "5325           1843 1993-08-03  105804        36      2939      A\n",
       "7240          11013 1993-09-06  274740        60      4579      A"
      ]
     },
     "execution_count": 18,
     "metadata": {},
     "output_type": "execute_result"
    }
   ],
   "source": [
    "loans_df.head()"
   ]
  },
  {
   "cell_type": "markdown",
   "metadata": {},
   "source": [
    "The **credit_cards** records describes static information of a credit card."
   ]
  },
  {
   "cell_type": "code",
   "execution_count": 19,
   "metadata": {
    "collapsed": false
   },
   "outputs": [],
   "source": [
    "credit_cards_df = pd.read_excel('./data/banking.xlsx',\n",
    "                                sheetname='credit card',\n",
    "                                parse_dates=['issued'],\n",
    "                                infer_datetime_format=True,\n",
    "                                index_col='card_id')"
   ]
  },
  {
   "cell_type": "code",
   "execution_count": 20,
   "metadata": {
    "collapsed": false
   },
   "outputs": [
    {
     "data": {
      "text/html": [
       "<div>\n",
       "<table border=\"1\" class=\"dataframe\">\n",
       "  <thead>\n",
       "    <tr style=\"text-align: right;\">\n",
       "      <th></th>\n",
       "      <th>disp_id</th>\n",
       "      <th>type</th>\n",
       "      <th>issued</th>\n",
       "    </tr>\n",
       "    <tr>\n",
       "      <th>card_id</th>\n",
       "      <th></th>\n",
       "      <th></th>\n",
       "      <th></th>\n",
       "    </tr>\n",
       "  </thead>\n",
       "  <tbody>\n",
       "    <tr>\n",
       "      <th>1005</th>\n",
       "      <td>9285</td>\n",
       "      <td>classic</td>\n",
       "      <td>1993-11-07</td>\n",
       "    </tr>\n",
       "    <tr>\n",
       "      <th>104</th>\n",
       "      <td>588</td>\n",
       "      <td>classic</td>\n",
       "      <td>1994-01-19</td>\n",
       "    </tr>\n",
       "    <tr>\n",
       "      <th>747</th>\n",
       "      <td>4915</td>\n",
       "      <td>classic</td>\n",
       "      <td>1994-02-05</td>\n",
       "    </tr>\n",
       "    <tr>\n",
       "      <th>70</th>\n",
       "      <td>439</td>\n",
       "      <td>classic</td>\n",
       "      <td>1994-02-08</td>\n",
       "    </tr>\n",
       "    <tr>\n",
       "      <th>577</th>\n",
       "      <td>3687</td>\n",
       "      <td>classic</td>\n",
       "      <td>1994-02-15</td>\n",
       "    </tr>\n",
       "  </tbody>\n",
       "</table>\n",
       "</div>"
      ],
      "text/plain": [
       "         disp_id     type     issued\n",
       "card_id                             \n",
       "1005        9285  classic 1993-11-07\n",
       "104          588  classic 1994-01-19\n",
       "747         4915  classic 1994-02-05\n",
       "70           439  classic 1994-02-08\n",
       "577         3687  classic 1994-02-15"
      ]
     },
     "execution_count": 20,
     "metadata": {},
     "output_type": "execute_result"
    }
   ],
   "source": [
    "credit_cards_df.head()"
   ]
  },
  {
   "cell_type": "markdown",
   "metadata": {},
   "source": [
    "The **districts** records provide demographic information about a district."
   ]
  },
  {
   "cell_type": "code",
   "execution_count": 21,
   "metadata": {
    "collapsed": true
   },
   "outputs": [],
   "source": [
    "districts_df = pd.read_excel('./data/banking.xlsx',\n",
    "                             sheetname='district',\n",
    "                             index_col='A1')"
   ]
  },
  {
   "cell_type": "code",
   "execution_count": 22,
   "metadata": {
    "collapsed": false
   },
   "outputs": [
    {
     "data": {
      "text/html": [
       "<div>\n",
       "<table border=\"1\" class=\"dataframe\">\n",
       "  <thead>\n",
       "    <tr style=\"text-align: right;\">\n",
       "      <th></th>\n",
       "      <th>A2</th>\n",
       "      <th>A3</th>\n",
       "      <th>A4</th>\n",
       "      <th>A5</th>\n",
       "      <th>A6</th>\n",
       "      <th>A7</th>\n",
       "      <th>A8</th>\n",
       "      <th>A9</th>\n",
       "      <th>A10</th>\n",
       "      <th>A11</th>\n",
       "      <th>A12</th>\n",
       "      <th>A13</th>\n",
       "      <th>A14</th>\n",
       "      <th>A15</th>\n",
       "      <th>A16</th>\n",
       "    </tr>\n",
       "    <tr>\n",
       "      <th>A1</th>\n",
       "      <th></th>\n",
       "      <th></th>\n",
       "      <th></th>\n",
       "      <th></th>\n",
       "      <th></th>\n",
       "      <th></th>\n",
       "      <th></th>\n",
       "      <th></th>\n",
       "      <th></th>\n",
       "      <th></th>\n",
       "      <th></th>\n",
       "      <th></th>\n",
       "      <th></th>\n",
       "      <th></th>\n",
       "      <th></th>\n",
       "    </tr>\n",
       "  </thead>\n",
       "  <tbody>\n",
       "    <tr>\n",
       "      <th>1</th>\n",
       "      <td>D1</td>\n",
       "      <td>R1</td>\n",
       "      <td>1204953</td>\n",
       "      <td>0</td>\n",
       "      <td>0</td>\n",
       "      <td>0</td>\n",
       "      <td>1</td>\n",
       "      <td>1</td>\n",
       "      <td>100.0</td>\n",
       "      <td>12541</td>\n",
       "      <td>0.29</td>\n",
       "      <td>0.43</td>\n",
       "      <td>167</td>\n",
       "      <td>85677</td>\n",
       "      <td>99107</td>\n",
       "    </tr>\n",
       "    <tr>\n",
       "      <th>2</th>\n",
       "      <td>D2</td>\n",
       "      <td>R2</td>\n",
       "      <td>88884</td>\n",
       "      <td>80</td>\n",
       "      <td>26</td>\n",
       "      <td>6</td>\n",
       "      <td>2</td>\n",
       "      <td>5</td>\n",
       "      <td>46.7</td>\n",
       "      <td>8507</td>\n",
       "      <td>1.67</td>\n",
       "      <td>1.85</td>\n",
       "      <td>132</td>\n",
       "      <td>2159</td>\n",
       "      <td>2674</td>\n",
       "    </tr>\n",
       "    <tr>\n",
       "      <th>3</th>\n",
       "      <td>D3</td>\n",
       "      <td>R2</td>\n",
       "      <td>75232</td>\n",
       "      <td>55</td>\n",
       "      <td>26</td>\n",
       "      <td>4</td>\n",
       "      <td>1</td>\n",
       "      <td>5</td>\n",
       "      <td>41.7</td>\n",
       "      <td>8980</td>\n",
       "      <td>1.95</td>\n",
       "      <td>2.21</td>\n",
       "      <td>111</td>\n",
       "      <td>2824</td>\n",
       "      <td>2813</td>\n",
       "    </tr>\n",
       "    <tr>\n",
       "      <th>4</th>\n",
       "      <td>D4</td>\n",
       "      <td>R2</td>\n",
       "      <td>149893</td>\n",
       "      <td>63</td>\n",
       "      <td>29</td>\n",
       "      <td>6</td>\n",
       "      <td>2</td>\n",
       "      <td>6</td>\n",
       "      <td>67.4</td>\n",
       "      <td>9753</td>\n",
       "      <td>4.64</td>\n",
       "      <td>5.05</td>\n",
       "      <td>109</td>\n",
       "      <td>5244</td>\n",
       "      <td>5892</td>\n",
       "    </tr>\n",
       "    <tr>\n",
       "      <th>5</th>\n",
       "      <td>D5</td>\n",
       "      <td>R2</td>\n",
       "      <td>95616</td>\n",
       "      <td>65</td>\n",
       "      <td>30</td>\n",
       "      <td>4</td>\n",
       "      <td>1</td>\n",
       "      <td>6</td>\n",
       "      <td>51.4</td>\n",
       "      <td>9307</td>\n",
       "      <td>3.85</td>\n",
       "      <td>4.43</td>\n",
       "      <td>118</td>\n",
       "      <td>2616</td>\n",
       "      <td>3040</td>\n",
       "    </tr>\n",
       "  </tbody>\n",
       "</table>\n",
       "</div>"
      ],
      "text/plain": [
       "    A2  A3       A4  A5  A6  A7  A8  A9    A10    A11   A12   A13  A14    A15  \\\n",
       "A1                                                                              \n",
       "1   D1  R1  1204953   0   0   0   1   1  100.0  12541  0.29  0.43  167  85677   \n",
       "2   D2  R2    88884  80  26   6   2   5   46.7   8507  1.67  1.85  132   2159   \n",
       "3   D3  R2    75232  55  26   4   1   5   41.7   8980  1.95  2.21  111   2824   \n",
       "4   D4  R2   149893  63  29   6   2   6   67.4   9753  4.64  5.05  109   5244   \n",
       "5   D5  R2    95616  65  30   4   1   6   51.4   9307  3.85  4.43  118   2616   \n",
       "\n",
       "      A16  \n",
       "A1         \n",
       "1   99107  \n",
       "2    2674  \n",
       "3    2813  \n",
       "4    5892  \n",
       "5    3040  "
      ]
     },
     "execution_count": 22,
     "metadata": {},
     "output_type": "execute_result"
    }
   ],
   "source": [
    "districts_df.head()"
   ]
  },
  {
   "cell_type": "markdown",
   "metadata": {},
   "source": [
    "The column labels provided lack any useful information."
   ]
  },
  {
   "cell_type": "code",
   "execution_count": 23,
   "metadata": {
    "collapsed": true
   },
   "outputs": [],
   "source": [
    "districts_df = districts_df.rename(columns={\n",
    "        'A2': 'district_name',\n",
    "        'A3': 'region',\n",
    "        'A4': 'no_inhabitants',\n",
    "        'A5': 'no_municipalities_w_inhabitants_<499',\n",
    "        'A6': 'no_municipalities_w_inhabitants_500-1999',\n",
    "        'A7': 'no_municipalities_w_inhabitants_2000-9999',\n",
    "        'A8': 'no_municipalities_w_inhabitants_>10000',\n",
    "        'A9': 'no_cities',\n",
    "        'A10': 'ratio_urban_inhabitants',\n",
    "        'A11': 'average_salary',\n",
    "        'A12': 'unemployment_rate_95',\n",
    "        'A13': 'unemployment_rate_96',\n",
    "        'A14': 'no_enterpreneurs_per_1000_inhabitants',\n",
    "        'A15': 'no_commited_crimes_95',\n",
    "        'A16': 'no_commited_crimes_96',\n",
    "    })\n",
    "\n",
    "districts_df.index.name = 'district_id'"
   ]
  },
  {
   "cell_type": "code",
   "execution_count": 24,
   "metadata": {
    "collapsed": false
   },
   "outputs": [
    {
     "data": {
      "text/html": [
       "<div>\n",
       "<table border=\"1\" class=\"dataframe\">\n",
       "  <thead>\n",
       "    <tr style=\"text-align: right;\">\n",
       "      <th></th>\n",
       "      <th>district_name</th>\n",
       "      <th>region</th>\n",
       "      <th>no_inhabitants</th>\n",
       "      <th>no_municipalities_w_inhabitants_&lt;499</th>\n",
       "      <th>no_municipalities_w_inhabitants_500-1999</th>\n",
       "      <th>no_municipalities_w_inhabitants_2000-9999</th>\n",
       "      <th>no_municipalities_w_inhabitants_&gt;10000</th>\n",
       "      <th>no_cities</th>\n",
       "      <th>ratio_urban_inhabitants</th>\n",
       "      <th>average_salary</th>\n",
       "      <th>unemployment_rate_95</th>\n",
       "      <th>unemployment_rate_96</th>\n",
       "      <th>no_enterpreneurs_per_1000_inhabitants</th>\n",
       "      <th>no_commited_crimes_95</th>\n",
       "      <th>no_commited_crimes_96</th>\n",
       "    </tr>\n",
       "    <tr>\n",
       "      <th>district_id</th>\n",
       "      <th></th>\n",
       "      <th></th>\n",
       "      <th></th>\n",
       "      <th></th>\n",
       "      <th></th>\n",
       "      <th></th>\n",
       "      <th></th>\n",
       "      <th></th>\n",
       "      <th></th>\n",
       "      <th></th>\n",
       "      <th></th>\n",
       "      <th></th>\n",
       "      <th></th>\n",
       "      <th></th>\n",
       "      <th></th>\n",
       "    </tr>\n",
       "  </thead>\n",
       "  <tbody>\n",
       "    <tr>\n",
       "      <th>1</th>\n",
       "      <td>D1</td>\n",
       "      <td>R1</td>\n",
       "      <td>1204953</td>\n",
       "      <td>0</td>\n",
       "      <td>0</td>\n",
       "      <td>0</td>\n",
       "      <td>1</td>\n",
       "      <td>1</td>\n",
       "      <td>100.0</td>\n",
       "      <td>12541</td>\n",
       "      <td>0.29</td>\n",
       "      <td>0.43</td>\n",
       "      <td>167</td>\n",
       "      <td>85677</td>\n",
       "      <td>99107</td>\n",
       "    </tr>\n",
       "    <tr>\n",
       "      <th>2</th>\n",
       "      <td>D2</td>\n",
       "      <td>R2</td>\n",
       "      <td>88884</td>\n",
       "      <td>80</td>\n",
       "      <td>26</td>\n",
       "      <td>6</td>\n",
       "      <td>2</td>\n",
       "      <td>5</td>\n",
       "      <td>46.7</td>\n",
       "      <td>8507</td>\n",
       "      <td>1.67</td>\n",
       "      <td>1.85</td>\n",
       "      <td>132</td>\n",
       "      <td>2159</td>\n",
       "      <td>2674</td>\n",
       "    </tr>\n",
       "    <tr>\n",
       "      <th>3</th>\n",
       "      <td>D3</td>\n",
       "      <td>R2</td>\n",
       "      <td>75232</td>\n",
       "      <td>55</td>\n",
       "      <td>26</td>\n",
       "      <td>4</td>\n",
       "      <td>1</td>\n",
       "      <td>5</td>\n",
       "      <td>41.7</td>\n",
       "      <td>8980</td>\n",
       "      <td>1.95</td>\n",
       "      <td>2.21</td>\n",
       "      <td>111</td>\n",
       "      <td>2824</td>\n",
       "      <td>2813</td>\n",
       "    </tr>\n",
       "    <tr>\n",
       "      <th>4</th>\n",
       "      <td>D4</td>\n",
       "      <td>R2</td>\n",
       "      <td>149893</td>\n",
       "      <td>63</td>\n",
       "      <td>29</td>\n",
       "      <td>6</td>\n",
       "      <td>2</td>\n",
       "      <td>6</td>\n",
       "      <td>67.4</td>\n",
       "      <td>9753</td>\n",
       "      <td>4.64</td>\n",
       "      <td>5.05</td>\n",
       "      <td>109</td>\n",
       "      <td>5244</td>\n",
       "      <td>5892</td>\n",
       "    </tr>\n",
       "    <tr>\n",
       "      <th>5</th>\n",
       "      <td>D5</td>\n",
       "      <td>R2</td>\n",
       "      <td>95616</td>\n",
       "      <td>65</td>\n",
       "      <td>30</td>\n",
       "      <td>4</td>\n",
       "      <td>1</td>\n",
       "      <td>6</td>\n",
       "      <td>51.4</td>\n",
       "      <td>9307</td>\n",
       "      <td>3.85</td>\n",
       "      <td>4.43</td>\n",
       "      <td>118</td>\n",
       "      <td>2616</td>\n",
       "      <td>3040</td>\n",
       "    </tr>\n",
       "  </tbody>\n",
       "</table>\n",
       "</div>"
      ],
      "text/plain": [
       "            district_name region  no_inhabitants  \\\n",
       "district_id                                        \n",
       "1                      D1     R1         1204953   \n",
       "2                      D2     R2           88884   \n",
       "3                      D3     R2           75232   \n",
       "4                      D4     R2          149893   \n",
       "5                      D5     R2           95616   \n",
       "\n",
       "             no_municipalities_w_inhabitants_<499  \\\n",
       "district_id                                         \n",
       "1                                               0   \n",
       "2                                              80   \n",
       "3                                              55   \n",
       "4                                              63   \n",
       "5                                              65   \n",
       "\n",
       "             no_municipalities_w_inhabitants_500-1999  \\\n",
       "district_id                                             \n",
       "1                                                   0   \n",
       "2                                                  26   \n",
       "3                                                  26   \n",
       "4                                                  29   \n",
       "5                                                  30   \n",
       "\n",
       "             no_municipalities_w_inhabitants_2000-9999  \\\n",
       "district_id                                              \n",
       "1                                                    0   \n",
       "2                                                    6   \n",
       "3                                                    4   \n",
       "4                                                    6   \n",
       "5                                                    4   \n",
       "\n",
       "             no_municipalities_w_inhabitants_>10000  no_cities  \\\n",
       "district_id                                                      \n",
       "1                                                 1          1   \n",
       "2                                                 2          5   \n",
       "3                                                 1          5   \n",
       "4                                                 2          6   \n",
       "5                                                 1          6   \n",
       "\n",
       "             ratio_urban_inhabitants  average_salary unemployment_rate_95  \\\n",
       "district_id                                                                 \n",
       "1                              100.0           12541                 0.29   \n",
       "2                               46.7            8507                 1.67   \n",
       "3                               41.7            8980                 1.95   \n",
       "4                               67.4            9753                 4.64   \n",
       "5                               51.4            9307                 3.85   \n",
       "\n",
       "             unemployment_rate_96  no_enterpreneurs_per_1000_inhabitants  \\\n",
       "district_id                                                                \n",
       "1                            0.43                                    167   \n",
       "2                            1.85                                    132   \n",
       "3                            2.21                                    111   \n",
       "4                            5.05                                    109   \n",
       "5                            4.43                                    118   \n",
       "\n",
       "            no_commited_crimes_95  no_commited_crimes_96  \n",
       "district_id                                               \n",
       "1                           85677                  99107  \n",
       "2                            2159                   2674  \n",
       "3                            2824                   2813  \n",
       "4                            5244                   5892  \n",
       "5                            2616                   3040  "
      ]
     },
     "execution_count": 24,
     "metadata": {},
     "output_type": "execute_result"
    }
   ],
   "source": [
    "districts_df.head()"
   ]
  },
  {
   "cell_type": "markdown",
   "metadata": {},
   "source": [
    "Lets check if the types infered by Pandas library are correct:"
   ]
  },
  {
   "cell_type": "code",
   "execution_count": 25,
   "metadata": {
    "collapsed": false
   },
   "outputs": [
    {
     "data": {
      "text/plain": [
       "district_name                                 object\n",
       "region                                        object\n",
       "no_inhabitants                                 int64\n",
       "no_municipalities_w_inhabitants_<499           int64\n",
       "no_municipalities_w_inhabitants_500-1999       int64\n",
       "no_municipalities_w_inhabitants_2000-9999      int64\n",
       "no_municipalities_w_inhabitants_>10000         int64\n",
       "no_cities                                      int64\n",
       "ratio_urban_inhabitants                      float64\n",
       "average_salary                                 int64\n",
       "unemployment_rate_95                          object\n",
       "unemployment_rate_96                         float64\n",
       "no_enterpreneurs_per_1000_inhabitants          int64\n",
       "no_commited_crimes_95                         object\n",
       "no_commited_crimes_96                          int64\n",
       "dtype: object"
      ]
     },
     "execution_count": 25,
     "metadata": {},
     "output_type": "execute_result"
    }
   ],
   "source": [
    "districts_df.dtypes"
   ]
  },
  {
   "cell_type": "markdown",
   "metadata": {},
   "source": [
    "We see that **unemployment_rate_95** and **no_commited_crimes_95** are loaded as objects."
   ]
  },
  {
   "cell_type": "code",
   "execution_count": 26,
   "metadata": {
    "collapsed": false
   },
   "outputs": [
    {
     "data": {
      "text/plain": [
       "array(['0.29', '1.67', '1.95', '4.64', '3.85', '2.95', '2.26', '1.25',\n",
       "       '3.39', '0.56', '0.45', '3.83', '2.77', '1.42', '3.13', '1.12',\n",
       "       '2.38', '2.83', '2.65', '1.51', '1.10', '1.79', '1.39', '2.47',\n",
       "       '2.64', '0.65', '1.62', '2.82', '3.38', '3.52', '2.80', '5.75',\n",
       "       '6.43', '1.02', '3.33', '4.46', '7.08', '7.34', '6.49', '3.32',\n",
       "       '2.41', '1.72', '2.79', '2.28', '1.78', '1.89', '4.83', '2.51',\n",
       "       '2.52', '2.53', '1.60', '1.88', '4.69', '3.73', '3.24', '3.45',\n",
       "       '4.76', '1.29', '3.79', '5.74', '3.51', '5.77', '4.09', '?', '6.63',\n",
       "       '5.93', '3.80', '4.75', '5.38', '4.73', '4.01'], dtype=object)"
      ]
     },
     "execution_count": 26,
     "metadata": {},
     "output_type": "execute_result"
    }
   ],
   "source": [
    "districts_df['unemployment_rate_95'].unique()"
   ]
  },
  {
   "cell_type": "code",
   "execution_count": 27,
   "metadata": {
    "collapsed": false
   },
   "outputs": [
    {
     "data": {
      "text/plain": [
       "array([85677, 2159, 2824, 5244, 2616, 2640, 4289, 5179, 2987, 3810, 3475,\n",
       "       3804, 1597, 6604, 1845, 1874, 1003, 1740, 999, 1563, 2299, 1089,\n",
       "       2879, 5198, 1822, 6041, 1029, 1580, 818, 2985, 1328, 4340, 4650,\n",
       "       5323, 3384, 5796, 4147, 2653, 4947, 6949, 6445, 1658, 4085, 2166,\n",
       "       2080, 2854, 6079, 1655, 1660, 2123, 3496, 2564, 1850, 18721, 3659,\n",
       "       3729, 2212, 2595, 1879, 2112, 2719, 1562, 4484, 2157, 2247, 3244,\n",
       "       5623, '?', 9878, 4980, 9672, 4355, 18782, 4063, 3736, 3460], dtype=object)"
      ]
     },
     "execution_count": 27,
     "metadata": {},
     "output_type": "execute_result"
    }
   ],
   "source": [
    "districts_df['no_commited_crimes_95'].unique()"
   ]
  },
  {
   "cell_type": "markdown",
   "metadata": {},
   "source": [
    "We see that both use a question mark to demark missing values. We'll convert properly those columns:"
   ]
  },
  {
   "cell_type": "code",
   "execution_count": 28,
   "metadata": {
    "collapsed": false
   },
   "outputs": [
    {
     "data": {
      "text/plain": [
       "district_name                                 object\n",
       "region                                        object\n",
       "no_inhabitants                                 int64\n",
       "no_municipalities_w_inhabitants_<499           int64\n",
       "no_municipalities_w_inhabitants_500-1999       int64\n",
       "no_municipalities_w_inhabitants_2000-9999      int64\n",
       "no_municipalities_w_inhabitants_>10000         int64\n",
       "no_cities                                      int64\n",
       "ratio_urban_inhabitants                      float64\n",
       "average_salary                                 int64\n",
       "unemployment_rate_95                         float64\n",
       "unemployment_rate_96                         float64\n",
       "no_enterpreneurs_per_1000_inhabitants          int64\n",
       "no_commited_crimes_95                        float64\n",
       "no_commited_crimes_96                          int64\n",
       "dtype: object"
      ]
     },
     "execution_count": 28,
     "metadata": {},
     "output_type": "execute_result"
    }
   ],
   "source": [
    "districts_df['unemployment_rate_95'] = pd.to_numeric(districts_df['unemployment_rate_95'], errors='coerce')\n",
    "districts_df['no_commited_crimes_95'] = pd.to_numeric(districts_df['no_commited_crimes_95'], errors='coerce')\n",
    "\n",
    "districts_df.dtypes"
   ]
  },
  {
   "cell_type": "markdown",
   "metadata": {},
   "source": [
    "## 2. Descriptive Data Mining & Feature Engineering\n",
    "\n",
    "This first section aims at providing ways to better understand and extract value from the data. This is mostly accoplished by gathering descriptive statistics and ploting.\n",
    "\n",
    "Considering this gathered knowledge, the datasets are edited and joined into useful intermediate format, which represent the main entities in the data, and then in a format in which the machine learning algorithms are able to understand (most of the times a single matrix, and most of the times without missing values).\n",
    "\n",
    "The **loans** relate to the remainder entities through the **account** they are linked to. Therefore, the remainder entities should be summarized in such a way that each of the **accounts** information is given in a single row."
   ]
  },
  {
   "cell_type": "markdown",
   "metadata": {},
   "source": [
    "### Loans Dataframe\n",
    "\n",
    "We must look first to the loans because we will use the granting date of the loan to select which information is used to summarize the transactions."
   ]
  },
  {
   "cell_type": "code",
   "execution_count": 29,
   "metadata": {
    "collapsed": false
   },
   "outputs": [
    {
     "data": {
      "text/html": [
       "<div>\n",
       "<table border=\"1\" class=\"dataframe\">\n",
       "  <thead>\n",
       "    <tr style=\"text-align: right;\">\n",
       "      <th></th>\n",
       "      <th>account_id</th>\n",
       "      <th>date</th>\n",
       "      <th>amount</th>\n",
       "      <th>duration</th>\n",
       "      <th>payments</th>\n",
       "      <th>status</th>\n",
       "    </tr>\n",
       "  </thead>\n",
       "  <tbody>\n",
       "    <tr>\n",
       "      <th>count</th>\n",
       "      <td>682.000000</td>\n",
       "      <td>682</td>\n",
       "      <td>682.000000</td>\n",
       "      <td>682.000000</td>\n",
       "      <td>682.000000</td>\n",
       "      <td>682</td>\n",
       "    </tr>\n",
       "    <tr>\n",
       "      <th>unique</th>\n",
       "      <td>NaN</td>\n",
       "      <td>559</td>\n",
       "      <td>NaN</td>\n",
       "      <td>NaN</td>\n",
       "      <td>NaN</td>\n",
       "      <td>4</td>\n",
       "    </tr>\n",
       "    <tr>\n",
       "      <th>top</th>\n",
       "      <td>NaN</td>\n",
       "      <td>1998-07-12 00:00:00</td>\n",
       "      <td>NaN</td>\n",
       "      <td>NaN</td>\n",
       "      <td>NaN</td>\n",
       "      <td>C</td>\n",
       "    </tr>\n",
       "    <tr>\n",
       "      <th>freq</th>\n",
       "      <td>NaN</td>\n",
       "      <td>4</td>\n",
       "      <td>NaN</td>\n",
       "      <td>NaN</td>\n",
       "      <td>NaN</td>\n",
       "      <td>403</td>\n",
       "    </tr>\n",
       "    <tr>\n",
       "      <th>first</th>\n",
       "      <td>NaN</td>\n",
       "      <td>1993-07-05 00:00:00</td>\n",
       "      <td>NaN</td>\n",
       "      <td>NaN</td>\n",
       "      <td>NaN</td>\n",
       "      <td>NaN</td>\n",
       "    </tr>\n",
       "    <tr>\n",
       "      <th>last</th>\n",
       "      <td>NaN</td>\n",
       "      <td>1998-12-08 00:00:00</td>\n",
       "      <td>NaN</td>\n",
       "      <td>NaN</td>\n",
       "      <td>NaN</td>\n",
       "      <td>NaN</td>\n",
       "    </tr>\n",
       "    <tr>\n",
       "      <th>mean</th>\n",
       "      <td>5824.162757</td>\n",
       "      <td>NaN</td>\n",
       "      <td>151410.175953</td>\n",
       "      <td>36.492669</td>\n",
       "      <td>4190.664223</td>\n",
       "      <td>NaN</td>\n",
       "    </tr>\n",
       "    <tr>\n",
       "      <th>std</th>\n",
       "      <td>3283.512681</td>\n",
       "      <td>NaN</td>\n",
       "      <td>113372.406310</td>\n",
       "      <td>17.075219</td>\n",
       "      <td>2215.830344</td>\n",
       "      <td>NaN</td>\n",
       "    </tr>\n",
       "    <tr>\n",
       "      <th>min</th>\n",
       "      <td>2.000000</td>\n",
       "      <td>NaN</td>\n",
       "      <td>4980.000000</td>\n",
       "      <td>12.000000</td>\n",
       "      <td>304.000000</td>\n",
       "      <td>NaN</td>\n",
       "    </tr>\n",
       "    <tr>\n",
       "      <th>25%</th>\n",
       "      <td>2967.000000</td>\n",
       "      <td>NaN</td>\n",
       "      <td>66732.000000</td>\n",
       "      <td>24.000000</td>\n",
       "      <td>2477.000000</td>\n",
       "      <td>NaN</td>\n",
       "    </tr>\n",
       "    <tr>\n",
       "      <th>50%</th>\n",
       "      <td>5738.500000</td>\n",
       "      <td>NaN</td>\n",
       "      <td>116928.000000</td>\n",
       "      <td>36.000000</td>\n",
       "      <td>3934.000000</td>\n",
       "      <td>NaN</td>\n",
       "    </tr>\n",
       "    <tr>\n",
       "      <th>75%</th>\n",
       "      <td>8686.000000</td>\n",
       "      <td>NaN</td>\n",
       "      <td>210654.000000</td>\n",
       "      <td>48.000000</td>\n",
       "      <td>5813.500000</td>\n",
       "      <td>NaN</td>\n",
       "    </tr>\n",
       "    <tr>\n",
       "      <th>max</th>\n",
       "      <td>11362.000000</td>\n",
       "      <td>NaN</td>\n",
       "      <td>590820.000000</td>\n",
       "      <td>60.000000</td>\n",
       "      <td>9910.000000</td>\n",
       "      <td>NaN</td>\n",
       "    </tr>\n",
       "  </tbody>\n",
       "</table>\n",
       "</div>"
      ],
      "text/plain": [
       "          account_id                 date         amount    duration  \\\n",
       "count     682.000000                  682     682.000000  682.000000   \n",
       "unique           NaN                  559            NaN         NaN   \n",
       "top              NaN  1998-07-12 00:00:00            NaN         NaN   \n",
       "freq             NaN                    4            NaN         NaN   \n",
       "first            NaN  1993-07-05 00:00:00            NaN         NaN   \n",
       "last             NaN  1998-12-08 00:00:00            NaN         NaN   \n",
       "mean     5824.162757                  NaN  151410.175953   36.492669   \n",
       "std      3283.512681                  NaN  113372.406310   17.075219   \n",
       "min         2.000000                  NaN    4980.000000   12.000000   \n",
       "25%      2967.000000                  NaN   66732.000000   24.000000   \n",
       "50%      5738.500000                  NaN  116928.000000   36.000000   \n",
       "75%      8686.000000                  NaN  210654.000000   48.000000   \n",
       "max     11362.000000                  NaN  590820.000000   60.000000   \n",
       "\n",
       "           payments status  \n",
       "count    682.000000    682  \n",
       "unique          NaN      4  \n",
       "top             NaN      C  \n",
       "freq            NaN    403  \n",
       "first           NaN    NaN  \n",
       "last            NaN    NaN  \n",
       "mean    4190.664223    NaN  \n",
       "std     2215.830344    NaN  \n",
       "min      304.000000    NaN  \n",
       "25%     2477.000000    NaN  \n",
       "50%     3934.000000    NaN  \n",
       "75%     5813.500000    NaN  \n",
       "max     9910.000000    NaN  "
      ]
     },
     "execution_count": 29,
     "metadata": {},
     "output_type": "execute_result"
    }
   ],
   "source": [
    "loans_df.describe(include='all')"
   ]
  },
  {
   "cell_type": "code",
   "execution_count": 30,
   "metadata": {
    "collapsed": false
   },
   "outputs": [
    {
     "name": "stdout",
     "output_type": "stream",
     "text": [
      "['B' 'A' 'C' 'D']\n"
     ]
    }
   ],
   "source": [
    "print(loans_df.status.unique())"
   ]
  },
  {
   "cell_type": "markdown",
   "metadata": {},
   "source": [
    "For reference:\n",
    " * **A-** contract finished, no problems\n",
    " * **B-** contract finished, loan not payed\n",
    " * **C-** running contract, ok so far\n",
    " * **D-** running contract, client in debt\n",
    " \n",
    "Lets  see how the loans distribute accross the four categories:"
   ]
  },
  {
   "cell_type": "code",
   "execution_count": 31,
   "metadata": {
    "collapsed": false
   },
   "outputs": [
    {
     "data": {
      "text/plain": [
       "status\n",
       "A    203\n",
       "B     31\n",
       "C    403\n",
       "D     45\n",
       "Name: account_id, dtype: int64"
      ]
     },
     "execution_count": 31,
     "metadata": {},
     "output_type": "execute_result"
    }
   ],
   "source": [
    "loans_df.groupby('status').count()['account_id']"
   ]
  },
  {
   "cell_type": "markdown",
   "metadata": {},
   "source": [
    "There are also a lot of contracts running, but most importantly there is a gret disparity between the two counts of the different loans results. We must be aware of this when training the algorithms. As we want to identify properly the loans that will have the **B** status, we have to be carefull when structuring the training and testing datasets.\n",
    "\n",
    "In order to summarize this data, we want to obtain the *count* of loans in each state, as well as the *average* and *standard deviation* of the amount and duration associated with each loan."
   ]
  },
  {
   "cell_type": "code",
   "execution_count": 32,
   "metadata": {
    "collapsed": false
   },
   "outputs": [
    {
     "data": {
      "text/html": [
       "<div>\n",
       "<table border=\"1\" class=\"dataframe\">\n",
       "  <thead>\n",
       "    <tr style=\"text-align: right;\">\n",
       "      <th></th>\n",
       "      <th>B_cnt</th>\n",
       "      <th>B_amount_avg</th>\n",
       "      <th>B_amount_std</th>\n",
       "      <th>B_duration_avg</th>\n",
       "      <th>B_duration_std</th>\n",
       "      <th>A_cnt</th>\n",
       "      <th>A_amount_avg</th>\n",
       "      <th>A_amount_std</th>\n",
       "      <th>A_duration_avg</th>\n",
       "      <th>A_duration_std</th>\n",
       "      <th>C_cnt</th>\n",
       "      <th>C_amount_avg</th>\n",
       "      <th>C_amount_std</th>\n",
       "      <th>C_duration_avg</th>\n",
       "      <th>C_duration_std</th>\n",
       "      <th>D_cnt</th>\n",
       "      <th>D_amount_avg</th>\n",
       "      <th>D_amount_std</th>\n",
       "      <th>D_duration_avg</th>\n",
       "      <th>D_duration_std</th>\n",
       "    </tr>\n",
       "    <tr>\n",
       "      <th>account_id</th>\n",
       "      <th></th>\n",
       "      <th></th>\n",
       "      <th></th>\n",
       "      <th></th>\n",
       "      <th></th>\n",
       "      <th></th>\n",
       "      <th></th>\n",
       "      <th></th>\n",
       "      <th></th>\n",
       "      <th></th>\n",
       "      <th></th>\n",
       "      <th></th>\n",
       "      <th></th>\n",
       "      <th></th>\n",
       "      <th></th>\n",
       "      <th></th>\n",
       "      <th></th>\n",
       "      <th></th>\n",
       "      <th></th>\n",
       "      <th></th>\n",
       "    </tr>\n",
       "  </thead>\n",
       "  <tbody>\n",
       "    <tr>\n",
       "      <th>2</th>\n",
       "      <td>0</td>\n",
       "      <td>0</td>\n",
       "      <td>0</td>\n",
       "      <td>0</td>\n",
       "      <td>0</td>\n",
       "      <td>1</td>\n",
       "      <td>80952</td>\n",
       "      <td>0</td>\n",
       "      <td>24</td>\n",
       "      <td>0</td>\n",
       "      <td>0</td>\n",
       "      <td>0</td>\n",
       "      <td>0</td>\n",
       "      <td>0</td>\n",
       "      <td>0</td>\n",
       "      <td>0</td>\n",
       "      <td>0</td>\n",
       "      <td>0</td>\n",
       "      <td>0</td>\n",
       "      <td>0</td>\n",
       "    </tr>\n",
       "    <tr>\n",
       "      <th>19</th>\n",
       "      <td>1</td>\n",
       "      <td>30276</td>\n",
       "      <td>0</td>\n",
       "      <td>12</td>\n",
       "      <td>0</td>\n",
       "      <td>0</td>\n",
       "      <td>0</td>\n",
       "      <td>0</td>\n",
       "      <td>0</td>\n",
       "      <td>0</td>\n",
       "      <td>0</td>\n",
       "      <td>0</td>\n",
       "      <td>0</td>\n",
       "      <td>0</td>\n",
       "      <td>0</td>\n",
       "      <td>0</td>\n",
       "      <td>0</td>\n",
       "      <td>0</td>\n",
       "      <td>0</td>\n",
       "      <td>0</td>\n",
       "    </tr>\n",
       "    <tr>\n",
       "      <th>25</th>\n",
       "      <td>0</td>\n",
       "      <td>0</td>\n",
       "      <td>0</td>\n",
       "      <td>0</td>\n",
       "      <td>0</td>\n",
       "      <td>1</td>\n",
       "      <td>30276</td>\n",
       "      <td>0</td>\n",
       "      <td>12</td>\n",
       "      <td>0</td>\n",
       "      <td>0</td>\n",
       "      <td>0</td>\n",
       "      <td>0</td>\n",
       "      <td>0</td>\n",
       "      <td>0</td>\n",
       "      <td>0</td>\n",
       "      <td>0</td>\n",
       "      <td>0</td>\n",
       "      <td>0</td>\n",
       "      <td>0</td>\n",
       "    </tr>\n",
       "    <tr>\n",
       "      <th>37</th>\n",
       "      <td>0</td>\n",
       "      <td>0</td>\n",
       "      <td>0</td>\n",
       "      <td>0</td>\n",
       "      <td>0</td>\n",
       "      <td>0</td>\n",
       "      <td>0</td>\n",
       "      <td>0</td>\n",
       "      <td>0</td>\n",
       "      <td>0</td>\n",
       "      <td>0</td>\n",
       "      <td>0</td>\n",
       "      <td>0</td>\n",
       "      <td>0</td>\n",
       "      <td>0</td>\n",
       "      <td>1</td>\n",
       "      <td>318480</td>\n",
       "      <td>0</td>\n",
       "      <td>60</td>\n",
       "      <td>0</td>\n",
       "    </tr>\n",
       "    <tr>\n",
       "      <th>38</th>\n",
       "      <td>0</td>\n",
       "      <td>0</td>\n",
       "      <td>0</td>\n",
       "      <td>0</td>\n",
       "      <td>0</td>\n",
       "      <td>0</td>\n",
       "      <td>0</td>\n",
       "      <td>0</td>\n",
       "      <td>0</td>\n",
       "      <td>0</td>\n",
       "      <td>1</td>\n",
       "      <td>110736</td>\n",
       "      <td>0</td>\n",
       "      <td>48</td>\n",
       "      <td>0</td>\n",
       "      <td>0</td>\n",
       "      <td>0</td>\n",
       "      <td>0</td>\n",
       "      <td>0</td>\n",
       "      <td>0</td>\n",
       "    </tr>\n",
       "  </tbody>\n",
       "</table>\n",
       "</div>"
      ],
      "text/plain": [
       "            B_cnt  B_amount_avg  B_amount_std  B_duration_avg  B_duration_std  \\\n",
       "account_id                                                                      \n",
       "2               0             0             0               0               0   \n",
       "19              1         30276             0              12               0   \n",
       "25              0             0             0               0               0   \n",
       "37              0             0             0               0               0   \n",
       "38              0             0             0               0               0   \n",
       "\n",
       "            A_cnt  A_amount_avg  A_amount_std  A_duration_avg  A_duration_std  \\\n",
       "account_id                                                                      \n",
       "2               1         80952             0              24               0   \n",
       "19              0             0             0               0               0   \n",
       "25              1         30276             0              12               0   \n",
       "37              0             0             0               0               0   \n",
       "38              0             0             0               0               0   \n",
       "\n",
       "            C_cnt  C_amount_avg  C_amount_std  C_duration_avg  C_duration_std  \\\n",
       "account_id                                                                      \n",
       "2               0             0             0               0               0   \n",
       "19              0             0             0               0               0   \n",
       "25              0             0             0               0               0   \n",
       "37              0             0             0               0               0   \n",
       "38              1        110736             0              48               0   \n",
       "\n",
       "            D_cnt  D_amount_avg  D_amount_std  D_duration_avg  D_duration_std  \n",
       "account_id                                                                     \n",
       "2               0             0             0               0               0  \n",
       "19              0             0             0               0               0  \n",
       "25              0             0             0               0               0  \n",
       "37              1        318480             0              60               0  \n",
       "38              0             0             0               0               0  "
      ]
     },
     "execution_count": 32,
     "metadata": {},
     "output_type": "execute_result"
    }
   ],
   "source": [
    "def summarize_loans(df):\n",
    "    summaries_dfs = []\n",
    "    for tp in df['status'].unique():\n",
    "        tmp_df = df[df['status'] == tp].drop('status', axis=1)\n",
    "        \n",
    "        tmp_grp_df = tmp_df.groupby('account_id').agg([np.count_nonzero, np.average, np.std])\n",
    "        \n",
    "        amount_df = tmp_grp_df['amount']\n",
    "        amount_df = amount_df.rename(columns={'count_nonzero': tp + '_cnt',\n",
    "                                           'average': tp + '_amount_avg',\n",
    "                                           'std': tp + '_amount_std',\n",
    "                                          })\n",
    "        \n",
    "        duration_df = tmp_grp_df['duration']\n",
    "        duration_df = duration_df.drop('count_nonzero', axis='columns')\n",
    "        duration_df = duration_df.rename(columns={'average': tp + '_duration_avg',\n",
    "                                                  'std': tp + '_duration_std',\n",
    "                                                 })\n",
    "        joined_summary_df = amount_df.join(duration_df)\n",
    "        summaries_dfs.append(joined_summary_df)\n",
    "    \n",
    "    # now concatenate the summaries_dfs\n",
    "    summaries_df = pd.concat(summaries_dfs, axis='columns')\n",
    "    return summaries_df\n",
    "\n",
    "\n",
    "loans_summary_df = summarize_loans(loans_df)\n",
    "loans_summary_df = loans_summary_df.fillna(0)\n",
    "loans_summary_df.head()"
   ]
  },
  {
   "cell_type": "markdown",
   "metadata": {},
   "source": [
    "Lets analyse if the history of each account is long enough to be used:"
   ]
  },
  {
   "cell_type": "code",
   "execution_count": 33,
   "metadata": {
    "collapsed": false
   },
   "outputs": [
    {
     "data": {
      "text/plain": [
       "<matplotlib.axes._subplots.AxesSubplot at 0x7feee4427710>"
      ]
     },
     "execution_count": 33,
     "metadata": {},
     "output_type": "execute_result"
    },
    {
     "data": {
      "image/png": "[encoded data removed]",
      "text/plain": [
       "<matplotlib.figure.Figure at 0x7feee41ce0f0>"
      ]
     },
     "metadata": {},
     "output_type": "display_data"
    }
   ],
   "source": [
    "loans_hist_df = loans_summary_df[['A_cnt', 'B_cnt', 'C_cnt', 'D_cnt']].sum(axis='columns')\n",
    "loans_hist_df.plot(kind='hist', alpha=0.5)"
   ]
  },
  {
   "cell_type": "markdown",
   "metadata": {},
   "source": [
    "It seems that there are no accounts with more than one loan through time. Therefore, we will not use the loans history of each account."
   ]
  },
  {
   "cell_type": "markdown",
   "metadata": {},
   "source": [
    "### Transactions Dataframe\n",
    "\n",
    "As we analyse the transactions dataframe, we must be careful to associate to each loan only the information about transactions that happened before the loan is granted, as future operations may be strictly correlated with the loan status, and we can't use them to train our models."
   ]
  },
  {
   "cell_type": "code",
   "execution_count": 34,
   "metadata": {
    "collapsed": false
   },
   "outputs": [
    {
     "data": {
      "text/html": [
       "<div>\n",
       "<table border=\"1\" class=\"dataframe\">\n",
       "  <thead>\n",
       "    <tr style=\"text-align: right;\">\n",
       "      <th></th>\n",
       "      <th>account_id</th>\n",
       "      <th>date</th>\n",
       "      <th>type</th>\n",
       "      <th>operation</th>\n",
       "      <th>amount</th>\n",
       "      <th>balance</th>\n",
       "      <th>trans_char</th>\n",
       "      <th>bank</th>\n",
       "      <th>account</th>\n",
       "    </tr>\n",
       "  </thead>\n",
       "  <tbody>\n",
       "    <tr>\n",
       "      <th>count</th>\n",
       "      <td>1056320.000000</td>\n",
       "      <td>1056320</td>\n",
       "      <td>1056320</td>\n",
       "      <td>873206</td>\n",
       "      <td>1056320.000000</td>\n",
       "      <td>1056320.000000</td>\n",
       "      <td>574439</td>\n",
       "      <td>273508</td>\n",
       "      <td>295389.000000</td>\n",
       "    </tr>\n",
       "    <tr>\n",
       "      <th>unique</th>\n",
       "      <td>NaN</td>\n",
       "      <td>2191</td>\n",
       "      <td>3</td>\n",
       "      <td>5</td>\n",
       "      <td>NaN</td>\n",
       "      <td>NaN</td>\n",
       "      <td>8</td>\n",
       "      <td>13</td>\n",
       "      <td>NaN</td>\n",
       "    </tr>\n",
       "    <tr>\n",
       "      <th>top</th>\n",
       "      <td>NaN</td>\n",
       "      <td>1998-06-30 00:00:00</td>\n",
       "      <td>withdrawal</td>\n",
       "      <td>withdrawal in cash</td>\n",
       "      <td>NaN</td>\n",
       "      <td>NaN</td>\n",
       "      <td>interest credited</td>\n",
       "      <td>QR</td>\n",
       "      <td>NaN</td>\n",
       "    </tr>\n",
       "    <tr>\n",
       "      <th>freq</th>\n",
       "      <td>NaN</td>\n",
       "      <td>9269</td>\n",
       "      <td>634571</td>\n",
       "      <td>434918</td>\n",
       "      <td>NaN</td>\n",
       "      <td>NaN</td>\n",
       "      <td>183114</td>\n",
       "      <td>22285</td>\n",
       "      <td>NaN</td>\n",
       "    </tr>\n",
       "    <tr>\n",
       "      <th>first</th>\n",
       "      <td>NaN</td>\n",
       "      <td>1993-01-01 00:00:00</td>\n",
       "      <td>NaN</td>\n",
       "      <td>NaN</td>\n",
       "      <td>NaN</td>\n",
       "      <td>NaN</td>\n",
       "      <td>NaN</td>\n",
       "      <td>NaN</td>\n",
       "      <td>NaN</td>\n",
       "    </tr>\n",
       "    <tr>\n",
       "      <th>last</th>\n",
       "      <td>NaN</td>\n",
       "      <td>1998-12-31 00:00:00</td>\n",
       "      <td>NaN</td>\n",
       "      <td>NaN</td>\n",
       "      <td>NaN</td>\n",
       "      <td>NaN</td>\n",
       "      <td>NaN</td>\n",
       "      <td>NaN</td>\n",
       "      <td>NaN</td>\n",
       "    </tr>\n",
       "    <tr>\n",
       "      <th>mean</th>\n",
       "      <td>2936.867290</td>\n",
       "      <td>NaN</td>\n",
       "      <td>NaN</td>\n",
       "      <td>NaN</td>\n",
       "      <td>5924.145676</td>\n",
       "      <td>38518.330803</td>\n",
       "      <td>NaN</td>\n",
       "      <td>NaN</td>\n",
       "      <td>45670919.374916</td>\n",
       "    </tr>\n",
       "    <tr>\n",
       "      <th>std</th>\n",
       "      <td>2477.345127</td>\n",
       "      <td>NaN</td>\n",
       "      <td>NaN</td>\n",
       "      <td>NaN</td>\n",
       "      <td>9522.735373</td>\n",
       "      <td>22117.868013</td>\n",
       "      <td>NaN</td>\n",
       "      <td>NaN</td>\n",
       "      <td>30663396.851208</td>\n",
       "    </tr>\n",
       "    <tr>\n",
       "      <th>min</th>\n",
       "      <td>1.000000</td>\n",
       "      <td>NaN</td>\n",
       "      <td>NaN</td>\n",
       "      <td>NaN</td>\n",
       "      <td>0.000000</td>\n",
       "      <td>-41125.700000</td>\n",
       "      <td>NaN</td>\n",
       "      <td>NaN</td>\n",
       "      <td>0.000000</td>\n",
       "    </tr>\n",
       "    <tr>\n",
       "      <th>25%</th>\n",
       "      <td>1204.000000</td>\n",
       "      <td>NaN</td>\n",
       "      <td>NaN</td>\n",
       "      <td>NaN</td>\n",
       "      <td>135.900000</td>\n",
       "      <td>22402.500000</td>\n",
       "      <td>NaN</td>\n",
       "      <td>NaN</td>\n",
       "      <td>17828584.000000</td>\n",
       "    </tr>\n",
       "    <tr>\n",
       "      <th>50%</th>\n",
       "      <td>2434.000000</td>\n",
       "      <td>NaN</td>\n",
       "      <td>NaN</td>\n",
       "      <td>NaN</td>\n",
       "      <td>2100.000000</td>\n",
       "      <td>33143.400000</td>\n",
       "      <td>NaN</td>\n",
       "      <td>NaN</td>\n",
       "      <td>45750951.000000</td>\n",
       "    </tr>\n",
       "    <tr>\n",
       "      <th>75%</th>\n",
       "      <td>3660.000000</td>\n",
       "      <td>NaN</td>\n",
       "      <td>NaN</td>\n",
       "      <td>NaN</td>\n",
       "      <td>6800.000000</td>\n",
       "      <td>49603.625000</td>\n",
       "      <td>NaN</td>\n",
       "      <td>NaN</td>\n",
       "      <td>72013407.000000</td>\n",
       "    </tr>\n",
       "    <tr>\n",
       "      <th>max</th>\n",
       "      <td>11382.000000</td>\n",
       "      <td>NaN</td>\n",
       "      <td>NaN</td>\n",
       "      <td>NaN</td>\n",
       "      <td>87400.000000</td>\n",
       "      <td>209637.000000</td>\n",
       "      <td>NaN</td>\n",
       "      <td>NaN</td>\n",
       "      <td>99994199.000000</td>\n",
       "    </tr>\n",
       "  </tbody>\n",
       "</table>\n",
       "</div>"
      ],
      "text/plain": [
       "            account_id                 date        type           operation  \\\n",
       "count   1056320.000000              1056320     1056320              873206   \n",
       "unique             NaN                 2191           3                   5   \n",
       "top                NaN  1998-06-30 00:00:00  withdrawal  withdrawal in cash   \n",
       "freq               NaN                 9269      634571              434918   \n",
       "first              NaN  1993-01-01 00:00:00         NaN                 NaN   \n",
       "last               NaN  1998-12-31 00:00:00         NaN                 NaN   \n",
       "mean       2936.867290                  NaN         NaN                 NaN   \n",
       "std        2477.345127                  NaN         NaN                 NaN   \n",
       "min           1.000000                  NaN         NaN                 NaN   \n",
       "25%        1204.000000                  NaN         NaN                 NaN   \n",
       "50%        2434.000000                  NaN         NaN                 NaN   \n",
       "75%        3660.000000                  NaN         NaN                 NaN   \n",
       "max       11382.000000                  NaN         NaN                 NaN   \n",
       "\n",
       "                amount         balance         trans_char    bank  \\\n",
       "count   1056320.000000  1056320.000000             574439  273508   \n",
       "unique             NaN             NaN                  8      13   \n",
       "top                NaN             NaN  interest credited      QR   \n",
       "freq               NaN             NaN             183114   22285   \n",
       "first              NaN             NaN                NaN     NaN   \n",
       "last               NaN             NaN                NaN     NaN   \n",
       "mean       5924.145676    38518.330803                NaN     NaN   \n",
       "std        9522.735373    22117.868013                NaN     NaN   \n",
       "min           0.000000   -41125.700000                NaN     NaN   \n",
       "25%         135.900000    22402.500000                NaN     NaN   \n",
       "50%        2100.000000    33143.400000                NaN     NaN   \n",
       "75%        6800.000000    49603.625000                NaN     NaN   \n",
       "max       87400.000000   209637.000000                NaN     NaN   \n",
       "\n",
       "                account  \n",
       "count     295389.000000  \n",
       "unique              NaN  \n",
       "top                 NaN  \n",
       "freq                NaN  \n",
       "first               NaN  \n",
       "last                NaN  \n",
       "mean    45670919.374916  \n",
       "std     30663396.851208  \n",
       "min            0.000000  \n",
       "25%     17828584.000000  \n",
       "50%     45750951.000000  \n",
       "75%     72013407.000000  \n",
       "max     99994199.000000  "
      ]
     },
     "execution_count": 34,
     "metadata": {},
     "output_type": "execute_result"
    }
   ],
   "source": [
    "transactions_df.describe(include='all')"
   ]
  },
  {
   "cell_type": "markdown",
   "metadata": {},
   "source": [
    "**type**, **operation** and **trans_char** seem all to represent the same information. Lets evaluate that:"
   ]
  },
  {
   "cell_type": "code",
   "execution_count": 35,
   "metadata": {
    "collapsed": false
   },
   "outputs": [
    {
     "name": "stdout",
     "output_type": "stream",
     "text": [
      "type: ['credit' 'withdrawal' 'withdrawal in cash']\n"
     ]
    }
   ],
   "source": [
    "print(\"type:\", transactions_df['type'].unique())"
   ]
  },
  {
   "cell_type": "code",
   "execution_count": 36,
   "metadata": {
    "collapsed": false
   },
   "outputs": [
    {
     "name": "stdout",
     "output_type": "stream",
     "text": [
      "operation: ['credit in cash' 'collection from another bank' 'withdrawal in cash' nan\n",
      " 'remittance to another bank' 'credit card withdrawal']\n"
     ]
    }
   ],
   "source": [
    "print(\"operation:\", transactions_df['operation'].unique())"
   ]
  },
  {
   "cell_type": "code",
   "execution_count": 37,
   "metadata": {
    "collapsed": false
   },
   "outputs": [
    {
     "name": "stdout",
     "output_type": "stream",
     "text": [
      "trans_char: [nan 'pension' 'interest credited' 'household' 'statement' ' '\n",
      " 'insurance payment' 'sanction for negative balance' 'loan payment']\n"
     ]
    }
   ],
   "source": [
    "print(\"trans_char:\", transactions_df['trans_char'].unique())"
   ]
  },
  {
   "cell_type": "markdown",
   "metadata": {},
   "source": [
    "**operation** seems irrelevant given **type**:"
   ]
  },
  {
   "cell_type": "code",
   "execution_count": 38,
   "metadata": {
    "collapsed": false
   },
   "outputs": [],
   "source": [
    "transactions_df_e = transactions_df.drop('operation', axis=1).copy() # 'e' for edited"
   ]
  },
  {
   "cell_type": "markdown",
   "metadata": {},
   "source": [
    "Its also irrelevant the distinction between *withrawal* and *withrawal in cash*."
   ]
  },
  {
   "cell_type": "code",
   "execution_count": 39,
   "metadata": {
    "collapsed": false
   },
   "outputs": [],
   "source": [
    "mask = transactions_df_e['type'] == 'withdrawal in cash'\n",
    "transactions_df_e.ix[mask, 'type'] = ('withdrawal')"
   ]
  },
  {
   "cell_type": "markdown",
   "metadata": {},
   "source": [
    "We will create an additional column to store the signed amount (given by the type of operation), and another with the normalized **signed_amount** value, according to the **balance** previous to the operation (if an operation is the first one, we store 0):"
   ]
  },
  {
   "cell_type": "code",
   "execution_count": 40,
   "metadata": {
    "collapsed": false
   },
   "outputs": [],
   "source": [
    "transactions_df_e['signed_amount'] = transactions_df_e.apply(lambda x: - x['amount'] if x['type'] == 'withdrawal' else x['amount'], axis=1)\n",
    "transactions_df_e['norm_signed_amount'] = transactions_df_e.apply(lambda x: \n",
    "                                                                      0 if (x['balance'] - x['signed_amount']) == 0 \n",
    "                                                                      else x['signed_amount'] / (x['balance'] - x['signed_amount']), \n",
    "                                                                  axis=1)"
   ]
  },
  {
   "cell_type": "markdown",
   "metadata": {},
   "source": [
    "We will build a function that outputs a summary of the transactions dataframe (if date or account are provided, uses information until a given date for a given account), regarding the following aspects:\n",
    "\n",
    " * From **trans_char** we are able to extract if the user is pensionist, or if the user has been sanctioned for negative balance, among other things. We will create an additional table with that information, with the values weighted by the **amount**, indexed by **account_id**.\n",
    "\n",
    " * The **balance** statistics may be relevant to compare with the loan amount, so we'll gather the *min*, *max*, *average* and *standard deviation*.\n",
    " \n",
    " * Regarding **normalized signed amount** and **type** of each operation, we will extract, for each **account**, the *count*, *mean* and *standard deviation* of operation values, as well as *mean* and *standard deviation* of the number of days between each **operation**, grouped by operation **type**."
   ]
  },
  {
   "cell_type": "code",
   "execution_count": 41,
   "metadata": {
    "collapsed": false
   },
   "outputs": [
    {
     "data": {
      "text/html": [
       "<div>\n",
       "<table border=\"1\" class=\"dataframe\">\n",
       "  <thead>\n",
       "    <tr style=\"text-align: right;\">\n",
       "      <th></th>\n",
       "      <th>account_id</th>\n",
       "      <th>date</th>\n",
       "      <th>type</th>\n",
       "      <th>amount</th>\n",
       "      <th>balance</th>\n",
       "      <th>trans_char</th>\n",
       "      <th>bank</th>\n",
       "      <th>account</th>\n",
       "      <th>signed_amount</th>\n",
       "      <th>norm_signed_amount</th>\n",
       "    </tr>\n",
       "    <tr>\n",
       "      <th>trans_id</th>\n",
       "      <th></th>\n",
       "      <th></th>\n",
       "      <th></th>\n",
       "      <th></th>\n",
       "      <th></th>\n",
       "      <th></th>\n",
       "      <th></th>\n",
       "      <th></th>\n",
       "      <th></th>\n",
       "      <th></th>\n",
       "    </tr>\n",
       "  </thead>\n",
       "  <tbody>\n",
       "    <tr>\n",
       "      <th>695247</th>\n",
       "      <td>2378</td>\n",
       "      <td>1993-01-01</td>\n",
       "      <td>credit</td>\n",
       "      <td>700</td>\n",
       "      <td>700</td>\n",
       "      <td>NaN</td>\n",
       "      <td>NaN</td>\n",
       "      <td>NaN</td>\n",
       "      <td>700</td>\n",
       "      <td>0</td>\n",
       "    </tr>\n",
       "    <tr>\n",
       "      <th>171812</th>\n",
       "      <td>576</td>\n",
       "      <td>1993-01-01</td>\n",
       "      <td>credit</td>\n",
       "      <td>900</td>\n",
       "      <td>900</td>\n",
       "      <td>NaN</td>\n",
       "      <td>NaN</td>\n",
       "      <td>NaN</td>\n",
       "      <td>900</td>\n",
       "      <td>0</td>\n",
       "    </tr>\n",
       "    <tr>\n",
       "      <th>207264</th>\n",
       "      <td>704</td>\n",
       "      <td>1993-01-01</td>\n",
       "      <td>credit</td>\n",
       "      <td>1000</td>\n",
       "      <td>1000</td>\n",
       "      <td>NaN</td>\n",
       "      <td>NaN</td>\n",
       "      <td>NaN</td>\n",
       "      <td>1000</td>\n",
       "      <td>0</td>\n",
       "    </tr>\n",
       "    <tr>\n",
       "      <th>1117247</th>\n",
       "      <td>3818</td>\n",
       "      <td>1993-01-01</td>\n",
       "      <td>credit</td>\n",
       "      <td>600</td>\n",
       "      <td>600</td>\n",
       "      <td>NaN</td>\n",
       "      <td>NaN</td>\n",
       "      <td>NaN</td>\n",
       "      <td>600</td>\n",
       "      <td>0</td>\n",
       "    </tr>\n",
       "    <tr>\n",
       "      <th>579373</th>\n",
       "      <td>1972</td>\n",
       "      <td>1993-01-02</td>\n",
       "      <td>credit</td>\n",
       "      <td>400</td>\n",
       "      <td>400</td>\n",
       "      <td>NaN</td>\n",
       "      <td>NaN</td>\n",
       "      <td>NaN</td>\n",
       "      <td>400</td>\n",
       "      <td>0</td>\n",
       "    </tr>\n",
       "  </tbody>\n",
       "</table>\n",
       "</div>"
      ],
      "text/plain": [
       "          account_id       date    type  amount  balance trans_char bank  \\\n",
       "trans_id                                                                   \n",
       "695247          2378 1993-01-01  credit     700      700        NaN  NaN   \n",
       "171812           576 1993-01-01  credit     900      900        NaN  NaN   \n",
       "207264           704 1993-01-01  credit    1000     1000        NaN  NaN   \n",
       "1117247         3818 1993-01-01  credit     600      600        NaN  NaN   \n",
       "579373          1972 1993-01-02  credit     400      400        NaN  NaN   \n",
       "\n",
       "          account  signed_amount  norm_signed_amount  \n",
       "trans_id                                              \n",
       "695247        NaN            700                   0  \n",
       "171812        NaN            900                   0  \n",
       "207264        NaN           1000                   0  \n",
       "1117247       NaN            600                   0  \n",
       "579373        NaN            400                   0  "
      ]
     },
     "execution_count": 41,
     "metadata": {},
     "output_type": "execute_result"
    }
   ],
   "source": [
    "transactions_df_e.head()"
   ]
  },
  {
   "cell_type": "code",
   "execution_count": 42,
   "metadata": {
    "collapsed": false
   },
   "outputs": [],
   "source": [
    "def summarize_all_transactions(raw_trans_df, account=None, max_date=None):\n",
    "    \n",
    "    trans_df = raw_trans_df.copy()\n",
    "    \n",
    "    #if client specified, filter\n",
    "    if account != None:\n",
    "        trans_df = trans_df[trans_df.account_id == account]\n",
    "    \n",
    "    #if max_date specified, filter\n",
    "    if max_date != None:\n",
    "        trans_df = trans_df[trans_df.date < max_date]\n",
    "    \n",
    "    # remove the rows where an empty string is present\n",
    "    mask = trans_df.trans_char != ' '\n",
    "    transactions_df_e = trans_df.ix[mask]\n",
    "\n",
    "    # select the needed rows from transactions_df\n",
    "    trans_temp_df = trans_df[['account_id', 'trans_char', 'norm_signed_amount']].copy()\n",
    "\n",
    "    # remove the rows containing NaN\n",
    "    trans_temp_df = trans_temp_df.dropna(axis='index')\n",
    "    trans_temp_df = trans_temp_df[trans_temp_df.trans_char != ' ']\n",
    "    \n",
    "    # create the dataframe indexed by account_id\n",
    "    accounts_features_df = trans_temp_df[['account_id']].drop_duplicates(subset=['account_id'])\n",
    "    accounts_features_df = accounts_features_df.set_index('account_id')\n",
    "\n",
    "    # create the count columns, corresponding to the data countained in\n",
    "        # pension\n",
    "        # interest credited\n",
    "        # household\n",
    "        # statement\n",
    "        # insurance payment\n",
    "        # sanction for negative balance\n",
    "        # loan payment\n",
    "\n",
    "    def create_trans_count_col(df, val):\n",
    "        new_df = df.ix[df['trans_char'] == val].groupby('account_id').sum()\n",
    "        new_df = new_df.rename(columns={'norm_signed_amount':val})\n",
    "        return new_df\n",
    "\n",
    "    additional_dfs = [create_trans_count_col(trans_temp_df, val) for val in trans_temp_df['trans_char'].unique()]\n",
    "    \n",
    "    if accounts_features_df.empty:\n",
    "        if len(additional_dfs) == 1:\n",
    "            accounts_features_df = additional_dfs[0]\n",
    "        elif len(additional_dfs) > 1:\n",
    "            accounts_features_df = additional_dfs[0].join(additional_dfs[1:])\n",
    "    else:\n",
    "        accounts_features_df = accounts_features_df.join(additional_dfs)\n",
    "    \n",
    "    temp_df = trans_df[['account_id', 'balance']].copy()\n",
    "\n",
    "    balances_summary_df = temp_df.groupby('account_id').agg([np.max, np.min, np.average, np.std])['balance']\n",
    "    balances_summary_df = balances_summary_df.rename(columns={'amax': 'balance_max',\n",
    "                                                              'amin': 'balance_min',\n",
    "                                                              'average': 'balance_avg',\n",
    "                                                              'std': 'balance_std'})\n",
    "    if accounts_features_df.empty:\n",
    "        accounts_features_df = balances_summary_df\n",
    "    else:\n",
    "        accounts_features_df = accounts_features_df.join(balances_summary_df)\n",
    "    \n",
    "    temp_df = trans_df[['account_id', 'type', 'norm_signed_amount', 'date']].copy()\n",
    "    \n",
    "    # sort firstly by account_id, then by date\n",
    "    temp_df = temp_df.sort_values(by=['account_id', 'date'])\n",
    "\n",
    "    #obtain, by row, the previous date\n",
    "    if account != None:\n",
    "        prev_dates = temp_df['date'].shift().fillna(temp_df.iloc[0]['date'])\n",
    "    else:\n",
    "        prev_dates = temp_df.groupby('account_id').apply(lambda x: x['date'].shift().fillna(x.iloc[0]['date'])) \\\n",
    "        .reset_index(level=0)['date']\n",
    "    \n",
    "    delta = temp_df['date'] - prev_dates\n",
    "    delta = delta.astype(\"timedelta64[D]\")\n",
    "    temp_df['date_delta'] = delta\n",
    "    \n",
    "    def summarize_transactions(df):\n",
    "        summaries_dfs = []\n",
    "        for tp in df['type'].unique():\n",
    "            tmp_df = temp_df[temp_df['type'] == tp].drop('type', axis=1)\n",
    "\n",
    "            tmp_grp_df = tmp_df.groupby('account_id').agg([np.count_nonzero, np.average, np.std])\n",
    "            tmp_grp_df.fillna(0)\n",
    "\n",
    "            ops_df = tmp_grp_df['norm_signed_amount']\n",
    "            ops_df = ops_df.rename(columns={'count_nonzero': tp + '_cnt',\n",
    "                                            'average': tp + '_avg',\n",
    "                                            'std': tp + '_std',\n",
    "                                           })\n",
    "\n",
    "            dates_df = tmp_grp_df['date_delta']\n",
    "            dates_df = dates_df.drop('count_nonzero', axis='columns')\n",
    "            dates_df = dates_df.rename(columns={'average': tp + '_dates_avg',\n",
    "                                                'std': tp + '_dates_std',\n",
    "                                               })\n",
    "            joined_summary_df = ops_df.join(dates_df)\n",
    "            summaries_dfs.append(joined_summary_df)\n",
    "\n",
    "        # now concatenate the summaries_dfs\n",
    "        summaries_df = pd.concat(summaries_dfs, axis='columns')\n",
    "        return summaries_df\n",
    "\n",
    "    trans_summaries_df = summarize_transactions(temp_df)\n",
    "    \n",
    "    if accounts_features_df.empty:\n",
    "        accounts_features_df = trans_summaries_df\n",
    "    else:\n",
    "        accounts_features_df = accounts_features_df.join(trans_summaries_df)\n",
    "    \n",
    "    return accounts_features_df"
   ]
  },
  {
   "cell_type": "code",
   "execution_count": 43,
   "metadata": {
    "collapsed": false
   },
   "outputs": [
    {
     "data": {
      "text/html": [
       "<div>\n",
       "<table border=\"1\" class=\"dataframe\">\n",
       "  <thead>\n",
       "    <tr style=\"text-align: right;\">\n",
       "      <th></th>\n",
       "      <th>pension</th>\n",
       "      <th>interest credited</th>\n",
       "      <th>household</th>\n",
       "      <th>statement</th>\n",
       "      <th>insurance payment</th>\n",
       "      <th>sanction for negative balance</th>\n",
       "      <th>loan payment</th>\n",
       "      <th>balance_max</th>\n",
       "      <th>balance_min</th>\n",
       "      <th>balance_avg</th>\n",
       "      <th>...</th>\n",
       "      <th>credit_cnt</th>\n",
       "      <th>credit_avg</th>\n",
       "      <th>credit_std</th>\n",
       "      <th>credit_dates_avg</th>\n",
       "      <th>credit_dates_std</th>\n",
       "      <th>withdrawal_cnt</th>\n",
       "      <th>withdrawal_avg</th>\n",
       "      <th>withdrawal_std</th>\n",
       "      <th>withdrawal_dates_avg</th>\n",
       "      <th>withdrawal_dates_std</th>\n",
       "    </tr>\n",
       "    <tr>\n",
       "      <th>account_id</th>\n",
       "      <th></th>\n",
       "      <th></th>\n",
       "      <th></th>\n",
       "      <th></th>\n",
       "      <th></th>\n",
       "      <th></th>\n",
       "      <th></th>\n",
       "      <th></th>\n",
       "      <th></th>\n",
       "      <th></th>\n",
       "      <th></th>\n",
       "      <th></th>\n",
       "      <th></th>\n",
       "      <th></th>\n",
       "      <th></th>\n",
       "      <th></th>\n",
       "      <th></th>\n",
       "      <th></th>\n",
       "      <th></th>\n",
       "      <th></th>\n",
       "      <th></th>\n",
       "    </tr>\n",
       "  </thead>\n",
       "  <tbody>\n",
       "    <tr>\n",
       "      <th>4</th>\n",
       "      <td>17.641229</td>\n",
       "      <td>0.125462</td>\n",
       "      <td>-2.917712</td>\n",
       "      <td>-0.020211</td>\n",
       "      <td>NaN</td>\n",
       "      <td>NaN</td>\n",
       "      <td>NaN</td>\n",
       "      <td>34870.0</td>\n",
       "      <td>800</td>\n",
       "      <td>21753.446237</td>\n",
       "      <td>...</td>\n",
       "      <td>64</td>\n",
       "      <td>0.273334</td>\n",
       "      <td>0.859505</td>\n",
       "      <td>4.523077</td>\n",
       "      <td>7.644663</td>\n",
       "      <td>121</td>\n",
       "      <td>-0.059758</td>\n",
       "      <td>0.046077</td>\n",
       "      <td>6.198347</td>\n",
       "      <td>5.580651</td>\n",
       "    </tr>\n",
       "    <tr>\n",
       "      <th>5</th>\n",
       "      <td>13.342219</td>\n",
       "      <td>0.059509</td>\n",
       "      <td>-1.449807</td>\n",
       "      <td>-0.007832</td>\n",
       "      <td>NaN</td>\n",
       "      <td>NaN</td>\n",
       "      <td>NaN</td>\n",
       "      <td>32036.2</td>\n",
       "      <td>600</td>\n",
       "      <td>25090.069048</td>\n",
       "      <td>...</td>\n",
       "      <td>34</td>\n",
       "      <td>0.382907</td>\n",
       "      <td>1.399983</td>\n",
       "      <td>5.971429</td>\n",
       "      <td>9.447956</td>\n",
       "      <td>49</td>\n",
       "      <td>-0.052975</td>\n",
       "      <td>0.047930</td>\n",
       "      <td>7.571429</td>\n",
       "      <td>4.082483</td>\n",
       "    </tr>\n",
       "    <tr>\n",
       "      <th>6</th>\n",
       "      <td>19.061606</td>\n",
       "      <td>0.196014</td>\n",
       "      <td>-4.866938</td>\n",
       "      <td>-0.020693</td>\n",
       "      <td>NaN</td>\n",
       "      <td>NaN</td>\n",
       "      <td>NaN</td>\n",
       "      <td>51878.9</td>\n",
       "      <td>900</td>\n",
       "      <td>34547.349187</td>\n",
       "      <td>...</td>\n",
       "      <td>98</td>\n",
       "      <td>0.194521</td>\n",
       "      <td>0.745481</td>\n",
       "      <td>5.707071</td>\n",
       "      <td>7.243931</td>\n",
       "      <td>147</td>\n",
       "      <td>-0.055649</td>\n",
       "      <td>0.054151</td>\n",
       "      <td>6.741497</td>\n",
       "      <td>6.708294</td>\n",
       "    </tr>\n",
       "    <tr>\n",
       "      <th>12</th>\n",
       "      <td>12.778797</td>\n",
       "      <td>0.073643</td>\n",
       "      <td>-0.267233</td>\n",
       "      <td>-0.010551</td>\n",
       "      <td>NaN</td>\n",
       "      <td>NaN</td>\n",
       "      <td>NaN</td>\n",
       "      <td>29053.0</td>\n",
       "      <td>1100</td>\n",
       "      <td>20142.701887</td>\n",
       "      <td>...</td>\n",
       "      <td>38</td>\n",
       "      <td>0.329550</td>\n",
       "      <td>0.860090</td>\n",
       "      <td>4.358974</td>\n",
       "      <td>8.922140</td>\n",
       "      <td>67</td>\n",
       "      <td>-0.067113</td>\n",
       "      <td>0.078127</td>\n",
       "      <td>6.791045</td>\n",
       "      <td>5.144981</td>\n",
       "    </tr>\n",
       "    <tr>\n",
       "      <th>13</th>\n",
       "      <td>15.600257</td>\n",
       "      <td>0.060332</td>\n",
       "      <td>-1.994121</td>\n",
       "      <td>-0.011899</td>\n",
       "      <td>NaN</td>\n",
       "      <td>NaN</td>\n",
       "      <td>NaN</td>\n",
       "      <td>29750.6</td>\n",
       "      <td>1000</td>\n",
       "      <td>15120.500000</td>\n",
       "      <td>...</td>\n",
       "      <td>30</td>\n",
       "      <td>0.505180</td>\n",
       "      <td>1.209745</td>\n",
       "      <td>5.354839</td>\n",
       "      <td>8.811161</td>\n",
       "      <td>44</td>\n",
       "      <td>-0.127461</td>\n",
       "      <td>0.112124</td>\n",
       "      <td>7.613636</td>\n",
       "      <td>6.012452</td>\n",
       "    </tr>\n",
       "  </tbody>\n",
       "</table>\n",
       "<p>5 rows × 21 columns</p>\n",
       "</div>"
      ],
      "text/plain": [
       "              pension  interest credited  household  statement  \\\n",
       "account_id                                                       \n",
       "4           17.641229           0.125462  -2.917712  -0.020211   \n",
       "5           13.342219           0.059509  -1.449807  -0.007832   \n",
       "6           19.061606           0.196014  -4.866938  -0.020693   \n",
       "12          12.778797           0.073643  -0.267233  -0.010551   \n",
       "13          15.600257           0.060332  -1.994121  -0.011899   \n",
       "\n",
       "            insurance payment  sanction for negative balance  loan payment  \\\n",
       "account_id                                                                   \n",
       "4                         NaN                            NaN           NaN   \n",
       "5                         NaN                            NaN           NaN   \n",
       "6                         NaN                            NaN           NaN   \n",
       "12                        NaN                            NaN           NaN   \n",
       "13                        NaN                            NaN           NaN   \n",
       "\n",
       "            balance_max  balance_min   balance_avg          ...           \\\n",
       "account_id                                                  ...            \n",
       "4               34870.0          800  21753.446237          ...            \n",
       "5               32036.2          600  25090.069048          ...            \n",
       "6               51878.9          900  34547.349187          ...            \n",
       "12              29053.0         1100  20142.701887          ...            \n",
       "13              29750.6         1000  15120.500000          ...            \n",
       "\n",
       "            credit_cnt  credit_avg  credit_std  credit_dates_avg  \\\n",
       "account_id                                                         \n",
       "4                   64    0.273334    0.859505          4.523077   \n",
       "5                   34    0.382907    1.399983          5.971429   \n",
       "6                   98    0.194521    0.745481          5.707071   \n",
       "12                  38    0.329550    0.860090          4.358974   \n",
       "13                  30    0.505180    1.209745          5.354839   \n",
       "\n",
       "            credit_dates_std  withdrawal_cnt  withdrawal_avg  withdrawal_std  \\\n",
       "account_id                                                                     \n",
       "4                   7.644663             121       -0.059758        0.046077   \n",
       "5                   9.447956              49       -0.052975        0.047930   \n",
       "6                   7.243931             147       -0.055649        0.054151   \n",
       "12                  8.922140              67       -0.067113        0.078127   \n",
       "13                  8.811161              44       -0.127461        0.112124   \n",
       "\n",
       "            withdrawal_dates_avg  withdrawal_dates_std  \n",
       "account_id                                              \n",
       "4                       6.198347              5.580651  \n",
       "5                       7.571429              4.082483  \n",
       "6                       6.741497              6.708294  \n",
       "12                      6.791045              5.144981  \n",
       "13                      7.613636              6.012452  \n",
       "\n",
       "[5 rows x 21 columns]"
      ]
     },
     "execution_count": 43,
     "metadata": {},
     "output_type": "execute_result"
    }
   ],
   "source": [
    "trans_features = summarize_all_transactions(transactions_df_e)\n",
    "trans_features.head()"
   ]
  },
  {
   "cell_type": "markdown",
   "metadata": {},
   "source": [
    "Now merge with **loans** dataframe, but for each row obtain just the summary for the transactions that happened before the loan granting:"
   ]
  },
  {
   "cell_type": "code",
   "execution_count": 44,
   "metadata": {
    "collapsed": false
   },
   "outputs": [
    {
     "data": {
      "text/html": [
       "<div>\n",
       "<table border=\"1\" class=\"dataframe\">\n",
       "  <thead>\n",
       "    <tr style=\"text-align: right;\">\n",
       "      <th></th>\n",
       "      <th>balance_avg</th>\n",
       "      <th>balance_max</th>\n",
       "      <th>balance_min</th>\n",
       "      <th>balance_std</th>\n",
       "      <th>credit_avg</th>\n",
       "      <th>credit_cnt</th>\n",
       "      <th>credit_dates_avg</th>\n",
       "      <th>credit_dates_std</th>\n",
       "      <th>credit_std</th>\n",
       "      <th>household</th>\n",
       "      <th>...</th>\n",
       "      <th>withdrawal_cnt</th>\n",
       "      <th>withdrawal_dates_avg</th>\n",
       "      <th>withdrawal_dates_std</th>\n",
       "      <th>withdrawal_std</th>\n",
       "      <th>account_id</th>\n",
       "      <th>date</th>\n",
       "      <th>amount</th>\n",
       "      <th>duration</th>\n",
       "      <th>payments</th>\n",
       "      <th>status</th>\n",
       "    </tr>\n",
       "    <tr>\n",
       "      <th>loan_id</th>\n",
       "      <th></th>\n",
       "      <th></th>\n",
       "      <th></th>\n",
       "      <th></th>\n",
       "      <th></th>\n",
       "      <th></th>\n",
       "      <th></th>\n",
       "      <th></th>\n",
       "      <th></th>\n",
       "      <th></th>\n",
       "      <th></th>\n",
       "      <th></th>\n",
       "      <th></th>\n",
       "      <th></th>\n",
       "      <th></th>\n",
       "      <th></th>\n",
       "      <th></th>\n",
       "      <th></th>\n",
       "      <th></th>\n",
       "      <th></th>\n",
       "      <th></th>\n",
       "    </tr>\n",
       "  </thead>\n",
       "  <tbody>\n",
       "    <tr>\n",
       "      <th>5314</th>\n",
       "      <td>12250.000000</td>\n",
       "      <td>20100.0</td>\n",
       "      <td>1100</td>\n",
       "      <td>8330.866301</td>\n",
       "      <td>2.430925</td>\n",
       "      <td>3</td>\n",
       "      <td>22.500000</td>\n",
       "      <td>15.000000</td>\n",
       "      <td>4.384785</td>\n",
       "      <td>0.000000</td>\n",
       "      <td>...</td>\n",
       "      <td>0</td>\n",
       "      <td>0.000000</td>\n",
       "      <td>0.000000</td>\n",
       "      <td>0.000000</td>\n",
       "      <td>1787</td>\n",
       "      <td>1993-07-05</td>\n",
       "      <td>96396</td>\n",
       "      <td>12</td>\n",
       "      <td>8033</td>\n",
       "      <td>B</td>\n",
       "    </tr>\n",
       "    <tr>\n",
       "      <th>5316</th>\n",
       "      <td>52083.859459</td>\n",
       "      <td>120512.8</td>\n",
       "      <td>700</td>\n",
       "      <td>29122.059454</td>\n",
       "      <td>1.888075</td>\n",
       "      <td>16</td>\n",
       "      <td>5.705882</td>\n",
       "      <td>4.934125</td>\n",
       "      <td>6.478889</td>\n",
       "      <td>-0.188938</td>\n",
       "      <td>...</td>\n",
       "      <td>20</td>\n",
       "      <td>2.450000</td>\n",
       "      <td>2.625282</td>\n",
       "      <td>0.141195</td>\n",
       "      <td>1801</td>\n",
       "      <td>1993-07-11</td>\n",
       "      <td>165960</td>\n",
       "      <td>36</td>\n",
       "      <td>4610</td>\n",
       "      <td>A</td>\n",
       "    </tr>\n",
       "    <tr>\n",
       "      <th>6863</th>\n",
       "      <td>30060.954167</td>\n",
       "      <td>49590.4</td>\n",
       "      <td>800</td>\n",
       "      <td>11520.184451</td>\n",
       "      <td>1.224438</td>\n",
       "      <td>14</td>\n",
       "      <td>9.133333</td>\n",
       "      <td>10.294705</td>\n",
       "      <td>4.064382</td>\n",
       "      <td>-0.166444</td>\n",
       "      <td>...</td>\n",
       "      <td>9</td>\n",
       "      <td>2.888889</td>\n",
       "      <td>3.059593</td>\n",
       "      <td>0.131191</td>\n",
       "      <td>9188</td>\n",
       "      <td>1993-07-28</td>\n",
       "      <td>127080</td>\n",
       "      <td>60</td>\n",
       "      <td>2118</td>\n",
       "      <td>A</td>\n",
       "    </tr>\n",
       "    <tr>\n",
       "      <th>5325</th>\n",
       "      <td>41297.480000</td>\n",
       "      <td>65898.5</td>\n",
       "      <td>1000</td>\n",
       "      <td>14151.260443</td>\n",
       "      <td>1.599446</td>\n",
       "      <td>12</td>\n",
       "      <td>8.846154</td>\n",
       "      <td>8.532742</td>\n",
       "      <td>4.825893</td>\n",
       "      <td>-0.233710</td>\n",
       "      <td>...</td>\n",
       "      <td>12</td>\n",
       "      <td>5.583333</td>\n",
       "      <td>6.639528</td>\n",
       "      <td>0.100542</td>\n",
       "      <td>1843</td>\n",
       "      <td>1993-08-03</td>\n",
       "      <td>105804</td>\n",
       "      <td>36</td>\n",
       "      <td>2939</td>\n",
       "      <td>A</td>\n",
       "    </tr>\n",
       "    <tr>\n",
       "      <th>7240</th>\n",
       "      <td>57188.211111</td>\n",
       "      <td>122893.1</td>\n",
       "      <td>600</td>\n",
       "      <td>25256.665817</td>\n",
       "      <td>5.784333</td>\n",
       "      <td>12</td>\n",
       "      <td>9.846154</td>\n",
       "      <td>8.839741</td>\n",
       "      <td>19.422572</td>\n",
       "      <td>-0.017927</td>\n",
       "      <td>...</td>\n",
       "      <td>14</td>\n",
       "      <td>5.000000</td>\n",
       "      <td>5.449065</td>\n",
       "      <td>0.136008</td>\n",
       "      <td>11013</td>\n",
       "      <td>1993-09-06</td>\n",
       "      <td>274740</td>\n",
       "      <td>60</td>\n",
       "      <td>4579</td>\n",
       "      <td>A</td>\n",
       "    </tr>\n",
       "  </tbody>\n",
       "</table>\n",
       "<p>5 rows × 25 columns</p>\n",
       "</div>"
      ],
      "text/plain": [
       "          balance_avg  balance_max  balance_min   balance_std  credit_avg  \\\n",
       "loan_id                                                                     \n",
       "5314     12250.000000      20100.0         1100   8330.866301    2.430925   \n",
       "5316     52083.859459     120512.8          700  29122.059454    1.888075   \n",
       "6863     30060.954167      49590.4          800  11520.184451    1.224438   \n",
       "5325     41297.480000      65898.5         1000  14151.260443    1.599446   \n",
       "7240     57188.211111     122893.1          600  25256.665817    5.784333   \n",
       "\n",
       "         credit_cnt  credit_dates_avg  credit_dates_std  credit_std  \\\n",
       "loan_id                                                               \n",
       "5314              3         22.500000         15.000000    4.384785   \n",
       "5316             16          5.705882          4.934125    6.478889   \n",
       "6863             14          9.133333         10.294705    4.064382   \n",
       "5325             12          8.846154          8.532742    4.825893   \n",
       "7240             12          9.846154          8.839741   19.422572   \n",
       "\n",
       "         household   ...    withdrawal_cnt  withdrawal_dates_avg  \\\n",
       "loan_id              ...                                           \n",
       "5314      0.000000   ...                 0              0.000000   \n",
       "5316     -0.188938   ...                20              2.450000   \n",
       "6863     -0.166444   ...                 9              2.888889   \n",
       "5325     -0.233710   ...                12              5.583333   \n",
       "7240     -0.017927   ...                14              5.000000   \n",
       "\n",
       "         withdrawal_dates_std  withdrawal_std  account_id       date  amount  \\\n",
       "loan_id                                                                        \n",
       "5314                 0.000000        0.000000        1787 1993-07-05   96396   \n",
       "5316                 2.625282        0.141195        1801 1993-07-11  165960   \n",
       "6863                 3.059593        0.131191        9188 1993-07-28  127080   \n",
       "5325                 6.639528        0.100542        1843 1993-08-03  105804   \n",
       "7240                 5.449065        0.136008       11013 1993-09-06  274740   \n",
       "\n",
       "         duration  payments  status  \n",
       "loan_id                              \n",
       "5314           12      8033       B  \n",
       "5316           36      4610       A  \n",
       "6863           60      2118       A  \n",
       "5325           36      2939       A  \n",
       "7240           60      4579       A  \n",
       "\n",
       "[5 rows x 25 columns]"
      ]
     },
     "execution_count": 44,
     "metadata": {},
     "output_type": "execute_result"
    }
   ],
   "source": [
    "temp_dfs = []\n",
    "for i, row in loans_df.iterrows():\n",
    "    temp_df = summarize_all_transactions(transactions_df_e, row['account_id'], row['date'])\n",
    "    temp_dfs.append(temp_df)\n",
    "    #loans_transactions_df = loans_transactions_df.merge(temp_df, left_on='account_id', right_index=True, how='left', sort=False)\n",
    "    \n",
    "loans_transactions_df = pd.concat(temp_dfs)\n",
    "loans_transactions_df = loans_transactions_df.fillna(0)\n",
    "loans_transactions_df = loans_transactions_df.merge(loans_df, right_on='account_id', left_index=True, how='left', sort=False)\n",
    "loans_transactions_df.head()"
   ]
  },
  {
   "cell_type": "markdown",
   "metadata": {},
   "source": [
    "### Clients\n",
    "\n",
    "Now we'll take a look at the features that characterize each user."
   ]
  },
  {
   "cell_type": "code",
   "execution_count": 45,
   "metadata": {
    "collapsed": false
   },
   "outputs": [
    {
     "data": {
      "text/html": [
       "<div>\n",
       "<table border=\"1\" class=\"dataframe\">\n",
       "  <thead>\n",
       "    <tr style=\"text-align: right;\">\n",
       "      <th></th>\n",
       "      <th>district_id</th>\n",
       "      <th>gender</th>\n",
       "      <th>birthday</th>\n",
       "    </tr>\n",
       "  </thead>\n",
       "  <tbody>\n",
       "    <tr>\n",
       "      <th>count</th>\n",
       "      <td>5369.000000</td>\n",
       "      <td>5369</td>\n",
       "      <td>5369</td>\n",
       "    </tr>\n",
       "    <tr>\n",
       "      <th>unique</th>\n",
       "      <td>NaN</td>\n",
       "      <td>2</td>\n",
       "      <td>4738</td>\n",
       "    </tr>\n",
       "    <tr>\n",
       "      <th>top</th>\n",
       "      <td>NaN</td>\n",
       "      <td>Male</td>\n",
       "      <td>1952-08-26 00:00:00</td>\n",
       "    </tr>\n",
       "    <tr>\n",
       "      <th>freq</th>\n",
       "      <td>NaN</td>\n",
       "      <td>2724</td>\n",
       "      <td>4</td>\n",
       "    </tr>\n",
       "    <tr>\n",
       "      <th>first</th>\n",
       "      <td>NaN</td>\n",
       "      <td>NaN</td>\n",
       "      <td>1916-01-20 00:00:00</td>\n",
       "    </tr>\n",
       "    <tr>\n",
       "      <th>last</th>\n",
       "      <td>NaN</td>\n",
       "      <td>NaN</td>\n",
       "      <td>2015-09-27 00:00:00</td>\n",
       "    </tr>\n",
       "    <tr>\n",
       "      <th>mean</th>\n",
       "      <td>37.310114</td>\n",
       "      <td>NaN</td>\n",
       "      <td>NaN</td>\n",
       "    </tr>\n",
       "    <tr>\n",
       "      <th>std</th>\n",
       "      <td>25.043690</td>\n",
       "      <td>NaN</td>\n",
       "      <td>NaN</td>\n",
       "    </tr>\n",
       "    <tr>\n",
       "      <th>min</th>\n",
       "      <td>1.000000</td>\n",
       "      <td>NaN</td>\n",
       "      <td>NaN</td>\n",
       "    </tr>\n",
       "    <tr>\n",
       "      <th>25%</th>\n",
       "      <td>14.000000</td>\n",
       "      <td>NaN</td>\n",
       "      <td>NaN</td>\n",
       "    </tr>\n",
       "    <tr>\n",
       "      <th>50%</th>\n",
       "      <td>38.000000</td>\n",
       "      <td>NaN</td>\n",
       "      <td>NaN</td>\n",
       "    </tr>\n",
       "    <tr>\n",
       "      <th>75%</th>\n",
       "      <td>60.000000</td>\n",
       "      <td>NaN</td>\n",
       "      <td>NaN</td>\n",
       "    </tr>\n",
       "    <tr>\n",
       "      <th>max</th>\n",
       "      <td>77.000000</td>\n",
       "      <td>NaN</td>\n",
       "      <td>NaN</td>\n",
       "    </tr>\n",
       "  </tbody>\n",
       "</table>\n",
       "</div>"
      ],
      "text/plain": [
       "        district_id gender             birthday\n",
       "count   5369.000000   5369                 5369\n",
       "unique          NaN      2                 4738\n",
       "top             NaN   Male  1952-08-26 00:00:00\n",
       "freq            NaN   2724                    4\n",
       "first           NaN    NaN  1916-01-20 00:00:00\n",
       "last            NaN    NaN  2015-09-27 00:00:00\n",
       "mean      37.310114    NaN                  NaN\n",
       "std       25.043690    NaN                  NaN\n",
       "min        1.000000    NaN                  NaN\n",
       "25%       14.000000    NaN                  NaN\n",
       "50%       38.000000    NaN                  NaN\n",
       "75%       60.000000    NaN                  NaN\n",
       "max       77.000000    NaN                  NaN"
      ]
     },
     "execution_count": 45,
     "metadata": {},
     "output_type": "execute_result"
    }
   ],
   "source": [
    "clients_df.describe(include='all')"
   ]
  },
  {
   "cell_type": "markdown",
   "metadata": {},
   "source": [
    "As for each user corresponds a district, we'll look into the corresponding table:"
   ]
  },
  {
   "cell_type": "code",
   "execution_count": 46,
   "metadata": {
    "collapsed": false
   },
   "outputs": [
    {
     "data": {
      "text/html": [
       "<div>\n",
       "<table border=\"1\" class=\"dataframe\">\n",
       "  <thead>\n",
       "    <tr style=\"text-align: right;\">\n",
       "      <th></th>\n",
       "      <th>district_name</th>\n",
       "      <th>region</th>\n",
       "      <th>no_inhabitants</th>\n",
       "      <th>no_municipalities_w_inhabitants_&lt;499</th>\n",
       "      <th>no_municipalities_w_inhabitants_500-1999</th>\n",
       "      <th>no_municipalities_w_inhabitants_2000-9999</th>\n",
       "      <th>no_municipalities_w_inhabitants_&gt;10000</th>\n",
       "      <th>no_cities</th>\n",
       "      <th>ratio_urban_inhabitants</th>\n",
       "      <th>average_salary</th>\n",
       "      <th>unemployment_rate_95</th>\n",
       "      <th>unemployment_rate_96</th>\n",
       "      <th>no_enterpreneurs_per_1000_inhabitants</th>\n",
       "      <th>no_commited_crimes_95</th>\n",
       "      <th>no_commited_crimes_96</th>\n",
       "    </tr>\n",
       "  </thead>\n",
       "  <tbody>\n",
       "    <tr>\n",
       "      <th>count</th>\n",
       "      <td>77</td>\n",
       "      <td>77</td>\n",
       "      <td>77.000000</td>\n",
       "      <td>77.000000</td>\n",
       "      <td>77.000000</td>\n",
       "      <td>77.000000</td>\n",
       "      <td>77.000000</td>\n",
       "      <td>77.000000</td>\n",
       "      <td>77.000000</td>\n",
       "      <td>77.000000</td>\n",
       "      <td>76.000000</td>\n",
       "      <td>77.000000</td>\n",
       "      <td>77.000000</td>\n",
       "      <td>76.000000</td>\n",
       "      <td>77.000000</td>\n",
       "    </tr>\n",
       "    <tr>\n",
       "      <th>unique</th>\n",
       "      <td>77</td>\n",
       "      <td>8</td>\n",
       "      <td>NaN</td>\n",
       "      <td>NaN</td>\n",
       "      <td>NaN</td>\n",
       "      <td>NaN</td>\n",
       "      <td>NaN</td>\n",
       "      <td>NaN</td>\n",
       "      <td>NaN</td>\n",
       "      <td>NaN</td>\n",
       "      <td>NaN</td>\n",
       "      <td>NaN</td>\n",
       "      <td>NaN</td>\n",
       "      <td>NaN</td>\n",
       "      <td>NaN</td>\n",
       "    </tr>\n",
       "    <tr>\n",
       "      <th>top</th>\n",
       "      <td>D77</td>\n",
       "      <td>R7</td>\n",
       "      <td>NaN</td>\n",
       "      <td>NaN</td>\n",
       "      <td>NaN</td>\n",
       "      <td>NaN</td>\n",
       "      <td>NaN</td>\n",
       "      <td>NaN</td>\n",
       "      <td>NaN</td>\n",
       "      <td>NaN</td>\n",
       "      <td>NaN</td>\n",
       "      <td>NaN</td>\n",
       "      <td>NaN</td>\n",
       "      <td>NaN</td>\n",
       "      <td>NaN</td>\n",
       "    </tr>\n",
       "    <tr>\n",
       "      <th>freq</th>\n",
       "      <td>1</td>\n",
       "      <td>14</td>\n",
       "      <td>NaN</td>\n",
       "      <td>NaN</td>\n",
       "      <td>NaN</td>\n",
       "      <td>NaN</td>\n",
       "      <td>NaN</td>\n",
       "      <td>NaN</td>\n",
       "      <td>NaN</td>\n",
       "      <td>NaN</td>\n",
       "      <td>NaN</td>\n",
       "      <td>NaN</td>\n",
       "      <td>NaN</td>\n",
       "      <td>NaN</td>\n",
       "      <td>NaN</td>\n",
       "    </tr>\n",
       "    <tr>\n",
       "      <th>mean</th>\n",
       "      <td>NaN</td>\n",
       "      <td>NaN</td>\n",
       "      <td>133884.896104</td>\n",
       "      <td>48.623377</td>\n",
       "      <td>24.324675</td>\n",
       "      <td>6.272727</td>\n",
       "      <td>1.727273</td>\n",
       "      <td>6.259740</td>\n",
       "      <td>63.035065</td>\n",
       "      <td>9031.675325</td>\n",
       "      <td>3.119342</td>\n",
       "      <td>3.787013</td>\n",
       "      <td>116.129870</td>\n",
       "      <td>4850.315789</td>\n",
       "      <td>5030.831169</td>\n",
       "    </tr>\n",
       "    <tr>\n",
       "      <th>std</th>\n",
       "      <td>NaN</td>\n",
       "      <td>NaN</td>\n",
       "      <td>136913.464909</td>\n",
       "      <td>32.741829</td>\n",
       "      <td>12.780991</td>\n",
       "      <td>4.015222</td>\n",
       "      <td>1.008338</td>\n",
       "      <td>2.435497</td>\n",
       "      <td>16.221727</td>\n",
       "      <td>790.202347</td>\n",
       "      <td>1.665568</td>\n",
       "      <td>1.908480</td>\n",
       "      <td>16.608773</td>\n",
       "      <td>9888.951933</td>\n",
       "      <td>11270.796786</td>\n",
       "    </tr>\n",
       "    <tr>\n",
       "      <th>min</th>\n",
       "      <td>NaN</td>\n",
       "      <td>NaN</td>\n",
       "      <td>42821.000000</td>\n",
       "      <td>0.000000</td>\n",
       "      <td>0.000000</td>\n",
       "      <td>0.000000</td>\n",
       "      <td>0.000000</td>\n",
       "      <td>1.000000</td>\n",
       "      <td>33.900000</td>\n",
       "      <td>8110.000000</td>\n",
       "      <td>0.290000</td>\n",
       "      <td>0.430000</td>\n",
       "      <td>81.000000</td>\n",
       "      <td>818.000000</td>\n",
       "      <td>888.000000</td>\n",
       "    </tr>\n",
       "    <tr>\n",
       "      <th>25%</th>\n",
       "      <td>NaN</td>\n",
       "      <td>NaN</td>\n",
       "      <td>85852.000000</td>\n",
       "      <td>22.000000</td>\n",
       "      <td>16.000000</td>\n",
       "      <td>4.000000</td>\n",
       "      <td>1.000000</td>\n",
       "      <td>5.000000</td>\n",
       "      <td>51.900000</td>\n",
       "      <td>8512.000000</td>\n",
       "      <td>1.787500</td>\n",
       "      <td>2.310000</td>\n",
       "      <td>105.000000</td>\n",
       "      <td>2029.750000</td>\n",
       "      <td>2122.000000</td>\n",
       "    </tr>\n",
       "    <tr>\n",
       "      <th>50%</th>\n",
       "      <td>NaN</td>\n",
       "      <td>NaN</td>\n",
       "      <td>108871.000000</td>\n",
       "      <td>49.000000</td>\n",
       "      <td>25.000000</td>\n",
       "      <td>6.000000</td>\n",
       "      <td>2.000000</td>\n",
       "      <td>6.000000</td>\n",
       "      <td>59.800000</td>\n",
       "      <td>8814.000000</td>\n",
       "      <td>2.825000</td>\n",
       "      <td>3.600000</td>\n",
       "      <td>113.000000</td>\n",
       "      <td>2932.000000</td>\n",
       "      <td>3040.000000</td>\n",
       "    </tr>\n",
       "    <tr>\n",
       "      <th>75%</th>\n",
       "      <td>NaN</td>\n",
       "      <td>NaN</td>\n",
       "      <td>139012.000000</td>\n",
       "      <td>71.000000</td>\n",
       "      <td>32.000000</td>\n",
       "      <td>8.000000</td>\n",
       "      <td>2.000000</td>\n",
       "      <td>8.000000</td>\n",
       "      <td>73.500000</td>\n",
       "      <td>9317.000000</td>\n",
       "      <td>3.890000</td>\n",
       "      <td>4.790000</td>\n",
       "      <td>126.000000</td>\n",
       "      <td>4525.500000</td>\n",
       "      <td>4595.000000</td>\n",
       "    </tr>\n",
       "    <tr>\n",
       "      <th>max</th>\n",
       "      <td>NaN</td>\n",
       "      <td>NaN</td>\n",
       "      <td>1204953.000000</td>\n",
       "      <td>151.000000</td>\n",
       "      <td>70.000000</td>\n",
       "      <td>20.000000</td>\n",
       "      <td>5.000000</td>\n",
       "      <td>11.000000</td>\n",
       "      <td>100.000000</td>\n",
       "      <td>12541.000000</td>\n",
       "      <td>7.340000</td>\n",
       "      <td>9.400000</td>\n",
       "      <td>167.000000</td>\n",
       "      <td>85677.000000</td>\n",
       "      <td>99107.000000</td>\n",
       "    </tr>\n",
       "  </tbody>\n",
       "</table>\n",
       "</div>"
      ],
      "text/plain": [
       "       district_name region  no_inhabitants  \\\n",
       "count             77     77       77.000000   \n",
       "unique            77      8             NaN   \n",
       "top              D77     R7             NaN   \n",
       "freq               1     14             NaN   \n",
       "mean             NaN    NaN   133884.896104   \n",
       "std              NaN    NaN   136913.464909   \n",
       "min              NaN    NaN    42821.000000   \n",
       "25%              NaN    NaN    85852.000000   \n",
       "50%              NaN    NaN   108871.000000   \n",
       "75%              NaN    NaN   139012.000000   \n",
       "max              NaN    NaN  1204953.000000   \n",
       "\n",
       "        no_municipalities_w_inhabitants_<499  \\\n",
       "count                              77.000000   \n",
       "unique                                   NaN   \n",
       "top                                      NaN   \n",
       "freq                                     NaN   \n",
       "mean                               48.623377   \n",
       "std                                32.741829   \n",
       "min                                 0.000000   \n",
       "25%                                22.000000   \n",
       "50%                                49.000000   \n",
       "75%                                71.000000   \n",
       "max                               151.000000   \n",
       "\n",
       "        no_municipalities_w_inhabitants_500-1999  \\\n",
       "count                                  77.000000   \n",
       "unique                                       NaN   \n",
       "top                                          NaN   \n",
       "freq                                         NaN   \n",
       "mean                                   24.324675   \n",
       "std                                    12.780991   \n",
       "min                                     0.000000   \n",
       "25%                                    16.000000   \n",
       "50%                                    25.000000   \n",
       "75%                                    32.000000   \n",
       "max                                    70.000000   \n",
       "\n",
       "        no_municipalities_w_inhabitants_2000-9999  \\\n",
       "count                                   77.000000   \n",
       "unique                                        NaN   \n",
       "top                                           NaN   \n",
       "freq                                          NaN   \n",
       "mean                                     6.272727   \n",
       "std                                      4.015222   \n",
       "min                                      0.000000   \n",
       "25%                                      4.000000   \n",
       "50%                                      6.000000   \n",
       "75%                                      8.000000   \n",
       "max                                     20.000000   \n",
       "\n",
       "        no_municipalities_w_inhabitants_>10000  no_cities  \\\n",
       "count                                77.000000  77.000000   \n",
       "unique                                     NaN        NaN   \n",
       "top                                        NaN        NaN   \n",
       "freq                                       NaN        NaN   \n",
       "mean                                  1.727273   6.259740   \n",
       "std                                   1.008338   2.435497   \n",
       "min                                   0.000000   1.000000   \n",
       "25%                                   1.000000   5.000000   \n",
       "50%                                   2.000000   6.000000   \n",
       "75%                                   2.000000   8.000000   \n",
       "max                                   5.000000  11.000000   \n",
       "\n",
       "        ratio_urban_inhabitants  average_salary  unemployment_rate_95  \\\n",
       "count                 77.000000       77.000000             76.000000   \n",
       "unique                      NaN             NaN                   NaN   \n",
       "top                         NaN             NaN                   NaN   \n",
       "freq                        NaN             NaN                   NaN   \n",
       "mean                  63.035065     9031.675325              3.119342   \n",
       "std                   16.221727      790.202347              1.665568   \n",
       "min                   33.900000     8110.000000              0.290000   \n",
       "25%                   51.900000     8512.000000              1.787500   \n",
       "50%                   59.800000     8814.000000              2.825000   \n",
       "75%                   73.500000     9317.000000              3.890000   \n",
       "max                  100.000000    12541.000000              7.340000   \n",
       "\n",
       "        unemployment_rate_96  no_enterpreneurs_per_1000_inhabitants  \\\n",
       "count              77.000000                              77.000000   \n",
       "unique                   NaN                                    NaN   \n",
       "top                      NaN                                    NaN   \n",
       "freq                     NaN                                    NaN   \n",
       "mean                3.787013                             116.129870   \n",
       "std                 1.908480                              16.608773   \n",
       "min                 0.430000                              81.000000   \n",
       "25%                 2.310000                             105.000000   \n",
       "50%                 3.600000                             113.000000   \n",
       "75%                 4.790000                             126.000000   \n",
       "max                 9.400000                             167.000000   \n",
       "\n",
       "        no_commited_crimes_95  no_commited_crimes_96  \n",
       "count               76.000000              77.000000  \n",
       "unique                    NaN                    NaN  \n",
       "top                       NaN                    NaN  \n",
       "freq                      NaN                    NaN  \n",
       "mean              4850.315789            5030.831169  \n",
       "std               9888.951933           11270.796786  \n",
       "min                818.000000             888.000000  \n",
       "25%               2029.750000            2122.000000  \n",
       "50%               2932.000000            3040.000000  \n",
       "75%               4525.500000            4595.000000  \n",
       "max              85677.000000           99107.000000  "
      ]
     },
     "execution_count": 46,
     "metadata": {},
     "output_type": "execute_result"
    }
   ],
   "source": [
    "districts_df.describe(include='all')"
   ]
  },
  {
   "cell_type": "markdown",
   "metadata": {},
   "source": [
    "We can consider both the individual districts or the regions. \n",
    "In order to evaluate if the generalization for regions is reduces or not some interesting events, we'll use PCA to reduce the dimensionality of the table to two dimensions, therefore making it possible to plot."
   ]
  },
  {
   "cell_type": "code",
   "execution_count": 47,
   "metadata": {
    "collapsed": true
   },
   "outputs": [],
   "source": [
    "districts_df_e = districts_df.drop(['district_name', 'region'], axis='columns')\n",
    "districts_df_e = districts_df_e.fillna(0)"
   ]
  },
  {
   "cell_type": "code",
   "execution_count": 48,
   "metadata": {
    "collapsed": false
   },
   "outputs": [],
   "source": [
    "from sklearn.decomposition import PCA\n",
    "pca = PCA(n_components=2)\n",
    "districts_reduced = pca.fit_transform(districts_df_e.values)"
   ]
  },
  {
   "cell_type": "code",
   "execution_count": 49,
   "metadata": {
    "collapsed": false
   },
   "outputs": [
    {
     "data": {
      "text/plain": [
       "<matplotlib.axes._subplots.AxesSubplot at 0x7feee0fa7a20>"
      ]
     },
     "execution_count": 49,
     "metadata": {},
     "output_type": "execute_result"
    },
    {
     "data": {
      "image/png": "[encoded data removed]",
      "text/plain": [
       "<matplotlib.figure.Figure at 0x7feee0fa7198>"
      ]
     },
     "metadata": {},
     "output_type": "display_data"
    }
   ],
   "source": [
    "districts_df_e['a'] = districts_reduced[:, 0]\n",
    "districts_df_e['b'] = districts_reduced[:, 1]\n",
    "\n",
    "# convert regions to integers, to use them as colors\n",
    "regions = districts_df.apply(lambda x: x['region'][1], axis='columns').astype(int)\n",
    "\n",
    "districts_df_e.plot(kind='scatter', x='a', y='b', c=regions)"
   ]
  },
  {
   "cell_type": "markdown",
   "metadata": {},
   "source": [
    "From the plot we conclude that probably it is beneficial to work with districts."
   ]
  },
  {
   "cell_type": "code",
   "execution_count": 50,
   "metadata": {
    "collapsed": false
   },
   "outputs": [
    {
     "data": {
      "text/html": [
       "<div>\n",
       "<table border=\"1\" class=\"dataframe\">\n",
       "  <thead>\n",
       "    <tr style=\"text-align: right;\">\n",
       "      <th></th>\n",
       "      <th>district_id</th>\n",
       "      <th>gender</th>\n",
       "      <th>birthday</th>\n",
       "    </tr>\n",
       "    <tr>\n",
       "      <th>client_id</th>\n",
       "      <th></th>\n",
       "      <th></th>\n",
       "      <th></th>\n",
       "    </tr>\n",
       "  </thead>\n",
       "  <tbody>\n",
       "    <tr>\n",
       "      <th>1</th>\n",
       "      <td>18</td>\n",
       "      <td>Female</td>\n",
       "      <td>1970-12-13</td>\n",
       "    </tr>\n",
       "    <tr>\n",
       "      <th>2</th>\n",
       "      <td>1</td>\n",
       "      <td>Male</td>\n",
       "      <td>1945-02-04</td>\n",
       "    </tr>\n",
       "    <tr>\n",
       "      <th>3</th>\n",
       "      <td>1</td>\n",
       "      <td>Female</td>\n",
       "      <td>1940-10-09</td>\n",
       "    </tr>\n",
       "    <tr>\n",
       "      <th>4</th>\n",
       "      <td>5</td>\n",
       "      <td>Male</td>\n",
       "      <td>1956-12-01</td>\n",
       "    </tr>\n",
       "    <tr>\n",
       "      <th>5</th>\n",
       "      <td>5</td>\n",
       "      <td>Female</td>\n",
       "      <td>1960-07-03</td>\n",
       "    </tr>\n",
       "  </tbody>\n",
       "</table>\n",
       "</div>"
      ],
      "text/plain": [
       "           district_id  gender   birthday\n",
       "client_id                                \n",
       "1                   18  Female 1970-12-13\n",
       "2                    1    Male 1945-02-04\n",
       "3                    1  Female 1940-10-09\n",
       "4                    5    Male 1956-12-01\n",
       "5                    5  Female 1960-07-03"
      ]
     },
     "execution_count": 50,
     "metadata": {},
     "output_type": "execute_result"
    }
   ],
   "source": [
    "clients_df.head()"
   ]
  },
  {
   "cell_type": "code",
   "execution_count": 51,
   "metadata": {
    "collapsed": false
   },
   "outputs": [
    {
     "data": {
      "text/html": [
       "<div>\n",
       "<table border=\"1\" class=\"dataframe\">\n",
       "  <thead>\n",
       "    <tr style=\"text-align: right;\">\n",
       "      <th></th>\n",
       "      <th>gender</th>\n",
       "      <th>birthday</th>\n",
       "      <th>no_inhabitants</th>\n",
       "      <th>no_municipalities_w_inhabitants_&lt;499</th>\n",
       "      <th>no_municipalities_w_inhabitants_500-1999</th>\n",
       "      <th>no_municipalities_w_inhabitants_2000-9999</th>\n",
       "      <th>no_municipalities_w_inhabitants_&gt;10000</th>\n",
       "      <th>no_cities</th>\n",
       "      <th>ratio_urban_inhabitants</th>\n",
       "      <th>average_salary</th>\n",
       "      <th>unemployment_rate_95</th>\n",
       "      <th>unemployment_rate_96</th>\n",
       "      <th>no_enterpreneurs_per_1000_inhabitants</th>\n",
       "      <th>no_commited_crimes_95</th>\n",
       "      <th>no_commited_crimes_96</th>\n",
       "    </tr>\n",
       "    <tr>\n",
       "      <th>client_id</th>\n",
       "      <th></th>\n",
       "      <th></th>\n",
       "      <th></th>\n",
       "      <th></th>\n",
       "      <th></th>\n",
       "      <th></th>\n",
       "      <th></th>\n",
       "      <th></th>\n",
       "      <th></th>\n",
       "      <th></th>\n",
       "      <th></th>\n",
       "      <th></th>\n",
       "      <th></th>\n",
       "      <th></th>\n",
       "      <th></th>\n",
       "    </tr>\n",
       "  </thead>\n",
       "  <tbody>\n",
       "    <tr>\n",
       "      <th>1</th>\n",
       "      <td>Female</td>\n",
       "      <td>1970-12-13</td>\n",
       "      <td>70699</td>\n",
       "      <td>60</td>\n",
       "      <td>13</td>\n",
       "      <td>2</td>\n",
       "      <td>1</td>\n",
       "      <td>4</td>\n",
       "      <td>65.3</td>\n",
       "      <td>8968</td>\n",
       "      <td>2.83</td>\n",
       "      <td>3.35</td>\n",
       "      <td>131</td>\n",
       "      <td>1740</td>\n",
       "      <td>1910</td>\n",
       "    </tr>\n",
       "    <tr>\n",
       "      <th>2</th>\n",
       "      <td>Male</td>\n",
       "      <td>1945-02-04</td>\n",
       "      <td>1204953</td>\n",
       "      <td>0</td>\n",
       "      <td>0</td>\n",
       "      <td>0</td>\n",
       "      <td>1</td>\n",
       "      <td>1</td>\n",
       "      <td>100.0</td>\n",
       "      <td>12541</td>\n",
       "      <td>0.29</td>\n",
       "      <td>0.43</td>\n",
       "      <td>167</td>\n",
       "      <td>85677</td>\n",
       "      <td>99107</td>\n",
       "    </tr>\n",
       "    <tr>\n",
       "      <th>3</th>\n",
       "      <td>Female</td>\n",
       "      <td>1940-10-09</td>\n",
       "      <td>1204953</td>\n",
       "      <td>0</td>\n",
       "      <td>0</td>\n",
       "      <td>0</td>\n",
       "      <td>1</td>\n",
       "      <td>1</td>\n",
       "      <td>100.0</td>\n",
       "      <td>12541</td>\n",
       "      <td>0.29</td>\n",
       "      <td>0.43</td>\n",
       "      <td>167</td>\n",
       "      <td>85677</td>\n",
       "      <td>99107</td>\n",
       "    </tr>\n",
       "    <tr>\n",
       "      <th>4</th>\n",
       "      <td>Male</td>\n",
       "      <td>1956-12-01</td>\n",
       "      <td>95616</td>\n",
       "      <td>65</td>\n",
       "      <td>30</td>\n",
       "      <td>4</td>\n",
       "      <td>1</td>\n",
       "      <td>6</td>\n",
       "      <td>51.4</td>\n",
       "      <td>9307</td>\n",
       "      <td>3.85</td>\n",
       "      <td>4.43</td>\n",
       "      <td>118</td>\n",
       "      <td>2616</td>\n",
       "      <td>3040</td>\n",
       "    </tr>\n",
       "    <tr>\n",
       "      <th>5</th>\n",
       "      <td>Female</td>\n",
       "      <td>1960-07-03</td>\n",
       "      <td>95616</td>\n",
       "      <td>65</td>\n",
       "      <td>30</td>\n",
       "      <td>4</td>\n",
       "      <td>1</td>\n",
       "      <td>6</td>\n",
       "      <td>51.4</td>\n",
       "      <td>9307</td>\n",
       "      <td>3.85</td>\n",
       "      <td>4.43</td>\n",
       "      <td>118</td>\n",
       "      <td>2616</td>\n",
       "      <td>3040</td>\n",
       "    </tr>\n",
       "  </tbody>\n",
       "</table>\n",
       "</div>"
      ],
      "text/plain": [
       "           gender   birthday  no_inhabitants  \\\n",
       "client_id                                      \n",
       "1          Female 1970-12-13           70699   \n",
       "2            Male 1945-02-04         1204953   \n",
       "3          Female 1940-10-09         1204953   \n",
       "4            Male 1956-12-01           95616   \n",
       "5          Female 1960-07-03           95616   \n",
       "\n",
       "           no_municipalities_w_inhabitants_<499  \\\n",
       "client_id                                         \n",
       "1                                            60   \n",
       "2                                             0   \n",
       "3                                             0   \n",
       "4                                            65   \n",
       "5                                            65   \n",
       "\n",
       "           no_municipalities_w_inhabitants_500-1999  \\\n",
       "client_id                                             \n",
       "1                                                13   \n",
       "2                                                 0   \n",
       "3                                                 0   \n",
       "4                                                30   \n",
       "5                                                30   \n",
       "\n",
       "           no_municipalities_w_inhabitants_2000-9999  \\\n",
       "client_id                                              \n",
       "1                                                  2   \n",
       "2                                                  0   \n",
       "3                                                  0   \n",
       "4                                                  4   \n",
       "5                                                  4   \n",
       "\n",
       "           no_municipalities_w_inhabitants_>10000  no_cities  \\\n",
       "client_id                                                      \n",
       "1                                               1          4   \n",
       "2                                               1          1   \n",
       "3                                               1          1   \n",
       "4                                               1          6   \n",
       "5                                               1          6   \n",
       "\n",
       "           ratio_urban_inhabitants  average_salary  unemployment_rate_95  \\\n",
       "client_id                                                                  \n",
       "1                             65.3            8968                  2.83   \n",
       "2                            100.0           12541                  0.29   \n",
       "3                            100.0           12541                  0.29   \n",
       "4                             51.4            9307                  3.85   \n",
       "5                             51.4            9307                  3.85   \n",
       "\n",
       "           unemployment_rate_96  no_enterpreneurs_per_1000_inhabitants  \\\n",
       "client_id                                                                \n",
       "1                          3.35                                    131   \n",
       "2                          0.43                                    167   \n",
       "3                          0.43                                    167   \n",
       "4                          4.43                                    118   \n",
       "5                          4.43                                    118   \n",
       "\n",
       "           no_commited_crimes_95  no_commited_crimes_96  \n",
       "client_id                                                \n",
       "1                           1740                   1910  \n",
       "2                          85677                  99107  \n",
       "3                          85677                  99107  \n",
       "4                           2616                   3040  \n",
       "5                           2616                   3040  "
      ]
     },
     "execution_count": 51,
     "metadata": {},
     "output_type": "execute_result"
    }
   ],
   "source": [
    "clients_districts_df = pd.merge(clients_df, districts_df.drop(['region', 'district_name'], axis='columns'), left_on='district_id', right_index=True, how='left', sort=False)\n",
    "\n",
    "# we no longer need district_id column\n",
    "clients_districts_df = clients_districts_df.drop('district_id', axis='columns')\n",
    "\n",
    "clients_districts_df.head()"
   ]
  },
  {
   "cell_type": "markdown",
   "metadata": {},
   "source": [
    "Now we'll merge **Credit Cards** and **Clients** information with the accounts.\n",
    "\n",
    "As there may be multiple credit cards and clients associated with a given account, we have to devise a certain heuristics."
   ]
  },
  {
   "cell_type": "code",
   "execution_count": 52,
   "metadata": {
    "collapsed": false
   },
   "outputs": [
    {
     "data": {
      "text/html": [
       "<div>\n",
       "<table border=\"1\" class=\"dataframe\">\n",
       "  <thead>\n",
       "    <tr style=\"text-align: right;\">\n",
       "      <th></th>\n",
       "      <th>client_id</th>\n",
       "      <th>account_id</th>\n",
       "      <th>type</th>\n",
       "    </tr>\n",
       "  </thead>\n",
       "  <tbody>\n",
       "    <tr>\n",
       "      <th>count</th>\n",
       "      <td>5369.000000</td>\n",
       "      <td>5369.000000</td>\n",
       "      <td>5369</td>\n",
       "    </tr>\n",
       "    <tr>\n",
       "      <th>unique</th>\n",
       "      <td>NaN</td>\n",
       "      <td>NaN</td>\n",
       "      <td>2</td>\n",
       "    </tr>\n",
       "    <tr>\n",
       "      <th>top</th>\n",
       "      <td>NaN</td>\n",
       "      <td>NaN</td>\n",
       "      <td>OWNER</td>\n",
       "    </tr>\n",
       "    <tr>\n",
       "      <th>freq</th>\n",
       "      <td>NaN</td>\n",
       "      <td>NaN</td>\n",
       "      <td>4500</td>\n",
       "    </tr>\n",
       "    <tr>\n",
       "      <th>mean</th>\n",
       "      <td>3359.011920</td>\n",
       "      <td>2767.496927</td>\n",
       "      <td>NaN</td>\n",
       "    </tr>\n",
       "    <tr>\n",
       "      <th>std</th>\n",
       "      <td>2832.911984</td>\n",
       "      <td>2307.843630</td>\n",
       "      <td>NaN</td>\n",
       "    </tr>\n",
       "    <tr>\n",
       "      <th>min</th>\n",
       "      <td>1.000000</td>\n",
       "      <td>1.000000</td>\n",
       "      <td>NaN</td>\n",
       "    </tr>\n",
       "    <tr>\n",
       "      <th>25%</th>\n",
       "      <td>1418.000000</td>\n",
       "      <td>1178.000000</td>\n",
       "      <td>NaN</td>\n",
       "    </tr>\n",
       "    <tr>\n",
       "      <th>50%</th>\n",
       "      <td>2839.000000</td>\n",
       "      <td>2349.000000</td>\n",
       "      <td>NaN</td>\n",
       "    </tr>\n",
       "    <tr>\n",
       "      <th>75%</th>\n",
       "      <td>4257.000000</td>\n",
       "      <td>3526.000000</td>\n",
       "      <td>NaN</td>\n",
       "    </tr>\n",
       "    <tr>\n",
       "      <th>max</th>\n",
       "      <td>13998.000000</td>\n",
       "      <td>11382.000000</td>\n",
       "      <td>NaN</td>\n",
       "    </tr>\n",
       "  </tbody>\n",
       "</table>\n",
       "</div>"
      ],
      "text/plain": [
       "           client_id    account_id   type\n",
       "count    5369.000000   5369.000000   5369\n",
       "unique           NaN           NaN      2\n",
       "top              NaN           NaN  OWNER\n",
       "freq             NaN           NaN   4500\n",
       "mean     3359.011920   2767.496927    NaN\n",
       "std      2832.911984   2307.843630    NaN\n",
       "min         1.000000      1.000000    NaN\n",
       "25%      1418.000000   1178.000000    NaN\n",
       "50%      2839.000000   2349.000000    NaN\n",
       "75%      4257.000000   3526.000000    NaN\n",
       "max     13998.000000  11382.000000    NaN"
      ]
     },
     "execution_count": 52,
     "metadata": {},
     "output_type": "execute_result"
    }
   ],
   "source": [
    "dispositions_df.describe(include='all')"
   ]
  },
  {
   "cell_type": "code",
   "execution_count": 53,
   "metadata": {
    "collapsed": false
   },
   "outputs": [
    {
     "data": {
      "text/plain": [
       "array(['OWNER', 'DISPONENT'], dtype=object)"
      ]
     },
     "execution_count": 53,
     "metadata": {},
     "output_type": "execute_result"
    }
   ],
   "source": [
    "dispositions_df.type.unique()"
   ]
  },
  {
   "cell_type": "markdown",
   "metadata": {},
   "source": [
    "To start, we'll simply use the information about the owner of the account.\n",
    "\n",
    "We'll check the data if there is really only one owner per account."
   ]
  },
  {
   "cell_type": "code",
   "execution_count": 54,
   "metadata": {
    "collapsed": false
   },
   "outputs": [],
   "source": [
    "dispositions_owners_df = dispositions_df[dispositions_df['type'] == 'OWNER'].drop('type', axis='columns')"
   ]
  },
  {
   "cell_type": "code",
   "execution_count": 55,
   "metadata": {
    "collapsed": false
   },
   "outputs": [
    {
     "data": {
      "text/plain": [
       "client_id    0\n",
       "dtype: int64"
      ]
     },
     "execution_count": 55,
     "metadata": {},
     "output_type": "execute_result"
    }
   ],
   "source": [
    "owners_per_account_df = dispositions_owners_df.groupby(['account_id']).count()\n",
    "\n",
    "owners_per_account_df[owners_per_account_df['client_id'] != 1].count(axis='index')"
   ]
  },
  {
   "cell_type": "markdown",
   "metadata": {},
   "source": [
    "We can now merge **clients** with **accounts**"
   ]
  },
  {
   "cell_type": "code",
   "execution_count": 56,
   "metadata": {
    "collapsed": false
   },
   "outputs": [
    {
     "data": {
      "text/html": [
       "<div>\n",
       "<table border=\"1\" class=\"dataframe\">\n",
       "  <thead>\n",
       "    <tr style=\"text-align: right;\">\n",
       "      <th></th>\n",
       "      <th>district_id</th>\n",
       "      <th>frequency</th>\n",
       "      <th>date</th>\n",
       "      <th>gender</th>\n",
       "      <th>birthday</th>\n",
       "      <th>no_inhabitants</th>\n",
       "      <th>no_municipalities_w_inhabitants_&lt;499</th>\n",
       "      <th>no_municipalities_w_inhabitants_500-1999</th>\n",
       "      <th>no_municipalities_w_inhabitants_2000-9999</th>\n",
       "      <th>no_municipalities_w_inhabitants_&gt;10000</th>\n",
       "      <th>no_cities</th>\n",
       "      <th>ratio_urban_inhabitants</th>\n",
       "      <th>average_salary</th>\n",
       "      <th>unemployment_rate_95</th>\n",
       "      <th>unemployment_rate_96</th>\n",
       "      <th>no_enterpreneurs_per_1000_inhabitants</th>\n",
       "      <th>no_commited_crimes_95</th>\n",
       "      <th>no_commited_crimes_96</th>\n",
       "    </tr>\n",
       "    <tr>\n",
       "      <th>account_id</th>\n",
       "      <th></th>\n",
       "      <th></th>\n",
       "      <th></th>\n",
       "      <th></th>\n",
       "      <th></th>\n",
       "      <th></th>\n",
       "      <th></th>\n",
       "      <th></th>\n",
       "      <th></th>\n",
       "      <th></th>\n",
       "      <th></th>\n",
       "      <th></th>\n",
       "      <th></th>\n",
       "      <th></th>\n",
       "      <th></th>\n",
       "      <th></th>\n",
       "      <th></th>\n",
       "      <th></th>\n",
       "    </tr>\n",
       "  </thead>\n",
       "  <tbody>\n",
       "    <tr>\n",
       "      <th>576</th>\n",
       "      <td>55</td>\n",
       "      <td>monthly issuance</td>\n",
       "      <td>1993-01-01</td>\n",
       "      <td>Female</td>\n",
       "      <td>1936-01-11</td>\n",
       "      <td>323870</td>\n",
       "      <td>0</td>\n",
       "      <td>0</td>\n",
       "      <td>0</td>\n",
       "      <td>1</td>\n",
       "      <td>1</td>\n",
       "      <td>100.0</td>\n",
       "      <td>10673</td>\n",
       "      <td>4.75</td>\n",
       "      <td>5.44</td>\n",
       "      <td>100</td>\n",
       "      <td>18782</td>\n",
       "      <td>18347</td>\n",
       "    </tr>\n",
       "    <tr>\n",
       "      <th>3818</th>\n",
       "      <td>74</td>\n",
       "      <td>monthly issuance</td>\n",
       "      <td>1993-01-01</td>\n",
       "      <td>Male</td>\n",
       "      <td>1935-04-02</td>\n",
       "      <td>1204953</td>\n",
       "      <td>0</td>\n",
       "      <td>0</td>\n",
       "      <td>0</td>\n",
       "      <td>1</td>\n",
       "      <td>1</td>\n",
       "      <td>100.0</td>\n",
       "      <td>12541</td>\n",
       "      <td>0.29</td>\n",
       "      <td>0.43</td>\n",
       "      <td>167</td>\n",
       "      <td>85677</td>\n",
       "      <td>99107</td>\n",
       "    </tr>\n",
       "    <tr>\n",
       "      <th>704</th>\n",
       "      <td>55</td>\n",
       "      <td>monthly issuance</td>\n",
       "      <td>1993-01-01</td>\n",
       "      <td>Male</td>\n",
       "      <td>1945-01-14</td>\n",
       "      <td>58400</td>\n",
       "      <td>65</td>\n",
       "      <td>16</td>\n",
       "      <td>4</td>\n",
       "      <td>1</td>\n",
       "      <td>6</td>\n",
       "      <td>52.4</td>\n",
       "      <td>8620</td>\n",
       "      <td>1.10</td>\n",
       "      <td>1.25</td>\n",
       "      <td>100</td>\n",
       "      <td>1089</td>\n",
       "      <td>1117</td>\n",
       "    </tr>\n",
       "    <tr>\n",
       "      <th>2378</th>\n",
       "      <td>16</td>\n",
       "      <td>monthly issuance</td>\n",
       "      <td>1993-01-01</td>\n",
       "      <td>Female</td>\n",
       "      <td>1975-03-24</td>\n",
       "      <td>93931</td>\n",
       "      <td>74</td>\n",
       "      <td>21</td>\n",
       "      <td>10</td>\n",
       "      <td>1</td>\n",
       "      <td>8</td>\n",
       "      <td>56.9</td>\n",
       "      <td>8427</td>\n",
       "      <td>1.12</td>\n",
       "      <td>1.54</td>\n",
       "      <td>107</td>\n",
       "      <td>1874</td>\n",
       "      <td>1913</td>\n",
       "    </tr>\n",
       "    <tr>\n",
       "      <th>2632</th>\n",
       "      <td>24</td>\n",
       "      <td>monthly issuance</td>\n",
       "      <td>1993-01-02</td>\n",
       "      <td>Male</td>\n",
       "      <td>1938-08-12</td>\n",
       "      <td>122603</td>\n",
       "      <td>25</td>\n",
       "      <td>21</td>\n",
       "      <td>6</td>\n",
       "      <td>2</td>\n",
       "      <td>8</td>\n",
       "      <td>80.0</td>\n",
       "      <td>8991</td>\n",
       "      <td>1.39</td>\n",
       "      <td>2.01</td>\n",
       "      <td>128</td>\n",
       "      <td>5198</td>\n",
       "      <td>5273</td>\n",
       "    </tr>\n",
       "  </tbody>\n",
       "</table>\n",
       "</div>"
      ],
      "text/plain": [
       "            district_id         frequency       date  gender   birthday  \\\n",
       "account_id                                                                \n",
       "576                  55  monthly issuance 1993-01-01  Female 1936-01-11   \n",
       "3818                 74  monthly issuance 1993-01-01    Male 1935-04-02   \n",
       "704                  55  monthly issuance 1993-01-01    Male 1945-01-14   \n",
       "2378                 16  monthly issuance 1993-01-01  Female 1975-03-24   \n",
       "2632                 24  monthly issuance 1993-01-02    Male 1938-08-12   \n",
       "\n",
       "            no_inhabitants  no_municipalities_w_inhabitants_<499  \\\n",
       "account_id                                                         \n",
       "576                 323870                                     0   \n",
       "3818               1204953                                     0   \n",
       "704                  58400                                    65   \n",
       "2378                 93931                                    74   \n",
       "2632                122603                                    25   \n",
       "\n",
       "            no_municipalities_w_inhabitants_500-1999  \\\n",
       "account_id                                             \n",
       "576                                                0   \n",
       "3818                                               0   \n",
       "704                                               16   \n",
       "2378                                              21   \n",
       "2632                                              21   \n",
       "\n",
       "            no_municipalities_w_inhabitants_2000-9999  \\\n",
       "account_id                                              \n",
       "576                                                 0   \n",
       "3818                                                0   \n",
       "704                                                 4   \n",
       "2378                                               10   \n",
       "2632                                                6   \n",
       "\n",
       "            no_municipalities_w_inhabitants_>10000  no_cities  \\\n",
       "account_id                                                      \n",
       "576                                              1          1   \n",
       "3818                                             1          1   \n",
       "704                                              1          6   \n",
       "2378                                             1          8   \n",
       "2632                                             2          8   \n",
       "\n",
       "            ratio_urban_inhabitants  average_salary  unemployment_rate_95  \\\n",
       "account_id                                                                  \n",
       "576                           100.0           10673                  4.75   \n",
       "3818                          100.0           12541                  0.29   \n",
       "704                            52.4            8620                  1.10   \n",
       "2378                           56.9            8427                  1.12   \n",
       "2632                           80.0            8991                  1.39   \n",
       "\n",
       "            unemployment_rate_96  no_enterpreneurs_per_1000_inhabitants  \\\n",
       "account_id                                                                \n",
       "576                         5.44                                    100   \n",
       "3818                        0.43                                    167   \n",
       "704                         1.25                                    100   \n",
       "2378                        1.54                                    107   \n",
       "2632                        2.01                                    128   \n",
       "\n",
       "            no_commited_crimes_95  no_commited_crimes_96  \n",
       "account_id                                                \n",
       "576                         18782                  18347  \n",
       "3818                        85677                  99107  \n",
       "704                          1089                   1117  \n",
       "2378                         1874                   1913  \n",
       "2632                         5198                   5273  "
      ]
     },
     "execution_count": 56,
     "metadata": {},
     "output_type": "execute_result"
    }
   ],
   "source": [
    "accounts_disp_merge = accounts_df.merge(dispositions_owners_df, left_index=True, right_on='account_id', how='left', sort=False)\n",
    "accounts_disp_merge = accounts_disp_merge.set_index('account_id')\n",
    "\n",
    "\n",
    "accounts_clients_df = accounts_disp_merge.merge(clients_districts_df, left_on='client_id', right_index=True, how='left', sort=False)\n",
    "accounts_clients_df = accounts_clients_df.drop('client_id', axis='columns')\n",
    "\n",
    "accounts_clients_df = accounts_clients_df.fillna(0)\n",
    "\n",
    "accounts_clients_df.head()"
   ]
  },
  {
   "cell_type": "markdown",
   "metadata": {},
   "source": [
    "Now we have to prepare a dataframe such that the machine-learning algorithms are able to undertand it. In order to accomplish that, we will merge this **accounts_loans_df** dataframe with the original **loans_df** dataframe. For new loans that arive, the process will be the same, therefore we want to encapsulate the process in a function:"
   ]
  },
  {
   "cell_type": "code",
   "execution_count": 57,
   "metadata": {
    "collapsed": true
   },
   "outputs": [],
   "source": [
    "accounts_final_df = accounts_clients_df.rename(columns={'date': 'date created'})\n",
    "accounts_final_df['account_id'] = accounts_final_df.index\n",
    "\n",
    "def join_loans_accounts(l_df):\n",
    "    dataset = pd.merge(l_df, accounts_final_df, left_on='account_id', right_index=True, how='left', sort=False)\n",
    "    dataset = dataset.drop(['account_id_x', 'account_id_y'], axis='columns')\n",
    "    return dataset\n",
    "\n",
    "dataset = join_loans_accounts(loans_transactions_df)"
   ]
  },
  {
   "cell_type": "code",
   "execution_count": 58,
   "metadata": {
    "collapsed": false
   },
   "outputs": [
    {
     "data": {
      "text/html": [
       "<div>\n",
       "<table border=\"1\" class=\"dataframe\">\n",
       "  <thead>\n",
       "    <tr style=\"text-align: right;\">\n",
       "      <th></th>\n",
       "      <th>balance_avg</th>\n",
       "      <th>balance_max</th>\n",
       "      <th>balance_min</th>\n",
       "      <th>balance_std</th>\n",
       "      <th>credit_avg</th>\n",
       "      <th>credit_cnt</th>\n",
       "      <th>credit_dates_avg</th>\n",
       "      <th>credit_dates_std</th>\n",
       "      <th>credit_std</th>\n",
       "      <th>household</th>\n",
       "      <th>...</th>\n",
       "      <th>no_municipalities_w_inhabitants_2000-9999</th>\n",
       "      <th>no_municipalities_w_inhabitants_&gt;10000</th>\n",
       "      <th>no_cities</th>\n",
       "      <th>ratio_urban_inhabitants</th>\n",
       "      <th>average_salary</th>\n",
       "      <th>unemployment_rate_95</th>\n",
       "      <th>unemployment_rate_96</th>\n",
       "      <th>no_enterpreneurs_per_1000_inhabitants</th>\n",
       "      <th>no_commited_crimes_95</th>\n",
       "      <th>no_commited_crimes_96</th>\n",
       "    </tr>\n",
       "    <tr>\n",
       "      <th>loan_id</th>\n",
       "      <th></th>\n",
       "      <th></th>\n",
       "      <th></th>\n",
       "      <th></th>\n",
       "      <th></th>\n",
       "      <th></th>\n",
       "      <th></th>\n",
       "      <th></th>\n",
       "      <th></th>\n",
       "      <th></th>\n",
       "      <th></th>\n",
       "      <th></th>\n",
       "      <th></th>\n",
       "      <th></th>\n",
       "      <th></th>\n",
       "      <th></th>\n",
       "      <th></th>\n",
       "      <th></th>\n",
       "      <th></th>\n",
       "      <th></th>\n",
       "      <th></th>\n",
       "    </tr>\n",
       "  </thead>\n",
       "  <tbody>\n",
       "    <tr>\n",
       "      <th>5314</th>\n",
       "      <td>12250.000000</td>\n",
       "      <td>20100.0</td>\n",
       "      <td>1100</td>\n",
       "      <td>8330.866301</td>\n",
       "      <td>2.430925</td>\n",
       "      <td>3</td>\n",
       "      <td>22.500000</td>\n",
       "      <td>15.000000</td>\n",
       "      <td>4.384785</td>\n",
       "      <td>0.000000</td>\n",
       "      <td>...</td>\n",
       "      <td>8</td>\n",
       "      <td>2</td>\n",
       "      <td>10</td>\n",
       "      <td>81.8</td>\n",
       "      <td>9650</td>\n",
       "      <td>3.38</td>\n",
       "      <td>3.67</td>\n",
       "      <td>100</td>\n",
       "      <td>2985</td>\n",
       "      <td>2804</td>\n",
       "    </tr>\n",
       "    <tr>\n",
       "      <th>5316</th>\n",
       "      <td>52083.859459</td>\n",
       "      <td>120512.8</td>\n",
       "      <td>700</td>\n",
       "      <td>29122.059454</td>\n",
       "      <td>1.888075</td>\n",
       "      <td>16</td>\n",
       "      <td>5.705882</td>\n",
       "      <td>4.934125</td>\n",
       "      <td>6.478889</td>\n",
       "      <td>-0.188938</td>\n",
       "      <td>...</td>\n",
       "      <td>7</td>\n",
       "      <td>3</td>\n",
       "      <td>10</td>\n",
       "      <td>73.5</td>\n",
       "      <td>8369</td>\n",
       "      <td>1.79</td>\n",
       "      <td>2.31</td>\n",
       "      <td>117</td>\n",
       "      <td>2854</td>\n",
       "      <td>2618</td>\n",
       "    </tr>\n",
       "    <tr>\n",
       "      <th>6863</th>\n",
       "      <td>30060.954167</td>\n",
       "      <td>49590.4</td>\n",
       "      <td>800</td>\n",
       "      <td>11520.184451</td>\n",
       "      <td>1.224438</td>\n",
       "      <td>14</td>\n",
       "      <td>9.133333</td>\n",
       "      <td>10.294705</td>\n",
       "      <td>4.064382</td>\n",
       "      <td>-0.166444</td>\n",
       "      <td>...</td>\n",
       "      <td>6</td>\n",
       "      <td>1</td>\n",
       "      <td>5</td>\n",
       "      <td>53.5</td>\n",
       "      <td>8390</td>\n",
       "      <td>2.28</td>\n",
       "      <td>2.89</td>\n",
       "      <td>132</td>\n",
       "      <td>2080</td>\n",
       "      <td>2122</td>\n",
       "    </tr>\n",
       "    <tr>\n",
       "      <th>5325</th>\n",
       "      <td>41297.480000</td>\n",
       "      <td>65898.5</td>\n",
       "      <td>1000</td>\n",
       "      <td>14151.260443</td>\n",
       "      <td>1.599446</td>\n",
       "      <td>12</td>\n",
       "      <td>8.846154</td>\n",
       "      <td>8.532742</td>\n",
       "      <td>4.825893</td>\n",
       "      <td>-0.233710</td>\n",
       "      <td>...</td>\n",
       "      <td>10</td>\n",
       "      <td>1</td>\n",
       "      <td>9</td>\n",
       "      <td>74.8</td>\n",
       "      <td>10045</td>\n",
       "      <td>1.42</td>\n",
       "      <td>1.71</td>\n",
       "      <td>135</td>\n",
       "      <td>6604</td>\n",
       "      <td>6295</td>\n",
       "    </tr>\n",
       "    <tr>\n",
       "      <th>7240</th>\n",
       "      <td>57188.211111</td>\n",
       "      <td>122893.1</td>\n",
       "      <td>600</td>\n",
       "      <td>25256.665817</td>\n",
       "      <td>5.784333</td>\n",
       "      <td>12</td>\n",
       "      <td>9.846154</td>\n",
       "      <td>8.839741</td>\n",
       "      <td>19.422572</td>\n",
       "      <td>-0.017927</td>\n",
       "      <td>...</td>\n",
       "      <td>5</td>\n",
       "      <td>1</td>\n",
       "      <td>5</td>\n",
       "      <td>50.5</td>\n",
       "      <td>8288</td>\n",
       "      <td>3.79</td>\n",
       "      <td>4.52</td>\n",
       "      <td>110</td>\n",
       "      <td>1562</td>\n",
       "      <td>1460</td>\n",
       "    </tr>\n",
       "  </tbody>\n",
       "</table>\n",
       "<p>5 rows × 42 columns</p>\n",
       "</div>"
      ],
      "text/plain": [
       "          balance_avg  balance_max  balance_min   balance_std  credit_avg  \\\n",
       "loan_id                                                                     \n",
       "5314     12250.000000      20100.0         1100   8330.866301    2.430925   \n",
       "5316     52083.859459     120512.8          700  29122.059454    1.888075   \n",
       "6863     30060.954167      49590.4          800  11520.184451    1.224438   \n",
       "5325     41297.480000      65898.5         1000  14151.260443    1.599446   \n",
       "7240     57188.211111     122893.1          600  25256.665817    5.784333   \n",
       "\n",
       "         credit_cnt  credit_dates_avg  credit_dates_std  credit_std  \\\n",
       "loan_id                                                               \n",
       "5314              3         22.500000         15.000000    4.384785   \n",
       "5316             16          5.705882          4.934125    6.478889   \n",
       "6863             14          9.133333         10.294705    4.064382   \n",
       "5325             12          8.846154          8.532742    4.825893   \n",
       "7240             12          9.846154          8.839741   19.422572   \n",
       "\n",
       "         household          ...           \\\n",
       "loan_id                     ...            \n",
       "5314      0.000000          ...            \n",
       "5316     -0.188938          ...            \n",
       "6863     -0.166444          ...            \n",
       "5325     -0.233710          ...            \n",
       "7240     -0.017927          ...            \n",
       "\n",
       "         no_municipalities_w_inhabitants_2000-9999  \\\n",
       "loan_id                                              \n",
       "5314                                             8   \n",
       "5316                                             7   \n",
       "6863                                             6   \n",
       "5325                                            10   \n",
       "7240                                             5   \n",
       "\n",
       "         no_municipalities_w_inhabitants_>10000  no_cities  \\\n",
       "loan_id                                                      \n",
       "5314                                          2         10   \n",
       "5316                                          3         10   \n",
       "6863                                          1          5   \n",
       "5325                                          1          9   \n",
       "7240                                          1          5   \n",
       "\n",
       "         ratio_urban_inhabitants  average_salary  unemployment_rate_95  \\\n",
       "loan_id                                                                  \n",
       "5314                        81.8            9650                  3.38   \n",
       "5316                        73.5            8369                  1.79   \n",
       "6863                        53.5            8390                  2.28   \n",
       "5325                        74.8           10045                  1.42   \n",
       "7240                        50.5            8288                  3.79   \n",
       "\n",
       "         unemployment_rate_96  no_enterpreneurs_per_1000_inhabitants  \\\n",
       "loan_id                                                                \n",
       "5314                     3.67                                    100   \n",
       "5316                     2.31                                    117   \n",
       "6863                     2.89                                    132   \n",
       "5325                     1.71                                    135   \n",
       "7240                     4.52                                    110   \n",
       "\n",
       "         no_commited_crimes_95 no_commited_crimes_96  \n",
       "loan_id                                               \n",
       "5314                      2985                  2804  \n",
       "5316                      2854                  2618  \n",
       "6863                      2080                  2122  \n",
       "5325                      6604                  6295  \n",
       "7240                      1562                  1460  \n",
       "\n",
       "[5 rows x 42 columns]"
      ]
     },
     "execution_count": 58,
     "metadata": {},
     "output_type": "execute_result"
    }
   ],
   "source": [
    "dataset.head()"
   ]
  },
  {
   "cell_type": "code",
   "execution_count": 59,
   "metadata": {
    "collapsed": false
   },
   "outputs": [
    {
     "data": {
      "text/plain": [
       "balance_avg                                         float64\n",
       "balance_max                                         float64\n",
       "balance_min                                         float64\n",
       "balance_std                                         float64\n",
       "credit_avg                                          float64\n",
       "credit_cnt                                          float64\n",
       "credit_dates_avg                                    float64\n",
       "credit_dates_std                                    float64\n",
       "credit_std                                          float64\n",
       "household                                           float64\n",
       "insurance payment                                   float64\n",
       "interest credited                                   float64\n",
       "sanction for negative balance                       float64\n",
       "statement                                           float64\n",
       "withdrawal_avg                                      float64\n",
       "withdrawal_cnt                                      float64\n",
       "withdrawal_dates_avg                                float64\n",
       "withdrawal_dates_std                                float64\n",
       "withdrawal_std                                      float64\n",
       "date                                         datetime64[ns]\n",
       "amount                                                int64\n",
       "duration                                              int64\n",
       "payments                                            float64\n",
       "status                                               object\n",
       "district_id                                           int64\n",
       "frequency                                            object\n",
       "date created                                 datetime64[ns]\n",
       "gender                                               object\n",
       "birthday                                     datetime64[ns]\n",
       "no_inhabitants                                        int64\n",
       "no_municipalities_w_inhabitants_<499                  int64\n",
       "no_municipalities_w_inhabitants_500-1999              int64\n",
       "no_municipalities_w_inhabitants_2000-9999             int64\n",
       "no_municipalities_w_inhabitants_>10000                int64\n",
       "no_cities                                             int64\n",
       "ratio_urban_inhabitants                             float64\n",
       "average_salary                                        int64\n",
       "unemployment_rate_95                                float64\n",
       "unemployment_rate_96                                float64\n",
       "no_enterpreneurs_per_1000_inhabitants                 int64\n",
       "no_commited_crimes_95                               float64\n",
       "no_commited_crimes_96                                 int64\n",
       "dtype: object"
      ]
     },
     "execution_count": 59,
     "metadata": {},
     "output_type": "execute_result"
    }
   ],
   "source": [
    "dataset.dtypes"
   ]
  },
  {
   "cell_type": "markdown",
   "metadata": {},
   "source": [
    "We just have now to convert the timestamp columns to an integer value. We'll use Unix time:"
   ]
  },
  {
   "cell_type": "code",
   "execution_count": 60,
   "metadata": {
    "collapsed": true
   },
   "outputs": [],
   "source": [
    "def convert_date_cols(df):\n",
    "    new_df = df.copy()\n",
    "    for col in new_df.columns:\n",
    "        if new_df[col].dtype == 'datetime64[ns]':\n",
    "            new_df[col] = new_df[col].astype(np.int64) // 10**9\n",
    "    return new_df\n",
    "            \n",
    "\n",
    "dataset_valid = convert_date_cols(dataset)"
   ]
  },
  {
   "cell_type": "markdown",
   "metadata": {},
   "source": [
    "and convert categorical data in new columns:"
   ]
  },
  {
   "cell_type": "code",
   "execution_count": 61,
   "metadata": {
    "collapsed": true
   },
   "outputs": [],
   "source": [
    "features_mask = dataset_valid.columns[dataset_valid.columns != 'status']\n",
    "\n",
    "dataset_valid_num = pd.get_dummies(dataset_valid[features_mask])\n",
    "dataset_valid_num['status'] = dataset_valid['status']"
   ]
  },
  {
   "cell_type": "code",
   "execution_count": 62,
   "metadata": {
    "collapsed": true
   },
   "outputs": [],
   "source": [
    "features = dataset_valid_num.columns[dataset_valid_num.columns != 'status']"
   ]
  },
  {
   "cell_type": "markdown",
   "metadata": {},
   "source": [
    "## Clustering"
   ]
  },
  {
   "cell_type": "code",
   "execution_count": 63,
   "metadata": {
    "collapsed": true
   },
   "outputs": [],
   "source": [
    "from sklearn import metrics\n",
    "\n",
    "def bench_clustering(estimator, name, data):\n",
    "    sample_size = data.shape[0]\n",
    "    labels = estimator.fit_predict(data)\n",
    "    print('Name: %9s \\\n",
    "           \\nHomogeineity: %.3f \\\n",
    "           \\nCompleteness: %.3f \\\n",
    "           \\nV_Measure: %.3f \\\n",
    "           \\nAdjusted rand: %.3f \\\n",
    "           \\nAdjusted mutual_info: %.3f \\\n",
    "           \\nSilhoutette: %.3f'\n",
    "          % (name,\n",
    "             metrics.homogeneity_score(labels, estimator.labels_),\n",
    "             metrics.completeness_score(labels, estimator.labels_),\n",
    "             metrics.v_measure_score(labels, estimator.labels_),\n",
    "             metrics.adjusted_rand_score(labels, estimator.labels_),\n",
    "             metrics.adjusted_mutual_info_score(labels,  estimator.labels_),\n",
    "             metrics.silhouette_score(data, estimator.labels_,\n",
    "                                      metric='euclidean',\n",
    "                                      sample_size=sample_size)))"
   ]
  },
  {
   "cell_type": "code",
   "execution_count": 64,
   "metadata": {
    "collapsed": false
   },
   "outputs": [],
   "source": [
    "data = dataset_valid_num[features].values\n",
    "reduced_data = PCA(n_components=2).fit_transform(data)"
   ]
  },
  {
   "cell_type": "markdown",
   "metadata": {},
   "source": [
    "### Desired Result"
   ]
  },
  {
   "cell_type": "code",
   "execution_count": 65,
   "metadata": {
    "collapsed": false
   },
   "outputs": [
    {
     "data": {
      "text/plain": [
       "<matplotlib.collections.PathCollection at 0x7feee0f18198>"
      ]
     },
     "execution_count": 65,
     "metadata": {},
     "output_type": "execute_result"
    },
    {
     "data": {
      "image/png": "[encoded data removed]",
      "text/plain": [
       "<matplotlib.figure.Figure at 0x7feee3cf2f28>"
      ]
     },
     "metadata": {},
     "output_type": "display_data"
    }
   ],
   "source": [
    "colors = np.array([0 if x =='A' else 1 if x == 'B' else 2 for x in dataset_valid_num['status'].values], dtype=np.int32)\n",
    "plt.scatter(reduced_data[:, 0], reduced_data[:, 1], c=colors)"
   ]
  },
  {
   "cell_type": "markdown",
   "metadata": {},
   "source": [
    "### KMeans"
   ]
  },
  {
   "cell_type": "code",
   "execution_count": 66,
   "metadata": {
    "collapsed": false
   },
   "outputs": [
    {
     "name": "stdout",
     "output_type": "stream",
     "text": [
      "Name:    KMeans            \n",
      "Homogeineity: 1.000            \n",
      "Completeness: 1.000            \n",
      "V_Measure: 1.000            \n",
      "Adjusted rand: 1.000            \n",
      "Adjusted mutual_info: 1.000            \n",
      "Silhoutette: 0.588\n"
     ]
    }
   ],
   "source": [
    "from sklearn.cluster import KMeans\n",
    "\n",
    "bench_clustering(KMeans(n_clusters=2, init='k-means++', n_init=10), 'KMeans', data)"
   ]
  },
  {
   "cell_type": "code",
   "execution_count": 67,
   "metadata": {
    "collapsed": false
   },
   "outputs": [],
   "source": [
    "kmeans = KMeans(n_clusters=2, init='k-means++', n_init=10)\n",
    "labels = kmeans.fit_predict(reduced_data)"
   ]
  },
  {
   "cell_type": "code",
   "execution_count": 68,
   "metadata": {
    "collapsed": false
   },
   "outputs": [
    {
     "data": {
      "text/plain": [
       "(682,)"
      ]
     },
     "execution_count": 68,
     "metadata": {},
     "output_type": "execute_result"
    }
   ],
   "source": [
    "labels.shape"
   ]
  },
  {
   "cell_type": "code",
   "execution_count": 69,
   "metadata": {
    "collapsed": false
   },
   "outputs": [
    {
     "data": {
      "text/plain": [
       "<matplotlib.collections.PathCollection at 0x7feecc7efba8>"
      ]
     },
     "execution_count": 69,
     "metadata": {},
     "output_type": "execute_result"
    },
    {
     "data": {
      "image/png": "[encoded data removed]",
      "text/plain": [
       "<matplotlib.figure.Figure at 0x7feecc7b19e8>"
      ]
     },
     "metadata": {},
     "output_type": "display_data"
    }
   ],
   "source": [
    "plt.scatter(reduced_data[:, 0], reduced_data[:, 1], c=labels)"
   ]
  },
  {
   "cell_type": "markdown",
   "metadata": {},
   "source": [
    "### Affinity Propagation"
   ]
  },
  {
   "cell_type": "code",
   "execution_count": 70,
   "metadata": {
    "collapsed": false
   },
   "outputs": [
    {
     "name": "stdout",
     "output_type": "stream",
     "text": [
      "Name: AffinityPropagation            \n",
      "Homogeineity: 1.000            \n",
      "Completeness: 1.000            \n",
      "V_Measure: 1.000            \n",
      "Adjusted rand: 1.000            \n",
      "Adjusted mutual_info: 1.000            \n",
      "Silhoutette: 0.371\n"
     ]
    }
   ],
   "source": [
    "from sklearn.cluster import AffinityPropagation\n",
    "\n",
    "bench_clustering(AffinityPropagation(), 'AffinityPropagation', data)"
   ]
  },
  {
   "cell_type": "code",
   "execution_count": 71,
   "metadata": {
    "collapsed": true
   },
   "outputs": [],
   "source": [
    "affinity_prop = AffinityPropagation()\n",
    "labels = affinity_prop.fit_predict(reduced_data)"
   ]
  },
  {
   "cell_type": "code",
   "execution_count": 72,
   "metadata": {
    "collapsed": false
   },
   "outputs": [
    {
     "data": {
      "text/plain": [
       "<matplotlib.collections.PathCollection at 0x7feecc378860>"
      ]
     },
     "execution_count": 72,
     "metadata": {},
     "output_type": "execute_result"
    },
    {
     "data": {
      "image/png": "[encoded data removed]",
      "text/plain": [
       "<matplotlib.figure.Figure at 0x7feee0f67dd8>"
      ]
     },
     "metadata": {},
     "output_type": "display_data"
    }
   ],
   "source": [
    "plt.scatter(reduced_data[:, 0], reduced_data[:, 1], c=labels)"
   ]
  },
  {
   "cell_type": "markdown",
   "metadata": {},
   "source": [
    "### Mean shift"
   ]
  },
  {
   "cell_type": "code",
   "execution_count": 73,
   "metadata": {
    "collapsed": false
   },
   "outputs": [
    {
     "name": "stdout",
     "output_type": "stream",
     "text": [
      "Name: MeanShift            \n",
      "Homogeineity: 1.000            \n",
      "Completeness: 1.000            \n",
      "V_Measure: 1.000            \n",
      "Adjusted rand: 1.000            \n",
      "Adjusted mutual_info: 1.000            \n",
      "Silhoutette: 0.588\n"
     ]
    }
   ],
   "source": [
    "from sklearn.cluster import MeanShift\n",
    "\n",
    "bench_clustering(MeanShift(), 'MeanShift', data)"
   ]
  },
  {
   "cell_type": "code",
   "execution_count": 74,
   "metadata": {
    "collapsed": true
   },
   "outputs": [],
   "source": [
    "mean_shift = MeanShift()\n",
    "labels = mean_shift.fit_predict(reduced_data)"
   ]
  },
  {
   "cell_type": "code",
   "execution_count": 75,
   "metadata": {
    "collapsed": false
   },
   "outputs": [
    {
     "data": {
      "text/plain": [
       "<matplotlib.collections.PathCollection at 0x7feecc242278>"
      ]
     },
     "execution_count": 75,
     "metadata": {},
     "output_type": "execute_result"
    },
    {
     "data": {
      "image/png": "[encoded data removed]",
      "text/plain": [
       "<matplotlib.figure.Figure at 0x7feecc362f28>"
      ]
     },
     "metadata": {},
     "output_type": "display_data"
    }
   ],
   "source": [
    "plt.scatter(reduced_data[:, 0], reduced_data[:, 1], c=labels)"
   ]
  },
  {
   "cell_type": "markdown",
   "metadata": {},
   "source": [
    "### Agglomerative Clustering"
   ]
  },
  {
   "cell_type": "code",
   "execution_count": 76,
   "metadata": {
    "collapsed": false
   },
   "outputs": [
    {
     "name": "stdout",
     "output_type": "stream",
     "text": [
      "Name: AgglomerativeClustering            \n",
      "Homogeineity: 1.000            \n",
      "Completeness: 1.000            \n",
      "V_Measure: 1.000            \n",
      "Adjusted rand: 1.000            \n",
      "Adjusted mutual_info: 1.000            \n",
      "Silhoutette: 0.557\n"
     ]
    }
   ],
   "source": [
    "from sklearn.cluster import AgglomerativeClustering\n",
    "\n",
    "bench_clustering(AgglomerativeClustering(n_clusters=2, affinity='cosine', linkage='complete'), 'AgglomerativeClustering', data)"
   ]
  },
  {
   "cell_type": "code",
   "execution_count": 77,
   "metadata": {
    "collapsed": true
   },
   "outputs": [],
   "source": [
    "agglomerative = AgglomerativeClustering(n_clusters=2, affinity='cosine', linkage='complete')\n",
    "labels = agglomerative.fit_predict(reduced_data)"
   ]
  },
  {
   "cell_type": "code",
   "execution_count": 78,
   "metadata": {
    "collapsed": false
   },
   "outputs": [
    {
     "data": {
      "text/plain": [
       "<matplotlib.collections.PathCollection at 0x7feecc212208>"
      ]
     },
     "execution_count": 78,
     "metadata": {},
     "output_type": "execute_result"
    },
    {
     "data": {
      "image/png": "[encoded data removed]",
      "text/plain": [
       "<matplotlib.figure.Figure at 0x7feecc24b320>"
      ]
     },
     "metadata": {},
     "output_type": "display_data"
    }
   ],
   "source": [
    "plt.scatter(reduced_data[:, 0], reduced_data[:, 1], c=labels)"
   ]
  },
  {
   "cell_type": "markdown",
   "metadata": {},
   "source": [
    "We are able to conclude that through clustering we are not able to properly split the data in the desired way. That happens because labels seem to depend on multiple features, and because of the disparate counts for each label."
   ]
  },
  {
   "cell_type": "markdown",
   "metadata": {},
   "source": [
    "## 3. Predictive Data Mining"
   ]
  },
  {
   "cell_type": "markdown",
   "metadata": {
    "collapsed": true
   },
   "source": [
    "We have to start by extracting the useful rows: the ones with **status** *A* and *B*:"
   ]
  },
  {
   "cell_type": "code",
   "execution_count": 79,
   "metadata": {
    "collapsed": true
   },
   "outputs": [],
   "source": [
    "def select_useful_rows(df):\n",
    "    mask = (df.status == 'A') | (df.status == 'B')\n",
    "    return df[mask]"
   ]
  },
  {
   "cell_type": "code",
   "execution_count": 80,
   "metadata": {
    "collapsed": false
   },
   "outputs": [],
   "source": [
    "dataset_valid_num = select_useful_rows(dataset_valid_num)"
   ]
  },
  {
   "cell_type": "code",
   "execution_count": 81,
   "metadata": {
    "collapsed": false
   },
   "outputs": [
    {
     "name": "stdout",
     "output_type": "stream",
     "text": [
      "(682, 42)\n",
      "(234, 45)\n"
     ]
    }
   ],
   "source": [
    "print(dataset.shape)\n",
    "print(dataset_valid_num.shape)"
   ]
  },
  {
   "cell_type": "code",
   "execution_count": 82,
   "metadata": {
    "collapsed": true
   },
   "outputs": [],
   "source": [
    "features = dataset_valid_num.columns[dataset_valid_num.columns != 'status']\n",
    "label = 'status'\n",
    "target_names = ['A', 'B']"
   ]
  },
  {
   "cell_type": "markdown",
   "metadata": {},
   "source": [
    "### Testing classifiers\n",
    "\n",
    "We'll start off by using a **decision tree** as our first machine learning classifier. It has the benefits of working both with continuous and discrete data types, and provides a very natural way to interpret the results it gives.\n",
    "\n",
    "We'll use stratified k-folds cross-validation to prevent overfitting.\n",
    "\n",
    "The next function implements the procedure of, for a given model, splitting the data into training and test sets, and next performs stratified k-fold cross-validation to select an instance of the models that performs best for the corresponding validation set. It returns the score of the best classifier in the testing set (with the samples weighted by *weigh_samples_fn*), as well as the confusion matrix, corresponding ROC curve and the very own classifier."
   ]
  },
  {
   "cell_type": "code",
   "execution_count": 83,
   "metadata": {
    "collapsed": false
   },
   "outputs": [],
   "source": [
    "from sklearn.cross_validation import train_test_split\n",
    "from sklearn.cross_validation import StratifiedKFold\n",
    "from sklearn.base import clone as skl_clone\n",
    "from sklearn.metrics import confusion_matrix\n",
    "from sklearn.metrics import classification_report\n",
    "from sklearn.metrics import roc_curve, auc\n",
    "from sklearn.preprocessing import label_binarize\n",
    "from sklearn.metrics import accuracy_score\n",
    "\n",
    "def k_fold_model_select(data, features, label, raw_classifiers, n_folds=10, weigh_samples_fn=None): \n",
    "    # weigh_samples_fn is explained below\n",
    "    # assumes that the raw_classifier output is in probability\n",
    "    \n",
    "    # split into training and test data\n",
    "    X_train, X_test, y_train, y_test = train_test_split(data[features].values, \n",
    "                                                        data[label].values,\n",
    "                                                        test_size=0.3,\n",
    "                                                        stratify=data[label],\n",
    "                                                        random_state=0)\n",
    "    \n",
    "    \n",
    "    # use stratified k-fold cross validation to select the model\n",
    "    skf = StratifiedKFold(y_train, n_folds=n_folds)\n",
    "\n",
    "    best_classifier = None\n",
    "    best_score = float('-inf')\n",
    "\n",
    "    for train_index, validation_index in skf:\n",
    "        for raw_classifier in raw_classifiers:\n",
    "            classifier = skl_clone(raw_classifier)\n",
    "            classifier = classifier.fit(X_train[train_index], y_train[train_index])\n",
    "\n",
    "            if weigh_samples_fn != None:\n",
    "                y_pred = classifier.predict(X_train[validation_index])\n",
    "                sample_weight = weigh_samples_fn(y_train[validation_index], y_pred)\n",
    "            else:\n",
    "                sample_weight = None\n",
    "\n",
    "            score = accuracy_score(classifier.predict(X_train[validation_index]), y_train[validation_index],\n",
    "                                     sample_weight=sample_weight)\n",
    "\n",
    "            if score > best_score:\n",
    "                best_classifier = classifier\n",
    "                best_score = score\n",
    "    \n",
    "    # compute the confusion matrix\n",
    "    y_pred = best_classifier.predict(X_test)\n",
    "    conf_mat = confusion_matrix(y_test, y_pred)\n",
    "    \n",
    "    # now compute the score for the test data of the best found classifier\n",
    "    if weigh_samples_fn != None:\n",
    "        sample_weight = weigh_samples_fn(y_test, y_pred)\n",
    "    else:\n",
    "        sample_weight = None\n",
    "    test_score = accuracy_score(best_classifier.predict(X_test), y_test, sample_weight=sample_weight)\n",
    "    \n",
    "    # obtain the classification report\n",
    "    report = classification_report(y_test, y_pred, target_names=target_names, sample_weight=sample_weight)\n",
    "    \n",
    "    # obtain ROC curve\n",
    "    y_test_bin = label_binarize(y_test, classes=target_names)\n",
    "    y_prob = best_classifier.predict_proba(X_test)\n",
    "    \n",
    "    fpr, tpr, _ = roc_curve(y_test_bin[:, 1], y_prob[:, 1])\n",
    "    #fpr, tpr, _ = roc_curve(y_test_bin, y_prob[:, 1])\n",
    "    roc_info = (best_classifier.__class__.__name__, (fpr, tpr))\n",
    "    \n",
    "    return (test_score, report, conf_mat, roc_info, best_classifier)"
   ]
  },
  {
   "cell_type": "code",
   "execution_count": 84,
   "metadata": {
    "collapsed": true
   },
   "outputs": [],
   "source": [
    "def plot_roc_curves(roc_curves):\n",
    "    for name, (fpr, tpr) in roc_curves:\n",
    "        roc_auc = auc(fpr, tpr)\n",
    "        plt.plot(fpr, tpr, lw=1, label='ROC for {} (area = {:0.2f})'.format(name, roc_auc))\n",
    "        \n",
    "    plt.legend(bbox_to_anchor=(2.1, 1.05))\n",
    "    plt.plot([0, 1], [0, 1], '--', color=(0.6, 0.6, 0.6), label='Luck')"
   ]
  },
  {
   "cell_type": "markdown",
   "metadata": {},
   "source": [
    "Before proceding any further, we have to define how the accuracy is measured given this business situation; we have to measure the weight of each sample according to the way we are predicting it in comparison to the ground truth, *i.e.*, according to its position in the confusion matrix.\n",
    "\n",
    "As such, we will use the following weights:\n",
    " * **True Positives:** 1\n",
    " * **False Negatives:** 2\n",
    " * **False Positives:** 1\n",
    " * **True Negatives:** 1\n",
    " \n",
    "This is because we really want to prevent the cases where we label a user as not trustable, when in fact he is trustable, as he most likely will switch bank and kill all his/her future accumulated profits (maximize precision for B classification).\n",
    "\n",
    "This weight is then multiplied by the inverse frequency of a given label in the samples, in order to weigh samples independently from the fact that the label counts are disparate. It is then used to weight the preformance of the classifiers in the prediction task in the test set."
   ]
  },
  {
   "cell_type": "code",
   "execution_count": 85,
   "metadata": {
    "collapsed": false
   },
   "outputs": [],
   "source": [
    "def weigh_samples(y_true, y_pred, diff_weight=200.0):\n",
    "    weights = []\n",
    "    a_len = float(len(y_true[y_true == 'A']))\n",
    "    b_len = float(len(y_true[y_true == 'B']))\n",
    "    for s_true, s_pred in zip(y_true, y_pred):\n",
    "        if s_true == 'A':\n",
    "            if s_pred == 'B':\n",
    "                weights.append(diff_weight / a_len)\n",
    "            else:\n",
    "                weights.append(100.0 / a_len)\n",
    "        else:\n",
    "            weights.append(100.0 / b_len)\n",
    "    return weights"
   ]
  },
  {
   "cell_type": "markdown",
   "metadata": {},
   "source": [
    "### Decision Tree"
   ]
  },
  {
   "cell_type": "markdown",
   "metadata": {},
   "source": [
    "We will use now a **Decision Tree**. \n",
    "\n",
    "We fix the initial random state, as everywhere else, so that the results are reproducible.\n",
    "\n",
    "The labels weight is set to be *balanced*, so that the algorithm takes into account the disparate counts of the labels while training.\n",
    "\n",
    "To prevent overfitting, we dictate that the tree should only split branches when there are at least 14 samples in it, and that there must be at least two samples that fit in a leaf."
   ]
  },
  {
   "cell_type": "code",
   "execution_count": 89,
   "metadata": {
    "collapsed": false
   },
   "outputs": [],
   "source": [
    "from sklearn import tree\n",
    "from sklearn.tree import DecisionTreeClassifier\n",
    "\n",
    "dt = DecisionTreeClassifier(min_samples_split=14, random_state=0, min_samples_leaf=2, class_weight='balanced')\n",
    "dt_score, dt_rep, dt_cm, dt_roc, dt_clf = k_fold_model_select(dataset_valid_num, features, label, [dt], weigh_samples_fn=weigh_samples)"
   ]
  },
  {
   "cell_type": "code",
   "execution_count": 90,
   "metadata": {
    "collapsed": false
   },
   "outputs": [],
   "source": [
    "from sklearn.externals.six import StringIO\n",
    "import pydot_ng as pydot\n",
    "from IPython.display import Image\n",
    "\n",
    "def display_tree(dtc_classifier):\n",
    "    dot_data = StringIO()  \n",
    "    tree.export_graphviz(dtc_classifier, out_file=dot_data,  \n",
    "                         feature_names=features_mask,\n",
    "                         class_names=target_names,\n",
    "                         filled=True,\n",
    "                         rounded=True,\n",
    "                         special_characters=True)\n",
    "    graph = pydot.graph_from_dot_data(dot_data.getvalue())  \n",
    "    return Image(graph.create_png())"
   ]
  },
  {
   "cell_type": "code",
   "execution_count": 91,
   "metadata": {
    "collapsed": false
   },
   "outputs": [
    {
     "data": {
      "image/png": "[encoded data removed]",
      "text/plain": [
       "<IPython.core.display.Image object>"
      ]
     },
     "execution_count": 91,
     "metadata": {},
     "output_type": "execute_result"
    }
   ],
   "source": [
    "display_tree(dt_clf)"
   ]
  },
  {
   "cell_type": "markdown",
   "metadata": {},
   "source": [
    "Lets describe, on overhaul, the way the tree classifies the loans from each label:\n",
    " * **Successful loan**:\n",
    "     * Loans from accounts with regular withdrawal amounts, with relatively many credits (deposits) into the account, and with a relatively low amount for the loan.\n",
    "     * Loans from accounts with irregular withdrawals, whose montly payments are relatively low, and whose account's owner is older.\n",
    " * **Unsuccessful loan**:\n",
    "     * Loans from accounts with regular withdrawal amounts, and with relatively few credits (deposits) into the account.\n",
    "     * Loans from accounts with regular withdrawal amounts, with relatively many credits (deposits) into the account, and with a relatively high amount for the loan.\n",
    "     * Loans from accounts with irregular withdrawals, and whose montly payments are relatively high.\n",
    "     * Loans from accounts with irregular withdrawals, whose montly payments are relatively low, and whose account's owner is younger.\n",
    "\n",
    "Let's analyse more deeply the score of these results. For that, we'll use the obtained score in predicting the test set and the confusion matrix:"
   ]
  },
  {
   "cell_type": "code",
   "execution_count": 92,
   "metadata": {
    "collapsed": false
   },
   "outputs": [],
   "source": [
    "def plot_confusion_matrix(cm, title='Confusion matrix', cmap=plt.cm.Blues):\n",
    "    plt.imshow(cm, interpolation='nearest', cmap=cmap)\n",
    "    plt.title(title)\n",
    "    plt.colorbar()\n",
    "    tick_marks = np.arange(len(target_names))\n",
    "    plt.xticks(tick_marks, target_names, rotation=45)\n",
    "    plt.yticks(tick_marks, target_names)\n",
    "    plt.tight_layout()\n",
    "    plt.ylabel('True label')\n",
    "    plt.xlabel('Predicted label')"
   ]
  },
  {
   "cell_type": "code",
   "execution_count": 93,
   "metadata": {
    "collapsed": true
   },
   "outputs": [],
   "source": [
    "def normalize_confusion_matrix(cm):\n",
    "    # Normalize the confusion matrix by row (i.e by the number of samples\n",
    "    # in each class)\n",
    "    cm_normalized = cm.astype('float') / cm.sum(axis=1)[:, np.newaxis]\n",
    "    return cm_normalized"
   ]
  },
  {
   "cell_type": "code",
   "execution_count": 94,
   "metadata": {
    "collapsed": false
   },
   "outputs": [
    {
     "name": "stdout",
     "output_type": "stream",
     "text": [
      "Score for best Decision Tree Classifier: 0.734612310152\n",
      "Confusion matrix:\n",
      "[[47 15]\n",
      " [ 1  8]]\n",
      "Classification report:\n",
      "             precision    recall  f1-score   support\n",
      "\n",
      "          A       0.87      0.61      0.72 124.19354838709661\n",
      "          B       0.65      0.89      0.75 100.00000000000001\n",
      "\n",
      "avg / total       0.77      0.73      0.73 224.19354838709663\n",
      "\n"
     ]
    },
    {
     "data": {
      "image/png": "[encoded data removed]",
      "text/plain": [
       "<matplotlib.figure.Figure at 0x7feea907a470>"
      ]
     },
     "metadata": {},
     "output_type": "display_data"
    }
   ],
   "source": [
    "print(\"Score for best Decision Tree Classifier:\", dt_score)\n",
    "print(\"Confusion matrix:\", dt_cm, sep='\\n')\n",
    "print(\"Classification report:\", dt_rep, sep='\\n')\n",
    "\n",
    "plot_confusion_matrix(normalize_confusion_matrix(dt_cm))"
   ]
  },
  {
   "cell_type": "markdown",
   "metadata": {},
   "source": [
    "Things seem relatively good: we have a decent accuracy, and the plotted confusion matrix shows high percentage of results in the main diagonal!\n",
    "\n",
    "Nonetheless, as stated before, trustworthy users that are labeled as trustless ones will most likely switch to a different bank, negating all the future accumulated revenue. As shown by the confusion matrix, one of the users suffers from exactly this fenomena, therefore we must pay attention to that fact. And the decision tree is classifying a lot of loans in that category\n",
    "\n",
    "In order to gain more insight, we'll continue by testing other classifiers."
   ]
  },
  {
   "cell_type": "markdown",
   "metadata": {},
   "source": [
    "### Linear Classifier (Logistic Regression)\n",
    "\n",
    "For linear classification, we use logistic regression, where we use L2 regularization."
   ]
  },
  {
   "cell_type": "code",
   "execution_count": 95,
   "metadata": {
    "collapsed": false
   },
   "outputs": [
    {
     "name": "stdout",
     "output_type": "stream",
     "text": [
      "Score: 0.486810551559\n",
      "Confusion matrix:\n",
      "[[47 15]\n",
      " [ 6  3]]\n",
      "Classification report:\n",
      "             precision    recall  f1-score   support\n",
      "\n",
      "          A       0.53      0.61      0.57 124.1935483870966\n",
      "          B       0.41      0.33      0.37 100.00000000000001\n",
      "\n",
      "avg / total       0.48      0.49      0.48 224.1935483870966\n",
      "\n"
     ]
    }
   ],
   "source": [
    "from sklearn.linear_model import LogisticRegression\n",
    "\n",
    "lr = LogisticRegression(penalty='l2', class_weight='balanced', random_state=0, solver='liblinear')\n",
    "lr_score, lr_rep, lr_cm, lr_roc, lr_clf = k_fold_model_select(dataset_valid_num, features, label, [lr], weigh_samples_fn=weigh_samples)\n",
    "\n",
    "print(\"Score:\", lr_score)\n",
    "print(\"Confusion matrix:\", lr_cm, sep='\\n')\n",
    "print(\"Classification report:\", lr_rep, sep='\\n')"
   ]
  },
  {
   "cell_type": "markdown",
   "metadata": {},
   "source": [
    "We can see that the results are very poor. We just have to be careful because the performance is not really worser than random guessing: it is lower than 0.5 because we are weighting higher the False Negatives."
   ]
  },
  {
   "cell_type": "markdown",
   "metadata": {},
   "source": [
    "### Nearest Neighbors Classifier\n",
    "\n",
    "The Nearest Neighbors Classifier is useful because it is able to handle correlated features, where the shapes of the classes are arbitrary. Nonetheless, it suffers from being very sensitive to irrelevant features.\n",
    "\n",
    "We configure it such that it weights the closer neighbors more highly than distant ones, "
   ]
  },
  {
   "cell_type": "code",
   "execution_count": 96,
   "metadata": {
    "collapsed": false
   },
   "outputs": [
    {
     "name": "stdout",
     "output_type": "stream",
     "text": [
      "Score: 0.530864197531\n",
      "Confusion matrix:\n",
      "[[60  2]\n",
      " [ 8  1]]\n",
      "Classification report:\n",
      "             precision    recall  f1-score   support\n",
      "\n",
      "          A       0.52      0.94      0.67 103.22580645161277\n",
      "          B       0.63      0.11      0.19 100.00000000000001\n",
      "\n",
      "avg / total       0.58      0.53      0.43 203.22580645161278\n",
      "\n"
     ]
    }
   ],
   "source": [
    "from sklearn.neighbors import KNeighborsClassifier\n",
    "\n",
    "knn = KNeighborsClassifier(weights='distance', algorithm='auto')\n",
    "knn_score, knn_rep, knn_cm, knn_roc, knn_clf = k_fold_model_select(dataset_valid_num, features, label, [knn], weigh_samples_fn=weigh_samples)\n",
    "\n",
    "print(\"Score:\", knn_score)\n",
    "print(\"Confusion matrix:\", knn_cm, sep='\\n')\n",
    "print(\"Classification report:\", knn_rep, sep='\\n')"
   ]
  },
  {
   "cell_type": "markdown",
   "metadata": {},
   "source": [
    "The recall for the *B* label is very low, it is almost unable to identify the insuccessful loans. The vast majority of samples with successful loans may be at the root of it."
   ]
  },
  {
   "cell_type": "markdown",
   "metadata": {},
   "source": [
    "### Gaussian Naive Bayes\n",
    "\n",
    "Naive Bayes has a well structured root in statistics. Even though, it assumes that the features are independent."
   ]
  },
  {
   "cell_type": "code",
   "execution_count": 97,
   "metadata": {
    "collapsed": false
   },
   "outputs": [
    {
     "name": "stdout",
     "output_type": "stream",
     "text": [
      "Score: 0.555555555556\n",
      "Confusion matrix:\n",
      "[[62  0]\n",
      " [ 8  1]]\n",
      "Classification report:\n",
      "             precision    recall  f1-score   support\n",
      "\n",
      "          A       0.53      1.00      0.69 99.99999999999987\n",
      "          B       1.00      0.11      0.20 100.00000000000001\n",
      "\n",
      "avg / total       0.76      0.56      0.45 199.9999999999999\n",
      "\n"
     ]
    }
   ],
   "source": [
    "from sklearn.naive_bayes import GaussianNB\n",
    "\n",
    "nb = GaussianNB()\n",
    "nb_score, nb_rep, nb_cm, nb_roc, nb_clf = k_fold_model_select(dataset_valid_num, features, label, [nb], weigh_samples_fn=weigh_samples)\n",
    "\n",
    "print(\"Score:\", nb_score)\n",
    "print(\"Confusion matrix:\", nb_cm, sep='\\n')\n",
    "print(\"Classification report:\", nb_rep, sep='\\n')"
   ]
  },
  {
   "cell_type": "markdown",
   "metadata": {},
   "source": [
    "The precision is 1 for label *B* because it didn't label any successful loan as insuccessful (which is one of our business problems), but has a low recall, because mislabels most of the unsuccessful loans."
   ]
  },
  {
   "cell_type": "markdown",
   "metadata": {},
   "source": [
    "### Neural Network\n",
    "\n",
    "Neural Networks are gaining a lot of ground in the machine learning community. Even though, that happens because of the current paradigm: lots of data. That is not the current case, we just have a couple hundred samples. Therefore, its performance should be low, as it will most likely overfit the training dataset.\n",
    "\n",
    "We first normalize the data, so that the values fit between 0 and 1. This introduces a new tool, called *Pipeline*, which enables to run machine learning tools in a sequencial fashion."
   ]
  },
  {
   "cell_type": "code",
   "execution_count": 98,
   "metadata": {
    "collapsed": false
   },
   "outputs": [
    {
     "name": "stdout",
     "output_type": "stream",
     "text": [
      "Score: 0.272946859903\n",
      "Confusion matrix:\n",
      "[[ 2 60]\n",
      " [ 2  7]]\n",
      "Classification report:\n",
      "             precision    recall  f1-score   support\n",
      "\n",
      "          A       0.13      0.02      0.03 196.77419354838688\n",
      "          B       0.29      0.78      0.42 100.00000000000001\n",
      "\n",
      "avg / total       0.18      0.27      0.16 296.7741935483869\n",
      "\n"
     ]
    }
   ],
   "source": [
    "from sknn.mlp import Classifier as MLPClassifier\n",
    "from sknn.mlp import Layer as MLPLayer\n",
    "from sklearn.preprocessing import MinMaxScaler\n",
    "from sklearn.pipeline import Pipeline\n",
    "\n",
    "\n",
    "# use a pipeline that first normalizes the data\n",
    "\n",
    "nn = MLPClassifier(\n",
    "    layers=[\n",
    "        MLPLayer(\"Maxout\", units=30, pieces=2),\n",
    "        MLPLayer(\"Softmax\")],\n",
    "    learning_rate=0.000000001,\n",
    "    n_iter=30)\n",
    "\n",
    "pipeline = Pipeline([\n",
    "        ('min/max scaler', MinMaxScaler(feature_range=(0.0, 1.0))),\n",
    "        ('neural network', nn)])\n",
    "\n",
    "nn_score, nn_rep, nn_cm, nn_roc, nn_clf = k_fold_model_select(dataset_valid_num, features, label, [pipeline], \n",
    "                                                      weigh_samples_fn=weigh_samples)\n",
    "\n",
    "print(\"Score:\", nn_score)\n",
    "print(\"Confusion matrix:\", nn_cm, sep='\\n')\n",
    "print(\"Classification report:\", nn_rep, sep='\\n')"
   ]
  },
  {
   "cell_type": "markdown",
   "metadata": {},
   "source": [
    "The classifier is predicting most of the samples as unsuccessful loans. This unexpected behavior is most likely due to, as stated above, few samples in the dataset."
   ]
  },
  {
   "cell_type": "markdown",
   "metadata": {},
   "source": [
    "### Support Vector Classifier\n",
    "\n",
    "Next we test different Support Vector Classifiers. It is a very versatile algorithm, as such we test it multiple times, each using a different kernel: *linear*, *sigmoid*, *radial basis function* and *degree-3 polynomial*.\n",
    "\n",
    "**NOTE:** We specify an empirical hard limit on the number of iterations to prevent the algorithm from taking too long."
   ]
  },
  {
   "cell_type": "code",
   "execution_count": 99,
   "metadata": {
    "collapsed": false
   },
   "outputs": [
    {
     "name": "stdout",
     "output_type": "stream",
     "text": [
      "Score: 0.585931254996\n",
      "Confusion matrix:\n",
      "[[47 15]\n",
      " [ 4  5]]\n",
      "Classification report:\n",
      "             precision    recall  f1-score   support\n",
      "\n",
      "          A       0.63      0.61      0.62 124.19354838709661\n",
      "          B       0.53      0.56      0.54 100.00000000000001\n",
      "\n",
      "avg / total       0.59      0.59      0.59 224.19354838709663\n",
      "\n"
     ]
    }
   ],
   "source": [
    "from sklearn.svm import SVC\n",
    "\n",
    "svc_linear = SVC(kernel='linear', max_iter=1000, random_state=0, class_weight='balanced', probability=True)\n",
    "\n",
    "pipeline = Pipeline([\n",
    "        ('min/max scaler', MinMaxScaler(feature_range=(0.0, 1.0))),\n",
    "        ('svc linear', svc_linear)])\n",
    "\n",
    "svc_linear_score, svc_linear_rep, svc_linear_cm, svc_linear_roc, svc_linear_clf = \\\n",
    "    k_fold_model_select(dataset_valid_num, \n",
    "                        features, \n",
    "                        label, \n",
    "                        [pipeline],\n",
    "                        n_folds=10, \n",
    "                        weigh_samples_fn=weigh_samples)\n",
    "\n",
    "print(\"Score:\", svc_linear_score)\n",
    "print(\"Confusion matrix:\", svc_linear_cm, sep='\\n')\n",
    "print(\"Classification report:\", svc_linear_rep, sep='\\n')"
   ]
  },
  {
   "cell_type": "code",
   "execution_count": 1,
   "metadata": {
    "collapsed": false
   },
   "outputs": [
    {
     "ename": "NameError",
     "evalue": "name 'SVC' is not defined",
     "output_type": "error",
     "traceback": [
      "\u001b[1;31m---------------------------------------------------------------------------\u001b[0m",
      "\u001b[1;31mNameError\u001b[0m                                 Traceback (most recent call last)",
      "\u001b[1;32m<ipython-input-1-3f3433ceb7f8>\u001b[0m in \u001b[0;36m<module>\u001b[1;34m()\u001b[0m\n\u001b[1;32m----> 1\u001b[1;33m \u001b[0msvc_sigmoid\u001b[0m \u001b[1;33m=\u001b[0m \u001b[0mSVC\u001b[0m\u001b[1;33m(\u001b[0m\u001b[0mkernel\u001b[0m\u001b[1;33m=\u001b[0m\u001b[1;34m'rbf'\u001b[0m\u001b[1;33m,\u001b[0m \u001b[0mmax_iter\u001b[0m\u001b[1;33m=\u001b[0m\u001b[1;36m1000\u001b[0m\u001b[1;33m,\u001b[0m \u001b[0mrandom_state\u001b[0m\u001b[1;33m=\u001b[0m\u001b[1;36m0\u001b[0m\u001b[1;33m,\u001b[0m \u001b[0mclass_weight\u001b[0m\u001b[1;33m=\u001b[0m\u001b[1;34m'balanced'\u001b[0m\u001b[1;33m,\u001b[0m \u001b[0mprobability\u001b[0m\u001b[1;33m=\u001b[0m\u001b[1;32mTrue\u001b[0m\u001b[1;33m)\u001b[0m\u001b[1;33m\u001b[0m\u001b[0m\n\u001b[0m\u001b[0;32m      2\u001b[0m \u001b[1;33m\u001b[0m\u001b[0m\n\u001b[0;32m      3\u001b[0m pipeline = Pipeline([\n\u001b[0;32m      4\u001b[0m         \u001b[1;33m(\u001b[0m\u001b[1;34m'min/max scaler'\u001b[0m\u001b[1;33m,\u001b[0m \u001b[0mMinMaxScaler\u001b[0m\u001b[1;33m(\u001b[0m\u001b[0mfeature_range\u001b[0m\u001b[1;33m=\u001b[0m\u001b[1;33m(\u001b[0m\u001b[1;36m0.0\u001b[0m\u001b[1;33m,\u001b[0m \u001b[1;36m1.0\u001b[0m\u001b[1;33m)\u001b[0m\u001b[1;33m)\u001b[0m\u001b[1;33m)\u001b[0m\u001b[1;33m,\u001b[0m\u001b[1;33m\u001b[0m\u001b[0m\n\u001b[0;32m      5\u001b[0m         ('svc linear', svc_sigmoid)])\n",
      "\u001b[1;31mNameError\u001b[0m: name 'SVC' is not defined"
     ]
    }
   ],
   "source": [
    "svc_sigmoid = SVC(kernel='sigmoid', max_iter=1000, random_state=0, class_weight='balanced', probability=True)\n",
    "\n",
    "pipeline = Pipeline([\n",
    "        ('min/max scaler', MinMaxScaler(feature_range=(0.0, 1.0))),\n",
    "        ('svc linear', svc_sigmoid)])\n",
    "\n",
    "svc_sigmoid_score, svc_sigmoid_rep, svc_sigmoid_cm, svc_sigmoid_roc, svc_sigmoid_clf = \\\n",
    "    k_fold_model_select(dataset_valid_num, \n",
    "                        features, \n",
    "                        label,\n",
    "                        [pipeline],\n",
    "                        n_folds=10, \n",
    "                        weigh_samples_fn=weigh_samples)\n",
    "\n",
    "print(\"Score:\", svc_sigmoid_score)\n",
    "print(\"Confusion matrix:\", svc_sigmoid_cm, sep='\\n')\n",
    "print(\"Classification report:\", svc_sigmoid_rep, sep='\\n')"
   ]
  },
  {
   "cell_type": "code",
   "execution_count": 101,
   "metadata": {
    "collapsed": false
   },
   "outputs": [
    {
     "name": "stdout",
     "output_type": "stream",
     "text": [
      "Score: 0.525396825397\n",
      "Confusion matrix:\n",
      "[[46 16]\n",
      " [ 5  4]]\n",
      "Classification report:\n",
      "             precision    recall  f1-score   support\n",
      "\n",
      "          A       0.57      0.59      0.58 125.80645161290306\n",
      "          B       0.46      0.44      0.45 100.00000000000001\n",
      "\n",
      "avg / total       0.52      0.53      0.52 225.80645161290306\n",
      "\n"
     ]
    }
   ],
   "source": [
    "svc_rbf = SVC(kernel='rbf', max_iter=1000, random_state=0, class_weight='balanced', probability=True)\n",
    "\n",
    "pipeline = Pipeline([\n",
    "        ('min/max scaler', MinMaxScaler(feature_range=(0.0, 1.0))),\n",
    "        ('svc rbf', svc_rbf)])\n",
    "\n",
    "svc_rbf_score, svc_rbf_rep, svc_rbf_cm, svc_rbf_roc, svc_rbf_clf = \\\n",
    "    k_fold_model_select(dataset_valid_num, \n",
    "                        features, \n",
    "                        label, \n",
    "                        [pipeline],                                    \n",
    "                        n_folds=10, \n",
    "                        weigh_samples_fn=weigh_samples)\n",
    "\n",
    "print(\"Score:\", svc_rbf_score)\n",
    "print(\"Confusion matrix:\", svc_rbf_cm, sep='\\n')\n",
    "print(\"Classification report:\", svc_rbf_rep, sep='\\n')"
   ]
  },
  {
   "cell_type": "code",
   "execution_count": 102,
   "metadata": {
    "collapsed": false
   },
   "outputs": [
    {
     "name": "stdout",
     "output_type": "stream",
     "text": [
      "Score: 0.333333333333\n",
      "Confusion matrix:\n",
      "[[ 0 62]\n",
      " [ 0  9]]\n",
      "Classification report:\n",
      "             precision    recall  f1-score   support\n",
      "\n",
      "          A       0.00      0.00      0.00 199.99999999999974\n",
      "          B       0.33      1.00      0.50 100.00000000000001\n",
      "\n",
      "avg / total       0.11      0.33      0.17 299.9999999999998\n",
      "\n"
     ]
    },
    {
     "name": "stderr",
     "output_type": "stream",
     "text": [
      "/home/diogo/bin/anaconda3/lib/python3.4/site-packages/sklearn/metrics/classification.py:1074: UndefinedMetricWarning: Precision and F-score are ill-defined and being set to 0.0 in labels with no predicted samples.\n",
      "  'precision', 'predicted', average, warn_for)\n"
     ]
    }
   ],
   "source": [
    "svc_poly = SVC(kernel='poly', max_iter=1000, random_state=0, class_weight='balanced', probability=True, degree=3)\n",
    "\n",
    "pipeline = Pipeline([\n",
    "        ('min/max scaler', MinMaxScaler(feature_range=(0.0, 1.0))),\n",
    "        ('svc poly', svc_poly)])\n",
    "\n",
    "svc_poly_score, svc_poly_rep, svc_poly_cm, svc_poly_roc, svc_poly_clf = \\\n",
    "    k_fold_model_select(dataset_valid_num, \n",
    "                        features, \n",
    "                        label, \n",
    "                        [pipeline],                                    \n",
    "                        n_folds=10, \n",
    "                        weigh_samples_fn=weigh_samples)\n",
    "\n",
    "print(\"Score:\", svc_poly_score)\n",
    "print(\"Confusion matrix:\", svc_poly_cm, sep='\\n')\n",
    "print(\"Classification report:\", svc_poly_rep, sep='\\n')"
   ]
  },
  {
   "cell_type": "markdown",
   "metadata": {},
   "source": [
    "### AdaBoost\n",
    "\n",
    "Now we will test a series of ensemble methods.\n",
    "\n",
    "Starting by **AdaBoost**, this algorithm enables to, in each of its iterations, specialize a base classifier for the instances incorrectly classified in the previous iterations. This requires that we use a volatile algorithm as base, therefore we'll use as base classifier the Decision Tree Classifier, as it is sufficiently volatile to the data in which it is trained."
   ]
  },
  {
   "cell_type": "code",
   "execution_count": 103,
   "metadata": {
    "collapsed": false
   },
   "outputs": [
    {
     "name": "stdout",
     "output_type": "stream",
     "text": [
      "Score: 0.666666666667\n",
      "Confusion matrix:\n",
      "[[62  0]\n",
      " [ 6  3]]\n",
      "Classification report:\n",
      "             precision    recall  f1-score   support\n",
      "\n",
      "          A       0.60      1.00      0.75 99.99999999999987\n",
      "          B       1.00      0.33      0.50 100.00000000000001\n",
      "\n",
      "avg / total       0.80      0.67      0.62 199.9999999999999\n",
      "\n"
     ]
    }
   ],
   "source": [
    "from sklearn.ensemble import AdaBoostClassifier\n",
    "\n",
    "ab = AdaBoostClassifier(base_estimator=dt, random_state=0)\n",
    "ab_score, ab_rep, ab_cm, ab_roc, ab_clf = k_fold_model_select(dataset_valid_num, features, label, [ab], weigh_samples_fn=weigh_samples)\n",
    "\n",
    "print(\"Score:\", ab_score)\n",
    "print(\"Confusion matrix:\", ab_cm, sep='\\n')\n",
    "print(\"Classification report:\", ab_rep, sep='\\n')"
   ]
  },
  {
   "cell_type": "markdown",
   "metadata": {},
   "source": [
    "It's performance is relatively low, but it has the benefit of not labeling any successful loan as unsuccessful."
   ]
  },
  {
   "cell_type": "markdown",
   "metadata": {},
   "source": [
    "### Random Forest\n",
    "\n",
    "Next we use a Random Forest classifier. We use a Grid Search to find the best way to determine the way to decide over the maximum number of features and the number of estimators to use. This Random Forest Classifier is then trained as above.\n",
    "\n",
    "In this case, we set the class weight to be balanced, according to the presence of the labels in each subsample during the classification. "
   ]
  },
  {
   "cell_type": "code",
   "execution_count": 104,
   "metadata": {
    "collapsed": true
   },
   "outputs": [],
   "source": [
    "def scorer(estimator, X, y):\n",
    "    y_pred = estimator.predict(X)\n",
    "    sample_weight = weigh_samples(y, y_pred)\n",
    "    return estimator.score(X, y, sample_weight=sample_weight)"
   ]
  },
  {
   "cell_type": "code",
   "execution_count": 105,
   "metadata": {
    "collapsed": false
   },
   "outputs": [
    {
     "name": "stdout",
     "output_type": "stream",
     "text": [
      "Number of estimators: 3\n",
      "Maximum number of features criteria: log2\n",
      "Score: 0.735783027122\n",
      "Confusion matrix:\n",
      "[[59  3]\n",
      " [ 4  5]]\n",
      "Classification report:\n",
      "             precision    recall  f1-score   support\n",
      "\n",
      "          A       0.68      0.91      0.78 104.83870967741922\n",
      "          B       0.85      0.56      0.67 100.00000000000001\n",
      "\n",
      "avg / total       0.76      0.74      0.73 204.83870967741922\n",
      "\n"
     ]
    }
   ],
   "source": [
    "from sklearn.ensemble import RandomForestClassifier\n",
    "from sklearn.grid_search import GridSearchCV\n",
    "\n",
    "params = {'max_features': ('sqrt', 'log2'), \n",
    "          'n_estimators': list(range(2, 15))}\n",
    "\n",
    "rf = RandomForestClassifier(random_state=0, class_weight='balanced')\n",
    "gs_rf = GridSearchCV(rf, params, scoring=scorer, cv=StratifiedKFold(dataset_valid_num[label].values, n_folds=10), refit=True)\n",
    "\n",
    "gs_rf.fit(dataset_valid_num[features].values,  dataset_valid_num[label].values)\n",
    "rf = gs_rf.best_estimator_\n",
    "\n",
    "rf_score, rf_rep, rf_cm, rf_roc, rf_clf = k_fold_model_select(dataset_valid_num, features, label, [rf], weigh_samples_fn=weigh_samples)\n",
    "\n",
    "rf_params = rf_clf.get_params()\n",
    "\n",
    "print(\"Number of estimators:\", rf_params['n_estimators'])\n",
    "print(\"Maximum number of features criteria:\", rf_params['max_features'])\n",
    "print(\"Score:\", rf_score)\n",
    "print(\"Confusion matrix:\", rf_cm, sep='\\n')\n",
    "print(\"Classification report:\", rf_rep, sep='\\n')"
   ]
  },
  {
   "cell_type": "code",
   "execution_count": 106,
   "metadata": {
    "collapsed": false
   },
   "outputs": [
    {
     "name": "stdout",
     "output_type": "stream",
     "text": [
      "Score: 0.818666666667\n",
      "Confusion matrix:\n",
      "[[61  1]\n",
      " [ 3  6]]\n",
      "Classification report:\n",
      "             precision    recall  f1-score   support\n",
      "\n",
      "          A       0.75      0.97      0.84 101.61290322580632\n",
      "          B       0.95      0.67      0.78 100.00000000000001\n",
      "\n",
      "avg / total       0.85      0.82      0.81 201.61290322580635\n",
      "\n"
     ]
    }
   ],
   "source": [
    "rf2 = RandomForestClassifier(n_estimators=7, random_state=0)\n",
    "\n",
    "rf2_score, rf2_rep, rf2_cm, rf2_roc, rf2_clf = k_fold_model_select(dataset_valid_num, features, label, [rf2], weigh_samples_fn=weigh_samples)\n",
    "\n",
    "print(\"Score:\", rf2_score)\n",
    "print(\"Confusion matrix:\", rf2_cm, sep='\\n')\n",
    "print(\"Classification report:\", rf2_rep, sep='\\n')"
   ]
  },
  {
   "cell_type": "markdown",
   "metadata": {},
   "source": [
    "### Voting classifier\n",
    "\n",
    "Voting classifier groups the classifications of other classifiers. We set the weight of each classifier to be their measured score."
   ]
  },
  {
   "cell_type": "code",
   "execution_count": 107,
   "metadata": {
    "collapsed": false
   },
   "outputs": [
    {
     "name": "stdout",
     "output_type": "stream",
     "text": [
      "Score: 0.598222222222\n",
      "Confusion matrix:\n",
      "[[61  1]\n",
      " [ 7  2]]\n",
      "Classification report:\n",
      "             precision    recall  f1-score   support\n",
      "\n",
      "          A       0.56      0.97      0.71 101.61290322580632\n",
      "          B       0.87      0.22      0.35 100.00000000000001\n",
      "\n",
      "avg / total       0.71      0.60      0.53 201.61290322580635\n",
      "\n"
     ]
    }
   ],
   "source": [
    "# Voting classifier\n",
    "from sklearn.ensemble import VotingClassifier\n",
    "\n",
    "vc = VotingClassifier(estimators=[('dt', dt_clf),\n",
    "                                  ('lr', lr_clf),\n",
    "                                  ('knn', knn_clf),\n",
    "                                  ('nb', nb_clf),\n",
    "                                  ('ab', ab_clf),\n",
    "                                  ('rf', rf_clf)],\n",
    "                      voting='soft',\n",
    "                      weights=[dt_score, lr_score, knn_score, nb_score, ab_score, rf_score])\n",
    "vc_score, vc_rep, vc_cm, vc_roc, vc_clf = k_fold_model_select(dataset_valid_num, features, label, [vc], weigh_samples_fn=weigh_samples)\n",
    "\n",
    "print(\"Score:\", vc_score)\n",
    "print(\"Confusion matrix:\", vc_cm, sep='\\n')\n",
    "print(\"Classification report:\", vc_rep, sep='\\n')"
   ]
  },
  {
   "cell_type": "code",
   "execution_count": 108,
   "metadata": {
    "collapsed": false
   },
   "outputs": [
    {
     "data": {
      "image/png": "[encoded data removed]",
      "text/plain": [
       "<matplotlib.figure.Figure at 0x7feea8369940>"
      ]
     },
     "metadata": {},
     "output_type": "display_data"
    }
   ],
   "source": [
    "roc_curves = [dt_roc, lr_roc, knn_roc, nb_roc, ab_roc, nn_roc, svc_linear_roc, svc_sigmoid_roc, svc_rbf_roc, svc_poly_roc, vc_roc, rf_roc]\n",
    "\n",
    "plot_roc_curves(roc_curves)"
   ]
  },
  {
   "cell_type": "markdown",
   "metadata": {},
   "source": [
    "**NOTE**: We previously define true positives as being the successful loans. Here it is inverted.\n",
    "\n",
    "We are able to see that, if we value a low false positive rate, we should use or a Decision Tree, or if we are able to compromise a little bit, use a Random Forest, AdaBoost or a Voting Classifier"
   ]
  },
  {
   "cell_type": "markdown",
   "metadata": {},
   "source": [
    "## Select best fit algorithm\n",
    "\n",
    "**NOTE:** In order to classify the new instances, we dismiss the business rules and train the classifiers without the higher weight for False Negatives (we still take weigh samples by label frequency)."
   ]
  },
  {
   "cell_type": "code",
   "execution_count": 109,
   "metadata": {
    "collapsed": true
   },
   "outputs": [],
   "source": [
    "classifiers = [dt_clf, lr_clf, knn_clf, nb_clf, nn_clf, svc_linear_clf, svc_sigmoid_clf, svc_rbf_clf, svc_poly_clf, ab_clf, vc_clf, rf_clf]"
   ]
  },
  {
   "cell_type": "code",
   "execution_count": 110,
   "metadata": {
    "collapsed": false
   },
   "outputs": [],
   "source": [
    "def weigh_samples_eval(y_true, y_pred):\n",
    "    weights = []\n",
    "    a_len = float(len(y_true[y_true == 'A']))\n",
    "    b_len = float(len(y_true[y_true == 'B']))\n",
    "    for s_true, s_pred in zip(y_true, y_pred):\n",
    "        if s_true == 'A':\n",
    "            if s_pred == 'B':\n",
    "                weights.append(1000.0 / a_len)\n",
    "            else:\n",
    "                weights.append(1000.0 / a_len)\n",
    "        else:\n",
    "            weights.append(1000.0 / b_len)\n",
    "    return weights"
   ]
  },
  {
   "cell_type": "code",
   "execution_count": 111,
   "metadata": {
    "collapsed": false
   },
   "outputs": [
    {
     "name": "stdout",
     "output_type": "stream",
     "text": [
      "Classifier: RandomForestClassifier\n",
      "Score: 0.753584229391\n",
      "Confusion matrix:\n",
      "[[59  3]\n",
      " [ 4  5]]\n",
      "Classification report:\n",
      "             precision    recall  f1-score   support\n",
      "\n",
      "          A       0.68      0.95      0.79 999.9999999999999\n",
      "          B       0.92      0.56      0.69 999.9999999999999\n",
      "\n",
      "avg / total       0.80      0.75      0.74 1999.9999999999998\n",
      "\n"
     ]
    }
   ],
   "source": [
    "best_score, best_rep, best_cm, best_roc, best_clf = k_fold_model_select(dataset_valid_num, features, label, classifiers, weigh_samples_fn=weigh_samples_eval)\n",
    "\n",
    "print(\"Classifier:\", best_clf.__class__.__name__)\n",
    "print(\"Score:\", best_score)\n",
    "print(\"Confusion matrix:\", best_cm, sep='\\n')\n",
    "print(\"Classification report:\", best_rep, sep='\\n')"
   ]
  },
  {
   "cell_type": "code",
   "execution_count": 112,
   "metadata": {
    "collapsed": true
   },
   "outputs": [],
   "source": [
    "#best_clf = rf2_clf"
   ]
  },
  {
   "cell_type": "markdown",
   "metadata": {},
   "source": [
    "Now we fit it using all the data available:"
   ]
  },
  {
   "cell_type": "code",
   "execution_count": 113,
   "metadata": {
    "collapsed": true
   },
   "outputs": [],
   "source": [
    "best_clf = best_clf.fit(dataset_valid_num[features].values,  dataset_valid_num[label].values)"
   ]
  }
 ],
 "metadata": {
  "kernelspec": {
   "display_name": "Python 3",
   "language": "python",
   "name": "python3"
  },
  "language_info": {
   "codemirror_mode": {
    "name": "ipython",
    "version": 3
   },
   "file_extension": ".py",
   "mimetype": "text/x-python",
   "name": "python",
   "nbconvert_exporter": "python",
   "pygments_lexer": "ipython3",
   "version": "3.4.3"
  }
 },
 "nbformat": 4,
 "nbformat_minor": 0
}
